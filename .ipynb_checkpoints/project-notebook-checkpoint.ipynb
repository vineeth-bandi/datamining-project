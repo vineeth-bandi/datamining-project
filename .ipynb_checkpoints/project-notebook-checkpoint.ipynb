{
 "cells": [
  {
   "cell_type": "markdown",
   "metadata": {
    "id": "wfFoTzio5NSv"
   },
   "source": [
    "# Datamining on Stroke Dataset\n"
   ]
  },
  {
   "cell_type": "code",
   "execution_count": 1,
   "metadata": {
    "id": "CvAO1keJ4-rp"
   },
   "outputs": [],
   "source": [
    "# Standard imports\n",
    "import warnings\n",
    "import pandas as pd\n",
    "import numpy as np\n",
    "import sklearn as sk\n",
    "import matplotlib.pyplot as plt\n",
    "import time"
   ]
  },
  {
   "cell_type": "markdown",
   "metadata": {
    "id": "qYWusnxw76JJ"
   },
   "source": [
    "## Data Preprocessing (Exploration and Cleaning)"
   ]
  },
  {
   "cell_type": "code",
   "execution_count": 2,
   "metadata": {
    "colab": {
     "base_uri": "https://localhost:8080/",
     "height": 206
    },
    "id": "dV3GFepj8IyL",
    "outputId": "5b9e8d07-2038-47dd-b7c3-8f5ae408db91"
   },
   "outputs": [
    {
     "data": {
      "text/html": [
       "<div>\n",
       "<style scoped>\n",
       "    .dataframe tbody tr th:only-of-type {\n",
       "        vertical-align: middle;\n",
       "    }\n",
       "\n",
       "    .dataframe tbody tr th {\n",
       "        vertical-align: top;\n",
       "    }\n",
       "\n",
       "    .dataframe thead th {\n",
       "        text-align: right;\n",
       "    }\n",
       "</style>\n",
       "<table border=\"1\" class=\"dataframe\">\n",
       "  <thead>\n",
       "    <tr style=\"text-align: right;\">\n",
       "      <th></th>\n",
       "      <th>id</th>\n",
       "      <th>gender</th>\n",
       "      <th>age</th>\n",
       "      <th>hypertension</th>\n",
       "      <th>heart_disease</th>\n",
       "      <th>ever_married</th>\n",
       "      <th>work_type</th>\n",
       "      <th>Residence_type</th>\n",
       "      <th>avg_glucose_level</th>\n",
       "      <th>bmi</th>\n",
       "      <th>smoking_status</th>\n",
       "      <th>stroke</th>\n",
       "    </tr>\n",
       "  </thead>\n",
       "  <tbody>\n",
       "    <tr>\n",
       "      <th>0</th>\n",
       "      <td>9046</td>\n",
       "      <td>Male</td>\n",
       "      <td>67.0</td>\n",
       "      <td>0</td>\n",
       "      <td>1</td>\n",
       "      <td>Yes</td>\n",
       "      <td>Private</td>\n",
       "      <td>Urban</td>\n",
       "      <td>228.69</td>\n",
       "      <td>36.6</td>\n",
       "      <td>formerly smoked</td>\n",
       "      <td>1</td>\n",
       "    </tr>\n",
       "    <tr>\n",
       "      <th>1</th>\n",
       "      <td>51676</td>\n",
       "      <td>Female</td>\n",
       "      <td>61.0</td>\n",
       "      <td>0</td>\n",
       "      <td>0</td>\n",
       "      <td>Yes</td>\n",
       "      <td>Self-employed</td>\n",
       "      <td>Rural</td>\n",
       "      <td>202.21</td>\n",
       "      <td>NaN</td>\n",
       "      <td>never smoked</td>\n",
       "      <td>1</td>\n",
       "    </tr>\n",
       "    <tr>\n",
       "      <th>2</th>\n",
       "      <td>31112</td>\n",
       "      <td>Male</td>\n",
       "      <td>80.0</td>\n",
       "      <td>0</td>\n",
       "      <td>1</td>\n",
       "      <td>Yes</td>\n",
       "      <td>Private</td>\n",
       "      <td>Rural</td>\n",
       "      <td>105.92</td>\n",
       "      <td>32.5</td>\n",
       "      <td>never smoked</td>\n",
       "      <td>1</td>\n",
       "    </tr>\n",
       "    <tr>\n",
       "      <th>3</th>\n",
       "      <td>60182</td>\n",
       "      <td>Female</td>\n",
       "      <td>49.0</td>\n",
       "      <td>0</td>\n",
       "      <td>0</td>\n",
       "      <td>Yes</td>\n",
       "      <td>Private</td>\n",
       "      <td>Urban</td>\n",
       "      <td>171.23</td>\n",
       "      <td>34.4</td>\n",
       "      <td>smokes</td>\n",
       "      <td>1</td>\n",
       "    </tr>\n",
       "    <tr>\n",
       "      <th>4</th>\n",
       "      <td>1665</td>\n",
       "      <td>Female</td>\n",
       "      <td>79.0</td>\n",
       "      <td>1</td>\n",
       "      <td>0</td>\n",
       "      <td>Yes</td>\n",
       "      <td>Self-employed</td>\n",
       "      <td>Rural</td>\n",
       "      <td>174.12</td>\n",
       "      <td>24.0</td>\n",
       "      <td>never smoked</td>\n",
       "      <td>1</td>\n",
       "    </tr>\n",
       "  </tbody>\n",
       "</table>\n",
       "</div>"
      ],
      "text/plain": [
       "      id  gender   age  hypertension  heart_disease ever_married  \\\n",
       "0   9046    Male  67.0             0              1          Yes   \n",
       "1  51676  Female  61.0             0              0          Yes   \n",
       "2  31112    Male  80.0             0              1          Yes   \n",
       "3  60182  Female  49.0             0              0          Yes   \n",
       "4   1665  Female  79.0             1              0          Yes   \n",
       "\n",
       "       work_type Residence_type  avg_glucose_level   bmi   smoking_status  \\\n",
       "0        Private          Urban             228.69  36.6  formerly smoked   \n",
       "1  Self-employed          Rural             202.21   NaN     never smoked   \n",
       "2        Private          Rural             105.92  32.5     never smoked   \n",
       "3        Private          Urban             171.23  34.4           smokes   \n",
       "4  Self-employed          Rural             174.12  24.0     never smoked   \n",
       "\n",
       "   stroke  \n",
       "0       1  \n",
       "1       1  \n",
       "2       1  \n",
       "3       1  \n",
       "4       1  "
      ]
     },
     "execution_count": 2,
     "metadata": {},
     "output_type": "execute_result"
    }
   ],
   "source": [
    "data = pd.read_csv('healthcare-dataset-stroke-data.csv')\n",
    "data.head()"
   ]
  },
  {
   "cell_type": "markdown",
   "metadata": {
    "id": "5yDfYnJG8_Ls"
   },
   "source": [
    "Drop unnecessary columns"
   ]
  },
  {
   "cell_type": "code",
   "execution_count": 3,
   "metadata": {
    "colab": {
     "base_uri": "https://localhost:8080/",
     "height": 206
    },
    "id": "7kSNR_AH8dWI",
    "outputId": "551d5af6-0e69-45aa-ccd6-eeb1eba3790c"
   },
   "outputs": [
    {
     "data": {
      "text/html": [
       "<div>\n",
       "<style scoped>\n",
       "    .dataframe tbody tr th:only-of-type {\n",
       "        vertical-align: middle;\n",
       "    }\n",
       "\n",
       "    .dataframe tbody tr th {\n",
       "        vertical-align: top;\n",
       "    }\n",
       "\n",
       "    .dataframe thead th {\n",
       "        text-align: right;\n",
       "    }\n",
       "</style>\n",
       "<table border=\"1\" class=\"dataframe\">\n",
       "  <thead>\n",
       "    <tr style=\"text-align: right;\">\n",
       "      <th></th>\n",
       "      <th>gender</th>\n",
       "      <th>age</th>\n",
       "      <th>hypertension</th>\n",
       "      <th>heart_disease</th>\n",
       "      <th>ever_married</th>\n",
       "      <th>work_type</th>\n",
       "      <th>Residence_type</th>\n",
       "      <th>avg_glucose_level</th>\n",
       "      <th>bmi</th>\n",
       "      <th>smoking_status</th>\n",
       "      <th>stroke</th>\n",
       "    </tr>\n",
       "  </thead>\n",
       "  <tbody>\n",
       "    <tr>\n",
       "      <th>0</th>\n",
       "      <td>Male</td>\n",
       "      <td>67.0</td>\n",
       "      <td>0</td>\n",
       "      <td>1</td>\n",
       "      <td>Yes</td>\n",
       "      <td>Private</td>\n",
       "      <td>Urban</td>\n",
       "      <td>228.69</td>\n",
       "      <td>36.6</td>\n",
       "      <td>formerly smoked</td>\n",
       "      <td>1</td>\n",
       "    </tr>\n",
       "    <tr>\n",
       "      <th>1</th>\n",
       "      <td>Female</td>\n",
       "      <td>61.0</td>\n",
       "      <td>0</td>\n",
       "      <td>0</td>\n",
       "      <td>Yes</td>\n",
       "      <td>Self-employed</td>\n",
       "      <td>Rural</td>\n",
       "      <td>202.21</td>\n",
       "      <td>NaN</td>\n",
       "      <td>never smoked</td>\n",
       "      <td>1</td>\n",
       "    </tr>\n",
       "    <tr>\n",
       "      <th>2</th>\n",
       "      <td>Male</td>\n",
       "      <td>80.0</td>\n",
       "      <td>0</td>\n",
       "      <td>1</td>\n",
       "      <td>Yes</td>\n",
       "      <td>Private</td>\n",
       "      <td>Rural</td>\n",
       "      <td>105.92</td>\n",
       "      <td>32.5</td>\n",
       "      <td>never smoked</td>\n",
       "      <td>1</td>\n",
       "    </tr>\n",
       "    <tr>\n",
       "      <th>3</th>\n",
       "      <td>Female</td>\n",
       "      <td>49.0</td>\n",
       "      <td>0</td>\n",
       "      <td>0</td>\n",
       "      <td>Yes</td>\n",
       "      <td>Private</td>\n",
       "      <td>Urban</td>\n",
       "      <td>171.23</td>\n",
       "      <td>34.4</td>\n",
       "      <td>smokes</td>\n",
       "      <td>1</td>\n",
       "    </tr>\n",
       "    <tr>\n",
       "      <th>4</th>\n",
       "      <td>Female</td>\n",
       "      <td>79.0</td>\n",
       "      <td>1</td>\n",
       "      <td>0</td>\n",
       "      <td>Yes</td>\n",
       "      <td>Self-employed</td>\n",
       "      <td>Rural</td>\n",
       "      <td>174.12</td>\n",
       "      <td>24.0</td>\n",
       "      <td>never smoked</td>\n",
       "      <td>1</td>\n",
       "    </tr>\n",
       "  </tbody>\n",
       "</table>\n",
       "</div>"
      ],
      "text/plain": [
       "   gender   age  hypertension  heart_disease ever_married      work_type  \\\n",
       "0    Male  67.0             0              1          Yes        Private   \n",
       "1  Female  61.0             0              0          Yes  Self-employed   \n",
       "2    Male  80.0             0              1          Yes        Private   \n",
       "3  Female  49.0             0              0          Yes        Private   \n",
       "4  Female  79.0             1              0          Yes  Self-employed   \n",
       "\n",
       "  Residence_type  avg_glucose_level   bmi   smoking_status  stroke  \n",
       "0          Urban             228.69  36.6  formerly smoked       1  \n",
       "1          Rural             202.21   NaN     never smoked       1  \n",
       "2          Rural             105.92  32.5     never smoked       1  \n",
       "3          Urban             171.23  34.4           smokes       1  \n",
       "4          Rural             174.12  24.0     never smoked       1  "
      ]
     },
     "execution_count": 3,
     "metadata": {},
     "output_type": "execute_result"
    }
   ],
   "source": [
    "data.drop('id', axis=1, inplace=True)\n",
    "data.head()"
   ]
  },
  {
   "cell_type": "markdown",
   "metadata": {
    "id": "f0uH003u9ExY"
   },
   "source": [
    "Check for missing values"
   ]
  },
  {
   "cell_type": "code",
   "execution_count": 4,
   "metadata": {
    "colab": {
     "base_uri": "https://localhost:8080/"
    },
    "id": "ZHcJ6EpT9C1g",
    "outputId": "0b67c0e8-a5be-4953-c360-43599338084f"
   },
   "outputs": [
    {
     "name": "stdout",
     "output_type": "stream",
     "text": [
      "# of missing gender values:  0\n",
      "# of missing age values:  0\n",
      "# of missing hypertension values:  0\n",
      "# of missing heart_disease values:  0\n",
      "# of missing ever_married values:  0\n",
      "# of missing work_type values:  0\n",
      "# of missing Residence_type values:  0\n",
      "# of missing avg_glucose_level values:  0\n",
      "# of missing bmi values:  201\n",
      "# of missing smoking_status values:  0\n",
      "# of missing stroke values:  0\n"
     ]
    }
   ],
   "source": [
    "# Check for null values in every column\n",
    "missing_gender = data['gender'].isnull().sum()\n",
    "print(\"# of missing gender values: \", missing_gender)\n",
    "\n",
    "missing_age = data['age'].isnull().sum()\n",
    "print(\"# of missing age values: \", missing_age)\n",
    "\n",
    "missing_hypertension = data['hypertension'].isnull().sum()\n",
    "print(\"# of missing hypertension values: \", missing_hypertension)\n",
    "\n",
    "missing_heart_disease = data['heart_disease'].isnull().sum()\n",
    "print(\"# of missing heart_disease values: \", missing_heart_disease)\n",
    "\n",
    "missing_ever_married = data['ever_married'].isnull().sum()\n",
    "print(\"# of missing ever_married values: \", missing_ever_married)\n",
    "\n",
    "missing_work_type = data['work_type'].isnull().sum()\n",
    "print(\"# of missing work_type values: \", missing_work_type)\n",
    "\n",
    "missing_Residence_type = data['Residence_type'].isnull().sum()\n",
    "print(\"# of missing Residence_type values: \", missing_Residence_type)\n",
    "\n",
    "missing_avg_glucose_level = data['avg_glucose_level'].isnull().sum()\n",
    "print(\"# of missing avg_glucose_level values: \", missing_avg_glucose_level)\n",
    "\n",
    "missing_bmi = data['bmi'].isnull().sum()\n",
    "print(\"# of missing bmi values: \", missing_bmi)\n",
    "\n",
    "missing_smoking_status = data['smoking_status'].isnull().sum()\n",
    "print(\"# of missing smoking_status values: \", missing_smoking_status)\n",
    "\n",
    "missing_stroke = data['stroke'].isnull().sum()\n",
    "print(\"# of missing stroke values: \", missing_stroke)"
   ]
  },
  {
   "cell_type": "code",
   "execution_count": 9,
   "metadata": {},
   "outputs": [
    {
     "name": "stdout",
     "output_type": "stream",
     "text": [
      "Percent of patients that experienced stroke: 0.0487279843444227\n",
      "Percent of patients without a measured BMI that experienced stroke: 0.19900497512437812\n"
     ]
    }
   ],
   "source": [
    "stroke_dist = len(data[data['stroke']==1].index)/len(data.index)\n",
    "null_bmi = data[data['bmi'].isnull()]\n",
    "null_stroke_dist = len(null_bmi[null_bmi['stroke']==1].index)/len(null_bmi.index)\n",
    "print('Percent of patients that experienced stroke:', stroke_dist)\n",
    "print('Percent of patients without a measured BMI that experienced stroke:', null_stroke_dist)"
   ]
  },
  {
   "cell_type": "markdown",
   "metadata": {},
   "source": [
    "We can see that there are NaN values for BMI, here we chose to use imputation to clean the data. We choose to use imputation over a deletion method because we believe this would introduce less bias. We see that the proportion of missing values is greater in the positive case (i.e., had a stroke) compared to the general distribution of data. This would make list wise deletion introduce bias and remove samples at a greater proportion for the positive case. One problem with using univariate imputation is that BMI is highly variable and the distribution of data could still introduce bias. Here we choose to use multivariate imputation to attempt to address this problem."
   ]
  },
  {
   "cell_type": "code",
   "execution_count": 10,
   "metadata": {
    "colab": {
     "base_uri": "https://localhost:8080/",
     "height": 224
    },
    "id": "UbRfuLS3-lj9",
    "outputId": "846cf558-a093-4ff2-ddee-ed66b6bbfde2"
   },
   "outputs": [
    {
     "data": {
      "text/html": [
       "<div>\n",
       "<style scoped>\n",
       "    .dataframe tbody tr th:only-of-type {\n",
       "        vertical-align: middle;\n",
       "    }\n",
       "\n",
       "    .dataframe tbody tr th {\n",
       "        vertical-align: top;\n",
       "    }\n",
       "\n",
       "    .dataframe thead th {\n",
       "        text-align: right;\n",
       "    }\n",
       "</style>\n",
       "<table border=\"1\" class=\"dataframe\">\n",
       "  <thead>\n",
       "    <tr style=\"text-align: right;\">\n",
       "      <th></th>\n",
       "      <th>age</th>\n",
       "      <th>hypertension</th>\n",
       "      <th>heart_disease</th>\n",
       "      <th>avg_glucose_level</th>\n",
       "      <th>bmi</th>\n",
       "      <th>stroke</th>\n",
       "      <th>gender_Male</th>\n",
       "      <th>gender_Female</th>\n",
       "      <th>gender_Other</th>\n",
       "      <th>ever_married_Yes</th>\n",
       "      <th>...</th>\n",
       "      <th>work_type_Self-employed</th>\n",
       "      <th>work_type_Govt_job</th>\n",
       "      <th>work_type_children</th>\n",
       "      <th>work_type_Never_worked</th>\n",
       "      <th>Residence_type_Urban</th>\n",
       "      <th>Residence_type_Rural</th>\n",
       "      <th>smoking_status_formerly smoked</th>\n",
       "      <th>smoking_status_never smoked</th>\n",
       "      <th>smoking_status_smokes</th>\n",
       "      <th>smoking_status_Unknown</th>\n",
       "    </tr>\n",
       "  </thead>\n",
       "  <tbody>\n",
       "    <tr>\n",
       "      <th>0</th>\n",
       "      <td>1.051331</td>\n",
       "      <td>0.0</td>\n",
       "      <td>1.0</td>\n",
       "      <td>2.706111</td>\n",
       "      <td>0.981245</td>\n",
       "      <td>1.0</td>\n",
       "      <td>1.0</td>\n",
       "      <td>0.0</td>\n",
       "      <td>0.0</td>\n",
       "      <td>1.0</td>\n",
       "      <td>...</td>\n",
       "      <td>0.0</td>\n",
       "      <td>0.0</td>\n",
       "      <td>0.0</td>\n",
       "      <td>0.0</td>\n",
       "      <td>1.0</td>\n",
       "      <td>0.0</td>\n",
       "      <td>1.0</td>\n",
       "      <td>0.0</td>\n",
       "      <td>0.0</td>\n",
       "      <td>0.0</td>\n",
       "    </tr>\n",
       "    <tr>\n",
       "      <th>1</th>\n",
       "      <td>0.785993</td>\n",
       "      <td>0.0</td>\n",
       "      <td>0.0</td>\n",
       "      <td>2.121351</td>\n",
       "      <td>0.289321</td>\n",
       "      <td>1.0</td>\n",
       "      <td>0.0</td>\n",
       "      <td>1.0</td>\n",
       "      <td>0.0</td>\n",
       "      <td>1.0</td>\n",
       "      <td>...</td>\n",
       "      <td>1.0</td>\n",
       "      <td>0.0</td>\n",
       "      <td>0.0</td>\n",
       "      <td>0.0</td>\n",
       "      <td>0.0</td>\n",
       "      <td>1.0</td>\n",
       "      <td>0.0</td>\n",
       "      <td>1.0</td>\n",
       "      <td>0.0</td>\n",
       "      <td>0.0</td>\n",
       "    </tr>\n",
       "    <tr>\n",
       "      <th>2</th>\n",
       "      <td>1.626231</td>\n",
       "      <td>0.0</td>\n",
       "      <td>1.0</td>\n",
       "      <td>-0.005028</td>\n",
       "      <td>0.459222</td>\n",
       "      <td>1.0</td>\n",
       "      <td>1.0</td>\n",
       "      <td>0.0</td>\n",
       "      <td>0.0</td>\n",
       "      <td>1.0</td>\n",
       "      <td>...</td>\n",
       "      <td>0.0</td>\n",
       "      <td>0.0</td>\n",
       "      <td>0.0</td>\n",
       "      <td>0.0</td>\n",
       "      <td>0.0</td>\n",
       "      <td>1.0</td>\n",
       "      <td>0.0</td>\n",
       "      <td>1.0</td>\n",
       "      <td>0.0</td>\n",
       "      <td>0.0</td>\n",
       "    </tr>\n",
       "    <tr>\n",
       "      <th>3</th>\n",
       "      <td>0.255317</td>\n",
       "      <td>0.0</td>\n",
       "      <td>0.0</td>\n",
       "      <td>1.437217</td>\n",
       "      <td>0.701135</td>\n",
       "      <td>1.0</td>\n",
       "      <td>0.0</td>\n",
       "      <td>1.0</td>\n",
       "      <td>0.0</td>\n",
       "      <td>1.0</td>\n",
       "      <td>...</td>\n",
       "      <td>0.0</td>\n",
       "      <td>0.0</td>\n",
       "      <td>0.0</td>\n",
       "      <td>0.0</td>\n",
       "      <td>1.0</td>\n",
       "      <td>0.0</td>\n",
       "      <td>0.0</td>\n",
       "      <td>0.0</td>\n",
       "      <td>1.0</td>\n",
       "      <td>0.0</td>\n",
       "    </tr>\n",
       "    <tr>\n",
       "      <th>4</th>\n",
       "      <td>1.582008</td>\n",
       "      <td>1.0</td>\n",
       "      <td>0.0</td>\n",
       "      <td>1.501038</td>\n",
       "      <td>-0.623020</td>\n",
       "      <td>1.0</td>\n",
       "      <td>0.0</td>\n",
       "      <td>1.0</td>\n",
       "      <td>0.0</td>\n",
       "      <td>1.0</td>\n",
       "      <td>...</td>\n",
       "      <td>1.0</td>\n",
       "      <td>0.0</td>\n",
       "      <td>0.0</td>\n",
       "      <td>0.0</td>\n",
       "      <td>0.0</td>\n",
       "      <td>1.0</td>\n",
       "      <td>0.0</td>\n",
       "      <td>1.0</td>\n",
       "      <td>0.0</td>\n",
       "      <td>0.0</td>\n",
       "    </tr>\n",
       "    <tr>\n",
       "      <th>...</th>\n",
       "      <td>...</td>\n",
       "      <td>...</td>\n",
       "      <td>...</td>\n",
       "      <td>...</td>\n",
       "      <td>...</td>\n",
       "      <td>...</td>\n",
       "      <td>...</td>\n",
       "      <td>...</td>\n",
       "      <td>...</td>\n",
       "      <td>...</td>\n",
       "      <td>...</td>\n",
       "      <td>...</td>\n",
       "      <td>...</td>\n",
       "      <td>...</td>\n",
       "      <td>...</td>\n",
       "      <td>...</td>\n",
       "      <td>...</td>\n",
       "      <td>...</td>\n",
       "      <td>...</td>\n",
       "      <td>...</td>\n",
       "      <td>...</td>\n",
       "    </tr>\n",
       "    <tr>\n",
       "      <th>5105</th>\n",
       "      <td>1.626231</td>\n",
       "      <td>1.0</td>\n",
       "      <td>0.0</td>\n",
       "      <td>-0.494609</td>\n",
       "      <td>0.429644</td>\n",
       "      <td>0.0</td>\n",
       "      <td>0.0</td>\n",
       "      <td>1.0</td>\n",
       "      <td>0.0</td>\n",
       "      <td>1.0</td>\n",
       "      <td>...</td>\n",
       "      <td>0.0</td>\n",
       "      <td>0.0</td>\n",
       "      <td>0.0</td>\n",
       "      <td>0.0</td>\n",
       "      <td>1.0</td>\n",
       "      <td>0.0</td>\n",
       "      <td>0.0</td>\n",
       "      <td>1.0</td>\n",
       "      <td>0.0</td>\n",
       "      <td>0.0</td>\n",
       "    </tr>\n",
       "    <tr>\n",
       "      <th>5106</th>\n",
       "      <td>1.670454</td>\n",
       "      <td>0.0</td>\n",
       "      <td>0.0</td>\n",
       "      <td>0.420734</td>\n",
       "      <td>1.414142</td>\n",
       "      <td>0.0</td>\n",
       "      <td>0.0</td>\n",
       "      <td>1.0</td>\n",
       "      <td>0.0</td>\n",
       "      <td>1.0</td>\n",
       "      <td>...</td>\n",
       "      <td>1.0</td>\n",
       "      <td>0.0</td>\n",
       "      <td>0.0</td>\n",
       "      <td>0.0</td>\n",
       "      <td>1.0</td>\n",
       "      <td>0.0</td>\n",
       "      <td>0.0</td>\n",
       "      <td>1.0</td>\n",
       "      <td>0.0</td>\n",
       "      <td>0.0</td>\n",
       "    </tr>\n",
       "    <tr>\n",
       "      <th>5107</th>\n",
       "      <td>-0.363806</td>\n",
       "      <td>0.0</td>\n",
       "      <td>0.0</td>\n",
       "      <td>-0.511393</td>\n",
       "      <td>0.217309</td>\n",
       "      <td>0.0</td>\n",
       "      <td>0.0</td>\n",
       "      <td>1.0</td>\n",
       "      <td>0.0</td>\n",
       "      <td>1.0</td>\n",
       "      <td>...</td>\n",
       "      <td>1.0</td>\n",
       "      <td>0.0</td>\n",
       "      <td>0.0</td>\n",
       "      <td>0.0</td>\n",
       "      <td>0.0</td>\n",
       "      <td>1.0</td>\n",
       "      <td>0.0</td>\n",
       "      <td>1.0</td>\n",
       "      <td>0.0</td>\n",
       "      <td>0.0</td>\n",
       "    </tr>\n",
       "    <tr>\n",
       "      <th>5108</th>\n",
       "      <td>0.343763</td>\n",
       "      <td>0.0</td>\n",
       "      <td>0.0</td>\n",
       "      <td>1.328127</td>\n",
       "      <td>-0.419303</td>\n",
       "      <td>0.0</td>\n",
       "      <td>1.0</td>\n",
       "      <td>0.0</td>\n",
       "      <td>0.0</td>\n",
       "      <td>1.0</td>\n",
       "      <td>...</td>\n",
       "      <td>0.0</td>\n",
       "      <td>0.0</td>\n",
       "      <td>0.0</td>\n",
       "      <td>0.0</td>\n",
       "      <td>0.0</td>\n",
       "      <td>1.0</td>\n",
       "      <td>1.0</td>\n",
       "      <td>0.0</td>\n",
       "      <td>0.0</td>\n",
       "      <td>0.0</td>\n",
       "    </tr>\n",
       "    <tr>\n",
       "      <th>5109</th>\n",
       "      <td>0.034201</td>\n",
       "      <td>0.0</td>\n",
       "      <td>0.0</td>\n",
       "      <td>-0.460822</td>\n",
       "      <td>-0.342910</td>\n",
       "      <td>0.0</td>\n",
       "      <td>0.0</td>\n",
       "      <td>1.0</td>\n",
       "      <td>0.0</td>\n",
       "      <td>1.0</td>\n",
       "      <td>...</td>\n",
       "      <td>0.0</td>\n",
       "      <td>1.0</td>\n",
       "      <td>0.0</td>\n",
       "      <td>0.0</td>\n",
       "      <td>1.0</td>\n",
       "      <td>0.0</td>\n",
       "      <td>0.0</td>\n",
       "      <td>0.0</td>\n",
       "      <td>0.0</td>\n",
       "      <td>1.0</td>\n",
       "    </tr>\n",
       "  </tbody>\n",
       "</table>\n",
       "<p>5110 rows × 22 columns</p>\n",
       "</div>"
      ],
      "text/plain": [
       "           age  hypertension  heart_disease  avg_glucose_level       bmi  \\\n",
       "0     1.051331           0.0            1.0           2.706111  0.981245   \n",
       "1     0.785993           0.0            0.0           2.121351  0.289321   \n",
       "2     1.626231           0.0            1.0          -0.005028  0.459222   \n",
       "3     0.255317           0.0            0.0           1.437217  0.701135   \n",
       "4     1.582008           1.0            0.0           1.501038 -0.623020   \n",
       "...        ...           ...            ...                ...       ...   \n",
       "5105  1.626231           1.0            0.0          -0.494609  0.429644   \n",
       "5106  1.670454           0.0            0.0           0.420734  1.414142   \n",
       "5107 -0.363806           0.0            0.0          -0.511393  0.217309   \n",
       "5108  0.343763           0.0            0.0           1.328127 -0.419303   \n",
       "5109  0.034201           0.0            0.0          -0.460822 -0.342910   \n",
       "\n",
       "      stroke  gender_Male  gender_Female  gender_Other  ever_married_Yes  ...  \\\n",
       "0        1.0          1.0            0.0           0.0               1.0  ...   \n",
       "1        1.0          0.0            1.0           0.0               1.0  ...   \n",
       "2        1.0          1.0            0.0           0.0               1.0  ...   \n",
       "3        1.0          0.0            1.0           0.0               1.0  ...   \n",
       "4        1.0          0.0            1.0           0.0               1.0  ...   \n",
       "...      ...          ...            ...           ...               ...  ...   \n",
       "5105     0.0          0.0            1.0           0.0               1.0  ...   \n",
       "5106     0.0          0.0            1.0           0.0               1.0  ...   \n",
       "5107     0.0          0.0            1.0           0.0               1.0  ...   \n",
       "5108     0.0          1.0            0.0           0.0               1.0  ...   \n",
       "5109     0.0          0.0            1.0           0.0               1.0  ...   \n",
       "\n",
       "      work_type_Self-employed  work_type_Govt_job  work_type_children  \\\n",
       "0                         0.0                 0.0                 0.0   \n",
       "1                         1.0                 0.0                 0.0   \n",
       "2                         0.0                 0.0                 0.0   \n",
       "3                         0.0                 0.0                 0.0   \n",
       "4                         1.0                 0.0                 0.0   \n",
       "...                       ...                 ...                 ...   \n",
       "5105                      0.0                 0.0                 0.0   \n",
       "5106                      1.0                 0.0                 0.0   \n",
       "5107                      1.0                 0.0                 0.0   \n",
       "5108                      0.0                 0.0                 0.0   \n",
       "5109                      0.0                 1.0                 0.0   \n",
       "\n",
       "      work_type_Never_worked  Residence_type_Urban  Residence_type_Rural  \\\n",
       "0                        0.0                   1.0                   0.0   \n",
       "1                        0.0                   0.0                   1.0   \n",
       "2                        0.0                   0.0                   1.0   \n",
       "3                        0.0                   1.0                   0.0   \n",
       "4                        0.0                   0.0                   1.0   \n",
       "...                      ...                   ...                   ...   \n",
       "5105                     0.0                   1.0                   0.0   \n",
       "5106                     0.0                   1.0                   0.0   \n",
       "5107                     0.0                   0.0                   1.0   \n",
       "5108                     0.0                   0.0                   1.0   \n",
       "5109                     0.0                   1.0                   0.0   \n",
       "\n",
       "      smoking_status_formerly smoked  smoking_status_never smoked  \\\n",
       "0                                1.0                          0.0   \n",
       "1                                0.0                          1.0   \n",
       "2                                0.0                          1.0   \n",
       "3                                0.0                          0.0   \n",
       "4                                0.0                          1.0   \n",
       "...                              ...                          ...   \n",
       "5105                             0.0                          1.0   \n",
       "5106                             0.0                          1.0   \n",
       "5107                             0.0                          1.0   \n",
       "5108                             1.0                          0.0   \n",
       "5109                             0.0                          0.0   \n",
       "\n",
       "      smoking_status_smokes  smoking_status_Unknown  \n",
       "0                       0.0                     0.0  \n",
       "1                       0.0                     0.0  \n",
       "2                       0.0                     0.0  \n",
       "3                       1.0                     0.0  \n",
       "4                       0.0                     0.0  \n",
       "...                     ...                     ...  \n",
       "5105                    0.0                     0.0  \n",
       "5106                    0.0                     0.0  \n",
       "5107                    0.0                     0.0  \n",
       "5108                    0.0                     0.0  \n",
       "5109                    0.0                     1.0  \n",
       "\n",
       "[5110 rows x 22 columns]"
      ]
     },
     "execution_count": 10,
     "metadata": {},
     "output_type": "execute_result"
    }
   ],
   "source": [
    "from sklearn.experimental import enable_iterative_imputer\n",
    "from sklearn.impute import IterativeImputer\n",
    "\n",
    "imp = IterativeImputer(max_iter=10, random_state=0)\n",
    "hot_data = pd.DataFrame(imp.fit_transform(hot_data), columns=list(hot_data.columns))\n",
    "hot_data"
   ]
  },
  {
   "cell_type": "markdown",
   "metadata": {
    "id": "cyOQ3bNN9E3D"
   },
   "source": [
    "Standardize all numerical data"
   ]
  },
  {
   "cell_type": "code",
   "execution_count": 7,
   "metadata": {
    "colab": {
     "base_uri": "https://localhost:8080/",
     "height": 206
    },
    "id": "k5PCDn8L_4jJ",
    "outputId": "b0c6df22-efd6-48e4-eb48-62401f93332f"
   },
   "outputs": [
    {
     "data": {
      "text/html": [
       "<div>\n",
       "<style scoped>\n",
       "    .dataframe tbody tr th:only-of-type {\n",
       "        vertical-align: middle;\n",
       "    }\n",
       "\n",
       "    .dataframe tbody tr th {\n",
       "        vertical-align: top;\n",
       "    }\n",
       "\n",
       "    .dataframe thead th {\n",
       "        text-align: right;\n",
       "    }\n",
       "</style>\n",
       "<table border=\"1\" class=\"dataframe\">\n",
       "  <thead>\n",
       "    <tr style=\"text-align: right;\">\n",
       "      <th></th>\n",
       "      <th>gender</th>\n",
       "      <th>age</th>\n",
       "      <th>hypertension</th>\n",
       "      <th>heart_disease</th>\n",
       "      <th>ever_married</th>\n",
       "      <th>work_type</th>\n",
       "      <th>Residence_type</th>\n",
       "      <th>avg_glucose_level</th>\n",
       "      <th>bmi</th>\n",
       "      <th>smoking_status</th>\n",
       "      <th>stroke</th>\n",
       "    </tr>\n",
       "  </thead>\n",
       "  <tbody>\n",
       "    <tr>\n",
       "      <th>0</th>\n",
       "      <td>Male</td>\n",
       "      <td>1.051331</td>\n",
       "      <td>0</td>\n",
       "      <td>1</td>\n",
       "      <td>Yes</td>\n",
       "      <td>Private</td>\n",
       "      <td>Urban</td>\n",
       "      <td>2.706111</td>\n",
       "      <td>0.981245</td>\n",
       "      <td>formerly smoked</td>\n",
       "      <td>1</td>\n",
       "    </tr>\n",
       "    <tr>\n",
       "      <th>1</th>\n",
       "      <td>Female</td>\n",
       "      <td>0.785993</td>\n",
       "      <td>0</td>\n",
       "      <td>0</td>\n",
       "      <td>Yes</td>\n",
       "      <td>Self-employed</td>\n",
       "      <td>Rural</td>\n",
       "      <td>2.121351</td>\n",
       "      <td>NaN</td>\n",
       "      <td>never smoked</td>\n",
       "      <td>1</td>\n",
       "    </tr>\n",
       "    <tr>\n",
       "      <th>2</th>\n",
       "      <td>Male</td>\n",
       "      <td>1.626231</td>\n",
       "      <td>0</td>\n",
       "      <td>1</td>\n",
       "      <td>Yes</td>\n",
       "      <td>Private</td>\n",
       "      <td>Rural</td>\n",
       "      <td>-0.005028</td>\n",
       "      <td>0.459222</td>\n",
       "      <td>never smoked</td>\n",
       "      <td>1</td>\n",
       "    </tr>\n",
       "    <tr>\n",
       "      <th>3</th>\n",
       "      <td>Female</td>\n",
       "      <td>0.255317</td>\n",
       "      <td>0</td>\n",
       "      <td>0</td>\n",
       "      <td>Yes</td>\n",
       "      <td>Private</td>\n",
       "      <td>Urban</td>\n",
       "      <td>1.437217</td>\n",
       "      <td>0.701135</td>\n",
       "      <td>smokes</td>\n",
       "      <td>1</td>\n",
       "    </tr>\n",
       "    <tr>\n",
       "      <th>4</th>\n",
       "      <td>Female</td>\n",
       "      <td>1.582008</td>\n",
       "      <td>1</td>\n",
       "      <td>0</td>\n",
       "      <td>Yes</td>\n",
       "      <td>Self-employed</td>\n",
       "      <td>Rural</td>\n",
       "      <td>1.501038</td>\n",
       "      <td>-0.623020</td>\n",
       "      <td>never smoked</td>\n",
       "      <td>1</td>\n",
       "    </tr>\n",
       "  </tbody>\n",
       "</table>\n",
       "</div>"
      ],
      "text/plain": [
       "   gender       age  hypertension  heart_disease ever_married      work_type  \\\n",
       "0    Male  1.051331             0              1          Yes        Private   \n",
       "1  Female  0.785993             0              0          Yes  Self-employed   \n",
       "2    Male  1.626231             0              1          Yes        Private   \n",
       "3  Female  0.255317             0              0          Yes        Private   \n",
       "4  Female  1.582008             1              0          Yes  Self-employed   \n",
       "\n",
       "  Residence_type  avg_glucose_level       bmi   smoking_status  stroke  \n",
       "0          Urban           2.706111  0.981245  formerly smoked       1  \n",
       "1          Rural           2.121351       NaN     never smoked       1  \n",
       "2          Rural          -0.005028  0.459222     never smoked       1  \n",
       "3          Urban           1.437217  0.701135           smokes       1  \n",
       "4          Rural           1.501038 -0.623020     never smoked       1  "
      ]
     },
     "execution_count": 7,
     "metadata": {},
     "output_type": "execute_result"
    }
   ],
   "source": [
    "# Standardize the age, avg_glucose_level, and bmi columns\n",
    "numerical_cols = [\"age\", \"avg_glucose_level\", \"bmi\"]\n",
    "for c in numerical_cols:\n",
    "    data[c] = (data[c] - data[c].mean()) / data[c].std()\n",
    "    \n",
    "data.head()"
   ]
  },
  {
   "cell_type": "markdown",
   "metadata": {
    "id": "D-FvKrz1BVNS"
   },
   "source": [
    "Create box plots for all numerical data"
   ]
  },
  {
   "cell_type": "code",
   "execution_count": null,
   "metadata": {
    "colab": {
     "base_uri": "https://localhost:8080/",
     "height": 282
    },
    "id": "ilxy1b1zAnaU",
    "outputId": "3352bd84-463e-47dc-ebe5-c14ed69f8dc3"
   },
   "outputs": [],
   "source": [
    "# Boxplot for age\n",
    "data.boxplot(column=['age'])"
   ]
  },
  {
   "cell_type": "code",
   "execution_count": null,
   "metadata": {
    "colab": {
     "base_uri": "https://localhost:8080/",
     "height": 283
    },
    "id": "0AOfJ_lDBvfi",
    "outputId": "807df35e-0a11-440c-de08-7242c3c1f43b"
   },
   "outputs": [],
   "source": [
    "# Boxplot for glucode level\n",
    "data.boxplot(column=['avg_glucose_level'])"
   ]
  },
  {
   "cell_type": "code",
   "execution_count": null,
   "metadata": {
    "colab": {
     "base_uri": "https://localhost:8080/",
     "height": 282
    },
    "id": "8o07dtAfBvo6",
    "outputId": "657158fd-ccbb-4daf-b7f0-769801c35304"
   },
   "outputs": [],
   "source": [
    "# Boxplot for BMI\n",
    "data.boxplot(column=['bmi'])"
   ]
  },
  {
   "cell_type": "markdown",
   "metadata": {
    "id": "QWQ1qh63BZic"
   },
   "source": [
    "Create bar charts for all categorical data"
   ]
  },
  {
   "cell_type": "code",
   "execution_count": null,
   "metadata": {
    "colab": {
     "base_uri": "https://localhost:8080/",
     "height": 308
    },
    "id": "Hz-DQxgXDI0E",
    "outputId": "89b6fe95-8c3a-472d-b374-09c32c55ea97"
   },
   "outputs": [],
   "source": [
    "# Bar chart for gender counts\n",
    "data[\"gender\"].value_counts().plot(kind='bar')"
   ]
  },
  {
   "cell_type": "code",
   "execution_count": null,
   "metadata": {
    "colab": {
     "base_uri": "https://localhost:8080/",
     "height": 279
    },
    "id": "-X8HPziZD4Gc",
    "outputId": "c9da24d1-24bb-4522-c8a5-8ad364100df0"
   },
   "outputs": [],
   "source": [
    "# Bar chart for hypertension counts\n",
    "data[\"hypertension\"].value_counts().plot(kind='bar')"
   ]
  },
  {
   "cell_type": "code",
   "execution_count": null,
   "metadata": {
    "colab": {
     "base_uri": "https://localhost:8080/",
     "height": 279
    },
    "id": "pHhFUsUAEAAg",
    "outputId": "f8029ae2-21d9-4f86-d3a3-8af2420246b2"
   },
   "outputs": [],
   "source": [
    "# Bar chart for heart_disease counts\n",
    "data[\"heart_disease\"].value_counts().plot(kind='bar')\n"
   ]
  },
  {
   "cell_type": "code",
   "execution_count": null,
   "metadata": {
    "colab": {
     "base_uri": "https://localhost:8080/",
     "height": 291
    },
    "id": "-8AF4qSIEGCt",
    "outputId": "39a320b1-5ca2-4cb7-cb3b-85dcae8f8d03"
   },
   "outputs": [],
   "source": [
    "# Bar chart for ever_married counts\n",
    "data[\"ever_married\"].value_counts().plot(kind='bar')"
   ]
  },
  {
   "cell_type": "code",
   "execution_count": null,
   "metadata": {
    "colab": {
     "base_uri": "https://localhost:8080/",
     "height": 344
    },
    "id": "SKKadf_0EK2U",
    "outputId": "e5802454-11fd-4315-9fce-d5521427512e"
   },
   "outputs": [],
   "source": [
    "# Bar chart for work_type counts\n",
    "data[\"work_type\"].value_counts().plot(kind='bar')"
   ]
  },
  {
   "cell_type": "code",
   "execution_count": null,
   "metadata": {
    "colab": {
     "base_uri": "https://localhost:8080/",
     "height": 303
    },
    "id": "4iumIQiGESeM",
    "outputId": "c5beaa95-5b36-4283-c23b-3569970d498a"
   },
   "outputs": [],
   "source": [
    "# Bar chart for Residence_type counts\n",
    "data[\"Residence_type\"].value_counts().plot(kind='bar')"
   ]
  },
  {
   "cell_type": "code",
   "execution_count": null,
   "metadata": {
    "colab": {
     "base_uri": "https://localhost:8080/",
     "height": 356
    },
    "id": "VC5Hnhy7EVTn",
    "outputId": "ef3b3072-a62c-4281-f422-21783288efbf"
   },
   "outputs": [],
   "source": [
    "# Bar chart for smoking_status counts\n",
    "data[\"smoking_status\"].value_counts().plot(kind='bar')"
   ]
  },
  {
   "cell_type": "code",
   "execution_count": null,
   "metadata": {
    "colab": {
     "base_uri": "https://localhost:8080/",
     "height": 279
    },
    "id": "5b8FRsO0GOtQ",
    "outputId": "e1266d55-fc9f-4c54-8e9b-4ae7b06af775"
   },
   "outputs": [],
   "source": [
    "# Bar chart for stroke counts\n",
    "data[\"stroke\"].value_counts().plot(kind='bar')"
   ]
  },
  {
   "cell_type": "code",
   "execution_count": null,
   "metadata": {
    "colab": {
     "base_uri": "https://localhost:8080/",
     "height": 224
    },
    "id": "Ns-j7EkfEa9A",
    "outputId": "ee5a63ba-359c-4e3f-e44b-40593037e3d5"
   },
   "outputs": [],
   "source": [
    "# Remove some outliers\n",
    "\n",
    "# From average glucose level\n",
    "data = data[(np.abs(stats.zscore(data[\"avg_glucose_level\"])) < 3)]\n",
    "\n",
    "# From BMI\n",
    "data = data[(np.abs(stats.zscore(data[\"bmi\"])) < 3)]\n",
    "\n",
    "print(f\"New dataset shape: {data.shape}\")\n",
    "data.head()"
   ]
  },
  {
   "cell_type": "markdown",
   "metadata": {
    "id": "KYQITudOOIG9"
   },
   "source": [
    "**One-Hot Encoding**\n",
    "\n",
    "\n",
    "Create a version of the dataset that is one-hot encoded"
   ]
  },
  {
   "cell_type": "code",
   "execution_count": 8,
   "metadata": {
    "colab": {
     "base_uri": "https://localhost:8080/",
     "height": 296
    },
    "id": "b786Mh_kOh-0",
    "outputId": "0276fd98-a4c3-4453-9e7f-204c2087b339"
   },
   "outputs": [
    {
     "name": "stdout",
     "output_type": "stream",
     "text": [
      "(5110, 22)\n"
     ]
    },
    {
     "data": {
      "text/html": [
       "<div>\n",
       "<style scoped>\n",
       "    .dataframe tbody tr th:only-of-type {\n",
       "        vertical-align: middle;\n",
       "    }\n",
       "\n",
       "    .dataframe tbody tr th {\n",
       "        vertical-align: top;\n",
       "    }\n",
       "\n",
       "    .dataframe thead th {\n",
       "        text-align: right;\n",
       "    }\n",
       "</style>\n",
       "<table border=\"1\" class=\"dataframe\">\n",
       "  <thead>\n",
       "    <tr style=\"text-align: right;\">\n",
       "      <th></th>\n",
       "      <th>age</th>\n",
       "      <th>hypertension</th>\n",
       "      <th>heart_disease</th>\n",
       "      <th>avg_glucose_level</th>\n",
       "      <th>bmi</th>\n",
       "      <th>stroke</th>\n",
       "      <th>gender_Male</th>\n",
       "      <th>gender_Female</th>\n",
       "      <th>gender_Other</th>\n",
       "      <th>ever_married_Yes</th>\n",
       "      <th>...</th>\n",
       "      <th>work_type_Self-employed</th>\n",
       "      <th>work_type_Govt_job</th>\n",
       "      <th>work_type_children</th>\n",
       "      <th>work_type_Never_worked</th>\n",
       "      <th>Residence_type_Urban</th>\n",
       "      <th>Residence_type_Rural</th>\n",
       "      <th>smoking_status_formerly smoked</th>\n",
       "      <th>smoking_status_never smoked</th>\n",
       "      <th>smoking_status_smokes</th>\n",
       "      <th>smoking_status_Unknown</th>\n",
       "    </tr>\n",
       "  </thead>\n",
       "  <tbody>\n",
       "    <tr>\n",
       "      <th>0</th>\n",
       "      <td>1.051331</td>\n",
       "      <td>0</td>\n",
       "      <td>1</td>\n",
       "      <td>2.706111</td>\n",
       "      <td>0.981245</td>\n",
       "      <td>1</td>\n",
       "      <td>1</td>\n",
       "      <td>0</td>\n",
       "      <td>0</td>\n",
       "      <td>1</td>\n",
       "      <td>...</td>\n",
       "      <td>0</td>\n",
       "      <td>0</td>\n",
       "      <td>0</td>\n",
       "      <td>0</td>\n",
       "      <td>1</td>\n",
       "      <td>0</td>\n",
       "      <td>1</td>\n",
       "      <td>0</td>\n",
       "      <td>0</td>\n",
       "      <td>0</td>\n",
       "    </tr>\n",
       "    <tr>\n",
       "      <th>1</th>\n",
       "      <td>0.785993</td>\n",
       "      <td>0</td>\n",
       "      <td>0</td>\n",
       "      <td>2.121351</td>\n",
       "      <td>NaN</td>\n",
       "      <td>1</td>\n",
       "      <td>0</td>\n",
       "      <td>1</td>\n",
       "      <td>0</td>\n",
       "      <td>1</td>\n",
       "      <td>...</td>\n",
       "      <td>1</td>\n",
       "      <td>0</td>\n",
       "      <td>0</td>\n",
       "      <td>0</td>\n",
       "      <td>0</td>\n",
       "      <td>1</td>\n",
       "      <td>0</td>\n",
       "      <td>1</td>\n",
       "      <td>0</td>\n",
       "      <td>0</td>\n",
       "    </tr>\n",
       "    <tr>\n",
       "      <th>2</th>\n",
       "      <td>1.626231</td>\n",
       "      <td>0</td>\n",
       "      <td>1</td>\n",
       "      <td>-0.005028</td>\n",
       "      <td>0.459222</td>\n",
       "      <td>1</td>\n",
       "      <td>1</td>\n",
       "      <td>0</td>\n",
       "      <td>0</td>\n",
       "      <td>1</td>\n",
       "      <td>...</td>\n",
       "      <td>0</td>\n",
       "      <td>0</td>\n",
       "      <td>0</td>\n",
       "      <td>0</td>\n",
       "      <td>0</td>\n",
       "      <td>1</td>\n",
       "      <td>0</td>\n",
       "      <td>1</td>\n",
       "      <td>0</td>\n",
       "      <td>0</td>\n",
       "    </tr>\n",
       "    <tr>\n",
       "      <th>3</th>\n",
       "      <td>0.255317</td>\n",
       "      <td>0</td>\n",
       "      <td>0</td>\n",
       "      <td>1.437217</td>\n",
       "      <td>0.701135</td>\n",
       "      <td>1</td>\n",
       "      <td>0</td>\n",
       "      <td>1</td>\n",
       "      <td>0</td>\n",
       "      <td>1</td>\n",
       "      <td>...</td>\n",
       "      <td>0</td>\n",
       "      <td>0</td>\n",
       "      <td>0</td>\n",
       "      <td>0</td>\n",
       "      <td>1</td>\n",
       "      <td>0</td>\n",
       "      <td>0</td>\n",
       "      <td>0</td>\n",
       "      <td>1</td>\n",
       "      <td>0</td>\n",
       "    </tr>\n",
       "    <tr>\n",
       "      <th>4</th>\n",
       "      <td>1.582008</td>\n",
       "      <td>1</td>\n",
       "      <td>0</td>\n",
       "      <td>1.501038</td>\n",
       "      <td>-0.623020</td>\n",
       "      <td>1</td>\n",
       "      <td>0</td>\n",
       "      <td>1</td>\n",
       "      <td>0</td>\n",
       "      <td>1</td>\n",
       "      <td>...</td>\n",
       "      <td>1</td>\n",
       "      <td>0</td>\n",
       "      <td>0</td>\n",
       "      <td>0</td>\n",
       "      <td>0</td>\n",
       "      <td>1</td>\n",
       "      <td>0</td>\n",
       "      <td>1</td>\n",
       "      <td>0</td>\n",
       "      <td>0</td>\n",
       "    </tr>\n",
       "  </tbody>\n",
       "</table>\n",
       "<p>5 rows × 22 columns</p>\n",
       "</div>"
      ],
      "text/plain": [
       "        age  hypertension  heart_disease  avg_glucose_level       bmi  stroke  \\\n",
       "0  1.051331             0              1           2.706111  0.981245       1   \n",
       "1  0.785993             0              0           2.121351       NaN       1   \n",
       "2  1.626231             0              1          -0.005028  0.459222       1   \n",
       "3  0.255317             0              0           1.437217  0.701135       1   \n",
       "4  1.582008             1              0           1.501038 -0.623020       1   \n",
       "\n",
       "   gender_Male  gender_Female  gender_Other  ever_married_Yes  ...  \\\n",
       "0            1              0             0                 1  ...   \n",
       "1            0              1             0                 1  ...   \n",
       "2            1              0             0                 1  ...   \n",
       "3            0              1             0                 1  ...   \n",
       "4            0              1             0                 1  ...   \n",
       "\n",
       "   work_type_Self-employed  work_type_Govt_job  work_type_children  \\\n",
       "0                        0                   0                   0   \n",
       "1                        1                   0                   0   \n",
       "2                        0                   0                   0   \n",
       "3                        0                   0                   0   \n",
       "4                        1                   0                   0   \n",
       "\n",
       "   work_type_Never_worked  Residence_type_Urban  Residence_type_Rural  \\\n",
       "0                       0                     1                     0   \n",
       "1                       0                     0                     1   \n",
       "2                       0                     0                     1   \n",
       "3                       0                     1                     0   \n",
       "4                       0                     0                     1   \n",
       "\n",
       "   smoking_status_formerly smoked  smoking_status_never smoked  \\\n",
       "0                               1                            0   \n",
       "1                               0                            1   \n",
       "2                               0                            1   \n",
       "3                               0                            0   \n",
       "4                               0                            1   \n",
       "\n",
       "   smoking_status_smokes  smoking_status_Unknown  \n",
       "0                      0                       0  \n",
       "1                      0                       0  \n",
       "2                      0                       0  \n",
       "3                      1                       0  \n",
       "4                      0                       0  \n",
       "\n",
       "[5 rows x 22 columns]"
      ]
     },
     "execution_count": 8,
     "metadata": {},
     "output_type": "execute_result"
    }
   ],
   "source": [
    "hot_data = data.copy()\n",
    "categorical_columns = [\"gender\", \"ever_married\", \"work_type\", \"Residence_type\", \"smoking_status\"]\n",
    "\n",
    "for c in categorical_columns:\n",
    "    vals = hot_data[c].unique()\n",
    "    for v in vals:\n",
    "        hot_data[f\"{c}_{v}\"] = hot_data[c].apply(lambda c_val: 1 if c_val == v else 0)\n",
    "    hot_data.drop(c, axis=1, inplace=True)\n",
    "print(hot_data.shape)\n",
    "hot_data.head()"
   ]
  },
  {
   "cell_type": "markdown",
   "metadata": {},
   "source": [
    "## Feature Engineering\n",
    "### (might need to move this to before normalization)"
   ]
  },
  {
   "cell_type": "code",
   "execution_count": 25,
   "metadata": {},
   "outputs": [
    {
     "data": {
      "image/png": "[encoded data removed]",
      "text/plain": [
       "<Figure size 432x288 with 1 Axes>"
      ]
     },
     "metadata": {
      "needs_background": "light"
     },
     "output_type": "display_data"
    }
   ],
   "source": [
    "stroke = data[data['stroke'] == 1]\n",
    "no_stroke = data[data['stroke']==0]\n",
    "\n",
    "plt.hist(no_stroke['age'], density=True, alpha=0.8)\n",
    "plt.hist(stroke['age'], density=True, alpha=0.8)\n",
    "\n",
    "plt.show()"
   ]
  },
  {
   "cell_type": "code",
   "execution_count": 26,
   "metadata": {},
   "outputs": [
    {
     "data": {
      "image/png": "[encoded data removed]",
      "text/plain": [
       "<Figure size 432x288 with 1 Axes>"
      ]
     },
     "metadata": {
      "needs_background": "light"
     },
     "output_type": "display_data"
    }
   ],
   "source": [
    "plt.hist(no_stroke['hypertension'], density=True, alpha=0.8)\n",
    "plt.hist(stroke['hypertension'], density=True, alpha=0.8)\n",
    "\n",
    "plt.show()"
   ]
  },
  {
   "cell_type": "code",
   "execution_count": 27,
   "metadata": {},
   "outputs": [
    {
     "data": {
      "image/png": "[encoded data removed]",
      "text/plain": [
       "<Figure size 432x288 with 1 Axes>"
      ]
     },
     "metadata": {
      "needs_background": "light"
     },
     "output_type": "display_data"
    }
   ],
   "source": [
    "plt.hist(no_stroke['heart_disease'], density=True, alpha=0.8)\n",
    "plt.hist(stroke['heart_disease'], density=True, alpha=0.8)\n",
    "\n",
    "plt.show()"
   ]
  },
  {
   "cell_type": "code",
   "execution_count": 28,
   "metadata": {},
   "outputs": [
    {
     "data": {
      "image/png": "[encoded data removed]",
      "text/plain": [
       "<Figure size 432x288 with 1 Axes>"
      ]
     },
     "metadata": {
      "needs_background": "light"
     },
     "output_type": "display_data"
    }
   ],
   "source": [
    "plt.hist(no_stroke['avg_glucose_level'], density=True, alpha=0.8)\n",
    "plt.hist(stroke['avg_glucose_level'], density=True, alpha=0.8)\n",
    "\n",
    "plt.show()"
   ]
  },
  {
   "cell_type": "code",
   "execution_count": 29,
   "metadata": {},
   "outputs": [
    {
     "data": {
      "image/png": "[encoded data removed]",
      "text/plain": [
       "<Figure size 432x288 with 1 Axes>"
      ]
     },
     "metadata": {
      "needs_background": "light"
     },
     "output_type": "display_data"
    }
   ],
   "source": [
    "plt.hist(no_stroke['bmi'], density=True, alpha=0.8)\n",
    "plt.hist(stroke['bmi'], density=True, alpha=0.8)\n",
    "\n",
    "plt.show()"
   ]
  },
  {
   "cell_type": "code",
   "execution_count": 30,
   "metadata": {},
   "outputs": [
    {
     "data": {
      "image/png": "[encoded data removed]",
      "text/plain": [
       "<Figure size 432x288 with 1 Axes>"
      ]
     },
     "metadata": {
      "needs_background": "light"
     },
     "output_type": "display_data"
    }
   ],
   "source": [
    "plt.hist(no_stroke['gender'], density=True, alpha=0.8)\n",
    "plt.hist(stroke['gender'], density=True, alpha=0.8)\n",
    "\n",
    "plt.show()"
   ]
  },
  {
   "cell_type": "code",
   "execution_count": 31,
   "metadata": {},
   "outputs": [
    {
     "data": {
      "image/png": "[encoded data removed]",
      "text/plain": [
       "<Figure size 432x288 with 1 Axes>"
      ]
     },
     "metadata": {
      "needs_background": "light"
     },
     "output_type": "display_data"
    }
   ],
   "source": [
    "plt.hist(no_stroke['work_type'], density=True, alpha=0.8)\n",
    "plt.hist(stroke['work_type'], density=True, alpha=0.8)\n",
    "\n",
    "plt.show()"
   ]
  },
  {
   "cell_type": "code",
   "execution_count": 32,
   "metadata": {},
   "outputs": [
    {
     "data": {
      "image/png": "[encoded data removed]",
      "text/plain": [
       "<Figure size 432x288 with 1 Axes>"
      ]
     },
     "metadata": {
      "needs_background": "light"
     },
     "output_type": "display_data"
    }
   ],
   "source": [
    "plt.hist(no_stroke['Residence_type'], density=True, alpha=0.8)\n",
    "plt.hist(stroke['Residence_type'], density=True, alpha=0.8)\n",
    "\n",
    "plt.show()"
   ]
  },
  {
   "cell_type": "code",
   "execution_count": 33,
   "metadata": {},
   "outputs": [
    {
     "data": {
      "image/png": "[encoded data removed]",
      "text/plain": [
       "<Figure size 432x288 with 1 Axes>"
      ]
     },
     "metadata": {
      "needs_background": "light"
     },
     "output_type": "display_data"
    }
   ],
   "source": [
    "plt.hist(no_stroke['smoking_status'], density=True, alpha=0.8)\n",
    "plt.hist(stroke['smoking_status'], density=True, alpha=0.8)\n",
    "\n",
    "plt.show()"
   ]
  },
  {
   "cell_type": "markdown",
   "metadata": {},
   "source": [
    "### TODO: Insert analysis on which features were going to use"
   ]
  },
  {
   "cell_type": "markdown",
   "metadata": {
    "id": "ZeCbWZQNKN8g"
   },
   "source": [
    "## Data Mining (Testing Different Models)"
   ]
  },
  {
   "cell_type": "code",
   "execution_count": null,
   "metadata": {
    "colab": {
     "base_uri": "https://localhost:8080/"
    },
    "id": "lz7wGiUMKZAs",
    "outputId": "4dc92005-54a3-45fa-bba9-b03ae217091f"
   },
   "outputs": [],
   "source": [
    "# Separating labels from the rest of the data\n",
    "data_Y = data['stroke']\n",
    "data_X = data.drop(['stroke'], axis=1)\n",
    "print(data_X.shape)\n",
    "print(data_Y.shape)\n",
    "\n",
    "hot_data_Y = hot_data['stroke']\n",
    "hot_data_X = hot_data.drop(['stroke'], axis=1)"
   ]
  },
  {
   "cell_type": "markdown",
   "metadata": {
    "id": "cqrBxQsNM__D"
   },
   "source": [
    "**Decision Trees**"
   ]
  },
  {
   "cell_type": "code",
   "execution_count": null,
   "metadata": {
    "colab": {
     "base_uri": "https://localhost:8080/"
    },
    "id": "LiMHusykNEf-",
    "outputId": "300bccef-41ed-4897-e464-6405a8d63dd4"
   },
   "outputs": [],
   "source": [
    "from sklearn.model_selection import train_test_split\n",
    "from sklearn.tree import DecisionTreeClassifier\n",
    "from sklearn.metrics import accuracy_score \n",
    "from sklearn.model_selection import cross_val_score\n",
    "\n",
    "print(\"\\nUsing criterion: Entropy\")\n",
    "clf = DecisionTreeClassifier(criterion='entropy')\n",
    "scores = cross_val_score(clf, hot_data_X, hot_data_Y, cv=10)\n",
    "print(f\"Accuracy: {scores.mean() * 100}\")\n",
    "\n",
    "print(\"\\nUsing criterion: Gini\")\n",
    "clf = DecisionTreeClassifier(criterion='gini')\n",
    "scores = cross_val_score(clf, hot_data_X, hot_data_Y, cv=10)\n",
    "print(f\"Accuracy: {scores.mean() * 100}\")\n",
    "\n",
    "print(\"\\nUsing criterion: max_depth of 10\")\n",
    "clf = DecisionTreeClassifier(criterion='entropy', max_depth=10)\n",
    "scores = cross_val_score(clf, hot_data_X, hot_data_Y, cv=10)\n",
    "print(f\"Accuracy: {scores.mean() * 100}\")\n",
    "\n",
    "print(\"\\nUsing criterion: max_depth of 1\")\n",
    "clf = DecisionTreeClassifier(criterion='entropy', max_depth=1)\n",
    "scores = cross_val_score(clf, hot_data_X, hot_data_Y, cv=10)\n",
    "print(f\"Accuracy: {scores.mean() * 100}\")\n",
    "\n",
    "print(\"\\nUsing criterion: min_samples_split = 20\")\n",
    "clf = DecisionTreeClassifier(criterion='entropy', min_samples_split=20)\n",
    "scores = cross_val_score(clf, hot_data_X, hot_data_Y, cv=10)\n",
    "print(f\"Accuracy: {scores.mean() * 100}\")\n",
    "\n",
    "print(\"\\nUsing criterion: min_samples_leaf = 10\")\n",
    "clf = DecisionTreeClassifier(criterion='entropy', min_samples_split=10)\n",
    "scores = cross_val_score(clf, hot_data_X, hot_data_Y, cv=10)\n",
    "print(f\"Accuracy: {scores.mean() * 100}\")\n",
    "\n",
    "print(\"\\nUsing criterion: min_impurity_decrease = .9\")\n",
    "clf = DecisionTreeClassifier(criterion='entropy', min_impurity_decrease=.9)\n",
    "scores = cross_val_score(clf, hot_data_X, hot_data_Y, cv=10)\n",
    "print(f\"Accuracy: {scores.mean() * 100}\")"
   ]
  },
  {
   "cell_type": "markdown",
   "metadata": {
    "id": "AN9Cs59VTXGV"
   },
   "source": [
    "So far, the best accuracy was produced by decreasing the max depth or using a min_impurity_decrease. We can further try more combinations using a GridSearchCV."
   ]
  },
  {
   "cell_type": "code",
   "execution_count": null,
   "metadata": {
    "colab": {
     "base_uri": "https://localhost:8080/"
    },
    "id": "1ESEFA2gQmmy",
    "outputId": "a08c4072-d5fe-4e23-f4aa-d0410f33be00"
   },
   "outputs": [],
   "source": [
    "from sklearn.model_selection import GridSearchCV\n",
    "from sklearn.metrics import classification_report\n",
    "\n",
    "params = {\n",
    "    \"max_depth\": [1, 3, 5, 10, 20], \n",
    "    \"min_samples_split\": [5, 10, 20], \n",
    "    \"min_samples_leaf\": [1, 3, 5, 10, 20], \n",
    "    \"max_features\": [1, 3, 5, 10, 20],\n",
    "    \"min_impurity_decrease\": [.1, .3, .5, .9]}\n",
    "\n",
    "grid_search = GridSearchCV(clf, params, cv=5, scoring=\"accuracy\")\n",
    "grid_search.fit(hot_data_X, hot_data_Y)\n",
    "print(grid_search.best_params_)\n",
    "print(f\"Accuracy: {grid_search.best_score_*100}\")"
   ]
  },
  {
   "cell_type": "code",
   "execution_count": null,
   "metadata": {
    "colab": {
     "base_uri": "https://localhost:8080/"
    },
    "id": "UVn6fXzTcr6w",
    "outputId": "abe32a5d-f3db-48bf-e2c9-d4a859dcb1fd"
   },
   "outputs": [],
   "source": [
    "preds = grid_search.predict(hot_data_X)\n",
    "print(\"\\nClassification Report:\")\n",
    "print(classification_report(hot_data_Y, preds))"
   ]
  },
  {
   "cell_type": "markdown",
   "metadata": {
    "id": "teFnv_yNeNUt"
   },
   "source": [
    "The \"best\" decision tree simply chooses the \"no stroke\" label every almost every time, which produces a poor f-score. We can try to fix this by undersampling the majority class."
   ]
  },
  {
   "cell_type": "code",
   "execution_count": null,
   "metadata": {
    "colab": {
     "base_uri": "https://localhost:8080/",
     "height": 292
    },
    "id": "Srrqh-Dsgd--",
    "outputId": "00fd1921-b8fa-40db-f576-d761aa28e3eb"
   },
   "outputs": [],
   "source": [
    "num_stroke = hot_data[\"stroke\"].sum()\n",
    "print(f\"number of records with stroke: {num_stroke}\")\n",
    "\n",
    "# sample equally\n",
    "balanced_hot_data = hot_data.groupby('stroke').apply(lambda x: x.sample(num_stroke))\n",
    "balanced_hot_data_Y = balanced_hot_data['stroke']\n",
    "balanced_hot_data_X = balanced_hot_data.drop(['stroke'], axis=1)\n",
    "balanced_hot_data.head()"
   ]
  },
  {
   "cell_type": "code",
   "execution_count": null,
   "metadata": {
    "colab": {
     "base_uri": "https://localhost:8080/"
    },
    "id": "8IGDfbZ7i1kG",
    "outputId": "2595b9af-f6f9-485b-ede8-412b7601d707"
   },
   "outputs": [],
   "source": [
    "# Generating another Decision Tree using balanced_hot_data\n",
    "params = {\n",
    "    \"max_depth\": [1, 3, 5, 10, 20], \n",
    "    \"min_samples_split\": [5, 10, 20], \n",
    "    \"min_samples_leaf\": [1, 3, 5, 10, 20], \n",
    "    \"max_features\": [1, 3, 5, 10, 20],\n",
    "    \"min_impurity_decrease\": [.1, .3, .5, .9]}\n",
    "\n",
    "grid_search = GridSearchCV(clf, params, cv=5, scoring=\"accuracy\")\n",
    "grid_search.fit(balanced_hot_data_X, balanced_hot_data_Y)\n",
    "print(grid_search.best_params_)\n",
    "print(f\"Accuracy: {grid_search.best_score_*100}\")"
   ]
  },
  {
   "cell_type": "code",
   "execution_count": null,
   "metadata": {
    "colab": {
     "base_uri": "https://localhost:8080/"
    },
    "id": "mFZlnAUSjI2O",
    "outputId": "266a2a6f-a8da-4977-ecaf-7ccabae6b5fc"
   },
   "outputs": [],
   "source": [
    "preds = grid_search.predict(balanced_hot_data_X)\n",
    "print(\"\\nClassification Report:\")\n",
    "print(classification_report(balanced_hot_data_Y, preds))"
   ]
  },
  {
   "cell_type": "markdown",
   "metadata": {
    "id": "G9joFb8Lj9HE"
   },
   "source": [
    "The average f-score is greatly improved now! However, we only have a 74.25% accuracy."
   ]
  },
  {
   "cell_type": "markdown",
   "metadata": {
    "id": "TCMTHdNIkGEO"
   },
   "source": [
    "**Naive Bayes**"
   ]
  },
  {
   "cell_type": "code",
   "execution_count": null,
   "metadata": {
    "colab": {
     "base_uri": "https://localhost:8080/"
    },
    "id": "2DXyRByekVi7",
    "outputId": "51d54f8d-adaa-44ca-88af-8d5e38375e5f"
   },
   "outputs": [],
   "source": [
    "from sklearn.naive_bayes import GaussianNB\n",
    "# from sklearn.metrics import confusion_matrix\n",
    "from sklearn.metrics import classification_report\n",
    "from sklearn.model_selection import cross_val_predict\n",
    "\n",
    "# Use a gaussian Naive Bayes with 10-fold cross validation\n",
    "gnb = GaussianNB()\n",
    "preds = cross_val_predict(gnb, balanced_hot_data_X, balanced_hot_data_Y, cv=10)\n",
    "print(\"\\nClassification Report:\")\n",
    "print(classification_report(balanced_hot_data_Y, preds))"
   ]
  },
  {
   "cell_type": "markdown",
   "metadata": {
    "id": "Yk3eT67GlVrL"
   },
   "source": [
    "Standard gaussian Naive Bayes produces a low accuracy and f-score compared to the decision tree."
   ]
  },
  {
   "cell_type": "markdown",
   "metadata": {
    "id": "CkbD0oahlpqD"
   },
   "source": [
    "**K-Nearest Neighbors**\n",
    "\n",
    "\n",
    "Since KNN suffers from the curse of dimensionality, we will have to perform dimensionality reduction. We use a GridSearchCV to perform hyperparamter tuning."
   ]
  },
  {
   "cell_type": "code",
   "execution_count": null,
   "metadata": {
    "colab": {
     "base_uri": "https://localhost:8080/"
    },
    "id": "qxOhLpoynG9m",
    "outputId": "da17f5a8-6a6b-48d0-af68-dc1f2f066fce"
   },
   "outputs": [],
   "source": [
    "from sklearn.decomposition import PCA\n",
    "from sklearn.neighbors import KNeighborsClassifier\n",
    "from sklearn.pipeline import Pipeline\n",
    "\n",
    "pca = PCA()\n",
    "knn = KNeighborsClassifier(n_neighbors=7)\n",
    "pline = Pipeline(steps=[(\"pca\", pca), (\"knn\", knn)])\n",
    "\n",
    "param_grid = {\n",
    "    'pca__n_components': list(range(5, 21)),\n",
    "    'knn__n_neighbors': list(range(1, 25))\n",
    "}\n",
    "\n",
    "grid_search = GridSearchCV(pline, param_grid, cv=5, scoring=\"accuracy\")\n",
    "grid_search.fit(hot_data_X, hot_data_Y)\n",
    "print(grid_search.best_params_)\n",
    "print(f\"Accuracy: {grid_search.best_score_*100}\")"
   ]
  },
  {
   "cell_type": "code",
   "execution_count": null,
   "metadata": {
    "colab": {
     "base_uri": "https://localhost:8080/"
    },
    "id": "1q5mfnvgo3AG",
    "outputId": "8fca7c05-05ee-497b-e414-1814f9f23ce9"
   },
   "outputs": [],
   "source": [
    "preds = grid_search.predict(hot_data_X)\n",
    "print(\"\\nClassification Report:\")\n",
    "print(classification_report(hot_data_Y, preds))"
   ]
  },
  {
   "cell_type": "markdown",
   "metadata": {
    "id": "4COvsis-o-QO"
   },
   "source": [
    "Again, this produces a poor f-score so we will try again on the balanced one-hot-encoded dataset"
   ]
  },
  {
   "cell_type": "code",
   "execution_count": null,
   "metadata": {
    "colab": {
     "base_uri": "https://localhost:8080/"
    },
    "id": "PwtMABWkpEMa",
    "outputId": "3ca1985c-7b02-47c2-f600-3a6ac913627b"
   },
   "outputs": [],
   "source": [
    "from sklearn.decomposition import PCA\n",
    "from sklearn.neighbors import KNeighborsClassifier\n",
    "from sklearn.pipeline import Pipeline\n",
    "\n",
    "grid_search.fit(balanced_hot_data_X, balanced_hot_data_Y)\n",
    "print(grid_search.best_params_)\n",
    "print(f\"Accuracy: {grid_search.best_score_*100}\")"
   ]
  },
  {
   "cell_type": "code",
   "execution_count": null,
   "metadata": {
    "colab": {
     "base_uri": "https://localhost:8080/"
    },
    "id": "YFCYe4wTpFis",
    "outputId": "a46b0309-338c-4070-f84c-3e923d42447c"
   },
   "outputs": [],
   "source": [
    "preds = grid_search.predict(balanced_hot_data_X)\n",
    "print(\"\\nClassification Report:\")\n",
    "print(classification_report(balanced_hot_data_Y, preds))"
   ]
  },
  {
   "cell_type": "markdown",
   "metadata": {
    "id": "2lUu_uzNpcj8"
   },
   "source": [
    "This model appears to be more successful than the one built using a decision tree."
   ]
  },
  {
   "cell_type": "markdown",
   "metadata": {
    "id": "dUS1oU2sqMkK"
   },
   "source": [
    "**Support Vector Machines**\n",
    "\n",
    "We again use a GridSearchCV to perform hyperparamter tuning. We will also use the balanced one-hot-encoded dataset."
   ]
  },
  {
   "cell_type": "code",
   "execution_count": null,
   "metadata": {
    "colab": {
     "base_uri": "https://localhost:8080/"
    },
    "id": "LIxtKf-VqQXa",
    "outputId": "686d5e90-db59-4efc-8e7c-22cd5ac602d4"
   },
   "outputs": [],
   "source": [
    "from sklearn.svm import SVC\n",
    "\n",
    "pca = PCA()\n",
    "svc = SVC()\n",
    "pline = Pipeline(steps=[(\"pca\", pca), (\"svc\", svc)])\n",
    "\n",
    "param_grid = {\n",
    "    'pca__n_components': list(range(5, 19)),\n",
    "    'svc__kernel': ['linear', 'rbf', 'poly']\n",
    "}\n",
    "\n",
    "grid_search = GridSearchCV(pline, param_grid, cv=5, scoring=\"accuracy\")\n",
    "grid_search.fit(balanced_hot_data_X, balanced_hot_data_Y)\n",
    "print(grid_search.best_params_)\n",
    "print(f\"Accuracy: {grid_search.best_score_*100}\")"
   ]
  },
  {
   "cell_type": "code",
   "execution_count": null,
   "metadata": {
    "colab": {
     "base_uri": "https://localhost:8080/"
    },
    "id": "GpnQV6oHrALX",
    "outputId": "a7bab481-2b4a-46a6-ab4c-95198d1e9ebc"
   },
   "outputs": [],
   "source": [
    "preds = grid_search.predict(balanced_hot_data_X)\n",
    "print(\"\\nClassification Report:\")\n",
    "print(classification_report(balanced_hot_data_Y, preds))"
   ]
  },
  {
   "cell_type": "markdown",
   "metadata": {
    "id": "cgyh0ov4sHc-"
   },
   "source": [
    "**Random Forests**"
   ]
  },
  {
   "cell_type": "code",
   "execution_count": null,
   "metadata": {
    "colab": {
     "base_uri": "https://localhost:8080/"
    },
    "id": "fQC5ekYxsLQQ",
    "outputId": "557a5927-b232-47b5-ddbe-d5cb16ee75d2"
   },
   "outputs": [],
   "source": [
    "from sklearn.ensemble import RandomForestClassifier\n",
    "\n",
    "rfc = RandomForestClassifier()\n",
    "param_grid = {\n",
    "    'max_depth': list(range(5, 61, 5)),\n",
    "    'min_samples_leaf': [2, 31, 4],\n",
    "    'max_features': [\"sqrt\", \"log2\"]\n",
    "}\n",
    "\n",
    "grid_search = GridSearchCV(rfc, param_grid, cv=5, scoring=\"accuracy\")\n",
    "grid_search.fit(balanced_hot_data_X, balanced_hot_data_Y)\n",
    "print(grid_search.best_params_)\n",
    "print(f\"Accuracy: {grid_search.best_score_*100}\")"
   ]
  },
  {
   "cell_type": "code",
   "execution_count": null,
   "metadata": {
    "colab": {
     "base_uri": "https://localhost:8080/"
    },
    "id": "1nFqYrPAshG0",
    "outputId": "2d66c7c6-b009-4def-979e-a4f55df202ad"
   },
   "outputs": [],
   "source": [
    "preds = grid_search.predict(balanced_hot_data_X)\n",
    "print(\"\\nClassification Report:\")\n",
    "print(classification_report(balanced_hot_data_Y, preds))"
   ]
  },
  {
   "cell_type": "markdown",
   "metadata": {
    "id": "ZWKc8nGOt8bz"
   },
   "source": [
    "Random Forests produce the best f-score and accuracy by far!"
   ]
  }
 ],
 "metadata": {
  "colab": {
   "collapsed_sections": [],
   "name": "Untitled1.ipynb",
   "provenance": []
  },
  "kernelspec": {
   "display_name": "Python 3",
   "language": "python",
   "name": "python3"
  },
  "language_info": {
   "codemirror_mode": {
    "name": "ipython",
    "version": 3
   },
   "file_extension": ".py",
   "mimetype": "text/x-python",
   "name": "python",
   "nbconvert_exporter": "python",
   "pygments_lexer": "ipython3",
   "version": "3.8.5"
  }
 },
 "nbformat": 4,
 "nbformat_minor": 1
}
