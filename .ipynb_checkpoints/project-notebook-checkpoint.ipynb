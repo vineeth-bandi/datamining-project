{
 "cells": [
  {
   "cell_type": "markdown",
   "metadata": {
    "id": "wfFoTzio5NSv"
   },
   "source": [
    "# Datamining on Stroke Dataset\n"
   ]
  },
  {
   "cell_type": "markdown",
   "metadata": {
    "id": "0ZjCN0Ci6UyK"
   },
   "source": [
    "This dataset contains information about 5110 people and their health in regards to their stroke history. There are 11 features (including the id) in the dataset which we will use to create models to predict whether or not someone is prone to stroke. These features include:\n",
    "\n",
    "\n",
    "*   Gender\n",
    "*   Age\n",
    "*   Hypertension (known as high blood pressure, or a blood pressure above 140/90)\n",
    "*   Heart Disease\n",
    "*   Marital History (if the subject is or was ever married)\n",
    "*   Type of Work (Government, Private, Self-Employed, Never Worked, or Children)\n",
    "*   Residency (Rural or Urban)\n",
    "*   Average Glucose Level\n",
    "*   BMI\n",
    "*   Smoking History (Smokes, Formally Smoked, Never Smoked or Unknown)"
   ]
  },
  {
   "cell_type": "markdown",
   "metadata": {
    "id": "3FzTzlzQ6Wjm"
   },
   "source": [
    "We wanted to be able to accurately predict whether someone is prone to having a stroke in the future based on these features. If we were able to accurately predict signs of a stroke, it could become extremely valuable to the medical field. Modeling this data could help hospitals and doctors detect those prone to stroke and begin treating or warning their patients of possible strokes in the future. However, we must create a model first, and that requires us to preprocess our data. "
   ]
  },
  {
   "cell_type": "code",
   "execution_count": 1,
   "metadata": {
    "id": "CvAO1keJ4-rp"
   },
   "outputs": [],
   "source": [
    "# Standard imports\n",
    "import warnings\n",
    "import pandas as pd\n",
    "import numpy as np\n",
    "import sklearn as sk\n",
    "import matplotlib.pyplot as plt\n",
    "import time"
   ]
  },
  {
   "cell_type": "markdown",
   "metadata": {
    "id": "qYWusnxw76JJ"
   },
   "source": [
    "## Data Preprocessing (Exploration and Cleaning)"
   ]
  },
  {
   "cell_type": "code",
   "execution_count": 2,
   "metadata": {
    "colab": {
     "base_uri": "https://localhost:8080/",
     "height": 206
    },
    "id": "dV3GFepj8IyL",
    "outputId": "c122875d-1bbe-41ab-8638-a127586a6d6a"
   },
   "outputs": [
    {
     "data": {
      "text/html": [
       "<div>\n",
       "<style scoped>\n",
       "    .dataframe tbody tr th:only-of-type {\n",
       "        vertical-align: middle;\n",
       "    }\n",
       "\n",
       "    .dataframe tbody tr th {\n",
       "        vertical-align: top;\n",
       "    }\n",
       "\n",
       "    .dataframe thead th {\n",
       "        text-align: right;\n",
       "    }\n",
       "</style>\n",
       "<table border=\"1\" class=\"dataframe\">\n",
       "  <thead>\n",
       "    <tr style=\"text-align: right;\">\n",
       "      <th></th>\n",
       "      <th>id</th>\n",
       "      <th>gender</th>\n",
       "      <th>age</th>\n",
       "      <th>hypertension</th>\n",
       "      <th>heart_disease</th>\n",
       "      <th>ever_married</th>\n",
       "      <th>work_type</th>\n",
       "      <th>Residence_type</th>\n",
       "      <th>avg_glucose_level</th>\n",
       "      <th>bmi</th>\n",
       "      <th>smoking_status</th>\n",
       "      <th>stroke</th>\n",
       "    </tr>\n",
       "  </thead>\n",
       "  <tbody>\n",
       "    <tr>\n",
       "      <th>0</th>\n",
       "      <td>9046</td>\n",
       "      <td>Male</td>\n",
       "      <td>67.0</td>\n",
       "      <td>0</td>\n",
       "      <td>1</td>\n",
       "      <td>Yes</td>\n",
       "      <td>Private</td>\n",
       "      <td>Urban</td>\n",
       "      <td>228.69</td>\n",
       "      <td>36.6</td>\n",
       "      <td>formerly smoked</td>\n",
       "      <td>1</td>\n",
       "    </tr>\n",
       "    <tr>\n",
       "      <th>1</th>\n",
       "      <td>51676</td>\n",
       "      <td>Female</td>\n",
       "      <td>61.0</td>\n",
       "      <td>0</td>\n",
       "      <td>0</td>\n",
       "      <td>Yes</td>\n",
       "      <td>Self-employed</td>\n",
       "      <td>Rural</td>\n",
       "      <td>202.21</td>\n",
       "      <td>NaN</td>\n",
       "      <td>never smoked</td>\n",
       "      <td>1</td>\n",
       "    </tr>\n",
       "    <tr>\n",
       "      <th>2</th>\n",
       "      <td>31112</td>\n",
       "      <td>Male</td>\n",
       "      <td>80.0</td>\n",
       "      <td>0</td>\n",
       "      <td>1</td>\n",
       "      <td>Yes</td>\n",
       "      <td>Private</td>\n",
       "      <td>Rural</td>\n",
       "      <td>105.92</td>\n",
       "      <td>32.5</td>\n",
       "      <td>never smoked</td>\n",
       "      <td>1</td>\n",
       "    </tr>\n",
       "    <tr>\n",
       "      <th>3</th>\n",
       "      <td>60182</td>\n",
       "      <td>Female</td>\n",
       "      <td>49.0</td>\n",
       "      <td>0</td>\n",
       "      <td>0</td>\n",
       "      <td>Yes</td>\n",
       "      <td>Private</td>\n",
       "      <td>Urban</td>\n",
       "      <td>171.23</td>\n",
       "      <td>34.4</td>\n",
       "      <td>smokes</td>\n",
       "      <td>1</td>\n",
       "    </tr>\n",
       "    <tr>\n",
       "      <th>4</th>\n",
       "      <td>1665</td>\n",
       "      <td>Female</td>\n",
       "      <td>79.0</td>\n",
       "      <td>1</td>\n",
       "      <td>0</td>\n",
       "      <td>Yes</td>\n",
       "      <td>Self-employed</td>\n",
       "      <td>Rural</td>\n",
       "      <td>174.12</td>\n",
       "      <td>24.0</td>\n",
       "      <td>never smoked</td>\n",
       "      <td>1</td>\n",
       "    </tr>\n",
       "  </tbody>\n",
       "</table>\n",
       "</div>"
      ],
      "text/plain": [
       "      id  gender   age  hypertension  heart_disease ever_married  \\\n",
       "0   9046    Male  67.0             0              1          Yes   \n",
       "1  51676  Female  61.0             0              0          Yes   \n",
       "2  31112    Male  80.0             0              1          Yes   \n",
       "3  60182  Female  49.0             0              0          Yes   \n",
       "4   1665  Female  79.0             1              0          Yes   \n",
       "\n",
       "       work_type Residence_type  avg_glucose_level   bmi   smoking_status  \\\n",
       "0        Private          Urban             228.69  36.6  formerly smoked   \n",
       "1  Self-employed          Rural             202.21   NaN     never smoked   \n",
       "2        Private          Rural             105.92  32.5     never smoked   \n",
       "3        Private          Urban             171.23  34.4           smokes   \n",
       "4  Self-employed          Rural             174.12  24.0     never smoked   \n",
       "\n",
       "   stroke  \n",
       "0       1  \n",
       "1       1  \n",
       "2       1  \n",
       "3       1  \n",
       "4       1  "
      ]
     },
     "execution_count": 2,
     "metadata": {},
     "output_type": "execute_result"
    }
   ],
   "source": [
    "data = pd.read_csv('healthcare-dataset-stroke-data.csv')\n",
    "data.head()"
   ]
  },
  {
   "cell_type": "markdown",
   "metadata": {
    "id": "5yDfYnJG8_Ls"
   },
   "source": [
    "Here, we want to remove the id column of our data, since it provides us no use to the model we want to create."
   ]
  },
  {
   "cell_type": "code",
   "execution_count": 3,
   "metadata": {
    "colab": {
     "base_uri": "https://localhost:8080/",
     "height": 206
    },
    "id": "7kSNR_AH8dWI",
    "outputId": "3f632500-a49b-44dc-d995-f0d770d11684"
   },
   "outputs": [
    {
     "data": {
      "text/html": [
       "<div>\n",
       "<style scoped>\n",
       "    .dataframe tbody tr th:only-of-type {\n",
       "        vertical-align: middle;\n",
       "    }\n",
       "\n",
       "    .dataframe tbody tr th {\n",
       "        vertical-align: top;\n",
       "    }\n",
       "\n",
       "    .dataframe thead th {\n",
       "        text-align: right;\n",
       "    }\n",
       "</style>\n",
       "<table border=\"1\" class=\"dataframe\">\n",
       "  <thead>\n",
       "    <tr style=\"text-align: right;\">\n",
       "      <th></th>\n",
       "      <th>gender</th>\n",
       "      <th>age</th>\n",
       "      <th>hypertension</th>\n",
       "      <th>heart_disease</th>\n",
       "      <th>ever_married</th>\n",
       "      <th>work_type</th>\n",
       "      <th>Residence_type</th>\n",
       "      <th>avg_glucose_level</th>\n",
       "      <th>bmi</th>\n",
       "      <th>smoking_status</th>\n",
       "      <th>stroke</th>\n",
       "    </tr>\n",
       "  </thead>\n",
       "  <tbody>\n",
       "    <tr>\n",
       "      <th>0</th>\n",
       "      <td>Male</td>\n",
       "      <td>67.0</td>\n",
       "      <td>0</td>\n",
       "      <td>1</td>\n",
       "      <td>Yes</td>\n",
       "      <td>Private</td>\n",
       "      <td>Urban</td>\n",
       "      <td>228.69</td>\n",
       "      <td>36.6</td>\n",
       "      <td>formerly smoked</td>\n",
       "      <td>1</td>\n",
       "    </tr>\n",
       "    <tr>\n",
       "      <th>1</th>\n",
       "      <td>Female</td>\n",
       "      <td>61.0</td>\n",
       "      <td>0</td>\n",
       "      <td>0</td>\n",
       "      <td>Yes</td>\n",
       "      <td>Self-employed</td>\n",
       "      <td>Rural</td>\n",
       "      <td>202.21</td>\n",
       "      <td>NaN</td>\n",
       "      <td>never smoked</td>\n",
       "      <td>1</td>\n",
       "    </tr>\n",
       "    <tr>\n",
       "      <th>2</th>\n",
       "      <td>Male</td>\n",
       "      <td>80.0</td>\n",
       "      <td>0</td>\n",
       "      <td>1</td>\n",
       "      <td>Yes</td>\n",
       "      <td>Private</td>\n",
       "      <td>Rural</td>\n",
       "      <td>105.92</td>\n",
       "      <td>32.5</td>\n",
       "      <td>never smoked</td>\n",
       "      <td>1</td>\n",
       "    </tr>\n",
       "    <tr>\n",
       "      <th>3</th>\n",
       "      <td>Female</td>\n",
       "      <td>49.0</td>\n",
       "      <td>0</td>\n",
       "      <td>0</td>\n",
       "      <td>Yes</td>\n",
       "      <td>Private</td>\n",
       "      <td>Urban</td>\n",
       "      <td>171.23</td>\n",
       "      <td>34.4</td>\n",
       "      <td>smokes</td>\n",
       "      <td>1</td>\n",
       "    </tr>\n",
       "    <tr>\n",
       "      <th>4</th>\n",
       "      <td>Female</td>\n",
       "      <td>79.0</td>\n",
       "      <td>1</td>\n",
       "      <td>0</td>\n",
       "      <td>Yes</td>\n",
       "      <td>Self-employed</td>\n",
       "      <td>Rural</td>\n",
       "      <td>174.12</td>\n",
       "      <td>24.0</td>\n",
       "      <td>never smoked</td>\n",
       "      <td>1</td>\n",
       "    </tr>\n",
       "  </tbody>\n",
       "</table>\n",
       "</div>"
      ],
      "text/plain": [
       "   gender   age  hypertension  heart_disease ever_married      work_type  \\\n",
       "0    Male  67.0             0              1          Yes        Private   \n",
       "1  Female  61.0             0              0          Yes  Self-employed   \n",
       "2    Male  80.0             0              1          Yes        Private   \n",
       "3  Female  49.0             0              0          Yes        Private   \n",
       "4  Female  79.0             1              0          Yes  Self-employed   \n",
       "\n",
       "  Residence_type  avg_glucose_level   bmi   smoking_status  stroke  \n",
       "0          Urban             228.69  36.6  formerly smoked       1  \n",
       "1          Rural             202.21   NaN     never smoked       1  \n",
       "2          Rural             105.92  32.5     never smoked       1  \n",
       "3          Urban             171.23  34.4           smokes       1  \n",
       "4          Rural             174.12  24.0     never smoked       1  "
      ]
     },
     "execution_count": 3,
     "metadata": {},
     "output_type": "execute_result"
    }
   ],
   "source": [
    "data.drop('id', axis=1, inplace=True)\n",
    "data.head()"
   ]
  },
  {
   "cell_type": "markdown",
   "metadata": {
    "id": "f0uH003u9ExY"
   },
   "source": [
    "Now that the id column is removed, we want to one-hot encode the data so it can be used in the models."
   ]
  },
  {
   "cell_type": "markdown",
   "metadata": {
    "id": "KYQITudOOIG9"
   },
   "source": [
    "**One-Hot Encoding**\n",
    "\n",
    "\n",
    "Since the non-binary categorical features are hard to extract data from, we use one-hot encoding to simplify this. These features include gender, marriage, work, residency, and smoking history."
   ]
  },
  {
   "cell_type": "code",
   "execution_count": 4,
   "metadata": {
    "colab": {
     "base_uri": "https://localhost:8080/",
     "height": 261
    },
    "id": "b786Mh_kOh-0",
    "outputId": "e98c2bf7-7aef-4f73-ee20-b0a064b72797"
   },
   "outputs": [
    {
     "name": "stdout",
     "output_type": "stream",
     "text": [
      "(5110, 22)\n"
     ]
    },
    {
     "data": {
      "text/html": [
       "<div>\n",
       "<style scoped>\n",
       "    .dataframe tbody tr th:only-of-type {\n",
       "        vertical-align: middle;\n",
       "    }\n",
       "\n",
       "    .dataframe tbody tr th {\n",
       "        vertical-align: top;\n",
       "    }\n",
       "\n",
       "    .dataframe thead th {\n",
       "        text-align: right;\n",
       "    }\n",
       "</style>\n",
       "<table border=\"1\" class=\"dataframe\">\n",
       "  <thead>\n",
       "    <tr style=\"text-align: right;\">\n",
       "      <th></th>\n",
       "      <th>age</th>\n",
       "      <th>hypertension</th>\n",
       "      <th>heart_disease</th>\n",
       "      <th>avg_glucose_level</th>\n",
       "      <th>bmi</th>\n",
       "      <th>stroke</th>\n",
       "      <th>gender_Male</th>\n",
       "      <th>gender_Female</th>\n",
       "      <th>gender_Other</th>\n",
       "      <th>ever_married_Yes</th>\n",
       "      <th>...</th>\n",
       "      <th>work_type_Self-employed</th>\n",
       "      <th>work_type_Govt_job</th>\n",
       "      <th>work_type_children</th>\n",
       "      <th>work_type_Never_worked</th>\n",
       "      <th>Residence_type_Urban</th>\n",
       "      <th>Residence_type_Rural</th>\n",
       "      <th>smoking_status_formerly smoked</th>\n",
       "      <th>smoking_status_never smoked</th>\n",
       "      <th>smoking_status_smokes</th>\n",
       "      <th>smoking_status_Unknown</th>\n",
       "    </tr>\n",
       "  </thead>\n",
       "  <tbody>\n",
       "    <tr>\n",
       "      <th>0</th>\n",
       "      <td>67.0</td>\n",
       "      <td>0</td>\n",
       "      <td>1</td>\n",
       "      <td>228.69</td>\n",
       "      <td>36.6</td>\n",
       "      <td>1</td>\n",
       "      <td>1</td>\n",
       "      <td>0</td>\n",
       "      <td>0</td>\n",
       "      <td>1</td>\n",
       "      <td>...</td>\n",
       "      <td>0</td>\n",
       "      <td>0</td>\n",
       "      <td>0</td>\n",
       "      <td>0</td>\n",
       "      <td>1</td>\n",
       "      <td>0</td>\n",
       "      <td>1</td>\n",
       "      <td>0</td>\n",
       "      <td>0</td>\n",
       "      <td>0</td>\n",
       "    </tr>\n",
       "    <tr>\n",
       "      <th>1</th>\n",
       "      <td>61.0</td>\n",
       "      <td>0</td>\n",
       "      <td>0</td>\n",
       "      <td>202.21</td>\n",
       "      <td>NaN</td>\n",
       "      <td>1</td>\n",
       "      <td>0</td>\n",
       "      <td>1</td>\n",
       "      <td>0</td>\n",
       "      <td>1</td>\n",
       "      <td>...</td>\n",
       "      <td>1</td>\n",
       "      <td>0</td>\n",
       "      <td>0</td>\n",
       "      <td>0</td>\n",
       "      <td>0</td>\n",
       "      <td>1</td>\n",
       "      <td>0</td>\n",
       "      <td>1</td>\n",
       "      <td>0</td>\n",
       "      <td>0</td>\n",
       "    </tr>\n",
       "    <tr>\n",
       "      <th>2</th>\n",
       "      <td>80.0</td>\n",
       "      <td>0</td>\n",
       "      <td>1</td>\n",
       "      <td>105.92</td>\n",
       "      <td>32.5</td>\n",
       "      <td>1</td>\n",
       "      <td>1</td>\n",
       "      <td>0</td>\n",
       "      <td>0</td>\n",
       "      <td>1</td>\n",
       "      <td>...</td>\n",
       "      <td>0</td>\n",
       "      <td>0</td>\n",
       "      <td>0</td>\n",
       "      <td>0</td>\n",
       "      <td>0</td>\n",
       "      <td>1</td>\n",
       "      <td>0</td>\n",
       "      <td>1</td>\n",
       "      <td>0</td>\n",
       "      <td>0</td>\n",
       "    </tr>\n",
       "    <tr>\n",
       "      <th>3</th>\n",
       "      <td>49.0</td>\n",
       "      <td>0</td>\n",
       "      <td>0</td>\n",
       "      <td>171.23</td>\n",
       "      <td>34.4</td>\n",
       "      <td>1</td>\n",
       "      <td>0</td>\n",
       "      <td>1</td>\n",
       "      <td>0</td>\n",
       "      <td>1</td>\n",
       "      <td>...</td>\n",
       "      <td>0</td>\n",
       "      <td>0</td>\n",
       "      <td>0</td>\n",
       "      <td>0</td>\n",
       "      <td>1</td>\n",
       "      <td>0</td>\n",
       "      <td>0</td>\n",
       "      <td>0</td>\n",
       "      <td>1</td>\n",
       "      <td>0</td>\n",
       "    </tr>\n",
       "    <tr>\n",
       "      <th>4</th>\n",
       "      <td>79.0</td>\n",
       "      <td>1</td>\n",
       "      <td>0</td>\n",
       "      <td>174.12</td>\n",
       "      <td>24.0</td>\n",
       "      <td>1</td>\n",
       "      <td>0</td>\n",
       "      <td>1</td>\n",
       "      <td>0</td>\n",
       "      <td>1</td>\n",
       "      <td>...</td>\n",
       "      <td>1</td>\n",
       "      <td>0</td>\n",
       "      <td>0</td>\n",
       "      <td>0</td>\n",
       "      <td>0</td>\n",
       "      <td>1</td>\n",
       "      <td>0</td>\n",
       "      <td>1</td>\n",
       "      <td>0</td>\n",
       "      <td>0</td>\n",
       "    </tr>\n",
       "  </tbody>\n",
       "</table>\n",
       "<p>5 rows × 22 columns</p>\n",
       "</div>"
      ],
      "text/plain": [
       "    age  hypertension  heart_disease  avg_glucose_level   bmi  stroke  \\\n",
       "0  67.0             0              1             228.69  36.6       1   \n",
       "1  61.0             0              0             202.21   NaN       1   \n",
       "2  80.0             0              1             105.92  32.5       1   \n",
       "3  49.0             0              0             171.23  34.4       1   \n",
       "4  79.0             1              0             174.12  24.0       1   \n",
       "\n",
       "   gender_Male  gender_Female  gender_Other  ever_married_Yes  ...  \\\n",
       "0            1              0             0                 1  ...   \n",
       "1            0              1             0                 1  ...   \n",
       "2            1              0             0                 1  ...   \n",
       "3            0              1             0                 1  ...   \n",
       "4            0              1             0                 1  ...   \n",
       "\n",
       "   work_type_Self-employed  work_type_Govt_job  work_type_children  \\\n",
       "0                        0                   0                   0   \n",
       "1                        1                   0                   0   \n",
       "2                        0                   0                   0   \n",
       "3                        0                   0                   0   \n",
       "4                        1                   0                   0   \n",
       "\n",
       "   work_type_Never_worked  Residence_type_Urban  Residence_type_Rural  \\\n",
       "0                       0                     1                     0   \n",
       "1                       0                     0                     1   \n",
       "2                       0                     0                     1   \n",
       "3                       0                     1                     0   \n",
       "4                       0                     0                     1   \n",
       "\n",
       "   smoking_status_formerly smoked  smoking_status_never smoked  \\\n",
       "0                               1                            0   \n",
       "1                               0                            1   \n",
       "2                               0                            1   \n",
       "3                               0                            0   \n",
       "4                               0                            1   \n",
       "\n",
       "   smoking_status_smokes  smoking_status_Unknown  \n",
       "0                      0                       0  \n",
       "1                      0                       0  \n",
       "2                      0                       0  \n",
       "3                      1                       0  \n",
       "4                      0                       0  \n",
       "\n",
       "[5 rows x 22 columns]"
      ]
     },
     "execution_count": 4,
     "metadata": {},
     "output_type": "execute_result"
    }
   ],
   "source": [
    "hot_data = data.copy()\n",
    "categorical_columns = [\"gender\", \"ever_married\", \"work_type\", \"Residence_type\", \"smoking_status\"]\n",
    "\n",
    "for c in categorical_columns:\n",
    "    vals = hot_data[c].unique()\n",
    "    for v in vals:\n",
    "        hot_data[f\"{c}_{v}\"] = hot_data[c].apply(lambda c_val: 1 if c_val == v else 0)\n",
    "    hot_data.drop(c, axis=1, inplace=True)\n",
    "print(hot_data.shape)\n",
    "hot_data.head()"
   ]
  },
  {
   "cell_type": "markdown",
   "metadata": {
    "id": "Ljo_ce-uDDs4"
   },
   "source": [
    "**Data Cleaning (missing value detection)**\n",
    "\n",
    "\n",
    "Now we want to check for any missing values in the data."
   ]
  },
  {
   "cell_type": "code",
   "execution_count": 5,
   "metadata": {
    "colab": {
     "base_uri": "https://localhost:8080/"
    },
    "id": "ZHcJ6EpT9C1g",
    "outputId": "a9ad79df-f902-4528-91fb-4ed10b8e56ff"
   },
   "outputs": [
    {
     "name": "stdout",
     "output_type": "stream",
     "text": [
      "# of missing gender values:  0\n",
      "# of missing age values:  0\n",
      "# of missing hypertension values:  0\n",
      "# of missing heart_disease values:  0\n",
      "# of missing ever_married values:  0\n",
      "# of missing work_type values:  0\n",
      "# of missing Residence_type values:  0\n",
      "# of missing avg_glucose_level values:  0\n",
      "# of missing bmi values:  201\n",
      "# of missing smoking_status values:  0\n",
      "# of missing stroke values:  0\n"
     ]
    }
   ],
   "source": [
    "# Check for null values in every column\n",
    "missing_gender = data['gender'].isnull().sum()\n",
    "print(\"# of missing gender values: \", missing_gender)\n",
    "\n",
    "missing_age = data['age'].isnull().sum()\n",
    "print(\"# of missing age values: \", missing_age)\n",
    "\n",
    "missing_hypertension = data['hypertension'].isnull().sum()\n",
    "print(\"# of missing hypertension values: \", missing_hypertension)\n",
    "\n",
    "missing_heart_disease = data['heart_disease'].isnull().sum()\n",
    "print(\"# of missing heart_disease values: \", missing_heart_disease)\n",
    "\n",
    "missing_ever_married = data['ever_married'].isnull().sum()\n",
    "print(\"# of missing ever_married values: \", missing_ever_married)\n",
    "\n",
    "missing_work_type = data['work_type'].isnull().sum()\n",
    "print(\"# of missing work_type values: \", missing_work_type)\n",
    "\n",
    "missing_Residence_type = data['Residence_type'].isnull().sum()\n",
    "print(\"# of missing Residence_type values: \", missing_Residence_type)\n",
    "\n",
    "missing_avg_glucose_level = data['avg_glucose_level'].isnull().sum()\n",
    "print(\"# of missing avg_glucose_level values: \", missing_avg_glucose_level)\n",
    "\n",
    "missing_bmi = data['bmi'].isnull().sum()\n",
    "print(\"# of missing bmi values: \", missing_bmi)\n",
    "\n",
    "missing_smoking_status = data['smoking_status'].isnull().sum()\n",
    "print(\"# of missing smoking_status values: \", missing_smoking_status)\n",
    "\n",
    "missing_stroke = data['stroke'].isnull().sum()\n",
    "print(\"# of missing stroke values: \", missing_stroke)"
   ]
  },
  {
   "cell_type": "markdown",
   "metadata": {
    "id": "RGZBkMjL6uiE"
   },
   "source": [
    "We see that there are only missing data values for BMI, so we decide to check how large the proportion of missing values to the positive case of strokes compared to the overall distribution."
   ]
  },
  {
   "cell_type": "code",
   "execution_count": 6,
   "metadata": {
    "colab": {
     "base_uri": "https://localhost:8080/"
    },
    "id": "XJmgOM9p6Gf-",
    "outputId": "4c921ac3-e4f7-47d4-bc54-67b1e91cba4e"
   },
   "outputs": [
    {
     "name": "stdout",
     "output_type": "stream",
     "text": [
      "Percent of patients that experienced stroke: 0.0487279843444227\n",
      "Percent of patients without a measured BMI that experienced stroke: 0.19900497512437812\n"
     ]
    }
   ],
   "source": [
    "stroke_dist = len(hot_data[hot_data['stroke']==1].index)/len(hot_data.index)\n",
    "null_bmi = hot_data[hot_data['bmi'].isnull()]\n",
    "null_stroke_dist = len(null_bmi[null_bmi['stroke']==1].index)/len(null_bmi.index)\n",
    "print('Percent of patients that experienced stroke:', stroke_dist)\n",
    "print('Percent of patients without a measured BMI that experienced stroke:', null_stroke_dist)"
   ]
  },
  {
   "cell_type": "markdown",
   "metadata": {
    "id": "RChWSwOH6GgC"
   },
   "source": [
    "We can see that there are NaN values for BMI, here we chose to use imputation to clean the data. We choose to use imputation over a deletion method because we believe this would introduce less bias. We see that the proportion of missing values is greater in the positive case (i.e., had a stroke) compared to the general distribution of data. This would make list wise deletion introduce bias and remove samples at a greater proportion for the positive case. One problem with using univariate imputation is that BMI is highly variable and the distribution of data could still introduce bias. Here we choose to use multivariate imputation to attempt to address this problem."
   ]
  },
  {
   "cell_type": "code",
   "execution_count": 7,
   "metadata": {
    "colab": {
     "base_uri": "https://localhost:8080/",
     "height": 461
    },
    "id": "UbRfuLS3-lj9",
    "outputId": "b02a29f4-5ea0-454c-c6bb-464cd68d9d71"
   },
   "outputs": [
    {
     "data": {
      "text/html": [
       "<div>\n",
       "<style scoped>\n",
       "    .dataframe tbody tr th:only-of-type {\n",
       "        vertical-align: middle;\n",
       "    }\n",
       "\n",
       "    .dataframe tbody tr th {\n",
       "        vertical-align: top;\n",
       "    }\n",
       "\n",
       "    .dataframe thead th {\n",
       "        text-align: right;\n",
       "    }\n",
       "</style>\n",
       "<table border=\"1\" class=\"dataframe\">\n",
       "  <thead>\n",
       "    <tr style=\"text-align: right;\">\n",
       "      <th></th>\n",
       "      <th>age</th>\n",
       "      <th>hypertension</th>\n",
       "      <th>heart_disease</th>\n",
       "      <th>avg_glucose_level</th>\n",
       "      <th>bmi</th>\n",
       "      <th>stroke</th>\n",
       "      <th>gender_Male</th>\n",
       "      <th>gender_Female</th>\n",
       "      <th>gender_Other</th>\n",
       "      <th>ever_married_Yes</th>\n",
       "      <th>...</th>\n",
       "      <th>work_type_Self-employed</th>\n",
       "      <th>work_type_Govt_job</th>\n",
       "      <th>work_type_children</th>\n",
       "      <th>work_type_Never_worked</th>\n",
       "      <th>Residence_type_Urban</th>\n",
       "      <th>Residence_type_Rural</th>\n",
       "      <th>smoking_status_formerly smoked</th>\n",
       "      <th>smoking_status_never smoked</th>\n",
       "      <th>smoking_status_smokes</th>\n",
       "      <th>smoking_status_Unknown</th>\n",
       "    </tr>\n",
       "  </thead>\n",
       "  <tbody>\n",
       "    <tr>\n",
       "      <th>0</th>\n",
       "      <td>67.0</td>\n",
       "      <td>0.0</td>\n",
       "      <td>1.0</td>\n",
       "      <td>228.69</td>\n",
       "      <td>36.600000</td>\n",
       "      <td>1.0</td>\n",
       "      <td>1.0</td>\n",
       "      <td>0.0</td>\n",
       "      <td>0.0</td>\n",
       "      <td>1.0</td>\n",
       "      <td>...</td>\n",
       "      <td>0.0</td>\n",
       "      <td>0.0</td>\n",
       "      <td>0.0</td>\n",
       "      <td>0.0</td>\n",
       "      <td>1.0</td>\n",
       "      <td>0.0</td>\n",
       "      <td>1.0</td>\n",
       "      <td>0.0</td>\n",
       "      <td>0.0</td>\n",
       "      <td>0.0</td>\n",
       "    </tr>\n",
       "    <tr>\n",
       "      <th>1</th>\n",
       "      <td>61.0</td>\n",
       "      <td>0.0</td>\n",
       "      <td>0.0</td>\n",
       "      <td>202.21</td>\n",
       "      <td>31.171222</td>\n",
       "      <td>1.0</td>\n",
       "      <td>0.0</td>\n",
       "      <td>1.0</td>\n",
       "      <td>0.0</td>\n",
       "      <td>1.0</td>\n",
       "      <td>...</td>\n",
       "      <td>1.0</td>\n",
       "      <td>0.0</td>\n",
       "      <td>0.0</td>\n",
       "      <td>0.0</td>\n",
       "      <td>0.0</td>\n",
       "      <td>1.0</td>\n",
       "      <td>0.0</td>\n",
       "      <td>1.0</td>\n",
       "      <td>0.0</td>\n",
       "      <td>0.0</td>\n",
       "    </tr>\n",
       "    <tr>\n",
       "      <th>2</th>\n",
       "      <td>80.0</td>\n",
       "      <td>0.0</td>\n",
       "      <td>1.0</td>\n",
       "      <td>105.92</td>\n",
       "      <td>32.500000</td>\n",
       "      <td>1.0</td>\n",
       "      <td>1.0</td>\n",
       "      <td>0.0</td>\n",
       "      <td>0.0</td>\n",
       "      <td>1.0</td>\n",
       "      <td>...</td>\n",
       "      <td>0.0</td>\n",
       "      <td>0.0</td>\n",
       "      <td>0.0</td>\n",
       "      <td>0.0</td>\n",
       "      <td>0.0</td>\n",
       "      <td>1.0</td>\n",
       "      <td>0.0</td>\n",
       "      <td>1.0</td>\n",
       "      <td>0.0</td>\n",
       "      <td>0.0</td>\n",
       "    </tr>\n",
       "    <tr>\n",
       "      <th>3</th>\n",
       "      <td>49.0</td>\n",
       "      <td>0.0</td>\n",
       "      <td>0.0</td>\n",
       "      <td>171.23</td>\n",
       "      <td>34.400000</td>\n",
       "      <td>1.0</td>\n",
       "      <td>0.0</td>\n",
       "      <td>1.0</td>\n",
       "      <td>0.0</td>\n",
       "      <td>1.0</td>\n",
       "      <td>...</td>\n",
       "      <td>0.0</td>\n",
       "      <td>0.0</td>\n",
       "      <td>0.0</td>\n",
       "      <td>0.0</td>\n",
       "      <td>1.0</td>\n",
       "      <td>0.0</td>\n",
       "      <td>0.0</td>\n",
       "      <td>0.0</td>\n",
       "      <td>1.0</td>\n",
       "      <td>0.0</td>\n",
       "    </tr>\n",
       "    <tr>\n",
       "      <th>4</th>\n",
       "      <td>79.0</td>\n",
       "      <td>1.0</td>\n",
       "      <td>0.0</td>\n",
       "      <td>174.12</td>\n",
       "      <td>24.000000</td>\n",
       "      <td>1.0</td>\n",
       "      <td>0.0</td>\n",
       "      <td>1.0</td>\n",
       "      <td>0.0</td>\n",
       "      <td>1.0</td>\n",
       "      <td>...</td>\n",
       "      <td>1.0</td>\n",
       "      <td>0.0</td>\n",
       "      <td>0.0</td>\n",
       "      <td>0.0</td>\n",
       "      <td>0.0</td>\n",
       "      <td>1.0</td>\n",
       "      <td>0.0</td>\n",
       "      <td>1.0</td>\n",
       "      <td>0.0</td>\n",
       "      <td>0.0</td>\n",
       "    </tr>\n",
       "    <tr>\n",
       "      <th>...</th>\n",
       "      <td>...</td>\n",
       "      <td>...</td>\n",
       "      <td>...</td>\n",
       "      <td>...</td>\n",
       "      <td>...</td>\n",
       "      <td>...</td>\n",
       "      <td>...</td>\n",
       "      <td>...</td>\n",
       "      <td>...</td>\n",
       "      <td>...</td>\n",
       "      <td>...</td>\n",
       "      <td>...</td>\n",
       "      <td>...</td>\n",
       "      <td>...</td>\n",
       "      <td>...</td>\n",
       "      <td>...</td>\n",
       "      <td>...</td>\n",
       "      <td>...</td>\n",
       "      <td>...</td>\n",
       "      <td>...</td>\n",
       "      <td>...</td>\n",
       "    </tr>\n",
       "    <tr>\n",
       "      <th>5105</th>\n",
       "      <td>80.0</td>\n",
       "      <td>1.0</td>\n",
       "      <td>0.0</td>\n",
       "      <td>83.75</td>\n",
       "      <td>32.263355</td>\n",
       "      <td>0.0</td>\n",
       "      <td>0.0</td>\n",
       "      <td>1.0</td>\n",
       "      <td>0.0</td>\n",
       "      <td>1.0</td>\n",
       "      <td>...</td>\n",
       "      <td>0.0</td>\n",
       "      <td>0.0</td>\n",
       "      <td>0.0</td>\n",
       "      <td>0.0</td>\n",
       "      <td>1.0</td>\n",
       "      <td>0.0</td>\n",
       "      <td>0.0</td>\n",
       "      <td>1.0</td>\n",
       "      <td>0.0</td>\n",
       "      <td>0.0</td>\n",
       "    </tr>\n",
       "    <tr>\n",
       "      <th>5106</th>\n",
       "      <td>81.0</td>\n",
       "      <td>0.0</td>\n",
       "      <td>0.0</td>\n",
       "      <td>125.20</td>\n",
       "      <td>40.000000</td>\n",
       "      <td>0.0</td>\n",
       "      <td>0.0</td>\n",
       "      <td>1.0</td>\n",
       "      <td>0.0</td>\n",
       "      <td>1.0</td>\n",
       "      <td>...</td>\n",
       "      <td>1.0</td>\n",
       "      <td>0.0</td>\n",
       "      <td>0.0</td>\n",
       "      <td>0.0</td>\n",
       "      <td>1.0</td>\n",
       "      <td>0.0</td>\n",
       "      <td>0.0</td>\n",
       "      <td>1.0</td>\n",
       "      <td>0.0</td>\n",
       "      <td>0.0</td>\n",
       "    </tr>\n",
       "    <tr>\n",
       "      <th>5107</th>\n",
       "      <td>35.0</td>\n",
       "      <td>0.0</td>\n",
       "      <td>0.0</td>\n",
       "      <td>82.99</td>\n",
       "      <td>30.600000</td>\n",
       "      <td>0.0</td>\n",
       "      <td>0.0</td>\n",
       "      <td>1.0</td>\n",
       "      <td>0.0</td>\n",
       "      <td>1.0</td>\n",
       "      <td>...</td>\n",
       "      <td>1.0</td>\n",
       "      <td>0.0</td>\n",
       "      <td>0.0</td>\n",
       "      <td>0.0</td>\n",
       "      <td>0.0</td>\n",
       "      <td>1.0</td>\n",
       "      <td>0.0</td>\n",
       "      <td>1.0</td>\n",
       "      <td>0.0</td>\n",
       "      <td>0.0</td>\n",
       "    </tr>\n",
       "    <tr>\n",
       "      <th>5108</th>\n",
       "      <td>51.0</td>\n",
       "      <td>0.0</td>\n",
       "      <td>0.0</td>\n",
       "      <td>166.29</td>\n",
       "      <td>25.600000</td>\n",
       "      <td>0.0</td>\n",
       "      <td>1.0</td>\n",
       "      <td>0.0</td>\n",
       "      <td>0.0</td>\n",
       "      <td>1.0</td>\n",
       "      <td>...</td>\n",
       "      <td>0.0</td>\n",
       "      <td>0.0</td>\n",
       "      <td>0.0</td>\n",
       "      <td>0.0</td>\n",
       "      <td>0.0</td>\n",
       "      <td>1.0</td>\n",
       "      <td>1.0</td>\n",
       "      <td>0.0</td>\n",
       "      <td>0.0</td>\n",
       "      <td>0.0</td>\n",
       "    </tr>\n",
       "    <tr>\n",
       "      <th>5109</th>\n",
       "      <td>44.0</td>\n",
       "      <td>0.0</td>\n",
       "      <td>0.0</td>\n",
       "      <td>85.28</td>\n",
       "      <td>26.200000</td>\n",
       "      <td>0.0</td>\n",
       "      <td>0.0</td>\n",
       "      <td>1.0</td>\n",
       "      <td>0.0</td>\n",
       "      <td>1.0</td>\n",
       "      <td>...</td>\n",
       "      <td>0.0</td>\n",
       "      <td>1.0</td>\n",
       "      <td>0.0</td>\n",
       "      <td>0.0</td>\n",
       "      <td>1.0</td>\n",
       "      <td>0.0</td>\n",
       "      <td>0.0</td>\n",
       "      <td>0.0</td>\n",
       "      <td>0.0</td>\n",
       "      <td>1.0</td>\n",
       "    </tr>\n",
       "  </tbody>\n",
       "</table>\n",
       "<p>5110 rows × 22 columns</p>\n",
       "</div>"
      ],
      "text/plain": [
       "       age  hypertension  heart_disease  avg_glucose_level        bmi  stroke  \\\n",
       "0     67.0           0.0            1.0             228.69  36.600000     1.0   \n",
       "1     61.0           0.0            0.0             202.21  31.171222     1.0   \n",
       "2     80.0           0.0            1.0             105.92  32.500000     1.0   \n",
       "3     49.0           0.0            0.0             171.23  34.400000     1.0   \n",
       "4     79.0           1.0            0.0             174.12  24.000000     1.0   \n",
       "...    ...           ...            ...                ...        ...     ...   \n",
       "5105  80.0           1.0            0.0              83.75  32.263355     0.0   \n",
       "5106  81.0           0.0            0.0             125.20  40.000000     0.0   \n",
       "5107  35.0           0.0            0.0              82.99  30.600000     0.0   \n",
       "5108  51.0           0.0            0.0             166.29  25.600000     0.0   \n",
       "5109  44.0           0.0            0.0              85.28  26.200000     0.0   \n",
       "\n",
       "      gender_Male  gender_Female  gender_Other  ever_married_Yes  ...  \\\n",
       "0             1.0            0.0           0.0               1.0  ...   \n",
       "1             0.0            1.0           0.0               1.0  ...   \n",
       "2             1.0            0.0           0.0               1.0  ...   \n",
       "3             0.0            1.0           0.0               1.0  ...   \n",
       "4             0.0            1.0           0.0               1.0  ...   \n",
       "...           ...            ...           ...               ...  ...   \n",
       "5105          0.0            1.0           0.0               1.0  ...   \n",
       "5106          0.0            1.0           0.0               1.0  ...   \n",
       "5107          0.0            1.0           0.0               1.0  ...   \n",
       "5108          1.0            0.0           0.0               1.0  ...   \n",
       "5109          0.0            1.0           0.0               1.0  ...   \n",
       "\n",
       "      work_type_Self-employed  work_type_Govt_job  work_type_children  \\\n",
       "0                         0.0                 0.0                 0.0   \n",
       "1                         1.0                 0.0                 0.0   \n",
       "2                         0.0                 0.0                 0.0   \n",
       "3                         0.0                 0.0                 0.0   \n",
       "4                         1.0                 0.0                 0.0   \n",
       "...                       ...                 ...                 ...   \n",
       "5105                      0.0                 0.0                 0.0   \n",
       "5106                      1.0                 0.0                 0.0   \n",
       "5107                      1.0                 0.0                 0.0   \n",
       "5108                      0.0                 0.0                 0.0   \n",
       "5109                      0.0                 1.0                 0.0   \n",
       "\n",
       "      work_type_Never_worked  Residence_type_Urban  Residence_type_Rural  \\\n",
       "0                        0.0                   1.0                   0.0   \n",
       "1                        0.0                   0.0                   1.0   \n",
       "2                        0.0                   0.0                   1.0   \n",
       "3                        0.0                   1.0                   0.0   \n",
       "4                        0.0                   0.0                   1.0   \n",
       "...                      ...                   ...                   ...   \n",
       "5105                     0.0                   1.0                   0.0   \n",
       "5106                     0.0                   1.0                   0.0   \n",
       "5107                     0.0                   0.0                   1.0   \n",
       "5108                     0.0                   0.0                   1.0   \n",
       "5109                     0.0                   1.0                   0.0   \n",
       "\n",
       "      smoking_status_formerly smoked  smoking_status_never smoked  \\\n",
       "0                                1.0                          0.0   \n",
       "1                                0.0                          1.0   \n",
       "2                                0.0                          1.0   \n",
       "3                                0.0                          0.0   \n",
       "4                                0.0                          1.0   \n",
       "...                              ...                          ...   \n",
       "5105                             0.0                          1.0   \n",
       "5106                             0.0                          1.0   \n",
       "5107                             0.0                          1.0   \n",
       "5108                             1.0                          0.0   \n",
       "5109                             0.0                          0.0   \n",
       "\n",
       "      smoking_status_smokes  smoking_status_Unknown  \n",
       "0                       0.0                     0.0  \n",
       "1                       0.0                     0.0  \n",
       "2                       0.0                     0.0  \n",
       "3                       1.0                     0.0  \n",
       "4                       0.0                     0.0  \n",
       "...                     ...                     ...  \n",
       "5105                    0.0                     0.0  \n",
       "5106                    0.0                     0.0  \n",
       "5107                    0.0                     0.0  \n",
       "5108                    0.0                     0.0  \n",
       "5109                    0.0                     1.0  \n",
       "\n",
       "[5110 rows x 22 columns]"
      ]
     },
     "execution_count": 7,
     "metadata": {},
     "output_type": "execute_result"
    }
   ],
   "source": [
    "from sklearn.experimental import enable_iterative_imputer\n",
    "from sklearn.impute import IterativeImputer\n",
    "\n",
    "imp = IterativeImputer(max_iter=10, random_state=0)\n",
    "hot_data = pd.DataFrame(imp.fit_transform(hot_data), columns=list(hot_data.columns))\n",
    "hot_data"
   ]
  },
  {
   "cell_type": "markdown",
   "metadata": {
    "id": "cyOQ3bNN9E3D"
   },
   "source": [
    "Now that we have filled in our missing values, we will now standardize all of the numerical data."
   ]
  },
  {
   "cell_type": "code",
   "execution_count": 8,
   "metadata": {
    "colab": {
     "base_uri": "https://localhost:8080/",
     "height": 243
    },
    "id": "k5PCDn8L_4jJ",
    "outputId": "506861db-1883-4c2a-bae7-d53e98c0f1ff"
   },
   "outputs": [
    {
     "data": {
      "text/html": [
       "<div>\n",
       "<style scoped>\n",
       "    .dataframe tbody tr th:only-of-type {\n",
       "        vertical-align: middle;\n",
       "    }\n",
       "\n",
       "    .dataframe tbody tr th {\n",
       "        vertical-align: top;\n",
       "    }\n",
       "\n",
       "    .dataframe thead th {\n",
       "        text-align: right;\n",
       "    }\n",
       "</style>\n",
       "<table border=\"1\" class=\"dataframe\">\n",
       "  <thead>\n",
       "    <tr style=\"text-align: right;\">\n",
       "      <th></th>\n",
       "      <th>age</th>\n",
       "      <th>hypertension</th>\n",
       "      <th>heart_disease</th>\n",
       "      <th>avg_glucose_level</th>\n",
       "      <th>bmi</th>\n",
       "      <th>stroke</th>\n",
       "      <th>gender_Male</th>\n",
       "      <th>gender_Female</th>\n",
       "      <th>gender_Other</th>\n",
       "      <th>ever_married_Yes</th>\n",
       "      <th>...</th>\n",
       "      <th>work_type_Self-employed</th>\n",
       "      <th>work_type_Govt_job</th>\n",
       "      <th>work_type_children</th>\n",
       "      <th>work_type_Never_worked</th>\n",
       "      <th>Residence_type_Urban</th>\n",
       "      <th>Residence_type_Rural</th>\n",
       "      <th>smoking_status_formerly smoked</th>\n",
       "      <th>smoking_status_never smoked</th>\n",
       "      <th>smoking_status_smokes</th>\n",
       "      <th>smoking_status_Unknown</th>\n",
       "    </tr>\n",
       "  </thead>\n",
       "  <tbody>\n",
       "    <tr>\n",
       "      <th>0</th>\n",
       "      <td>1.051331</td>\n",
       "      <td>0.0</td>\n",
       "      <td>1.0</td>\n",
       "      <td>2.706111</td>\n",
       "      <td>0.990957</td>\n",
       "      <td>1.0</td>\n",
       "      <td>1.0</td>\n",
       "      <td>0.0</td>\n",
       "      <td>0.0</td>\n",
       "      <td>1.0</td>\n",
       "      <td>...</td>\n",
       "      <td>0.0</td>\n",
       "      <td>0.0</td>\n",
       "      <td>0.0</td>\n",
       "      <td>0.0</td>\n",
       "      <td>1.0</td>\n",
       "      <td>0.0</td>\n",
       "      <td>1.0</td>\n",
       "      <td>0.0</td>\n",
       "      <td>0.0</td>\n",
       "      <td>0.0</td>\n",
       "    </tr>\n",
       "    <tr>\n",
       "      <th>1</th>\n",
       "      <td>0.785993</td>\n",
       "      <td>0.0</td>\n",
       "      <td>0.0</td>\n",
       "      <td>2.121351</td>\n",
       "      <td>0.288746</td>\n",
       "      <td>1.0</td>\n",
       "      <td>0.0</td>\n",
       "      <td>1.0</td>\n",
       "      <td>0.0</td>\n",
       "      <td>1.0</td>\n",
       "      <td>...</td>\n",
       "      <td>1.0</td>\n",
       "      <td>0.0</td>\n",
       "      <td>0.0</td>\n",
       "      <td>0.0</td>\n",
       "      <td>0.0</td>\n",
       "      <td>1.0</td>\n",
       "      <td>0.0</td>\n",
       "      <td>1.0</td>\n",
       "      <td>0.0</td>\n",
       "      <td>0.0</td>\n",
       "    </tr>\n",
       "    <tr>\n",
       "      <th>2</th>\n",
       "      <td>1.626231</td>\n",
       "      <td>0.0</td>\n",
       "      <td>1.0</td>\n",
       "      <td>-0.005028</td>\n",
       "      <td>0.460623</td>\n",
       "      <td>1.0</td>\n",
       "      <td>1.0</td>\n",
       "      <td>0.0</td>\n",
       "      <td>0.0</td>\n",
       "      <td>1.0</td>\n",
       "      <td>...</td>\n",
       "      <td>0.0</td>\n",
       "      <td>0.0</td>\n",
       "      <td>0.0</td>\n",
       "      <td>0.0</td>\n",
       "      <td>0.0</td>\n",
       "      <td>1.0</td>\n",
       "      <td>0.0</td>\n",
       "      <td>1.0</td>\n",
       "      <td>0.0</td>\n",
       "      <td>0.0</td>\n",
       "    </tr>\n",
       "    <tr>\n",
       "      <th>3</th>\n",
       "      <td>0.255317</td>\n",
       "      <td>0.0</td>\n",
       "      <td>0.0</td>\n",
       "      <td>1.437217</td>\n",
       "      <td>0.706388</td>\n",
       "      <td>1.0</td>\n",
       "      <td>0.0</td>\n",
       "      <td>1.0</td>\n",
       "      <td>0.0</td>\n",
       "      <td>1.0</td>\n",
       "      <td>...</td>\n",
       "      <td>0.0</td>\n",
       "      <td>0.0</td>\n",
       "      <td>0.0</td>\n",
       "      <td>0.0</td>\n",
       "      <td>1.0</td>\n",
       "      <td>0.0</td>\n",
       "      <td>0.0</td>\n",
       "      <td>0.0</td>\n",
       "      <td>1.0</td>\n",
       "      <td>0.0</td>\n",
       "    </tr>\n",
       "    <tr>\n",
       "      <th>4</th>\n",
       "      <td>1.582008</td>\n",
       "      <td>1.0</td>\n",
       "      <td>0.0</td>\n",
       "      <td>1.501038</td>\n",
       "      <td>-0.638849</td>\n",
       "      <td>1.0</td>\n",
       "      <td>0.0</td>\n",
       "      <td>1.0</td>\n",
       "      <td>0.0</td>\n",
       "      <td>1.0</td>\n",
       "      <td>...</td>\n",
       "      <td>1.0</td>\n",
       "      <td>0.0</td>\n",
       "      <td>0.0</td>\n",
       "      <td>0.0</td>\n",
       "      <td>0.0</td>\n",
       "      <td>1.0</td>\n",
       "      <td>0.0</td>\n",
       "      <td>1.0</td>\n",
       "      <td>0.0</td>\n",
       "      <td>0.0</td>\n",
       "    </tr>\n",
       "  </tbody>\n",
       "</table>\n",
       "<p>5 rows × 22 columns</p>\n",
       "</div>"
      ],
      "text/plain": [
       "        age  hypertension  heart_disease  avg_glucose_level       bmi  stroke  \\\n",
       "0  1.051331           0.0            1.0           2.706111  0.990957     1.0   \n",
       "1  0.785993           0.0            0.0           2.121351  0.288746     1.0   \n",
       "2  1.626231           0.0            1.0          -0.005028  0.460623     1.0   \n",
       "3  0.255317           0.0            0.0           1.437217  0.706388     1.0   \n",
       "4  1.582008           1.0            0.0           1.501038 -0.638849     1.0   \n",
       "\n",
       "   gender_Male  gender_Female  gender_Other  ever_married_Yes  ...  \\\n",
       "0          1.0            0.0           0.0               1.0  ...   \n",
       "1          0.0            1.0           0.0               1.0  ...   \n",
       "2          1.0            0.0           0.0               1.0  ...   \n",
       "3          0.0            1.0           0.0               1.0  ...   \n",
       "4          0.0            1.0           0.0               1.0  ...   \n",
       "\n",
       "   work_type_Self-employed  work_type_Govt_job  work_type_children  \\\n",
       "0                      0.0                 0.0                 0.0   \n",
       "1                      1.0                 0.0                 0.0   \n",
       "2                      0.0                 0.0                 0.0   \n",
       "3                      0.0                 0.0                 0.0   \n",
       "4                      1.0                 0.0                 0.0   \n",
       "\n",
       "   work_type_Never_worked  Residence_type_Urban  Residence_type_Rural  \\\n",
       "0                     0.0                   1.0                   0.0   \n",
       "1                     0.0                   0.0                   1.0   \n",
       "2                     0.0                   0.0                   1.0   \n",
       "3                     0.0                   1.0                   0.0   \n",
       "4                     0.0                   0.0                   1.0   \n",
       "\n",
       "   smoking_status_formerly smoked  smoking_status_never smoked  \\\n",
       "0                             1.0                          0.0   \n",
       "1                             0.0                          1.0   \n",
       "2                             0.0                          1.0   \n",
       "3                             0.0                          0.0   \n",
       "4                             0.0                          1.0   \n",
       "\n",
       "   smoking_status_smokes  smoking_status_Unknown  \n",
       "0                    0.0                     0.0  \n",
       "1                    0.0                     0.0  \n",
       "2                    0.0                     0.0  \n",
       "3                    1.0                     0.0  \n",
       "4                    0.0                     0.0  \n",
       "\n",
       "[5 rows x 22 columns]"
      ]
     },
     "execution_count": 8,
     "metadata": {},
     "output_type": "execute_result"
    }
   ],
   "source": [
    "# Standardize the age, avg_glucose_level, and bmi columns\n",
    "numerical_cols = [\"age\", \"avg_glucose_level\", \"bmi\"]\n",
    "for c in numerical_cols:\n",
    "    hot_data[c] = (hot_data[c] - hot_data[c].mean()) / hot_data[c].std()\n",
    "    \n",
    "hot_data.head()"
   ]
  },
  {
   "cell_type": "markdown",
   "metadata": {
    "id": "D-FvKrz1BVNS"
   },
   "source": [
    "For all of our numerical data, we created boxplots to see the mean and quartile ranges for each feature. We also looked for any outliers to remove."
   ]
  },
  {
   "cell_type": "code",
   "execution_count": 9,
   "metadata": {
    "colab": {
     "base_uri": "https://localhost:8080/",
     "height": 282
    },
    "id": "ilxy1b1zAnaU",
    "outputId": "8baa7642-745a-41b9-bee8-dfc57542d0cc"
   },
   "outputs": [
    {
     "data": {
      "text/plain": [
       "<AxesSubplot:>"
      ]
     },
     "execution_count": 9,
     "metadata": {},
     "output_type": "execute_result"
    },
    {
     "data": {
      "image/png": "[encoded data removed]",
      "text/plain": [
       "<Figure size 432x288 with 1 Axes>"
      ]
     },
     "metadata": {
      "needs_background": "light"
     },
     "output_type": "display_data"
    }
   ],
   "source": [
    "# Boxplot for age\n",
    "hot_data.boxplot(column=['age'])"
   ]
  },
  {
   "cell_type": "code",
   "execution_count": 10,
   "metadata": {
    "colab": {
     "base_uri": "https://localhost:8080/",
     "height": 283
    },
    "id": "0AOfJ_lDBvfi",
    "outputId": "bfe0525b-c9ae-4270-939c-533632493306"
   },
   "outputs": [
    {
     "data": {
      "text/plain": [
       "<AxesSubplot:>"
      ]
     },
     "execution_count": 10,
     "metadata": {},
     "output_type": "execute_result"
    },
    {
     "data": {
      "image/png": "[encoded data removed]",
      "text/plain": [
       "<Figure size 432x288 with 1 Axes>"
      ]
     },
     "metadata": {
      "needs_background": "light"
     },
     "output_type": "display_data"
    }
   ],
   "source": [
    "# Boxplot for glucode level\n",
    "hot_data.boxplot(column=['avg_glucose_level'])"
   ]
  },
  {
   "cell_type": "code",
   "execution_count": 11,
   "metadata": {
    "colab": {
     "base_uri": "https://localhost:8080/",
     "height": 282
    },
    "id": "8o07dtAfBvo6",
    "outputId": "d06a7c2b-5e48-42cb-ad61-f072f1a50101"
   },
   "outputs": [
    {
     "data": {
      "text/plain": [
       "<AxesSubplot:>"
      ]
     },
     "execution_count": 11,
     "metadata": {},
     "output_type": "execute_result"
    },
    {
     "data": {
      "image/png": "[encoded data removed]",
      "text/plain": [
       "<Figure size 432x288 with 1 Axes>"
      ]
     },
     "metadata": {
      "needs_background": "light"
     },
     "output_type": "display_data"
    }
   ],
   "source": [
    "# Boxplot for BMI\n",
    "hot_data.boxplot(column=['bmi'])"
   ]
  },
  {
   "cell_type": "markdown",
   "metadata": {
    "id": "QWQ1qh63BZic"
   },
   "source": [
    "Create bar charts for all categorical data"
   ]
  },
  {
   "cell_type": "code",
   "execution_count": 12,
   "metadata": {
    "colab": {
     "base_uri": "https://localhost:8080/",
     "height": 308
    },
    "id": "Hz-DQxgXDI0E",
    "outputId": "e40f46c8-de94-46e3-f324-51f8aa81e0f2"
   },
   "outputs": [
    {
     "data": {
      "text/plain": [
       "<AxesSubplot:>"
      ]
     },
     "execution_count": 12,
     "metadata": {},
     "output_type": "execute_result"
    },
    {
     "data": {
      "image/png": "[encoded data removed]",
      "text/plain": [
       "<Figure size 432x288 with 1 Axes>"
      ]
     },
     "metadata": {
      "needs_background": "light"
     },
     "output_type": "display_data"
    }
   ],
   "source": [
    "# Bar chart for gender counts\n",
    "data[\"gender\"].value_counts().plot(kind='bar')"
   ]
  },
  {
   "cell_type": "code",
   "execution_count": 13,
   "metadata": {
    "colab": {
     "base_uri": "https://localhost:8080/",
     "height": 279
    },
    "id": "-X8HPziZD4Gc",
    "outputId": "4d4977ad-bee1-4fca-d01c-4661f0ddd4e5"
   },
   "outputs": [
    {
     "data": {
      "text/plain": [
       "<AxesSubplot:>"
      ]
     },
     "execution_count": 13,
     "metadata": {},
     "output_type": "execute_result"
    },
    {
     "data": {
      "image/png": "[encoded data removed]",
      "text/plain": [
       "<Figure size 432x288 with 1 Axes>"
      ]
     },
     "metadata": {
      "needs_background": "light"
     },
     "output_type": "display_data"
    }
   ],
   "source": [
    "# Bar chart for hypertension counts\n",
    "data[\"hypertension\"].value_counts().plot(kind='bar')"
   ]
  },
  {
   "cell_type": "code",
   "execution_count": 14,
   "metadata": {
    "colab": {
     "base_uri": "https://localhost:8080/",
     "height": 279
    },
    "id": "pHhFUsUAEAAg",
    "outputId": "a402a9c7-582d-4465-8714-4d241b8d774e"
   },
   "outputs": [
    {
     "data": {
      "text/plain": [
       "<AxesSubplot:>"
      ]
     },
     "execution_count": 14,
     "metadata": {},
     "output_type": "execute_result"
    },
    {
     "data": {
      "image/png": "[encoded data removed]",
      "text/plain": [
       "<Figure size 432x288 with 1 Axes>"
      ]
     },
     "metadata": {
      "needs_background": "light"
     },
     "output_type": "display_data"
    }
   ],
   "source": [
    "# Bar chart for heart_disease counts\n",
    "data[\"heart_disease\"].value_counts().plot(kind='bar')"
   ]
  },
  {
   "cell_type": "code",
   "execution_count": 15,
   "metadata": {
    "colab": {
     "base_uri": "https://localhost:8080/",
     "height": 291
    },
    "id": "-8AF4qSIEGCt",
    "outputId": "6e218e12-b102-4ed3-8f26-10f9a94d371a"
   },
   "outputs": [
    {
     "data": {
      "text/plain": [
       "<AxesSubplot:>"
      ]
     },
     "execution_count": 15,
     "metadata": {},
     "output_type": "execute_result"
    },
    {
     "data": {
      "image/png": "[encoded data removed]",
      "text/plain": [
       "<Figure size 432x288 with 1 Axes>"
      ]
     },
     "metadata": {
      "needs_background": "light"
     },
     "output_type": "display_data"
    }
   ],
   "source": [
    "# Bar chart for ever_married counts\n",
    "data[\"ever_married\"].value_counts().plot(kind='bar')"
   ]
  },
  {
   "cell_type": "code",
   "execution_count": 16,
   "metadata": {
    "colab": {
     "base_uri": "https://localhost:8080/",
     "height": 344
    },
    "id": "SKKadf_0EK2U",
    "outputId": "73f5fbce-5e04-4a17-ff04-5d71404b4944"
   },
   "outputs": [
    {
     "data": {
      "text/plain": [
       "<AxesSubplot:>"
      ]
     },
     "execution_count": 16,
     "metadata": {},
     "output_type": "execute_result"
    },
    {
     "data": {
      "image/png": "[encoded data removed]",
      "text/plain": [
       "<Figure size 432x288 with 1 Axes>"
      ]
     },
     "metadata": {
      "needs_background": "light"
     },
     "output_type": "display_data"
    }
   ],
   "source": [
    "# Bar chart for work_type counts\n",
    "data[\"work_type\"].value_counts().plot(kind='bar')"
   ]
  },
  {
   "cell_type": "code",
   "execution_count": 17,
   "metadata": {
    "colab": {
     "base_uri": "https://localhost:8080/",
     "height": 303
    },
    "id": "4iumIQiGESeM",
    "outputId": "39007d8a-84ca-4644-de35-7fd1a3141160"
   },
   "outputs": [
    {
     "data": {
      "text/plain": [
       "<AxesSubplot:>"
      ]
     },
     "execution_count": 17,
     "metadata": {},
     "output_type": "execute_result"
    },
    {
     "data": {
      "image/png": "[encoded data removed]",
      "text/plain": [
       "<Figure size 432x288 with 1 Axes>"
      ]
     },
     "metadata": {
      "needs_background": "light"
     },
     "output_type": "display_data"
    }
   ],
   "source": [
    "# Bar chart for Residence_type counts\n",
    "data[\"Residence_type\"].value_counts().plot(kind='bar')"
   ]
  },
  {
   "cell_type": "code",
   "execution_count": 18,
   "metadata": {
    "colab": {
     "base_uri": "https://localhost:8080/",
     "height": 356
    },
    "id": "VC5Hnhy7EVTn",
    "outputId": "9b231c74-c3d5-4ea2-8219-c58a59f9eedb"
   },
   "outputs": [
    {
     "data": {
      "text/plain": [
       "<AxesSubplot:>"
      ]
     },
     "execution_count": 18,
     "metadata": {},
     "output_type": "execute_result"
    },
    {
     "data": {
      "image/png": "[encoded data removed]",
      "text/plain": [
       "<Figure size 432x288 with 1 Axes>"
      ]
     },
     "metadata": {
      "needs_background": "light"
     },
     "output_type": "display_data"
    }
   ],
   "source": [
    "# Bar chart for smoking_status counts\n",
    "data[\"smoking_status\"].value_counts().plot(kind='bar')"
   ]
  },
  {
   "cell_type": "code",
   "execution_count": 19,
   "metadata": {
    "colab": {
     "base_uri": "https://localhost:8080/",
     "height": 279
    },
    "id": "5b8FRsO0GOtQ",
    "outputId": "a8492334-62cc-46f2-8c75-94c28679162a"
   },
   "outputs": [
    {
     "data": {
      "text/plain": [
       "<AxesSubplot:>"
      ]
     },
     "execution_count": 19,
     "metadata": {},
     "output_type": "execute_result"
    },
    {
     "data": {
      "image/png": "[encoded data removed]",
      "text/plain": [
       "<Figure size 432x288 with 1 Axes>"
      ]
     },
     "metadata": {
      "needs_background": "light"
     },
     "output_type": "display_data"
    }
   ],
   "source": [
    "# Bar chart for stroke counts\n",
    "data[\"stroke\"].value_counts().plot(kind='bar')"
   ]
  },
  {
   "cell_type": "markdown",
   "metadata": {
    "id": "kQem21jQ7Ns2"
   },
   "source": [
    "Since we only detected outliers in the Average Glucose Levels and BMI, we promptly remove those data points from our data."
   ]
  },
  {
   "cell_type": "code",
   "execution_count": 20,
   "metadata": {
    "colab": {
     "base_uri": "https://localhost:8080/",
     "height": 261
    },
    "id": "Ns-j7EkfEa9A",
    "outputId": "49d159e6-c47b-49d4-fc32-646a79a0f2b4"
   },
   "outputs": [
    {
     "name": "stdout",
     "output_type": "stream",
     "text": [
      "New hot_dataset shape: (5002, 22)\n"
     ]
    },
    {
     "data": {
      "text/html": [
       "<div>\n",
       "<style scoped>\n",
       "    .dataframe tbody tr th:only-of-type {\n",
       "        vertical-align: middle;\n",
       "    }\n",
       "\n",
       "    .dataframe tbody tr th {\n",
       "        vertical-align: top;\n",
       "    }\n",
       "\n",
       "    .dataframe thead th {\n",
       "        text-align: right;\n",
       "    }\n",
       "</style>\n",
       "<table border=\"1\" class=\"dataframe\">\n",
       "  <thead>\n",
       "    <tr style=\"text-align: right;\">\n",
       "      <th></th>\n",
       "      <th>age</th>\n",
       "      <th>hypertension</th>\n",
       "      <th>heart_disease</th>\n",
       "      <th>avg_glucose_level</th>\n",
       "      <th>bmi</th>\n",
       "      <th>stroke</th>\n",
       "      <th>gender_Male</th>\n",
       "      <th>gender_Female</th>\n",
       "      <th>gender_Other</th>\n",
       "      <th>ever_married_Yes</th>\n",
       "      <th>...</th>\n",
       "      <th>work_type_Self-employed</th>\n",
       "      <th>work_type_Govt_job</th>\n",
       "      <th>work_type_children</th>\n",
       "      <th>work_type_Never_worked</th>\n",
       "      <th>Residence_type_Urban</th>\n",
       "      <th>Residence_type_Rural</th>\n",
       "      <th>smoking_status_formerly smoked</th>\n",
       "      <th>smoking_status_never smoked</th>\n",
       "      <th>smoking_status_smokes</th>\n",
       "      <th>smoking_status_Unknown</th>\n",
       "    </tr>\n",
       "  </thead>\n",
       "  <tbody>\n",
       "    <tr>\n",
       "      <th>0</th>\n",
       "      <td>1.051331</td>\n",
       "      <td>0.0</td>\n",
       "      <td>1.0</td>\n",
       "      <td>2.706111</td>\n",
       "      <td>0.990957</td>\n",
       "      <td>1.0</td>\n",
       "      <td>1.0</td>\n",
       "      <td>0.0</td>\n",
       "      <td>0.0</td>\n",
       "      <td>1.0</td>\n",
       "      <td>...</td>\n",
       "      <td>0.0</td>\n",
       "      <td>0.0</td>\n",
       "      <td>0.0</td>\n",
       "      <td>0.0</td>\n",
       "      <td>1.0</td>\n",
       "      <td>0.0</td>\n",
       "      <td>1.0</td>\n",
       "      <td>0.0</td>\n",
       "      <td>0.0</td>\n",
       "      <td>0.0</td>\n",
       "    </tr>\n",
       "    <tr>\n",
       "      <th>1</th>\n",
       "      <td>0.785993</td>\n",
       "      <td>0.0</td>\n",
       "      <td>0.0</td>\n",
       "      <td>2.121351</td>\n",
       "      <td>0.288746</td>\n",
       "      <td>1.0</td>\n",
       "      <td>0.0</td>\n",
       "      <td>1.0</td>\n",
       "      <td>0.0</td>\n",
       "      <td>1.0</td>\n",
       "      <td>...</td>\n",
       "      <td>1.0</td>\n",
       "      <td>0.0</td>\n",
       "      <td>0.0</td>\n",
       "      <td>0.0</td>\n",
       "      <td>0.0</td>\n",
       "      <td>1.0</td>\n",
       "      <td>0.0</td>\n",
       "      <td>1.0</td>\n",
       "      <td>0.0</td>\n",
       "      <td>0.0</td>\n",
       "    </tr>\n",
       "    <tr>\n",
       "      <th>2</th>\n",
       "      <td>1.626231</td>\n",
       "      <td>0.0</td>\n",
       "      <td>1.0</td>\n",
       "      <td>-0.005028</td>\n",
       "      <td>0.460623</td>\n",
       "      <td>1.0</td>\n",
       "      <td>1.0</td>\n",
       "      <td>0.0</td>\n",
       "      <td>0.0</td>\n",
       "      <td>1.0</td>\n",
       "      <td>...</td>\n",
       "      <td>0.0</td>\n",
       "      <td>0.0</td>\n",
       "      <td>0.0</td>\n",
       "      <td>0.0</td>\n",
       "      <td>0.0</td>\n",
       "      <td>1.0</td>\n",
       "      <td>0.0</td>\n",
       "      <td>1.0</td>\n",
       "      <td>0.0</td>\n",
       "      <td>0.0</td>\n",
       "    </tr>\n",
       "    <tr>\n",
       "      <th>3</th>\n",
       "      <td>0.255317</td>\n",
       "      <td>0.0</td>\n",
       "      <td>0.0</td>\n",
       "      <td>1.437217</td>\n",
       "      <td>0.706388</td>\n",
       "      <td>1.0</td>\n",
       "      <td>0.0</td>\n",
       "      <td>1.0</td>\n",
       "      <td>0.0</td>\n",
       "      <td>1.0</td>\n",
       "      <td>...</td>\n",
       "      <td>0.0</td>\n",
       "      <td>0.0</td>\n",
       "      <td>0.0</td>\n",
       "      <td>0.0</td>\n",
       "      <td>1.0</td>\n",
       "      <td>0.0</td>\n",
       "      <td>0.0</td>\n",
       "      <td>0.0</td>\n",
       "      <td>1.0</td>\n",
       "      <td>0.0</td>\n",
       "    </tr>\n",
       "    <tr>\n",
       "      <th>4</th>\n",
       "      <td>1.582008</td>\n",
       "      <td>1.0</td>\n",
       "      <td>0.0</td>\n",
       "      <td>1.501038</td>\n",
       "      <td>-0.638849</td>\n",
       "      <td>1.0</td>\n",
       "      <td>0.0</td>\n",
       "      <td>1.0</td>\n",
       "      <td>0.0</td>\n",
       "      <td>1.0</td>\n",
       "      <td>...</td>\n",
       "      <td>1.0</td>\n",
       "      <td>0.0</td>\n",
       "      <td>0.0</td>\n",
       "      <td>0.0</td>\n",
       "      <td>0.0</td>\n",
       "      <td>1.0</td>\n",
       "      <td>0.0</td>\n",
       "      <td>1.0</td>\n",
       "      <td>0.0</td>\n",
       "      <td>0.0</td>\n",
       "    </tr>\n",
       "  </tbody>\n",
       "</table>\n",
       "<p>5 rows × 22 columns</p>\n",
       "</div>"
      ],
      "text/plain": [
       "        age  hypertension  heart_disease  avg_glucose_level       bmi  stroke  \\\n",
       "0  1.051331           0.0            1.0           2.706111  0.990957     1.0   \n",
       "1  0.785993           0.0            0.0           2.121351  0.288746     1.0   \n",
       "2  1.626231           0.0            1.0          -0.005028  0.460623     1.0   \n",
       "3  0.255317           0.0            0.0           1.437217  0.706388     1.0   \n",
       "4  1.582008           1.0            0.0           1.501038 -0.638849     1.0   \n",
       "\n",
       "   gender_Male  gender_Female  gender_Other  ever_married_Yes  ...  \\\n",
       "0          1.0            0.0           0.0               1.0  ...   \n",
       "1          0.0            1.0           0.0               1.0  ...   \n",
       "2          1.0            0.0           0.0               1.0  ...   \n",
       "3          0.0            1.0           0.0               1.0  ...   \n",
       "4          0.0            1.0           0.0               1.0  ...   \n",
       "\n",
       "   work_type_Self-employed  work_type_Govt_job  work_type_children  \\\n",
       "0                      0.0                 0.0                 0.0   \n",
       "1                      1.0                 0.0                 0.0   \n",
       "2                      0.0                 0.0                 0.0   \n",
       "3                      0.0                 0.0                 0.0   \n",
       "4                      1.0                 0.0                 0.0   \n",
       "\n",
       "   work_type_Never_worked  Residence_type_Urban  Residence_type_Rural  \\\n",
       "0                     0.0                   1.0                   0.0   \n",
       "1                     0.0                   0.0                   1.0   \n",
       "2                     0.0                   0.0                   1.0   \n",
       "3                     0.0                   1.0                   0.0   \n",
       "4                     0.0                   0.0                   1.0   \n",
       "\n",
       "   smoking_status_formerly smoked  smoking_status_never smoked  \\\n",
       "0                             1.0                          0.0   \n",
       "1                             0.0                          1.0   \n",
       "2                             0.0                          1.0   \n",
       "3                             0.0                          0.0   \n",
       "4                             0.0                          1.0   \n",
       "\n",
       "   smoking_status_smokes  smoking_status_Unknown  \n",
       "0                    0.0                     0.0  \n",
       "1                    0.0                     0.0  \n",
       "2                    0.0                     0.0  \n",
       "3                    1.0                     0.0  \n",
       "4                    0.0                     0.0  \n",
       "\n",
       "[5 rows x 22 columns]"
      ]
     },
     "execution_count": 20,
     "metadata": {},
     "output_type": "execute_result"
    }
   ],
   "source": [
    "from scipy import stats\n",
    "# Remove some outliers\n",
    "\n",
    "# From average glucose level\n",
    "hot_data = hot_data[(np.abs(stats.zscore(hot_data[\"avg_glucose_level\"])) < 3)]\n",
    "\n",
    "# From BMI\n",
    "hot_data = hot_data[(np.abs(stats.zscore(hot_data[\"bmi\"])) < 3)]\n",
    "\n",
    "print(f\"New hot_dataset shape: {hot_data.shape}\")\n",
    "hot_data.head()"
   ]
  },
  {
   "cell_type": "markdown",
   "metadata": {
    "id": "vWxBvjdJ6Gga"
   },
   "source": [
    "## Feature Engineering"
   ]
  },
  {
   "cell_type": "markdown",
   "metadata": {
    "id": "MUYznMzi7hoC"
   },
   "source": [
    "Now that we have cleaned the data, we perform feature engineering to select useful features to use to build our models. In the histograms shown below, the orange displays the data that has had a stroke, while the blue shows the data that has not."
   ]
  },
  {
   "cell_type": "code",
   "execution_count": 21,
   "metadata": {
    "colab": {
     "base_uri": "https://localhost:8080/",
     "height": 265
    },
    "id": "MrZEE4IU6Ggb",
    "outputId": "15365443-1f8e-4361-dee2-43c56219ff9f"
   },
   "outputs": [
    {
     "data": {
      "image/png": "[encoded data removed]",
      "text/plain": [
       "<Figure size 432x288 with 1 Axes>"
      ]
     },
     "metadata": {
      "needs_background": "light"
     },
     "output_type": "display_data"
    }
   ],
   "source": [
    "stroke = data[data['stroke'] == 1]\n",
    "no_stroke = data[data['stroke']==0]\n",
    "\n",
    "plt.hist(no_stroke['age'], density=True, alpha=0.8)\n",
    "plt.hist(stroke['age'], density=True, alpha=0.8)\n",
    "\n",
    "plt.show()"
   ]
  },
  {
   "cell_type": "code",
   "execution_count": 22,
   "metadata": {
    "colab": {
     "base_uri": "https://localhost:8080/",
     "height": 265
    },
    "id": "D8AKvRBj6Ggc",
    "outputId": "272759e8-0f4e-4c72-ec71-d464ecc578e6"
   },
   "outputs": [
    {
     "data": {
      "image/png": "[encoded data removed]",
      "text/plain": [
       "<Figure size 432x288 with 1 Axes>"
      ]
     },
     "metadata": {
      "needs_background": "light"
     },
     "output_type": "display_data"
    }
   ],
   "source": [
    "plt.hist(no_stroke['hypertension'], density=True, alpha=0.8)\n",
    "plt.hist(stroke['hypertension'], density=True, alpha=0.8)\n",
    "\n",
    "plt.show()"
   ]
  },
  {
   "cell_type": "code",
   "execution_count": 23,
   "metadata": {
    "colab": {
     "base_uri": "https://localhost:8080/",
     "height": 269
    },
    "id": "Vpt6rzDi6Ggd",
    "outputId": "a5cd8399-0155-4ffd-ba19-b28a661e6128"
   },
   "outputs": [
    {
     "data": {
      "image/png": "[encoded data removed]",
      "text/plain": [
       "<Figure size 432x288 with 1 Axes>"
      ]
     },
     "metadata": {
      "needs_background": "light"
     },
     "output_type": "display_data"
    }
   ],
   "source": [
    "plt.hist(no_stroke['heart_disease'], density=True, alpha=0.8)\n",
    "plt.hist(stroke['heart_disease'], density=True, alpha=0.8)\n",
    "\n",
    "plt.show()"
   ]
  },
  {
   "cell_type": "code",
   "execution_count": 24,
   "metadata": {
    "colab": {
     "base_uri": "https://localhost:8080/",
     "height": 265
    },
    "id": "rosleKuc6Ggf",
    "outputId": "5e000670-1367-4334-bc2a-2608e8005e52"
   },
   "outputs": [
    {
     "data": {
      "image/png": "[encoded data removed]",
      "text/plain": [
       "<Figure size 432x288 with 1 Axes>"
      ]
     },
     "metadata": {
      "needs_background": "light"
     },
     "output_type": "display_data"
    }
   ],
   "source": [
    "plt.hist(no_stroke['avg_glucose_level'], density=True, alpha=0.8)\n",
    "plt.hist(stroke['avg_glucose_level'], density=True, alpha=0.8)\n",
    "\n",
    "plt.show()"
   ]
  },
  {
   "cell_type": "code",
   "execution_count": 25,
   "metadata": {
    "colab": {
     "base_uri": "https://localhost:8080/",
     "height": 265
    },
    "id": "xukHb2XB6Ggg",
    "outputId": "4aa31f51-4504-401b-94e1-6d10112fd5a7"
   },
   "outputs": [
    {
     "data": {
      "image/png": "[encoded data removed]",
      "text/plain": [
       "<Figure size 432x288 with 1 Axes>"
      ]
     },
     "metadata": {
      "needs_background": "light"
     },
     "output_type": "display_data"
    }
   ],
   "source": [
    "plt.hist(no_stroke['bmi'], density=True, alpha=0.8)\n",
    "plt.hist(stroke['bmi'], density=True, alpha=0.8)\n",
    "\n",
    "plt.show()"
   ]
  },
  {
   "cell_type": "code",
   "execution_count": 26,
   "metadata": {
    "colab": {
     "base_uri": "https://localhost:8080/",
     "height": 265
    },
    "id": "AuL0f_rP6Ggh",
    "outputId": "b6e5fb7d-2abf-4527-8717-0854fbb8c3ed"
   },
   "outputs": [
    {
     "data": {
      "image/png": "[encoded data removed]",
      "text/plain": [
       "<Figure size 432x288 with 1 Axes>"
      ]
     },
     "metadata": {
      "needs_background": "light"
     },
     "output_type": "display_data"
    }
   ],
   "source": [
    "plt.hist(no_stroke['gender'], density=True, alpha=0.8)\n",
    "plt.hist(stroke['gender'], density=True, alpha=0.8)\n",
    "\n",
    "plt.show()"
   ]
  },
  {
   "cell_type": "code",
   "execution_count": 27,
   "metadata": {
    "colab": {
     "base_uri": "https://localhost:8080/",
     "height": 266
    },
    "id": "fTNgXlx96Ggi",
    "outputId": "678f3999-1775-411e-a170-7c5552e98100"
   },
   "outputs": [
    {
     "data": {
      "image/png": "[encoded data removed]",
      "text/plain": [
       "<Figure size 432x288 with 1 Axes>"
      ]
     },
     "metadata": {
      "needs_background": "light"
     },
     "output_type": "display_data"
    }
   ],
   "source": [
    "plt.hist(no_stroke['work_type'], density=True, alpha=0.8)\n",
    "plt.hist(stroke['work_type'], density=True, alpha=0.8)\n",
    "\n",
    "plt.show()"
   ]
  },
  {
   "cell_type": "code",
   "execution_count": 28,
   "metadata": {
    "colab": {
     "base_uri": "https://localhost:8080/",
     "height": 265
    },
    "id": "5krU2o446Ggj",
    "outputId": "0248accf-b7fb-4edd-e477-64d998448b65"
   },
   "outputs": [
    {
     "data": {
      "image/png": "[encoded data removed]",
      "text/plain": [
       "<Figure size 432x288 with 1 Axes>"
      ]
     },
     "metadata": {
      "needs_background": "light"
     },
     "output_type": "display_data"
    }
   ],
   "source": [
    "plt.hist(no_stroke['Residence_type'], density=True, alpha=0.8)\n",
    "plt.hist(stroke['Residence_type'], density=True, alpha=0.8)\n",
    "\n",
    "plt.show()"
   ]
  },
  {
   "cell_type": "code",
   "execution_count": 29,
   "metadata": {
    "colab": {
     "base_uri": "https://localhost:8080/",
     "height": 265
    },
    "id": "p50Gle7-6Ggk",
    "outputId": "ed7a1b6c-0be0-408b-831a-37d929268c68"
   },
   "outputs": [
    {
     "data": {
      "image/png": "[encoded data removed]",
      "text/plain": [
       "<Figure size 432x288 with 1 Axes>"
      ]
     },
     "metadata": {
      "needs_background": "light"
     },
     "output_type": "display_data"
    }
   ],
   "source": [
    "plt.hist(no_stroke['smoking_status'], density=True, alpha=0.8)\n",
    "plt.hist(stroke['smoking_status'], density=True, alpha=0.8)\n",
    "\n",
    "plt.show()"
   ]
  },
  {
   "cell_type": "markdown",
   "metadata": {
    "id": "hTZ35I5Q6Ggl"
   },
   "source": [
    "We can also visualize the correlations between features and the stroke class using a correlation matrix. We want to ensure that features are not highly correlated with each other because this means that they are redundant."
   ]
  },
  {
   "cell_type": "code",
   "execution_count": 30,
   "metadata": {
    "colab": {
     "base_uri": "https://localhost:8080/",
     "height": 970
    },
    "id": "z3LAGmQRIREf",
    "outputId": "bbb725ba-4cf1-4d1c-d076-8f3ef4660a02"
   },
   "outputs": [
    {
     "data": {
      "image/png": "[encoded data removed]",
      "text/plain": [
       "<Figure size 1152x1008 with 2 Axes>"
      ]
     },
     "metadata": {
      "needs_background": "light"
     },
     "output_type": "display_data"
    }
   ],
   "source": [
    "#Using Pearson Correlation\n",
    "import seaborn as sns\n",
    "\n",
    "plt.figure(figsize=(16, 14))\n",
    "cor = hot_data.corr()\n",
    "cor = abs(cor)\n",
    "sns.heatmap(cor, annot=True, cmap=plt.cm.Blues)\n",
    "plt.show()"
   ]
  },
  {
   "cell_type": "markdown",
   "metadata": {
    "id": "o0E-uwm2O4CK"
   },
   "source": [
    "This tells us that among these features, age is highly correlated with ever_married_No and with ever_married_Yes. work_type_children is similarly correlated. In addition, ever_married_No and ever_married_Yes are highly correlated. Therefore, we can remove all of ever_married_No, ever_married_Yes, and work_type_children because they are redundant when we have age. Lastly, Residence_type_Urban and Residence_type_Rural are highly correlated, as well as gender_Male and gender_Female so we will only keep one of each. This results in the following correlation matrix for the features to select."
   ]
  },
  {
   "cell_type": "code",
   "execution_count": 31,
   "metadata": {
    "colab": {
     "base_uri": "https://localhost:8080/",
     "height": 970
    },
    "id": "lZkjWfp2Palr",
    "outputId": "5d6534be-9486-4a85-a1ab-651049bdb6cd"
   },
   "outputs": [
    {
     "data": {
      "image/png": "[encoded data removed]",
      "text/plain": [
       "<Figure size 1152x1008 with 2 Axes>"
      ]
     },
     "metadata": {
      "needs_background": "light"
     },
     "output_type": "display_data"
    }
   ],
   "source": [
    "# remove features\n",
    "relevant_features = cor[\"stroke\"].copy()\n",
    "del relevant_features[\"ever_married_No\"]\n",
    "del relevant_features[\"ever_married_Yes\"]\n",
    "del relevant_features[\"work_type_children\"]\n",
    "del relevant_features[\"Residence_type_Rural\"]\n",
    "del relevant_features[\"gender_Female\"]\n",
    "\n",
    "# build corr matrix\n",
    "plt.figure(figsize=(16, 14))\n",
    "relevant_cor = hot_data[relevant_features.index].corr()\n",
    "relevant_cor = abs(relevant_cor)\n",
    "sns.heatmap(relevant_cor, annot=True, cmap=plt.cm.Blues)\n",
    "plt.show()"
   ]
  },
  {
   "cell_type": "markdown",
   "metadata": {
    "id": "bbdBK1MBPtuK"
   },
   "source": [
    "Now we update our hot_data to only use these selected features."
   ]
  },
  {
   "cell_type": "code",
   "execution_count": 32,
   "metadata": {
    "colab": {
     "base_uri": "https://localhost:8080/",
     "height": 461
    },
    "id": "8hUS-EqZPs0R",
    "outputId": "b3f7a614-4796-4245-978a-d4377faa9e4a"
   },
   "outputs": [
    {
     "data": {
      "text/html": [
       "<div>\n",
       "<style scoped>\n",
       "    .dataframe tbody tr th:only-of-type {\n",
       "        vertical-align: middle;\n",
       "    }\n",
       "\n",
       "    .dataframe tbody tr th {\n",
       "        vertical-align: top;\n",
       "    }\n",
       "\n",
       "    .dataframe thead th {\n",
       "        text-align: right;\n",
       "    }\n",
       "</style>\n",
       "<table border=\"1\" class=\"dataframe\">\n",
       "  <thead>\n",
       "    <tr style=\"text-align: right;\">\n",
       "      <th></th>\n",
       "      <th>age</th>\n",
       "      <th>hypertension</th>\n",
       "      <th>heart_disease</th>\n",
       "      <th>avg_glucose_level</th>\n",
       "      <th>bmi</th>\n",
       "      <th>stroke</th>\n",
       "      <th>gender_Male</th>\n",
       "      <th>gender_Other</th>\n",
       "      <th>work_type_Private</th>\n",
       "      <th>work_type_Self-employed</th>\n",
       "      <th>work_type_Govt_job</th>\n",
       "      <th>work_type_Never_worked</th>\n",
       "      <th>Residence_type_Urban</th>\n",
       "      <th>smoking_status_formerly smoked</th>\n",
       "      <th>smoking_status_never smoked</th>\n",
       "      <th>smoking_status_smokes</th>\n",
       "      <th>smoking_status_Unknown</th>\n",
       "    </tr>\n",
       "  </thead>\n",
       "  <tbody>\n",
       "    <tr>\n",
       "      <th>0</th>\n",
       "      <td>1.051331</td>\n",
       "      <td>0.0</td>\n",
       "      <td>1.0</td>\n",
       "      <td>2.706111</td>\n",
       "      <td>0.990957</td>\n",
       "      <td>1.0</td>\n",
       "      <td>1.0</td>\n",
       "      <td>0.0</td>\n",
       "      <td>1.0</td>\n",
       "      <td>0.0</td>\n",
       "      <td>0.0</td>\n",
       "      <td>0.0</td>\n",
       "      <td>1.0</td>\n",
       "      <td>1.0</td>\n",
       "      <td>0.0</td>\n",
       "      <td>0.0</td>\n",
       "      <td>0.0</td>\n",
       "    </tr>\n",
       "    <tr>\n",
       "      <th>1</th>\n",
       "      <td>0.785993</td>\n",
       "      <td>0.0</td>\n",
       "      <td>0.0</td>\n",
       "      <td>2.121351</td>\n",
       "      <td>0.288746</td>\n",
       "      <td>1.0</td>\n",
       "      <td>0.0</td>\n",
       "      <td>0.0</td>\n",
       "      <td>0.0</td>\n",
       "      <td>1.0</td>\n",
       "      <td>0.0</td>\n",
       "      <td>0.0</td>\n",
       "      <td>0.0</td>\n",
       "      <td>0.0</td>\n",
       "      <td>1.0</td>\n",
       "      <td>0.0</td>\n",
       "      <td>0.0</td>\n",
       "    </tr>\n",
       "    <tr>\n",
       "      <th>2</th>\n",
       "      <td>1.626231</td>\n",
       "      <td>0.0</td>\n",
       "      <td>1.0</td>\n",
       "      <td>-0.005028</td>\n",
       "      <td>0.460623</td>\n",
       "      <td>1.0</td>\n",
       "      <td>1.0</td>\n",
       "      <td>0.0</td>\n",
       "      <td>1.0</td>\n",
       "      <td>0.0</td>\n",
       "      <td>0.0</td>\n",
       "      <td>0.0</td>\n",
       "      <td>0.0</td>\n",
       "      <td>0.0</td>\n",
       "      <td>1.0</td>\n",
       "      <td>0.0</td>\n",
       "      <td>0.0</td>\n",
       "    </tr>\n",
       "    <tr>\n",
       "      <th>3</th>\n",
       "      <td>0.255317</td>\n",
       "      <td>0.0</td>\n",
       "      <td>0.0</td>\n",
       "      <td>1.437217</td>\n",
       "      <td>0.706388</td>\n",
       "      <td>1.0</td>\n",
       "      <td>0.0</td>\n",
       "      <td>0.0</td>\n",
       "      <td>1.0</td>\n",
       "      <td>0.0</td>\n",
       "      <td>0.0</td>\n",
       "      <td>0.0</td>\n",
       "      <td>1.0</td>\n",
       "      <td>0.0</td>\n",
       "      <td>0.0</td>\n",
       "      <td>1.0</td>\n",
       "      <td>0.0</td>\n",
       "    </tr>\n",
       "    <tr>\n",
       "      <th>4</th>\n",
       "      <td>1.582008</td>\n",
       "      <td>1.0</td>\n",
       "      <td>0.0</td>\n",
       "      <td>1.501038</td>\n",
       "      <td>-0.638849</td>\n",
       "      <td>1.0</td>\n",
       "      <td>0.0</td>\n",
       "      <td>0.0</td>\n",
       "      <td>0.0</td>\n",
       "      <td>1.0</td>\n",
       "      <td>0.0</td>\n",
       "      <td>0.0</td>\n",
       "      <td>0.0</td>\n",
       "      <td>0.0</td>\n",
       "      <td>1.0</td>\n",
       "      <td>0.0</td>\n",
       "      <td>0.0</td>\n",
       "    </tr>\n",
       "    <tr>\n",
       "      <th>...</th>\n",
       "      <td>...</td>\n",
       "      <td>...</td>\n",
       "      <td>...</td>\n",
       "      <td>...</td>\n",
       "      <td>...</td>\n",
       "      <td>...</td>\n",
       "      <td>...</td>\n",
       "      <td>...</td>\n",
       "      <td>...</td>\n",
       "      <td>...</td>\n",
       "      <td>...</td>\n",
       "      <td>...</td>\n",
       "      <td>...</td>\n",
       "      <td>...</td>\n",
       "      <td>...</td>\n",
       "      <td>...</td>\n",
       "      <td>...</td>\n",
       "    </tr>\n",
       "    <tr>\n",
       "      <th>5105</th>\n",
       "      <td>1.626231</td>\n",
       "      <td>1.0</td>\n",
       "      <td>0.0</td>\n",
       "      <td>-0.494609</td>\n",
       "      <td>0.430013</td>\n",
       "      <td>0.0</td>\n",
       "      <td>0.0</td>\n",
       "      <td>0.0</td>\n",
       "      <td>1.0</td>\n",
       "      <td>0.0</td>\n",
       "      <td>0.0</td>\n",
       "      <td>0.0</td>\n",
       "      <td>1.0</td>\n",
       "      <td>0.0</td>\n",
       "      <td>1.0</td>\n",
       "      <td>0.0</td>\n",
       "      <td>0.0</td>\n",
       "    </tr>\n",
       "    <tr>\n",
       "      <th>5106</th>\n",
       "      <td>1.670454</td>\n",
       "      <td>0.0</td>\n",
       "      <td>0.0</td>\n",
       "      <td>0.420734</td>\n",
       "      <td>1.430746</td>\n",
       "      <td>0.0</td>\n",
       "      <td>0.0</td>\n",
       "      <td>0.0</td>\n",
       "      <td>0.0</td>\n",
       "      <td>1.0</td>\n",
       "      <td>0.0</td>\n",
       "      <td>0.0</td>\n",
       "      <td>1.0</td>\n",
       "      <td>0.0</td>\n",
       "      <td>1.0</td>\n",
       "      <td>0.0</td>\n",
       "      <td>0.0</td>\n",
       "    </tr>\n",
       "    <tr>\n",
       "      <th>5107</th>\n",
       "      <td>-0.363806</td>\n",
       "      <td>0.0</td>\n",
       "      <td>0.0</td>\n",
       "      <td>-0.511393</td>\n",
       "      <td>0.214859</td>\n",
       "      <td>0.0</td>\n",
       "      <td>0.0</td>\n",
       "      <td>0.0</td>\n",
       "      <td>0.0</td>\n",
       "      <td>1.0</td>\n",
       "      <td>0.0</td>\n",
       "      <td>0.0</td>\n",
       "      <td>0.0</td>\n",
       "      <td>0.0</td>\n",
       "      <td>1.0</td>\n",
       "      <td>0.0</td>\n",
       "      <td>0.0</td>\n",
       "    </tr>\n",
       "    <tr>\n",
       "      <th>5108</th>\n",
       "      <td>0.343763</td>\n",
       "      <td>0.0</td>\n",
       "      <td>0.0</td>\n",
       "      <td>1.328127</td>\n",
       "      <td>-0.431890</td>\n",
       "      <td>0.0</td>\n",
       "      <td>1.0</td>\n",
       "      <td>0.0</td>\n",
       "      <td>1.0</td>\n",
       "      <td>0.0</td>\n",
       "      <td>0.0</td>\n",
       "      <td>0.0</td>\n",
       "      <td>0.0</td>\n",
       "      <td>1.0</td>\n",
       "      <td>0.0</td>\n",
       "      <td>0.0</td>\n",
       "      <td>0.0</td>\n",
       "    </tr>\n",
       "    <tr>\n",
       "      <th>5109</th>\n",
       "      <td>0.034201</td>\n",
       "      <td>0.0</td>\n",
       "      <td>0.0</td>\n",
       "      <td>-0.460822</td>\n",
       "      <td>-0.354280</td>\n",
       "      <td>0.0</td>\n",
       "      <td>0.0</td>\n",
       "      <td>0.0</td>\n",
       "      <td>0.0</td>\n",
       "      <td>0.0</td>\n",
       "      <td>1.0</td>\n",
       "      <td>0.0</td>\n",
       "      <td>1.0</td>\n",
       "      <td>0.0</td>\n",
       "      <td>0.0</td>\n",
       "      <td>0.0</td>\n",
       "      <td>1.0</td>\n",
       "    </tr>\n",
       "  </tbody>\n",
       "</table>\n",
       "<p>5002 rows × 17 columns</p>\n",
       "</div>"
      ],
      "text/plain": [
       "           age  hypertension  heart_disease  avg_glucose_level       bmi  \\\n",
       "0     1.051331           0.0            1.0           2.706111  0.990957   \n",
       "1     0.785993           0.0            0.0           2.121351  0.288746   \n",
       "2     1.626231           0.0            1.0          -0.005028  0.460623   \n",
       "3     0.255317           0.0            0.0           1.437217  0.706388   \n",
       "4     1.582008           1.0            0.0           1.501038 -0.638849   \n",
       "...        ...           ...            ...                ...       ...   \n",
       "5105  1.626231           1.0            0.0          -0.494609  0.430013   \n",
       "5106  1.670454           0.0            0.0           0.420734  1.430746   \n",
       "5107 -0.363806           0.0            0.0          -0.511393  0.214859   \n",
       "5108  0.343763           0.0            0.0           1.328127 -0.431890   \n",
       "5109  0.034201           0.0            0.0          -0.460822 -0.354280   \n",
       "\n",
       "      stroke  gender_Male  gender_Other  work_type_Private  \\\n",
       "0        1.0          1.0           0.0                1.0   \n",
       "1        1.0          0.0           0.0                0.0   \n",
       "2        1.0          1.0           0.0                1.0   \n",
       "3        1.0          0.0           0.0                1.0   \n",
       "4        1.0          0.0           0.0                0.0   \n",
       "...      ...          ...           ...                ...   \n",
       "5105     0.0          0.0           0.0                1.0   \n",
       "5106     0.0          0.0           0.0                0.0   \n",
       "5107     0.0          0.0           0.0                0.0   \n",
       "5108     0.0          1.0           0.0                1.0   \n",
       "5109     0.0          0.0           0.0                0.0   \n",
       "\n",
       "      work_type_Self-employed  work_type_Govt_job  work_type_Never_worked  \\\n",
       "0                         0.0                 0.0                     0.0   \n",
       "1                         1.0                 0.0                     0.0   \n",
       "2                         0.0                 0.0                     0.0   \n",
       "3                         0.0                 0.0                     0.0   \n",
       "4                         1.0                 0.0                     0.0   \n",
       "...                       ...                 ...                     ...   \n",
       "5105                      0.0                 0.0                     0.0   \n",
       "5106                      1.0                 0.0                     0.0   \n",
       "5107                      1.0                 0.0                     0.0   \n",
       "5108                      0.0                 0.0                     0.0   \n",
       "5109                      0.0                 1.0                     0.0   \n",
       "\n",
       "      Residence_type_Urban  smoking_status_formerly smoked  \\\n",
       "0                      1.0                             1.0   \n",
       "1                      0.0                             0.0   \n",
       "2                      0.0                             0.0   \n",
       "3                      1.0                             0.0   \n",
       "4                      0.0                             0.0   \n",
       "...                    ...                             ...   \n",
       "5105                   1.0                             0.0   \n",
       "5106                   1.0                             0.0   \n",
       "5107                   0.0                             0.0   \n",
       "5108                   0.0                             1.0   \n",
       "5109                   1.0                             0.0   \n",
       "\n",
       "      smoking_status_never smoked  smoking_status_smokes  \\\n",
       "0                             0.0                    0.0   \n",
       "1                             1.0                    0.0   \n",
       "2                             1.0                    0.0   \n",
       "3                             0.0                    1.0   \n",
       "4                             1.0                    0.0   \n",
       "...                           ...                    ...   \n",
       "5105                          1.0                    0.0   \n",
       "5106                          1.0                    0.0   \n",
       "5107                          1.0                    0.0   \n",
       "5108                          0.0                    0.0   \n",
       "5109                          0.0                    0.0   \n",
       "\n",
       "      smoking_status_Unknown  \n",
       "0                        0.0  \n",
       "1                        0.0  \n",
       "2                        0.0  \n",
       "3                        0.0  \n",
       "4                        0.0  \n",
       "...                      ...  \n",
       "5105                     0.0  \n",
       "5106                     0.0  \n",
       "5107                     0.0  \n",
       "5108                     0.0  \n",
       "5109                     1.0  \n",
       "\n",
       "[5002 rows x 17 columns]"
      ]
     },
     "execution_count": 32,
     "metadata": {},
     "output_type": "execute_result"
    }
   ],
   "source": [
    "# update hot_data\n",
    "original_hot_data = hot_data.copy()\n",
    "hot_data = hot_data[relevant_features.index]\n",
    "hot_data"
   ]
  },
  {
   "cell_type": "markdown",
   "metadata": {
    "id": "ZeCbWZQNKN8g"
   },
   "source": [
    "## Data Mining (Testing Different Models)"
   ]
  },
  {
   "cell_type": "code",
   "execution_count": 33,
   "metadata": {
    "colab": {
     "base_uri": "https://localhost:8080/"
    },
    "id": "lz7wGiUMKZAs",
    "outputId": "17224bc2-8c7c-451a-e8ad-52b376f33217"
   },
   "outputs": [
    {
     "name": "stdout",
     "output_type": "stream",
     "text": [
      "(5002, 16)\n",
      "(5002,)\n"
     ]
    }
   ],
   "source": [
    "# Separating labels from the rest of the data\n",
    "data_Y = data['stroke']\n",
    "data_X = data.drop(['stroke'], axis=1)\n",
    "\n",
    "hot_data_Y = hot_data['stroke']\n",
    "hot_data_X = hot_data.drop(['stroke'], axis=1)\n",
    "print(hot_data_X.shape)\n",
    "print(hot_data_Y.shape)"
   ]
  },
  {
   "cell_type": "markdown",
   "metadata": {
    "id": "cqrBxQsNM__D"
   },
   "source": [
    "**Decision Trees**"
   ]
  },
  {
   "cell_type": "code",
   "execution_count": 34,
   "metadata": {
    "colab": {
     "base_uri": "https://localhost:8080/"
    },
    "id": "LiMHusykNEf-",
    "outputId": "52a818f1-5f7c-46ba-fd21-9b17a873d39c"
   },
   "outputs": [
    {
     "name": "stdout",
     "output_type": "stream",
     "text": [
      "\n",
      "Using criterion: Entropy\n",
      "Accuracy: 91.22343313373256\n",
      "\n",
      "Using criterion: Gini\n",
      "Accuracy: 90.94395209580838\n",
      "\n",
      "Using criterion: max_depth of 10\n",
      "Accuracy: 93.3424750499002\n",
      "\n",
      "Using criterion: max_depth of 1\n",
      "Accuracy: 95.22191616766466\n",
      "\n",
      "Using criterion: min_samples_split = 20\n",
      "Accuracy: 93.02287425149703\n",
      "\n",
      "Using criterion: min_samples_leaf = 10\n",
      "Accuracy: 92.2431137724551\n",
      "\n",
      "Using criterion: min_impurity_decrease = .9\n",
      "Accuracy: 95.22191616766466\n"
     ]
    }
   ],
   "source": [
    "from sklearn.model_selection import train_test_split\n",
    "from sklearn.tree import DecisionTreeClassifier\n",
    "from sklearn.metrics import accuracy_score \n",
    "from sklearn.model_selection import cross_val_score\n",
    "\n",
    "print(\"\\nUsing criterion: Entropy\")\n",
    "clf = DecisionTreeClassifier(criterion='entropy')\n",
    "scores = cross_val_score(clf, hot_data_X, hot_data_Y, cv=10)\n",
    "print(f\"Accuracy: {scores.mean() * 100}\")\n",
    "\n",
    "print(\"\\nUsing criterion: Gini\")\n",
    "clf = DecisionTreeClassifier(criterion='gini')\n",
    "scores = cross_val_score(clf, hot_data_X, hot_data_Y, cv=10)\n",
    "print(f\"Accuracy: {scores.mean() * 100}\")\n",
    "\n",
    "print(\"\\nUsing criterion: max_depth of 10\")\n",
    "clf = DecisionTreeClassifier(criterion='entropy', max_depth=10)\n",
    "scores = cross_val_score(clf, hot_data_X, hot_data_Y, cv=10)\n",
    "print(f\"Accuracy: {scores.mean() * 100}\")\n",
    "\n",
    "print(\"\\nUsing criterion: max_depth of 1\")\n",
    "clf = DecisionTreeClassifier(criterion='entropy', max_depth=1)\n",
    "scores = cross_val_score(clf, hot_data_X, hot_data_Y, cv=10)\n",
    "print(f\"Accuracy: {scores.mean() * 100}\")\n",
    "\n",
    "print(\"\\nUsing criterion: min_samples_split = 20\")\n",
    "clf = DecisionTreeClassifier(criterion='entropy', min_samples_split=20)\n",
    "scores = cross_val_score(clf, hot_data_X, hot_data_Y, cv=10)\n",
    "print(f\"Accuracy: {scores.mean() * 100}\")\n",
    "\n",
    "print(\"\\nUsing criterion: min_samples_leaf = 10\")\n",
    "clf = DecisionTreeClassifier(criterion='entropy', min_samples_split=10)\n",
    "scores = cross_val_score(clf, hot_data_X, hot_data_Y, cv=10)\n",
    "print(f\"Accuracy: {scores.mean() * 100}\")\n",
    "\n",
    "print(\"\\nUsing criterion: min_impurity_decrease = .9\")\n",
    "clf = DecisionTreeClassifier(criterion='entropy', min_impurity_decrease=.9)\n",
    "scores = cross_val_score(clf, hot_data_X, hot_data_Y, cv=10)\n",
    "print(f\"Accuracy: {scores.mean() * 100}\")"
   ]
  },
  {
   "cell_type": "markdown",
   "metadata": {
    "id": "AN9Cs59VTXGV"
   },
   "source": [
    "So far, the best accuracy was produced by decreasing the max depth or using a min_impurity_decrease. We can further try more combinations using a GridSearchCV."
   ]
  },
  {
   "cell_type": "code",
   "execution_count": 35,
   "metadata": {
    "colab": {
     "base_uri": "https://localhost:8080/"
    },
    "id": "1ESEFA2gQmmy",
    "outputId": "d78db3e4-7610-46b1-b260-d2bef1951c1c"
   },
   "outputs": [
    {
     "name": "stdout",
     "output_type": "stream",
     "text": [
      "{'max_depth': 1, 'max_features': 1, 'min_impurity_decrease': 0.1, 'min_samples_leaf': 1, 'min_samples_split': 5}\n",
      "Accuracy: 95.22191808191808\n"
     ]
    }
   ],
   "source": [
    "from sklearn.model_selection import GridSearchCV\n",
    "from sklearn.metrics import classification_report\n",
    "\n",
    "params = {\n",
    "    \"max_depth\": [1, 3, 5, 10, 20], \n",
    "    \"min_samples_split\": [5, 10, 20], \n",
    "    \"min_samples_leaf\": [1, 3, 5, 10, 20], \n",
    "    \"max_features\": [1, 3, 5, 10, 15],\n",
    "    \"min_impurity_decrease\": [.1, .3, .5, .9]}\n",
    "\n",
    "grid_search = GridSearchCV(clf, params, cv=5, scoring=\"accuracy\")\n",
    "grid_search.fit(hot_data_X, hot_data_Y)\n",
    "print(grid_search.best_params_)\n",
    "print(f\"Accuracy: {grid_search.best_score_*100}\")"
   ]
  },
  {
   "cell_type": "code",
   "execution_count": 36,
   "metadata": {
    "colab": {
     "base_uri": "https://localhost:8080/"
    },
    "id": "UVn6fXzTcr6w",
    "outputId": "8070c71c-a97d-4e54-8773-73fc82f4899e"
   },
   "outputs": [
    {
     "name": "stdout",
     "output_type": "stream",
     "text": [
      "\n",
      "Classification Report:\n",
      "              precision    recall  f1-score   support\n",
      "\n",
      "         0.0       0.95      1.00      0.98      4763\n",
      "         1.0       0.00      0.00      0.00       239\n",
      "\n",
      "    accuracy                           0.95      5002\n",
      "   macro avg       0.48      0.50      0.49      5002\n",
      "weighted avg       0.91      0.95      0.93      5002\n",
      "\n"
     ]
    },
    {
     "name": "stderr",
     "output_type": "stream",
     "text": [
      "/home/vineeth/anaconda3/lib/python3.8/site-packages/sklearn/metrics/_classification.py:1221: UndefinedMetricWarning: Precision and F-score are ill-defined and being set to 0.0 in labels with no predicted samples. Use `zero_division` parameter to control this behavior.\n",
      "  _warn_prf(average, modifier, msg_start, len(result))\n"
     ]
    }
   ],
   "source": [
    "preds = grid_search.predict(hot_data_X)\n",
    "print(\"\\nClassification Report:\")\n",
    "print(classification_report(hot_data_Y, preds))"
   ]
  },
  {
   "cell_type": "markdown",
   "metadata": {
    "id": "teFnv_yNeNUt"
   },
   "source": [
    "The \"best\" decision tree simply chooses the \"no stroke\" label every almost every time, which produces a poor f-score. We can try to fix this by undersampling the majority class."
   ]
  },
  {
   "cell_type": "code",
   "execution_count": 37,
   "metadata": {
    "colab": {
     "base_uri": "https://localhost:8080/",
     "height": 310
    },
    "id": "Srrqh-Dsgd--",
    "outputId": "e33441a9-3a71-49ca-a7c9-cdab499a4bb3"
   },
   "outputs": [
    {
     "name": "stdout",
     "output_type": "stream",
     "text": [
      "number of records with stroke: 239\n",
      "(478, 17)\n"
     ]
    },
    {
     "data": {
      "text/html": [
       "<div>\n",
       "<style scoped>\n",
       "    .dataframe tbody tr th:only-of-type {\n",
       "        vertical-align: middle;\n",
       "    }\n",
       "\n",
       "    .dataframe tbody tr th {\n",
       "        vertical-align: top;\n",
       "    }\n",
       "\n",
       "    .dataframe thead th {\n",
       "        text-align: right;\n",
       "    }\n",
       "</style>\n",
       "<table border=\"1\" class=\"dataframe\">\n",
       "  <thead>\n",
       "    <tr style=\"text-align: right;\">\n",
       "      <th></th>\n",
       "      <th></th>\n",
       "      <th>age</th>\n",
       "      <th>hypertension</th>\n",
       "      <th>heart_disease</th>\n",
       "      <th>avg_glucose_level</th>\n",
       "      <th>bmi</th>\n",
       "      <th>stroke</th>\n",
       "      <th>gender_Male</th>\n",
       "      <th>gender_Other</th>\n",
       "      <th>work_type_Private</th>\n",
       "      <th>work_type_Self-employed</th>\n",
       "      <th>work_type_Govt_job</th>\n",
       "      <th>work_type_Never_worked</th>\n",
       "      <th>Residence_type_Urban</th>\n",
       "      <th>smoking_status_formerly smoked</th>\n",
       "      <th>smoking_status_never smoked</th>\n",
       "      <th>smoking_status_smokes</th>\n",
       "      <th>smoking_status_Unknown</th>\n",
       "    </tr>\n",
       "    <tr>\n",
       "      <th>stroke</th>\n",
       "      <th></th>\n",
       "      <th></th>\n",
       "      <th></th>\n",
       "      <th></th>\n",
       "      <th></th>\n",
       "      <th></th>\n",
       "      <th></th>\n",
       "      <th></th>\n",
       "      <th></th>\n",
       "      <th></th>\n",
       "      <th></th>\n",
       "      <th></th>\n",
       "      <th></th>\n",
       "      <th></th>\n",
       "      <th></th>\n",
       "      <th></th>\n",
       "      <th></th>\n",
       "      <th></th>\n",
       "    </tr>\n",
       "  </thead>\n",
       "  <tbody>\n",
       "    <tr>\n",
       "      <th rowspan=\"5\" valign=\"top\">0.0</th>\n",
       "      <th>932</th>\n",
       "      <td>-0.850259</td>\n",
       "      <td>0.0</td>\n",
       "      <td>0.0</td>\n",
       "      <td>-0.114339</td>\n",
       "      <td>-0.134385</td>\n",
       "      <td>0.0</td>\n",
       "      <td>0.0</td>\n",
       "      <td>0.0</td>\n",
       "      <td>0.0</td>\n",
       "      <td>0.0</td>\n",
       "      <td>1.0</td>\n",
       "      <td>0.0</td>\n",
       "      <td>0.0</td>\n",
       "      <td>0.0</td>\n",
       "      <td>1.0</td>\n",
       "      <td>0.0</td>\n",
       "      <td>0.0</td>\n",
       "    </tr>\n",
       "    <tr>\n",
       "      <th>2784</th>\n",
       "      <td>0.211094</td>\n",
       "      <td>0.0</td>\n",
       "      <td>0.0</td>\n",
       "      <td>0.463354</td>\n",
       "      <td>0.783998</td>\n",
       "      <td>0.0</td>\n",
       "      <td>1.0</td>\n",
       "      <td>0.0</td>\n",
       "      <td>1.0</td>\n",
       "      <td>0.0</td>\n",
       "      <td>0.0</td>\n",
       "      <td>0.0</td>\n",
       "      <td>0.0</td>\n",
       "      <td>0.0</td>\n",
       "      <td>0.0</td>\n",
       "      <td>0.0</td>\n",
       "      <td>1.0</td>\n",
       "    </tr>\n",
       "    <tr>\n",
       "      <th>1380</th>\n",
       "      <td>-1.469382</td>\n",
       "      <td>0.0</td>\n",
       "      <td>0.0</td>\n",
       "      <td>0.136745</td>\n",
       "      <td>-1.402013</td>\n",
       "      <td>0.0</td>\n",
       "      <td>0.0</td>\n",
       "      <td>0.0</td>\n",
       "      <td>0.0</td>\n",
       "      <td>0.0</td>\n",
       "      <td>0.0</td>\n",
       "      <td>0.0</td>\n",
       "      <td>1.0</td>\n",
       "      <td>0.0</td>\n",
       "      <td>0.0</td>\n",
       "      <td>0.0</td>\n",
       "      <td>1.0</td>\n",
       "    </tr>\n",
       "    <tr>\n",
       "      <th>2867</th>\n",
       "      <td>1.095554</td>\n",
       "      <td>1.0</td>\n",
       "      <td>1.0</td>\n",
       "      <td>2.807914</td>\n",
       "      <td>0.680276</td>\n",
       "      <td>0.0</td>\n",
       "      <td>0.0</td>\n",
       "      <td>0.0</td>\n",
       "      <td>1.0</td>\n",
       "      <td>0.0</td>\n",
       "      <td>0.0</td>\n",
       "      <td>0.0</td>\n",
       "      <td>0.0</td>\n",
       "      <td>0.0</td>\n",
       "      <td>0.0</td>\n",
       "      <td>0.0</td>\n",
       "      <td>1.0</td>\n",
       "    </tr>\n",
       "    <tr>\n",
       "      <th>2806</th>\n",
       "      <td>0.564878</td>\n",
       "      <td>0.0</td>\n",
       "      <td>0.0</td>\n",
       "      <td>-0.530605</td>\n",
       "      <td>0.460623</td>\n",
       "      <td>0.0</td>\n",
       "      <td>0.0</td>\n",
       "      <td>0.0</td>\n",
       "      <td>1.0</td>\n",
       "      <td>0.0</td>\n",
       "      <td>0.0</td>\n",
       "      <td>0.0</td>\n",
       "      <td>1.0</td>\n",
       "      <td>0.0</td>\n",
       "      <td>0.0</td>\n",
       "      <td>1.0</td>\n",
       "      <td>0.0</td>\n",
       "    </tr>\n",
       "  </tbody>\n",
       "</table>\n",
       "</div>"
      ],
      "text/plain": [
       "                  age  hypertension  heart_disease  avg_glucose_level  \\\n",
       "stroke                                                                  \n",
       "0.0    932  -0.850259           0.0            0.0          -0.114339   \n",
       "       2784  0.211094           0.0            0.0           0.463354   \n",
       "       1380 -1.469382           0.0            0.0           0.136745   \n",
       "       2867  1.095554           1.0            1.0           2.807914   \n",
       "       2806  0.564878           0.0            0.0          -0.530605   \n",
       "\n",
       "                  bmi  stroke  gender_Male  gender_Other  work_type_Private  \\\n",
       "stroke                                                                        \n",
       "0.0    932  -0.134385     0.0          0.0           0.0                0.0   \n",
       "       2784  0.783998     0.0          1.0           0.0                1.0   \n",
       "       1380 -1.402013     0.0          0.0           0.0                0.0   \n",
       "       2867  0.680276     0.0          0.0           0.0                1.0   \n",
       "       2806  0.460623     0.0          0.0           0.0                1.0   \n",
       "\n",
       "             work_type_Self-employed  work_type_Govt_job  \\\n",
       "stroke                                                     \n",
       "0.0    932                       0.0                 1.0   \n",
       "       2784                      0.0                 0.0   \n",
       "       1380                      0.0                 0.0   \n",
       "       2867                      0.0                 0.0   \n",
       "       2806                      0.0                 0.0   \n",
       "\n",
       "             work_type_Never_worked  Residence_type_Urban  \\\n",
       "stroke                                                      \n",
       "0.0    932                      0.0                   0.0   \n",
       "       2784                     0.0                   0.0   \n",
       "       1380                     0.0                   1.0   \n",
       "       2867                     0.0                   0.0   \n",
       "       2806                     0.0                   1.0   \n",
       "\n",
       "             smoking_status_formerly smoked  smoking_status_never smoked  \\\n",
       "stroke                                                                     \n",
       "0.0    932                              0.0                          1.0   \n",
       "       2784                             0.0                          0.0   \n",
       "       1380                             0.0                          0.0   \n",
       "       2867                             0.0                          0.0   \n",
       "       2806                             0.0                          0.0   \n",
       "\n",
       "             smoking_status_smokes  smoking_status_Unknown  \n",
       "stroke                                                      \n",
       "0.0    932                     0.0                     0.0  \n",
       "       2784                    0.0                     1.0  \n",
       "       1380                    0.0                     1.0  \n",
       "       2867                    0.0                     1.0  \n",
       "       2806                    1.0                     0.0  "
      ]
     },
     "execution_count": 37,
     "metadata": {},
     "output_type": "execute_result"
    }
   ],
   "source": [
    "num_stroke = int(hot_data[\"stroke\"].sum())\n",
    "print(f\"number of records with stroke: {num_stroke}\")\n",
    "\n",
    "# sample equally\n",
    "balanced_hot_data = hot_data.groupby('stroke').apply(lambda x: x.sample(num_stroke))\n",
    "balanced_hot_data_Y = balanced_hot_data['stroke']\n",
    "balanced_hot_data_X = balanced_hot_data.drop(['stroke'], axis=1)\n",
    "print(balanced_hot_data.shape)\n",
    "balanced_hot_data.head()"
   ]
  },
  {
   "cell_type": "code",
   "execution_count": 38,
   "metadata": {
    "colab": {
     "base_uri": "https://localhost:8080/"
    },
    "id": "8IGDfbZ7i1kG",
    "outputId": "955384ff-2d77-4a33-a9c3-4be8ad5d8ed9"
   },
   "outputs": [
    {
     "name": "stdout",
     "output_type": "stream",
     "text": [
      "{'max_depth': 1, 'max_features': 10, 'min_impurity_decrease': 0.1, 'min_samples_leaf': 1, 'min_samples_split': 10}\n",
      "Accuracy: 72.3859649122807\n"
     ]
    }
   ],
   "source": [
    "# Generating another Decision Tree using balanced_hot_data\n",
    "params = {\n",
    "    \"max_depth\": [1, 3, 5, 10, 20], \n",
    "    \"min_samples_split\": [5, 10, 20], \n",
    "    \"min_samples_leaf\": [1, 3, 5, 10, 20], \n",
    "    \"max_features\": [1, 3, 5, 10, 15],\n",
    "    \"min_impurity_decrease\": [.1, .3, .5, .9]}\n",
    "\n",
    "grid_search = GridSearchCV(clf, params, cv=5, scoring=\"accuracy\")\n",
    "grid_search.fit(balanced_hot_data_X, balanced_hot_data_Y)\n",
    "print(grid_search.best_params_)\n",
    "print(f\"Accuracy: {grid_search.best_score_*100}\")"
   ]
  },
  {
   "cell_type": "code",
   "execution_count": 39,
   "metadata": {
    "colab": {
     "base_uri": "https://localhost:8080/"
    },
    "id": "mFZlnAUSjI2O",
    "outputId": "100608a6-4101-48af-9328-2370aa45c5de"
   },
   "outputs": [
    {
     "name": "stdout",
     "output_type": "stream",
     "text": [
      "\n",
      "Classification Report:\n",
      "              precision    recall  f1-score   support\n",
      "\n",
      "         0.0       0.50      1.00      0.67       239\n",
      "         1.0       0.00      0.00      0.00       239\n",
      "\n",
      "    accuracy                           0.50       478\n",
      "   macro avg       0.25      0.50      0.33       478\n",
      "weighted avg       0.25      0.50      0.33       478\n",
      "\n"
     ]
    },
    {
     "name": "stderr",
     "output_type": "stream",
     "text": [
      "/home/vineeth/anaconda3/lib/python3.8/site-packages/sklearn/metrics/_classification.py:1221: UndefinedMetricWarning: Precision and F-score are ill-defined and being set to 0.0 in labels with no predicted samples. Use `zero_division` parameter to control this behavior.\n",
      "  _warn_prf(average, modifier, msg_start, len(result))\n"
     ]
    }
   ],
   "source": [
    "preds = grid_search.predict(balanced_hot_data_X)\n",
    "print(\"\\nClassification Report:\")\n",
    "print(classification_report(balanced_hot_data_Y, preds))"
   ]
  },
  {
   "cell_type": "markdown",
   "metadata": {
    "id": "G9joFb8Lj9HE"
   },
   "source": [
    "The average f-score is greatly improved now! However, we only have a 75% accuracy."
   ]
  },
  {
   "cell_type": "markdown",
   "metadata": {
    "id": "TCMTHdNIkGEO"
   },
   "source": [
    "**Naive Bayes**"
   ]
  },
  {
   "cell_type": "code",
   "execution_count": 40,
   "metadata": {
    "colab": {
     "base_uri": "https://localhost:8080/"
    },
    "id": "2DXyRByekVi7",
    "outputId": "2fc84131-5244-49f6-946a-eb6a068c3874"
   },
   "outputs": [
    {
     "name": "stdout",
     "output_type": "stream",
     "text": [
      "\n",
      "Classification Report:\n",
      "              precision    recall  f1-score   support\n",
      "\n",
      "         0.0       0.96      0.19      0.32       239\n",
      "         1.0       0.55      0.99      0.71       239\n",
      "\n",
      "    accuracy                           0.59       478\n",
      "   macro avg       0.75      0.59      0.51       478\n",
      "weighted avg       0.75      0.59      0.51       478\n",
      "\n"
     ]
    }
   ],
   "source": [
    "from sklearn.naive_bayes import GaussianNB\n",
    "# from sklearn.metrics import confusion_matrix\n",
    "from sklearn.metrics import classification_report\n",
    "from sklearn.model_selection import cross_val_predict\n",
    "\n",
    "# Use a gaussian Naive Bayes with 10-fold cross validation\n",
    "gnb = GaussianNB()\n",
    "preds = cross_val_predict(gnb, balanced_hot_data_X, balanced_hot_data_Y, cv=10)\n",
    "print(\"\\nClassification Report:\")\n",
    "print(classification_report(balanced_hot_data_Y, preds))"
   ]
  },
  {
   "cell_type": "markdown",
   "metadata": {
    "id": "Yk3eT67GlVrL"
   },
   "source": [
    "Standard gaussian Naive Bayes produces a lower accuracy and f-score compared to the decision tree."
   ]
  },
  {
   "cell_type": "markdown",
   "metadata": {
    "id": "CkbD0oahlpqD"
   },
   "source": [
    "**K-Nearest Neighbors**\n",
    "\n",
    "\n",
    "Since KNN suffers from the curse of dimensionality, we will have to perform dimensionality reduction. We use a GridSearchCV to perform hyperparamter tuning."
   ]
  },
  {
   "cell_type": "code",
   "execution_count": 41,
   "metadata": {
    "colab": {
     "base_uri": "https://localhost:8080/"
    },
    "id": "qxOhLpoynG9m",
    "outputId": "b4c83445-4649-44de-8f26-b995de99a421"
   },
   "outputs": [
    {
     "name": "stdout",
     "output_type": "stream",
     "text": [
      "{'knn__n_neighbors': 10, 'pca__n_components': 6}\n",
      "Accuracy: 95.22191808191808\n"
     ]
    }
   ],
   "source": [
    "from sklearn.decomposition import PCA\n",
    "from sklearn.neighbors import KNeighborsClassifier\n",
    "from sklearn.pipeline import Pipeline\n",
    "\n",
    "pca = PCA()\n",
    "knn = KNeighborsClassifier(n_neighbors=7)\n",
    "pline = Pipeline(steps=[(\"pca\", pca), (\"knn\", knn)])\n",
    "\n",
    "param_grid = {\n",
    "    'pca__n_components': list(range(3, 15, 3)),\n",
    "    'knn__n_neighbors': list(range(1, 25))\n",
    "}\n",
    "\n",
    "grid_search = GridSearchCV(pline, param_grid, cv=5, scoring=\"accuracy\")\n",
    "grid_search.fit(hot_data_X, hot_data_Y)\n",
    "print(grid_search.best_params_)\n",
    "print(f\"Accuracy: {grid_search.best_score_*100}\")"
   ]
  },
  {
   "cell_type": "code",
   "execution_count": 42,
   "metadata": {
    "colab": {
     "base_uri": "https://localhost:8080/"
    },
    "id": "1q5mfnvgo3AG",
    "outputId": "db4e4941-3966-4f27-eafb-1ae333b10634"
   },
   "outputs": [
    {
     "name": "stdout",
     "output_type": "stream",
     "text": [
      "\n",
      "Classification Report:\n",
      "              precision    recall  f1-score   support\n",
      "\n",
      "         0.0       0.95      1.00      0.98      4763\n",
      "         1.0       0.00      0.00      0.00       239\n",
      "\n",
      "    accuracy                           0.95      5002\n",
      "   macro avg       0.48      0.50      0.49      5002\n",
      "weighted avg       0.91      0.95      0.93      5002\n",
      "\n"
     ]
    }
   ],
   "source": [
    "preds = grid_search.predict(hot_data_X)\n",
    "print(\"\\nClassification Report:\")\n",
    "print(classification_report(hot_data_Y, preds))"
   ]
  },
  {
   "cell_type": "markdown",
   "metadata": {
    "id": "4COvsis-o-QO"
   },
   "source": [
    "Again, this produces a poor f-score so we will try again on the balanced one-hot-encoded dataset"
   ]
  },
  {
   "cell_type": "code",
   "execution_count": 43,
   "metadata": {
    "colab": {
     "base_uri": "https://localhost:8080/"
    },
    "id": "PwtMABWkpEMa",
    "outputId": "f999f71d-6cc3-451d-b2cf-5ac3266f30b5"
   },
   "outputs": [
    {
     "name": "stdout",
     "output_type": "stream",
     "text": [
      "{'knn__n_neighbors': 19, 'pca__n_components': 9}\n",
      "Accuracy: 74.90789473684211\n"
     ]
    }
   ],
   "source": [
    "from sklearn.decomposition import PCA\n",
    "from sklearn.neighbors import KNeighborsClassifier\n",
    "from sklearn.pipeline import Pipeline\n",
    "\n",
    "grid_search.fit(balanced_hot_data_X, balanced_hot_data_Y)\n",
    "print(grid_search.best_params_)\n",
    "print(f\"Accuracy: {grid_search.best_score_*100}\")"
   ]
  },
  {
   "cell_type": "code",
   "execution_count": 44,
   "metadata": {
    "colab": {
     "base_uri": "https://localhost:8080/"
    },
    "id": "YFCYe4wTpFis",
    "outputId": "e6b27676-80b8-455b-f06f-f4dd99955635"
   },
   "outputs": [
    {
     "name": "stdout",
     "output_type": "stream",
     "text": [
      "\n",
      "Classification Report:\n",
      "              precision    recall  f1-score   support\n",
      "\n",
      "         0.0       0.81      0.66      0.73       239\n",
      "         1.0       0.71      0.84      0.77       239\n",
      "\n",
      "    accuracy                           0.75       478\n",
      "   macro avg       0.76      0.75      0.75       478\n",
      "weighted avg       0.76      0.75      0.75       478\n",
      "\n"
     ]
    }
   ],
   "source": [
    "preds = grid_search.predict(balanced_hot_data_X)\n",
    "print(\"\\nClassification Report:\")\n",
    "print(classification_report(balanced_hot_data_Y, preds))"
   ]
  },
  {
   "cell_type": "markdown",
   "metadata": {
    "id": "2lUu_uzNpcj8"
   },
   "source": [
    "This model appears to be more successful than the one built using a decision tree."
   ]
  },
  {
   "cell_type": "markdown",
   "metadata": {
    "id": "dUS1oU2sqMkK"
   },
   "source": [
    "**Support Vector Machines**\n",
    "\n",
    "We again use a GridSearchCV to perform hyperparamter tuning. We will also use the balanced one-hot-encoded dataset."
   ]
  },
  {
   "cell_type": "code",
   "execution_count": 45,
   "metadata": {
    "colab": {
     "base_uri": "https://localhost:8080/"
    },
    "id": "LIxtKf-VqQXa",
    "outputId": "81c902cc-a3b4-4f5c-ad08-8f49773ff05d"
   },
   "outputs": [
    {
     "name": "stdout",
     "output_type": "stream",
     "text": [
      "{'pca__n_components': 12, 'svc__kernel': 'linear'}\n",
      "Accuracy: 75.31140350877192\n"
     ]
    }
   ],
   "source": [
    "from sklearn.svm import SVC\n",
    "\n",
    "pca = PCA()\n",
    "svc = SVC()\n",
    "pline = Pipeline(steps=[(\"pca\", pca), (\"svc\", svc)])\n",
    "\n",
    "param_grid = {\n",
    "    'pca__n_components': list(range(3, 15, 3)),\n",
    "    'svc__kernel': ['linear', 'rbf', 'poly']\n",
    "}\n",
    "\n",
    "grid_search = GridSearchCV(pline, param_grid, cv=5, scoring=\"accuracy\")\n",
    "grid_search.fit(balanced_hot_data_X, balanced_hot_data_Y)\n",
    "print(grid_search.best_params_)\n",
    "print(f\"Accuracy: {grid_search.best_score_*100}\")"
   ]
  },
  {
   "cell_type": "code",
   "execution_count": 46,
   "metadata": {
    "colab": {
     "base_uri": "https://localhost:8080/"
    },
    "id": "GpnQV6oHrALX",
    "outputId": "a8eb2c33-e967-444f-8f8a-70ef8534cb1a"
   },
   "outputs": [
    {
     "name": "stdout",
     "output_type": "stream",
     "text": [
      "\n",
      "Classification Report:\n",
      "              precision    recall  f1-score   support\n",
      "\n",
      "         0.0       0.82      0.70      0.76       239\n",
      "         1.0       0.74      0.84      0.79       239\n",
      "\n",
      "    accuracy                           0.77       478\n",
      "   macro avg       0.78      0.77      0.77       478\n",
      "weighted avg       0.78      0.77      0.77       478\n",
      "\n"
     ]
    }
   ],
   "source": [
    "preds = grid_search.predict(balanced_hot_data_X)\n",
    "print(\"\\nClassification Report:\")\n",
    "print(classification_report(balanced_hot_data_Y, preds))"
   ]
  },
  {
   "cell_type": "markdown",
   "metadata": {
    "id": "i80fUhAhVt8h"
   },
   "source": [
    "This SVM model appears to perform even better than KNN, running faster and producing a higher f-score."
   ]
  },
  {
   "cell_type": "markdown",
   "metadata": {
    "id": "cgyh0ov4sHc-"
   },
   "source": [
    "**Random Forests**"
   ]
  },
  {
   "cell_type": "code",
   "execution_count": 47,
   "metadata": {
    "colab": {
     "base_uri": "https://localhost:8080/"
    },
    "id": "fQC5ekYxsLQQ",
    "outputId": "998acc85-cd44-452c-adb6-c6ef89f1a5ab"
   },
   "outputs": [
    {
     "name": "stdout",
     "output_type": "stream",
     "text": [
      "{'max_depth': 60, 'max_features': 'log2', 'min_samples_leaf': 31}\n",
      "Accuracy: 76.15350877192981\n"
     ]
    }
   ],
   "source": [
    "from sklearn.ensemble import RandomForestClassifier\n",
    "\n",
    "rfc = RandomForestClassifier()\n",
    "param_grid = {\n",
    "    'max_depth': list(range(5, 61, 5)),\n",
    "    'min_samples_leaf': [2, 31, 4],\n",
    "    'max_features': [\"sqrt\", \"log2\"]\n",
    "}\n",
    "\n",
    "grid_search = GridSearchCV(rfc, param_grid, cv=5, scoring=\"accuracy\")\n",
    "grid_search.fit(balanced_hot_data_X, balanced_hot_data_Y)\n",
    "print(grid_search.best_params_)\n",
    "print(f\"Accuracy: {grid_search.best_score_*100}\")"
   ]
  },
  {
   "cell_type": "code",
   "execution_count": 48,
   "metadata": {
    "colab": {
     "base_uri": "https://localhost:8080/"
    },
    "id": "1nFqYrPAshG0",
    "outputId": "da7e013c-77bf-4fcd-9959-d1853fdae8e5"
   },
   "outputs": [
    {
     "name": "stdout",
     "output_type": "stream",
     "text": [
      "\n",
      "Classification Report:\n",
      "              precision    recall  f1-score   support\n",
      "\n",
      "         0.0       0.86      0.66      0.75       239\n",
      "         1.0       0.72      0.89      0.80       239\n",
      "\n",
      "    accuracy                           0.78       478\n",
      "   macro avg       0.79      0.78      0.77       478\n",
      "weighted avg       0.79      0.78      0.77       478\n",
      "\n"
     ]
    }
   ],
   "source": [
    "preds = grid_search.predict(balanced_hot_data_X)\n",
    "print(\"\\nClassification Report:\")\n",
    "print(classification_report(balanced_hot_data_Y, preds))"
   ]
  },
  {
   "cell_type": "markdown",
   "metadata": {
    "id": "MLfyXjxik9Li"
   },
   "source": [
    "Since Random Forests don't suffer from the curse of dimensionality, let's try it with all features. Again, first we undersample the majority class."
   ]
  },
  {
   "cell_type": "code",
   "execution_count": 49,
   "metadata": {
    "colab": {
     "base_uri": "https://localhost:8080/",
     "height": 310
    },
    "id": "F3PTIMUflK2c",
    "outputId": "64cbabce-20f8-4a27-bc70-73bc16c15fb8"
   },
   "outputs": [
    {
     "name": "stdout",
     "output_type": "stream",
     "text": [
      "number of records with stroke: 239\n",
      "(478, 22)\n"
     ]
    },
    {
     "data": {
      "text/html": [
       "<div>\n",
       "<style scoped>\n",
       "    .dataframe tbody tr th:only-of-type {\n",
       "        vertical-align: middle;\n",
       "    }\n",
       "\n",
       "    .dataframe tbody tr th {\n",
       "        vertical-align: top;\n",
       "    }\n",
       "\n",
       "    .dataframe thead th {\n",
       "        text-align: right;\n",
       "    }\n",
       "</style>\n",
       "<table border=\"1\" class=\"dataframe\">\n",
       "  <thead>\n",
       "    <tr style=\"text-align: right;\">\n",
       "      <th></th>\n",
       "      <th></th>\n",
       "      <th>age</th>\n",
       "      <th>hypertension</th>\n",
       "      <th>heart_disease</th>\n",
       "      <th>avg_glucose_level</th>\n",
       "      <th>bmi</th>\n",
       "      <th>stroke</th>\n",
       "      <th>gender_Male</th>\n",
       "      <th>gender_Female</th>\n",
       "      <th>gender_Other</th>\n",
       "      <th>ever_married_Yes</th>\n",
       "      <th>...</th>\n",
       "      <th>work_type_Self-employed</th>\n",
       "      <th>work_type_Govt_job</th>\n",
       "      <th>work_type_children</th>\n",
       "      <th>work_type_Never_worked</th>\n",
       "      <th>Residence_type_Urban</th>\n",
       "      <th>Residence_type_Rural</th>\n",
       "      <th>smoking_status_formerly smoked</th>\n",
       "      <th>smoking_status_never smoked</th>\n",
       "      <th>smoking_status_smokes</th>\n",
       "      <th>smoking_status_Unknown</th>\n",
       "    </tr>\n",
       "    <tr>\n",
       "      <th>stroke</th>\n",
       "      <th></th>\n",
       "      <th></th>\n",
       "      <th></th>\n",
       "      <th></th>\n",
       "      <th></th>\n",
       "      <th></th>\n",
       "      <th></th>\n",
       "      <th></th>\n",
       "      <th></th>\n",
       "      <th></th>\n",
       "      <th></th>\n",
       "      <th></th>\n",
       "      <th></th>\n",
       "      <th></th>\n",
       "      <th></th>\n",
       "      <th></th>\n",
       "      <th></th>\n",
       "      <th></th>\n",
       "      <th></th>\n",
       "      <th></th>\n",
       "      <th></th>\n",
       "      <th></th>\n",
       "    </tr>\n",
       "  </thead>\n",
       "  <tbody>\n",
       "    <tr>\n",
       "      <th rowspan=\"5\" valign=\"top\">0.0</th>\n",
       "      <th>1152</th>\n",
       "      <td>0.122648</td>\n",
       "      <td>0.0</td>\n",
       "      <td>0.0</td>\n",
       "      <td>0.704943</td>\n",
       "      <td>-0.600045</td>\n",
       "      <td>0.0</td>\n",
       "      <td>1.0</td>\n",
       "      <td>0.0</td>\n",
       "      <td>0.0</td>\n",
       "      <td>1.0</td>\n",
       "      <td>...</td>\n",
       "      <td>0.0</td>\n",
       "      <td>0.0</td>\n",
       "      <td>0.0</td>\n",
       "      <td>0.0</td>\n",
       "      <td>0.0</td>\n",
       "      <td>1.0</td>\n",
       "      <td>0.0</td>\n",
       "      <td>1.0</td>\n",
       "      <td>0.0</td>\n",
       "      <td>0.0</td>\n",
       "    </tr>\n",
       "    <tr>\n",
       "      <th>4411</th>\n",
       "      <td>0.609101</td>\n",
       "      <td>0.0</td>\n",
       "      <td>1.0</td>\n",
       "      <td>0.137408</td>\n",
       "      <td>-0.069711</td>\n",
       "      <td>0.0</td>\n",
       "      <td>1.0</td>\n",
       "      <td>0.0</td>\n",
       "      <td>0.0</td>\n",
       "      <td>1.0</td>\n",
       "      <td>...</td>\n",
       "      <td>1.0</td>\n",
       "      <td>0.0</td>\n",
       "      <td>0.0</td>\n",
       "      <td>0.0</td>\n",
       "      <td>1.0</td>\n",
       "      <td>0.0</td>\n",
       "      <td>0.0</td>\n",
       "      <td>1.0</td>\n",
       "      <td>0.0</td>\n",
       "      <td>0.0</td>\n",
       "    </tr>\n",
       "    <tr>\n",
       "      <th>4076</th>\n",
       "      <td>0.255317</td>\n",
       "      <td>0.0</td>\n",
       "      <td>0.0</td>\n",
       "      <td>-0.750111</td>\n",
       "      <td>0.240729</td>\n",
       "      <td>0.0</td>\n",
       "      <td>0.0</td>\n",
       "      <td>1.0</td>\n",
       "      <td>0.0</td>\n",
       "      <td>1.0</td>\n",
       "      <td>...</td>\n",
       "      <td>0.0</td>\n",
       "      <td>0.0</td>\n",
       "      <td>0.0</td>\n",
       "      <td>0.0</td>\n",
       "      <td>1.0</td>\n",
       "      <td>0.0</td>\n",
       "      <td>0.0</td>\n",
       "      <td>0.0</td>\n",
       "      <td>0.0</td>\n",
       "      <td>1.0</td>\n",
       "    </tr>\n",
       "    <tr>\n",
       "      <th>1382</th>\n",
       "      <td>1.095554</td>\n",
       "      <td>0.0</td>\n",
       "      <td>0.0</td>\n",
       "      <td>2.894258</td>\n",
       "      <td>-0.302540</td>\n",
       "      <td>0.0</td>\n",
       "      <td>0.0</td>\n",
       "      <td>1.0</td>\n",
       "      <td>0.0</td>\n",
       "      <td>1.0</td>\n",
       "      <td>...</td>\n",
       "      <td>0.0</td>\n",
       "      <td>0.0</td>\n",
       "      <td>0.0</td>\n",
       "      <td>0.0</td>\n",
       "      <td>1.0</td>\n",
       "      <td>0.0</td>\n",
       "      <td>0.0</td>\n",
       "      <td>0.0</td>\n",
       "      <td>1.0</td>\n",
       "      <td>0.0</td>\n",
       "    </tr>\n",
       "    <tr>\n",
       "      <th>3452</th>\n",
       "      <td>0.476432</td>\n",
       "      <td>0.0</td>\n",
       "      <td>0.0</td>\n",
       "      <td>-1.090852</td>\n",
       "      <td>-0.263735</td>\n",
       "      <td>0.0</td>\n",
       "      <td>0.0</td>\n",
       "      <td>1.0</td>\n",
       "      <td>0.0</td>\n",
       "      <td>1.0</td>\n",
       "      <td>...</td>\n",
       "      <td>1.0</td>\n",
       "      <td>0.0</td>\n",
       "      <td>0.0</td>\n",
       "      <td>0.0</td>\n",
       "      <td>1.0</td>\n",
       "      <td>0.0</td>\n",
       "      <td>0.0</td>\n",
       "      <td>1.0</td>\n",
       "      <td>0.0</td>\n",
       "      <td>0.0</td>\n",
       "    </tr>\n",
       "  </tbody>\n",
       "</table>\n",
       "<p>5 rows × 22 columns</p>\n",
       "</div>"
      ],
      "text/plain": [
       "                  age  hypertension  heart_disease  avg_glucose_level  \\\n",
       "stroke                                                                  \n",
       "0.0    1152  0.122648           0.0            0.0           0.704943   \n",
       "       4411  0.609101           0.0            1.0           0.137408   \n",
       "       4076  0.255317           0.0            0.0          -0.750111   \n",
       "       1382  1.095554           0.0            0.0           2.894258   \n",
       "       3452  0.476432           0.0            0.0          -1.090852   \n",
       "\n",
       "                  bmi  stroke  gender_Male  gender_Female  gender_Other  \\\n",
       "stroke                                                                    \n",
       "0.0    1152 -0.600045     0.0          1.0            0.0           0.0   \n",
       "       4411 -0.069711     0.0          1.0            0.0           0.0   \n",
       "       4076  0.240729     0.0          0.0            1.0           0.0   \n",
       "       1382 -0.302540     0.0          0.0            1.0           0.0   \n",
       "       3452 -0.263735     0.0          0.0            1.0           0.0   \n",
       "\n",
       "             ever_married_Yes  ...  work_type_Self-employed  \\\n",
       "stroke                         ...                            \n",
       "0.0    1152               1.0  ...                      0.0   \n",
       "       4411               1.0  ...                      1.0   \n",
       "       4076               1.0  ...                      0.0   \n",
       "       1382               1.0  ...                      0.0   \n",
       "       3452               1.0  ...                      1.0   \n",
       "\n",
       "             work_type_Govt_job  work_type_children  work_type_Never_worked  \\\n",
       "stroke                                                                        \n",
       "0.0    1152                 0.0                 0.0                     0.0   \n",
       "       4411                 0.0                 0.0                     0.0   \n",
       "       4076                 0.0                 0.0                     0.0   \n",
       "       1382                 0.0                 0.0                     0.0   \n",
       "       3452                 0.0                 0.0                     0.0   \n",
       "\n",
       "             Residence_type_Urban  Residence_type_Rural  \\\n",
       "stroke                                                    \n",
       "0.0    1152                   0.0                   1.0   \n",
       "       4411                   1.0                   0.0   \n",
       "       4076                   1.0                   0.0   \n",
       "       1382                   1.0                   0.0   \n",
       "       3452                   1.0                   0.0   \n",
       "\n",
       "             smoking_status_formerly smoked  smoking_status_never smoked  \\\n",
       "stroke                                                                     \n",
       "0.0    1152                             0.0                          1.0   \n",
       "       4411                             0.0                          1.0   \n",
       "       4076                             0.0                          0.0   \n",
       "       1382                             0.0                          0.0   \n",
       "       3452                             0.0                          1.0   \n",
       "\n",
       "             smoking_status_smokes  smoking_status_Unknown  \n",
       "stroke                                                      \n",
       "0.0    1152                    0.0                     0.0  \n",
       "       4411                    0.0                     0.0  \n",
       "       4076                    0.0                     1.0  \n",
       "       1382                    1.0                     0.0  \n",
       "       3452                    0.0                     0.0  \n",
       "\n",
       "[5 rows x 22 columns]"
      ]
     },
     "execution_count": 49,
     "metadata": {},
     "output_type": "execute_result"
    }
   ],
   "source": [
    "num_stroke = int(original_hot_data[\"stroke\"].sum())\n",
    "print(f\"number of records with stroke: {num_stroke}\")\n",
    "\n",
    "# sample equally\n",
    "balanced_original_hot_data = original_hot_data.groupby('stroke').apply(lambda x: x.sample(num_stroke))\n",
    "balanced_original_hot_data_Y = balanced_original_hot_data['stroke']\n",
    "balanced_original_hot_data_X = balanced_original_hot_data.drop(['stroke'], axis=1)\n",
    "print(balanced_original_hot_data.shape)\n",
    "balanced_original_hot_data.head()"
   ]
  },
  {
   "cell_type": "code",
   "execution_count": 55,
   "metadata": {
    "colab": {
     "base_uri": "https://localhost:8080/"
    },
    "id": "hAsW47NRlVh2",
    "outputId": "6863474c-f539-4b17-ce31-d4648eb80404"
   },
   "outputs": [
    {
     "name": "stdout",
     "output_type": "stream",
     "text": [
      "{'max_depth': 20, 'max_features': 'sqrt', 'min_samples_leaf': 2}\n",
      "Accuracy: 77.00877192982456\n"
     ]
    }
   ],
   "source": [
    "rfc = RandomForestClassifier()\n",
    "param_grid = {\n",
    "    'max_depth': list(range(5, 61, 5)),\n",
    "    'min_samples_leaf': [2, 31, 4],\n",
    "    'max_features': [\"sqrt\", \"log2\"]\n",
    "}\n",
    "\n",
    "grid_search = GridSearchCV(rfc, param_grid, cv=5, scoring=\"accuracy\")\n",
    "grid_search.fit(balanced_original_hot_data_X, balanced_original_hot_data_Y)\n",
    "print(grid_search.best_params_)\n",
    "print(f\"Accuracy: {grid_search.best_score_*100}\")"
   ]
  },
  {
   "cell_type": "code",
   "execution_count": 56,
   "metadata": {
    "colab": {
     "base_uri": "https://localhost:8080/"
    },
    "id": "35X5kMgTlcFm",
    "outputId": "ba967a3e-226d-4a8e-c741-cd16a4fa608a"
   },
   "outputs": [
    {
     "name": "stdout",
     "output_type": "stream",
     "text": [
      "\n",
      "Classification Report:\n",
      "              precision    recall  f1-score   support\n",
      "\n",
      "         0.0       0.94      0.91      0.92       239\n",
      "         1.0       0.91      0.94      0.93       239\n",
      "\n",
      "    accuracy                           0.92       478\n",
      "   macro avg       0.92      0.92      0.92       478\n",
      "weighted avg       0.92      0.92      0.92       478\n",
      "\n"
     ]
    }
   ],
   "source": [
    "preds = grid_search.predict(balanced_original_hot_data_X)\n",
    "print(\"\\nClassification Report:\")\n",
    "print(classification_report(balanced_original_hot_data_Y, preds))"
   ]
  },
  {
   "cell_type": "markdown",
   "metadata": {
    "id": "ZWKc8nGOt8bz"
   },
   "source": [
    "Random Forests produce the best f-score and accuracy by far, with an f-score of 0.92! It could be argued that we should also be minimizing the chance of our model reporting false negatives since we would want patients to know if they are at high risk for stroke. For this we would look at recall, but we can clearly see that this model outperforms the others on every metric so this analysis is largely unnecessary."
   ]
  }
 ],
 "metadata": {
  "colab": {
   "collapsed_sections": [],
   "name": "project-notebook.ipynb",
   "provenance": []
  },
  "kernelspec": {
   "display_name": "Python 3",
   "language": "python",
   "name": "python3"
  },
  "language_info": {
   "codemirror_mode": {
    "name": "ipython",
    "version": 3
   },
   "file_extension": ".py",
   "mimetype": "text/x-python",
   "name": "python",
   "nbconvert_exporter": "python",
   "pygments_lexer": "ipython3",
   "version": "3.8.5"
  }
 },
 "nbformat": 4,
 "nbformat_minor": 1
}
