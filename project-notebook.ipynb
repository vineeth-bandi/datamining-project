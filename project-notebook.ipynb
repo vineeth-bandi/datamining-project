{
  "nbformat": 4,
  "nbformat_minor": 0,
  "metadata": {
    "colab": {
      "name": "project-notebook.ipynb",
      "provenance": [],
      "collapsed_sections": []
    },
    "kernelspec": {
      "display_name": "Python 3",
      "language": "python",
      "name": "python3"
    },
    "language_info": {
      "codemirror_mode": {
        "name": "ipython",
        "version": 3
      },
      "file_extension": ".py",
      "mimetype": "text/x-python",
      "name": "python",
      "nbconvert_exporter": "python",
      "pygments_lexer": "ipython3",
      "version": "3.8.5"
    }
  },
  "cells": [
    {
      "cell_type": "markdown",
      "metadata": {
        "id": "wfFoTzio5NSv"
      },
      "source": [
        "# Datamining on Stroke Dataset\n"
      ]
    },
    {
      "cell_type": "markdown",
      "metadata": {
        "id": "0ZjCN0Ci6UyK"
      },
      "source": [
        "This dataset contains information about 5110 people and their health in regards to their stroke history. There are 11 features (including the id) in the dataset which we will use to create models to predict whether or not someone is prone to stroke. These features include:\n",
        "\n",
        "\n",
        "*   Gender\n",
        "*   Age\n",
        "*   Hypertension (known as high blood pressure, or a blood pressure above 140/90)\n",
        "*   Heart Disease\n",
        "*   Marital History (if the subject is or was ever married)\n",
        "*   Type of Work (Government, Private, Self-Employed, Never Worked, or Children)\n",
        "*   Residency (Rural or Urban)\n",
        "*   Average Glucose Level\n",
        "*   BMI\n",
        "*   Smoking History (Smokes, Formally Smoked, Never Smoked or Unknown)"
      ]
    },
    {
      "cell_type": "markdown",
      "metadata": {
        "id": "3FzTzlzQ6Wjm"
      },
      "source": [
        "We wanted to be able to accurately predict whether someone is prone to having a stroke in the future based on these features. If we were able to accurately predict signs of a stroke, it could become extremely valuable to the medical field. Modeling this data could help hospitals and doctors detect those prone to stroke and begin treating or warning their patients of possible strokes in the future. However, we must create a model first, and that requires us to preprocess our data. "
      ]
    },
    {
      "cell_type": "code",
      "metadata": {
        "id": "CvAO1keJ4-rp"
      },
      "source": [
        "# Standard imports\n",
        "import warnings\n",
        "import pandas as pd\n",
        "import numpy as np\n",
        "import sklearn as sk\n",
        "import matplotlib.pyplot as plt\n",
        "import time"
      ],
      "execution_count": 24,
      "outputs": []
    },
    {
      "cell_type": "markdown",
      "metadata": {
        "id": "qYWusnxw76JJ"
      },
      "source": [
        "## Data Preprocessing (Exploration and Cleaning)"
      ]
    },
    {
      "cell_type": "code",
      "metadata": {
        "colab": {
          "base_uri": "https://localhost:8080/",
          "height": 206
        },
        "id": "dV3GFepj8IyL",
        "outputId": "366ab802-233b-4482-b403-318aaf3b4598"
      },
      "source": [
        "data = pd.read_csv('healthcare-dataset-stroke-data.csv')\n",
        "data.head()"
      ],
      "execution_count": 25,
      "outputs": [
        {
          "output_type": "execute_result",
          "data": {
            "text/html": [
              "<div>\n",
              "<style scoped>\n",
              "    .dataframe tbody tr th:only-of-type {\n",
              "        vertical-align: middle;\n",
              "    }\n",
              "\n",
              "    .dataframe tbody tr th {\n",
              "        vertical-align: top;\n",
              "    }\n",
              "\n",
              "    .dataframe thead th {\n",
              "        text-align: right;\n",
              "    }\n",
              "</style>\n",
              "<table border=\"1\" class=\"dataframe\">\n",
              "  <thead>\n",
              "    <tr style=\"text-align: right;\">\n",
              "      <th></th>\n",
              "      <th>id</th>\n",
              "      <th>gender</th>\n",
              "      <th>age</th>\n",
              "      <th>hypertension</th>\n",
              "      <th>heart_disease</th>\n",
              "      <th>ever_married</th>\n",
              "      <th>work_type</th>\n",
              "      <th>Residence_type</th>\n",
              "      <th>avg_glucose_level</th>\n",
              "      <th>bmi</th>\n",
              "      <th>smoking_status</th>\n",
              "      <th>stroke</th>\n",
              "    </tr>\n",
              "  </thead>\n",
              "  <tbody>\n",
              "    <tr>\n",
              "      <th>0</th>\n",
              "      <td>9046</td>\n",
              "      <td>Male</td>\n",
              "      <td>67.0</td>\n",
              "      <td>0</td>\n",
              "      <td>1</td>\n",
              "      <td>Yes</td>\n",
              "      <td>Private</td>\n",
              "      <td>Urban</td>\n",
              "      <td>228.69</td>\n",
              "      <td>36.6</td>\n",
              "      <td>formerly smoked</td>\n",
              "      <td>1</td>\n",
              "    </tr>\n",
              "    <tr>\n",
              "      <th>1</th>\n",
              "      <td>51676</td>\n",
              "      <td>Female</td>\n",
              "      <td>61.0</td>\n",
              "      <td>0</td>\n",
              "      <td>0</td>\n",
              "      <td>Yes</td>\n",
              "      <td>Self-employed</td>\n",
              "      <td>Rural</td>\n",
              "      <td>202.21</td>\n",
              "      <td>NaN</td>\n",
              "      <td>never smoked</td>\n",
              "      <td>1</td>\n",
              "    </tr>\n",
              "    <tr>\n",
              "      <th>2</th>\n",
              "      <td>31112</td>\n",
              "      <td>Male</td>\n",
              "      <td>80.0</td>\n",
              "      <td>0</td>\n",
              "      <td>1</td>\n",
              "      <td>Yes</td>\n",
              "      <td>Private</td>\n",
              "      <td>Rural</td>\n",
              "      <td>105.92</td>\n",
              "      <td>32.5</td>\n",
              "      <td>never smoked</td>\n",
              "      <td>1</td>\n",
              "    </tr>\n",
              "    <tr>\n",
              "      <th>3</th>\n",
              "      <td>60182</td>\n",
              "      <td>Female</td>\n",
              "      <td>49.0</td>\n",
              "      <td>0</td>\n",
              "      <td>0</td>\n",
              "      <td>Yes</td>\n",
              "      <td>Private</td>\n",
              "      <td>Urban</td>\n",
              "      <td>171.23</td>\n",
              "      <td>34.4</td>\n",
              "      <td>smokes</td>\n",
              "      <td>1</td>\n",
              "    </tr>\n",
              "    <tr>\n",
              "      <th>4</th>\n",
              "      <td>1665</td>\n",
              "      <td>Female</td>\n",
              "      <td>79.0</td>\n",
              "      <td>1</td>\n",
              "      <td>0</td>\n",
              "      <td>Yes</td>\n",
              "      <td>Self-employed</td>\n",
              "      <td>Rural</td>\n",
              "      <td>174.12</td>\n",
              "      <td>24.0</td>\n",
              "      <td>never smoked</td>\n",
              "      <td>1</td>\n",
              "    </tr>\n",
              "  </tbody>\n",
              "</table>\n",
              "</div>"
            ],
            "text/plain": [
              "      id  gender   age  ...   bmi   smoking_status stroke\n",
              "0   9046    Male  67.0  ...  36.6  formerly smoked      1\n",
              "1  51676  Female  61.0  ...   NaN     never smoked      1\n",
              "2  31112    Male  80.0  ...  32.5     never smoked      1\n",
              "3  60182  Female  49.0  ...  34.4           smokes      1\n",
              "4   1665  Female  79.0  ...  24.0     never smoked      1\n",
              "\n",
              "[5 rows x 12 columns]"
            ]
          },
          "metadata": {},
          "execution_count": 25
        }
      ]
    },
    {
      "cell_type": "markdown",
      "metadata": {
        "id": "5yDfYnJG8_Ls"
      },
      "source": [
        "Here, we want to remove the id column of our data, since it provides us no use to the model we want to create."
      ]
    },
    {
      "cell_type": "code",
      "metadata": {
        "colab": {
          "base_uri": "https://localhost:8080/",
          "height": 206
        },
        "id": "7kSNR_AH8dWI",
        "outputId": "73ae9079-944a-412f-e728-4f141b5b2f39"
      },
      "source": [
        "data.drop('id', axis=1, inplace=True)\n",
        "data.head()"
      ],
      "execution_count": 26,
      "outputs": [
        {
          "output_type": "execute_result",
          "data": {
            "text/html": [
              "<div>\n",
              "<style scoped>\n",
              "    .dataframe tbody tr th:only-of-type {\n",
              "        vertical-align: middle;\n",
              "    }\n",
              "\n",
              "    .dataframe tbody tr th {\n",
              "        vertical-align: top;\n",
              "    }\n",
              "\n",
              "    .dataframe thead th {\n",
              "        text-align: right;\n",
              "    }\n",
              "</style>\n",
              "<table border=\"1\" class=\"dataframe\">\n",
              "  <thead>\n",
              "    <tr style=\"text-align: right;\">\n",
              "      <th></th>\n",
              "      <th>gender</th>\n",
              "      <th>age</th>\n",
              "      <th>hypertension</th>\n",
              "      <th>heart_disease</th>\n",
              "      <th>ever_married</th>\n",
              "      <th>work_type</th>\n",
              "      <th>Residence_type</th>\n",
              "      <th>avg_glucose_level</th>\n",
              "      <th>bmi</th>\n",
              "      <th>smoking_status</th>\n",
              "      <th>stroke</th>\n",
              "    </tr>\n",
              "  </thead>\n",
              "  <tbody>\n",
              "    <tr>\n",
              "      <th>0</th>\n",
              "      <td>Male</td>\n",
              "      <td>67.0</td>\n",
              "      <td>0</td>\n",
              "      <td>1</td>\n",
              "      <td>Yes</td>\n",
              "      <td>Private</td>\n",
              "      <td>Urban</td>\n",
              "      <td>228.69</td>\n",
              "      <td>36.6</td>\n",
              "      <td>formerly smoked</td>\n",
              "      <td>1</td>\n",
              "    </tr>\n",
              "    <tr>\n",
              "      <th>1</th>\n",
              "      <td>Female</td>\n",
              "      <td>61.0</td>\n",
              "      <td>0</td>\n",
              "      <td>0</td>\n",
              "      <td>Yes</td>\n",
              "      <td>Self-employed</td>\n",
              "      <td>Rural</td>\n",
              "      <td>202.21</td>\n",
              "      <td>NaN</td>\n",
              "      <td>never smoked</td>\n",
              "      <td>1</td>\n",
              "    </tr>\n",
              "    <tr>\n",
              "      <th>2</th>\n",
              "      <td>Male</td>\n",
              "      <td>80.0</td>\n",
              "      <td>0</td>\n",
              "      <td>1</td>\n",
              "      <td>Yes</td>\n",
              "      <td>Private</td>\n",
              "      <td>Rural</td>\n",
              "      <td>105.92</td>\n",
              "      <td>32.5</td>\n",
              "      <td>never smoked</td>\n",
              "      <td>1</td>\n",
              "    </tr>\n",
              "    <tr>\n",
              "      <th>3</th>\n",
              "      <td>Female</td>\n",
              "      <td>49.0</td>\n",
              "      <td>0</td>\n",
              "      <td>0</td>\n",
              "      <td>Yes</td>\n",
              "      <td>Private</td>\n",
              "      <td>Urban</td>\n",
              "      <td>171.23</td>\n",
              "      <td>34.4</td>\n",
              "      <td>smokes</td>\n",
              "      <td>1</td>\n",
              "    </tr>\n",
              "    <tr>\n",
              "      <th>4</th>\n",
              "      <td>Female</td>\n",
              "      <td>79.0</td>\n",
              "      <td>1</td>\n",
              "      <td>0</td>\n",
              "      <td>Yes</td>\n",
              "      <td>Self-employed</td>\n",
              "      <td>Rural</td>\n",
              "      <td>174.12</td>\n",
              "      <td>24.0</td>\n",
              "      <td>never smoked</td>\n",
              "      <td>1</td>\n",
              "    </tr>\n",
              "  </tbody>\n",
              "</table>\n",
              "</div>"
            ],
            "text/plain": [
              "   gender   age  hypertension  ...   bmi   smoking_status stroke\n",
              "0    Male  67.0             0  ...  36.6  formerly smoked      1\n",
              "1  Female  61.0             0  ...   NaN     never smoked      1\n",
              "2    Male  80.0             0  ...  32.5     never smoked      1\n",
              "3  Female  49.0             0  ...  34.4           smokes      1\n",
              "4  Female  79.0             1  ...  24.0     never smoked      1\n",
              "\n",
              "[5 rows x 11 columns]"
            ]
          },
          "metadata": {},
          "execution_count": 26
        }
      ]
    },
    {
      "cell_type": "markdown",
      "metadata": {
        "id": "f0uH003u9ExY"
      },
      "source": [
        "Now that the id column is removed, we want to check for any missing values in the data."
      ]
    },
    {
      "cell_type": "code",
      "metadata": {
        "colab": {
          "base_uri": "https://localhost:8080/"
        },
        "id": "ZHcJ6EpT9C1g",
        "outputId": "4ec608b0-1c1e-48bc-c2bf-423cc48e9fc7"
      },
      "source": [
        "# Check for null values in every column\n",
        "missing_gender = data['gender'].isnull().sum()\n",
        "print(\"# of missing gender values: \", missing_gender)\n",
        "\n",
        "missing_age = data['age'].isnull().sum()\n",
        "print(\"# of missing age values: \", missing_age)\n",
        "\n",
        "missing_hypertension = data['hypertension'].isnull().sum()\n",
        "print(\"# of missing hypertension values: \", missing_hypertension)\n",
        "\n",
        "missing_heart_disease = data['heart_disease'].isnull().sum()\n",
        "print(\"# of missing heart_disease values: \", missing_heart_disease)\n",
        "\n",
        "missing_ever_married = data['ever_married'].isnull().sum()\n",
        "print(\"# of missing ever_married values: \", missing_ever_married)\n",
        "\n",
        "missing_work_type = data['work_type'].isnull().sum()\n",
        "print(\"# of missing work_type values: \", missing_work_type)\n",
        "\n",
        "missing_Residence_type = data['Residence_type'].isnull().sum()\n",
        "print(\"# of missing Residence_type values: \", missing_Residence_type)\n",
        "\n",
        "missing_avg_glucose_level = data['avg_glucose_level'].isnull().sum()\n",
        "print(\"# of missing avg_glucose_level values: \", missing_avg_glucose_level)\n",
        "\n",
        "missing_bmi = data['bmi'].isnull().sum()\n",
        "print(\"# of missing bmi values: \", missing_bmi)\n",
        "\n",
        "missing_smoking_status = data['smoking_status'].isnull().sum()\n",
        "print(\"# of missing smoking_status values: \", missing_smoking_status)\n",
        "\n",
        "missing_stroke = data['stroke'].isnull().sum()\n",
        "print(\"# of missing stroke values: \", missing_stroke)"
      ],
      "execution_count": 27,
      "outputs": [
        {
          "output_type": "stream",
          "name": "stdout",
          "text": [
            "# of missing gender values:  0\n",
            "# of missing age values:  0\n",
            "# of missing hypertension values:  0\n",
            "# of missing heart_disease values:  0\n",
            "# of missing ever_married values:  0\n",
            "# of missing work_type values:  0\n",
            "# of missing Residence_type values:  0\n",
            "# of missing avg_glucose_level values:  0\n",
            "# of missing bmi values:  201\n",
            "# of missing smoking_status values:  0\n",
            "# of missing stroke values:  0\n"
          ]
        }
      ]
    },
    {
      "cell_type": "markdown",
      "metadata": {
        "id": "RGZBkMjL6uiE"
      },
      "source": [
        "We see that there are only missing data values for BMI, so we decide to check how large the proportion of missing values to the positive case of strokes compared to the overall distribution."
      ]
    },
    {
      "cell_type": "code",
      "metadata": {
        "colab": {
          "base_uri": "https://localhost:8080/"
        },
        "id": "XJmgOM9p6Gf-",
        "outputId": "1c2d34da-9d9e-485e-a910-f563e8280f1e"
      },
      "source": [
        "stroke_dist = len(data[data['stroke']==1].index)/len(data.index)\n",
        "null_bmi = data[data['bmi'].isnull()]\n",
        "null_stroke_dist = len(null_bmi[null_bmi['stroke']==1].index)/len(null_bmi.index)\n",
        "print('Percent of patients that experienced stroke:', stroke_dist)\n",
        "print('Percent of patients without a measured BMI that experienced stroke:', null_stroke_dist)"
      ],
      "execution_count": 28,
      "outputs": [
        {
          "output_type": "stream",
          "name": "stdout",
          "text": [
            "Percent of patients that experienced stroke: 0.0487279843444227\n",
            "Percent of patients without a measured BMI that experienced stroke: 0.19900497512437812\n"
          ]
        }
      ]
    },
    {
      "cell_type": "markdown",
      "metadata": {
        "id": "RChWSwOH6GgC"
      },
      "source": [
        "We can see that there are NaN values for BMI, here we chose to use imputation to clean the data. We choose to use imputation over a deletion method because we believe this would introduce less bias. We see that the proportion of missing values is greater in the positive case (i.e., had a stroke) compared to the general distribution of data. This would make list wise deletion introduce bias and remove samples at a greater proportion for the positive case. One problem with using univariate imputation is that BMI is highly variable and the distribution of data could still introduce bias. Here we choose to use multivariate imputation to attempt to address this problem."
      ]
    },
    {
      "cell_type": "code",
      "metadata": {
        "colab": {
          "base_uri": "https://localhost:8080/",
          "height": 461
        },
        "id": "UbRfuLS3-lj9",
        "outputId": "02f64021-7410-4104-e68a-167f8ffd9c16"
      },
      "source": [
        "from sklearn.experimental import enable_iterative_imputer\n",
        "from sklearn.impute import IterativeImputer\n",
        "\n",
        "imp = IterativeImputer(max_iter=10, random_state=0)\n",
        "hot_data = pd.DataFrame(imp.fit_transform(hot_data), columns=list(hot_data.columns))\n",
        "hot_data"
      ],
      "execution_count": 31,
      "outputs": [
        {
          "output_type": "execute_result",
          "data": {
            "text/html": [
              "<div>\n",
              "<style scoped>\n",
              "    .dataframe tbody tr th:only-of-type {\n",
              "        vertical-align: middle;\n",
              "    }\n",
              "\n",
              "    .dataframe tbody tr th {\n",
              "        vertical-align: top;\n",
              "    }\n",
              "\n",
              "    .dataframe thead th {\n",
              "        text-align: right;\n",
              "    }\n",
              "</style>\n",
              "<table border=\"1\" class=\"dataframe\">\n",
              "  <thead>\n",
              "    <tr style=\"text-align: right;\">\n",
              "      <th></th>\n",
              "      <th>age</th>\n",
              "      <th>hypertension</th>\n",
              "      <th>heart_disease</th>\n",
              "      <th>avg_glucose_level</th>\n",
              "      <th>bmi</th>\n",
              "      <th>stroke</th>\n",
              "      <th>gender_Male</th>\n",
              "      <th>gender_Female</th>\n",
              "      <th>gender_Other</th>\n",
              "      <th>ever_married_Yes</th>\n",
              "      <th>ever_married_No</th>\n",
              "      <th>work_type_Private</th>\n",
              "      <th>work_type_Self-employed</th>\n",
              "      <th>work_type_Govt_job</th>\n",
              "      <th>work_type_children</th>\n",
              "      <th>work_type_Never_worked</th>\n",
              "      <th>Residence_type_Urban</th>\n",
              "      <th>Residence_type_Rural</th>\n",
              "      <th>smoking_status_formerly smoked</th>\n",
              "      <th>smoking_status_never smoked</th>\n",
              "      <th>smoking_status_smokes</th>\n",
              "      <th>smoking_status_Unknown</th>\n",
              "    </tr>\n",
              "  </thead>\n",
              "  <tbody>\n",
              "    <tr>\n",
              "      <th>0</th>\n",
              "      <td>67.0</td>\n",
              "      <td>0.0</td>\n",
              "      <td>1.0</td>\n",
              "      <td>228.69</td>\n",
              "      <td>36.600000</td>\n",
              "      <td>1.0</td>\n",
              "      <td>1.0</td>\n",
              "      <td>0.0</td>\n",
              "      <td>0.0</td>\n",
              "      <td>1.0</td>\n",
              "      <td>0.0</td>\n",
              "      <td>1.0</td>\n",
              "      <td>0.0</td>\n",
              "      <td>0.0</td>\n",
              "      <td>0.0</td>\n",
              "      <td>0.0</td>\n",
              "      <td>1.0</td>\n",
              "      <td>0.0</td>\n",
              "      <td>1.0</td>\n",
              "      <td>0.0</td>\n",
              "      <td>0.0</td>\n",
              "      <td>0.0</td>\n",
              "    </tr>\n",
              "    <tr>\n",
              "      <th>1</th>\n",
              "      <td>61.0</td>\n",
              "      <td>0.0</td>\n",
              "      <td>0.0</td>\n",
              "      <td>202.21</td>\n",
              "      <td>31.171222</td>\n",
              "      <td>1.0</td>\n",
              "      <td>0.0</td>\n",
              "      <td>1.0</td>\n",
              "      <td>0.0</td>\n",
              "      <td>1.0</td>\n",
              "      <td>0.0</td>\n",
              "      <td>0.0</td>\n",
              "      <td>1.0</td>\n",
              "      <td>0.0</td>\n",
              "      <td>0.0</td>\n",
              "      <td>0.0</td>\n",
              "      <td>0.0</td>\n",
              "      <td>1.0</td>\n",
              "      <td>0.0</td>\n",
              "      <td>1.0</td>\n",
              "      <td>0.0</td>\n",
              "      <td>0.0</td>\n",
              "    </tr>\n",
              "    <tr>\n",
              "      <th>2</th>\n",
              "      <td>80.0</td>\n",
              "      <td>0.0</td>\n",
              "      <td>1.0</td>\n",
              "      <td>105.92</td>\n",
              "      <td>32.500000</td>\n",
              "      <td>1.0</td>\n",
              "      <td>1.0</td>\n",
              "      <td>0.0</td>\n",
              "      <td>0.0</td>\n",
              "      <td>1.0</td>\n",
              "      <td>0.0</td>\n",
              "      <td>1.0</td>\n",
              "      <td>0.0</td>\n",
              "      <td>0.0</td>\n",
              "      <td>0.0</td>\n",
              "      <td>0.0</td>\n",
              "      <td>0.0</td>\n",
              "      <td>1.0</td>\n",
              "      <td>0.0</td>\n",
              "      <td>1.0</td>\n",
              "      <td>0.0</td>\n",
              "      <td>0.0</td>\n",
              "    </tr>\n",
              "    <tr>\n",
              "      <th>3</th>\n",
              "      <td>49.0</td>\n",
              "      <td>0.0</td>\n",
              "      <td>0.0</td>\n",
              "      <td>171.23</td>\n",
              "      <td>34.400000</td>\n",
              "      <td>1.0</td>\n",
              "      <td>0.0</td>\n",
              "      <td>1.0</td>\n",
              "      <td>0.0</td>\n",
              "      <td>1.0</td>\n",
              "      <td>0.0</td>\n",
              "      <td>1.0</td>\n",
              "      <td>0.0</td>\n",
              "      <td>0.0</td>\n",
              "      <td>0.0</td>\n",
              "      <td>0.0</td>\n",
              "      <td>1.0</td>\n",
              "      <td>0.0</td>\n",
              "      <td>0.0</td>\n",
              "      <td>0.0</td>\n",
              "      <td>1.0</td>\n",
              "      <td>0.0</td>\n",
              "    </tr>\n",
              "    <tr>\n",
              "      <th>4</th>\n",
              "      <td>79.0</td>\n",
              "      <td>1.0</td>\n",
              "      <td>0.0</td>\n",
              "      <td>174.12</td>\n",
              "      <td>24.000000</td>\n",
              "      <td>1.0</td>\n",
              "      <td>0.0</td>\n",
              "      <td>1.0</td>\n",
              "      <td>0.0</td>\n",
              "      <td>1.0</td>\n",
              "      <td>0.0</td>\n",
              "      <td>0.0</td>\n",
              "      <td>1.0</td>\n",
              "      <td>0.0</td>\n",
              "      <td>0.0</td>\n",
              "      <td>0.0</td>\n",
              "      <td>0.0</td>\n",
              "      <td>1.0</td>\n",
              "      <td>0.0</td>\n",
              "      <td>1.0</td>\n",
              "      <td>0.0</td>\n",
              "      <td>0.0</td>\n",
              "    </tr>\n",
              "    <tr>\n",
              "      <th>...</th>\n",
              "      <td>...</td>\n",
              "      <td>...</td>\n",
              "      <td>...</td>\n",
              "      <td>...</td>\n",
              "      <td>...</td>\n",
              "      <td>...</td>\n",
              "      <td>...</td>\n",
              "      <td>...</td>\n",
              "      <td>...</td>\n",
              "      <td>...</td>\n",
              "      <td>...</td>\n",
              "      <td>...</td>\n",
              "      <td>...</td>\n",
              "      <td>...</td>\n",
              "      <td>...</td>\n",
              "      <td>...</td>\n",
              "      <td>...</td>\n",
              "      <td>...</td>\n",
              "      <td>...</td>\n",
              "      <td>...</td>\n",
              "      <td>...</td>\n",
              "      <td>...</td>\n",
              "    </tr>\n",
              "    <tr>\n",
              "      <th>5105</th>\n",
              "      <td>80.0</td>\n",
              "      <td>1.0</td>\n",
              "      <td>0.0</td>\n",
              "      <td>83.75</td>\n",
              "      <td>32.263355</td>\n",
              "      <td>0.0</td>\n",
              "      <td>0.0</td>\n",
              "      <td>1.0</td>\n",
              "      <td>0.0</td>\n",
              "      <td>1.0</td>\n",
              "      <td>0.0</td>\n",
              "      <td>1.0</td>\n",
              "      <td>0.0</td>\n",
              "      <td>0.0</td>\n",
              "      <td>0.0</td>\n",
              "      <td>0.0</td>\n",
              "      <td>1.0</td>\n",
              "      <td>0.0</td>\n",
              "      <td>0.0</td>\n",
              "      <td>1.0</td>\n",
              "      <td>0.0</td>\n",
              "      <td>0.0</td>\n",
              "    </tr>\n",
              "    <tr>\n",
              "      <th>5106</th>\n",
              "      <td>81.0</td>\n",
              "      <td>0.0</td>\n",
              "      <td>0.0</td>\n",
              "      <td>125.20</td>\n",
              "      <td>40.000000</td>\n",
              "      <td>0.0</td>\n",
              "      <td>0.0</td>\n",
              "      <td>1.0</td>\n",
              "      <td>0.0</td>\n",
              "      <td>1.0</td>\n",
              "      <td>0.0</td>\n",
              "      <td>0.0</td>\n",
              "      <td>1.0</td>\n",
              "      <td>0.0</td>\n",
              "      <td>0.0</td>\n",
              "      <td>0.0</td>\n",
              "      <td>1.0</td>\n",
              "      <td>0.0</td>\n",
              "      <td>0.0</td>\n",
              "      <td>1.0</td>\n",
              "      <td>0.0</td>\n",
              "      <td>0.0</td>\n",
              "    </tr>\n",
              "    <tr>\n",
              "      <th>5107</th>\n",
              "      <td>35.0</td>\n",
              "      <td>0.0</td>\n",
              "      <td>0.0</td>\n",
              "      <td>82.99</td>\n",
              "      <td>30.600000</td>\n",
              "      <td>0.0</td>\n",
              "      <td>0.0</td>\n",
              "      <td>1.0</td>\n",
              "      <td>0.0</td>\n",
              "      <td>1.0</td>\n",
              "      <td>0.0</td>\n",
              "      <td>0.0</td>\n",
              "      <td>1.0</td>\n",
              "      <td>0.0</td>\n",
              "      <td>0.0</td>\n",
              "      <td>0.0</td>\n",
              "      <td>0.0</td>\n",
              "      <td>1.0</td>\n",
              "      <td>0.0</td>\n",
              "      <td>1.0</td>\n",
              "      <td>0.0</td>\n",
              "      <td>0.0</td>\n",
              "    </tr>\n",
              "    <tr>\n",
              "      <th>5108</th>\n",
              "      <td>51.0</td>\n",
              "      <td>0.0</td>\n",
              "      <td>0.0</td>\n",
              "      <td>166.29</td>\n",
              "      <td>25.600000</td>\n",
              "      <td>0.0</td>\n",
              "      <td>1.0</td>\n",
              "      <td>0.0</td>\n",
              "      <td>0.0</td>\n",
              "      <td>1.0</td>\n",
              "      <td>0.0</td>\n",
              "      <td>1.0</td>\n",
              "      <td>0.0</td>\n",
              "      <td>0.0</td>\n",
              "      <td>0.0</td>\n",
              "      <td>0.0</td>\n",
              "      <td>0.0</td>\n",
              "      <td>1.0</td>\n",
              "      <td>1.0</td>\n",
              "      <td>0.0</td>\n",
              "      <td>0.0</td>\n",
              "      <td>0.0</td>\n",
              "    </tr>\n",
              "    <tr>\n",
              "      <th>5109</th>\n",
              "      <td>44.0</td>\n",
              "      <td>0.0</td>\n",
              "      <td>0.0</td>\n",
              "      <td>85.28</td>\n",
              "      <td>26.200000</td>\n",
              "      <td>0.0</td>\n",
              "      <td>0.0</td>\n",
              "      <td>1.0</td>\n",
              "      <td>0.0</td>\n",
              "      <td>1.0</td>\n",
              "      <td>0.0</td>\n",
              "      <td>0.0</td>\n",
              "      <td>0.0</td>\n",
              "      <td>1.0</td>\n",
              "      <td>0.0</td>\n",
              "      <td>0.0</td>\n",
              "      <td>1.0</td>\n",
              "      <td>0.0</td>\n",
              "      <td>0.0</td>\n",
              "      <td>0.0</td>\n",
              "      <td>0.0</td>\n",
              "      <td>1.0</td>\n",
              "    </tr>\n",
              "  </tbody>\n",
              "</table>\n",
              "<p>5110 rows × 22 columns</p>\n",
              "</div>"
            ],
            "text/plain": [
              "       age  hypertension  ...  smoking_status_smokes  smoking_status_Unknown\n",
              "0     67.0           0.0  ...                    0.0                     0.0\n",
              "1     61.0           0.0  ...                    0.0                     0.0\n",
              "2     80.0           0.0  ...                    0.0                     0.0\n",
              "3     49.0           0.0  ...                    1.0                     0.0\n",
              "4     79.0           1.0  ...                    0.0                     0.0\n",
              "...    ...           ...  ...                    ...                     ...\n",
              "5105  80.0           1.0  ...                    0.0                     0.0\n",
              "5106  81.0           0.0  ...                    0.0                     0.0\n",
              "5107  35.0           0.0  ...                    0.0                     0.0\n",
              "5108  51.0           0.0  ...                    0.0                     0.0\n",
              "5109  44.0           0.0  ...                    0.0                     1.0\n",
              "\n",
              "[5110 rows x 22 columns]"
            ]
          },
          "metadata": {},
          "execution_count": 31
        }
      ]
    },
    {
      "cell_type": "markdown",
      "metadata": {
        "id": "cyOQ3bNN9E3D"
      },
      "source": [
        "Now that we have filled in our missing values, we will now standardize all of the numerical data."
      ]
    },
    {
      "cell_type": "code",
      "metadata": {
        "colab": {
          "base_uri": "https://localhost:8080/",
          "height": 206
        },
        "id": "k5PCDn8L_4jJ",
        "outputId": "5e4a32c4-a98d-4892-8bd3-4ef388dfb481"
      },
      "source": [
        "# Standardize the age, avg_glucose_level, and bmi columns\n",
        "numerical_cols = [\"age\", \"avg_glucose_level\", \"bmi\"]\n",
        "for c in numerical_cols:\n",
        "    data[c] = (data[c] - data[c].mean()) / data[c].std()\n",
        "    \n",
        "data.head()"
      ],
      "execution_count": 32,
      "outputs": [
        {
          "output_type": "execute_result",
          "data": {
            "text/html": [
              "<div>\n",
              "<style scoped>\n",
              "    .dataframe tbody tr th:only-of-type {\n",
              "        vertical-align: middle;\n",
              "    }\n",
              "\n",
              "    .dataframe tbody tr th {\n",
              "        vertical-align: top;\n",
              "    }\n",
              "\n",
              "    .dataframe thead th {\n",
              "        text-align: right;\n",
              "    }\n",
              "</style>\n",
              "<table border=\"1\" class=\"dataframe\">\n",
              "  <thead>\n",
              "    <tr style=\"text-align: right;\">\n",
              "      <th></th>\n",
              "      <th>gender</th>\n",
              "      <th>age</th>\n",
              "      <th>hypertension</th>\n",
              "      <th>heart_disease</th>\n",
              "      <th>ever_married</th>\n",
              "      <th>work_type</th>\n",
              "      <th>Residence_type</th>\n",
              "      <th>avg_glucose_level</th>\n",
              "      <th>bmi</th>\n",
              "      <th>smoking_status</th>\n",
              "      <th>stroke</th>\n",
              "    </tr>\n",
              "  </thead>\n",
              "  <tbody>\n",
              "    <tr>\n",
              "      <th>0</th>\n",
              "      <td>Male</td>\n",
              "      <td>1.051331</td>\n",
              "      <td>0</td>\n",
              "      <td>1</td>\n",
              "      <td>Yes</td>\n",
              "      <td>Private</td>\n",
              "      <td>Urban</td>\n",
              "      <td>2.706111</td>\n",
              "      <td>0.981245</td>\n",
              "      <td>formerly smoked</td>\n",
              "      <td>1</td>\n",
              "    </tr>\n",
              "    <tr>\n",
              "      <th>1</th>\n",
              "      <td>Female</td>\n",
              "      <td>0.785993</td>\n",
              "      <td>0</td>\n",
              "      <td>0</td>\n",
              "      <td>Yes</td>\n",
              "      <td>Self-employed</td>\n",
              "      <td>Rural</td>\n",
              "      <td>2.121351</td>\n",
              "      <td>NaN</td>\n",
              "      <td>never smoked</td>\n",
              "      <td>1</td>\n",
              "    </tr>\n",
              "    <tr>\n",
              "      <th>2</th>\n",
              "      <td>Male</td>\n",
              "      <td>1.626231</td>\n",
              "      <td>0</td>\n",
              "      <td>1</td>\n",
              "      <td>Yes</td>\n",
              "      <td>Private</td>\n",
              "      <td>Rural</td>\n",
              "      <td>-0.005028</td>\n",
              "      <td>0.459222</td>\n",
              "      <td>never smoked</td>\n",
              "      <td>1</td>\n",
              "    </tr>\n",
              "    <tr>\n",
              "      <th>3</th>\n",
              "      <td>Female</td>\n",
              "      <td>0.255317</td>\n",
              "      <td>0</td>\n",
              "      <td>0</td>\n",
              "      <td>Yes</td>\n",
              "      <td>Private</td>\n",
              "      <td>Urban</td>\n",
              "      <td>1.437217</td>\n",
              "      <td>0.701135</td>\n",
              "      <td>smokes</td>\n",
              "      <td>1</td>\n",
              "    </tr>\n",
              "    <tr>\n",
              "      <th>4</th>\n",
              "      <td>Female</td>\n",
              "      <td>1.582008</td>\n",
              "      <td>1</td>\n",
              "      <td>0</td>\n",
              "      <td>Yes</td>\n",
              "      <td>Self-employed</td>\n",
              "      <td>Rural</td>\n",
              "      <td>1.501038</td>\n",
              "      <td>-0.623020</td>\n",
              "      <td>never smoked</td>\n",
              "      <td>1</td>\n",
              "    </tr>\n",
              "  </tbody>\n",
              "</table>\n",
              "</div>"
            ],
            "text/plain": [
              "   gender       age  hypertension  ...       bmi   smoking_status stroke\n",
              "0    Male  1.051331             0  ...  0.981245  formerly smoked      1\n",
              "1  Female  0.785993             0  ...       NaN     never smoked      1\n",
              "2    Male  1.626231             0  ...  0.459222     never smoked      1\n",
              "3  Female  0.255317             0  ...  0.701135           smokes      1\n",
              "4  Female  1.582008             1  ... -0.623020     never smoked      1\n",
              "\n",
              "[5 rows x 11 columns]"
            ]
          },
          "metadata": {},
          "execution_count": 32
        }
      ]
    },
    {
      "cell_type": "markdown",
      "metadata": {
        "id": "D-FvKrz1BVNS"
      },
      "source": [
        "For all of our numerical data, we created boxplots to see the mean and quartile ranges for each feature. We also looked for any outliers to remove."
      ]
    },
    {
      "cell_type": "code",
      "metadata": {
        "colab": {
          "base_uri": "https://localhost:8080/",
          "height": 282
        },
        "id": "ilxy1b1zAnaU",
        "outputId": "072c00b3-924f-42d6-8bbf-a5176982550e"
      },
      "source": [
        "# Boxplot for age\n",
        "data.boxplot(column=['age'])"
      ],
      "execution_count": 33,
      "outputs": [
        {
          "output_type": "execute_result",
          "data": {
            "text/plain": [
              "<matplotlib.axes._subplots.AxesSubplot at 0x7f695edbea50>"
            ]
          },
          "metadata": {},
          "execution_count": 33
        },
        {
          "output_type": "display_data",
          "data": {
            "image/png": "[encoded data removed]",
            "text/plain": [
              "<Figure size 432x288 with 1 Axes>"
            ]
          },
          "metadata": {
            "needs_background": "light"
          }
        }
      ]
    },
    {
      "cell_type": "code",
      "metadata": {
        "colab": {
          "base_uri": "https://localhost:8080/",
          "height": 283
        },
        "id": "0AOfJ_lDBvfi",
        "outputId": "09636d56-ca99-417e-e975-b1ae4df89428"
      },
      "source": [
        "# Boxplot for glucode level\n",
        "data.boxplot(column=['avg_glucose_level'])"
      ],
      "execution_count": 34,
      "outputs": [
        {
          "output_type": "execute_result",
          "data": {
            "text/plain": [
              "<matplotlib.axes._subplots.AxesSubplot at 0x7f695eb80d50>"
            ]
          },
          "metadata": {},
          "execution_count": 34
        },
        {
          "output_type": "display_data",
          "data": {
            "image/png": "[encoded data removed]",
            "text/plain": [
              "<Figure size 432x288 with 1 Axes>"
            ]
          },
          "metadata": {
            "needs_background": "light"
          }
        }
      ]
    },
    {
      "cell_type": "code",
      "metadata": {
        "colab": {
          "base_uri": "https://localhost:8080/",
          "height": 282
        },
        "id": "8o07dtAfBvo6",
        "outputId": "3119a3ee-9be1-4dfa-9ca2-cdcc998cabda"
      },
      "source": [
        "# Boxplot for BMI\n",
        "data.boxplot(column=['bmi'])"
      ],
      "execution_count": 35,
      "outputs": [
        {
          "output_type": "execute_result",
          "data": {
            "text/plain": [
              "<matplotlib.axes._subplots.AxesSubplot at 0x7f695eb20050>"
            ]
          },
          "metadata": {},
          "execution_count": 35
        },
        {
          "output_type": "display_data",
          "data": {
            "image/png": "[encoded data removed]",
            "text/plain": [
              "<Figure size 432x288 with 1 Axes>"
            ]
          },
          "metadata": {
            "needs_background": "light"
          }
        }
      ]
    },
    {
      "cell_type": "markdown",
      "metadata": {
        "id": "QWQ1qh63BZic"
      },
      "source": [
        "Create bar charts for all categorical data"
      ]
    },
    {
      "cell_type": "code",
      "metadata": {
        "colab": {
          "base_uri": "https://localhost:8080/",
          "height": 308
        },
        "id": "Hz-DQxgXDI0E",
        "outputId": "0afb7ebb-72fb-4a7f-dc4b-b046a5497f4d"
      },
      "source": [
        "# Bar chart for gender counts\n",
        "data[\"gender\"].value_counts().plot(kind='bar')"
      ],
      "execution_count": 36,
      "outputs": [
        {
          "output_type": "execute_result",
          "data": {
            "text/plain": [
              "<matplotlib.axes._subplots.AxesSubplot at 0x7f695ee45790>"
            ]
          },
          "metadata": {},
          "execution_count": 36
        },
        {
          "output_type": "display_data",
          "data": {
            "image/png": "[encoded data removed]",
            "text/plain": [
              "<Figure size 432x288 with 1 Axes>"
            ]
          },
          "metadata": {
            "needs_background": "light"
          }
        }
      ]
    },
    {
      "cell_type": "code",
      "metadata": {
        "colab": {
          "base_uri": "https://localhost:8080/",
          "height": 279
        },
        "id": "-X8HPziZD4Gc",
        "outputId": "b0e70486-3d19-45bb-fd73-52c8bb6bd813"
      },
      "source": [
        "# Bar chart for hypertension counts\n",
        "data[\"hypertension\"].value_counts().plot(kind='bar')"
      ],
      "execution_count": 37,
      "outputs": [
        {
          "output_type": "execute_result",
          "data": {
            "text/plain": [
              "<matplotlib.axes._subplots.AxesSubplot at 0x7f695ec5f050>"
            ]
          },
          "metadata": {},
          "execution_count": 37
        },
        {
          "output_type": "display_data",
          "data": {
            "image/png": "[encoded data removed]",
            "text/plain": [
              "<Figure size 432x288 with 1 Axes>"
            ]
          },
          "metadata": {
            "needs_background": "light"
          }
        }
      ]
    },
    {
      "cell_type": "code",
      "metadata": {
        "colab": {
          "base_uri": "https://localhost:8080/",
          "height": 279
        },
        "id": "pHhFUsUAEAAg",
        "outputId": "32c33b76-ac65-41df-f6cd-57e91aa43597"
      },
      "source": [
        "# Bar chart for heart_disease counts\n",
        "data[\"heart_disease\"].value_counts().plot(kind='bar')"
      ],
      "execution_count": 38,
      "outputs": [
        {
          "output_type": "execute_result",
          "data": {
            "text/plain": [
              "<matplotlib.axes._subplots.AxesSubplot at 0x7f695ebdab50>"
            ]
          },
          "metadata": {},
          "execution_count": 38
        },
        {
          "output_type": "display_data",
          "data": {
            "image/png": "[encoded data removed]",
            "text/plain": [
              "<Figure size 432x288 with 1 Axes>"
            ]
          },
          "metadata": {
            "needs_background": "light"
          }
        }
      ]
    },
    {
      "cell_type": "code",
      "metadata": {
        "colab": {
          "base_uri": "https://localhost:8080/",
          "height": 291
        },
        "id": "-8AF4qSIEGCt",
        "outputId": "6af57d63-78cf-45ad-c3c6-6381a726c458"
      },
      "source": [
        "# Bar chart for ever_married counts\n",
        "data[\"ever_married\"].value_counts().plot(kind='bar')"
      ],
      "execution_count": 39,
      "outputs": [
        {
          "output_type": "execute_result",
          "data": {
            "text/plain": [
              "<matplotlib.axes._subplots.AxesSubplot at 0x7f695e8fa890>"
            ]
          },
          "metadata": {},
          "execution_count": 39
        },
        {
          "output_type": "display_data",
          "data": {
            "image/png": "[encoded data removed]",
            "text/plain": [
              "<Figure size 432x288 with 1 Axes>"
            ]
          },
          "metadata": {
            "needs_background": "light"
          }
        }
      ]
    },
    {
      "cell_type": "code",
      "metadata": {
        "colab": {
          "base_uri": "https://localhost:8080/",
          "height": 344
        },
        "id": "SKKadf_0EK2U",
        "outputId": "8bf58b52-0e57-4e17-ca6a-fc4247eccd78"
      },
      "source": [
        "# Bar chart for work_type counts\n",
        "data[\"work_type\"].value_counts().plot(kind='bar')"
      ],
      "execution_count": 40,
      "outputs": [
        {
          "output_type": "execute_result",
          "data": {
            "text/plain": [
              "<matplotlib.axes._subplots.AxesSubplot at 0x7f695e8cf810>"
            ]
          },
          "metadata": {},
          "execution_count": 40
        },
        {
          "output_type": "display_data",
          "data": {
            "image/png": "[encoded data removed]",
            "text/plain": [
              "<Figure size 432x288 with 1 Axes>"
            ]
          },
          "metadata": {
            "needs_background": "light"
          }
        }
      ]
    },
    {
      "cell_type": "code",
      "metadata": {
        "colab": {
          "base_uri": "https://localhost:8080/",
          "height": 303
        },
        "id": "4iumIQiGESeM",
        "outputId": "0f820369-36b9-4039-bdae-48123d944f9e"
      },
      "source": [
        "# Bar chart for Residence_type counts\n",
        "data[\"Residence_type\"].value_counts().plot(kind='bar')"
      ],
      "execution_count": 41,
      "outputs": [
        {
          "output_type": "execute_result",
          "data": {
            "text/plain": [
              "<matplotlib.axes._subplots.AxesSubplot at 0x7f695e873050>"
            ]
          },
          "metadata": {},
          "execution_count": 41
        },
        {
          "output_type": "display_data",
          "data": {
            "image/png": "[encoded data removed]",
            "text/plain": [
              "<Figure size 432x288 with 1 Axes>"
            ]
          },
          "metadata": {
            "needs_background": "light"
          }
        }
      ]
    },
    {
      "cell_type": "code",
      "metadata": {
        "colab": {
          "base_uri": "https://localhost:8080/",
          "height": 356
        },
        "id": "VC5Hnhy7EVTn",
        "outputId": "11a0382b-f8f0-4fb4-e2f7-de2e0affb418"
      },
      "source": [
        "# Bar chart for smoking_status counts\n",
        "data[\"smoking_status\"].value_counts().plot(kind='bar')"
      ],
      "execution_count": 42,
      "outputs": [
        {
          "output_type": "execute_result",
          "data": {
            "text/plain": [
              "<matplotlib.axes._subplots.AxesSubplot at 0x7f695e7b5710>"
            ]
          },
          "metadata": {},
          "execution_count": 42
        },
        {
          "output_type": "display_data",
          "data": {
            "image/png": "[encoded data removed]",
            "text/plain": [
              "<Figure size 432x288 with 1 Axes>"
            ]
          },
          "metadata": {
            "needs_background": "light"
          }
        }
      ]
    },
    {
      "cell_type": "code",
      "metadata": {
        "colab": {
          "base_uri": "https://localhost:8080/",
          "height": 279
        },
        "id": "5b8FRsO0GOtQ",
        "outputId": "cc81d207-8095-4503-a7e2-ddf09d91ddf1"
      },
      "source": [
        "# Bar chart for stroke counts\n",
        "data[\"stroke\"].value_counts().plot(kind='bar')"
      ],
      "execution_count": 43,
      "outputs": [
        {
          "output_type": "execute_result",
          "data": {
            "text/plain": [
              "<matplotlib.axes._subplots.AxesSubplot at 0x7f695e7d35d0>"
            ]
          },
          "metadata": {},
          "execution_count": 43
        },
        {
          "output_type": "display_data",
          "data": {
            "image/png": "[encoded data removed]",
            "text/plain": [
              "<Figure size 432x288 with 1 Axes>"
            ]
          },
          "metadata": {
            "needs_background": "light"
          }
        }
      ]
    },
    {
      "cell_type": "markdown",
      "metadata": {
        "id": "kQem21jQ7Ns2"
      },
      "source": [
        "Since we only detected outliers in the Average Glucose Levels and BMI, we promptly remove those data points from our data."
      ]
    },
    {
      "cell_type": "code",
      "metadata": {
        "colab": {
          "base_uri": "https://localhost:8080/",
          "height": 66
        },
        "id": "Ns-j7EkfEa9A",
        "outputId": "e50ba9df-ee27-44af-d02f-f39d8dff355d"
      },
      "source": [
        "# Remove some outliers\n",
        "from scipy import stats\n",
        "\n",
        "# From average glucose level\n",
        "data = data[(np.abs(stats.zscore(data[\"avg_glucose_level\"])) < 3)]\n",
        "\n",
        "# From BMI\n",
        "data = data[(np.abs(stats.zscore(data[\"bmi\"])) < 3)]\n",
        "\n",
        "print(f\"New dataset shape: {data.shape}\")\n",
        "data.head()"
      ],
      "execution_count": 23,
      "outputs": [
        {
          "output_type": "stream",
          "name": "stdout",
          "text": [
            "New dataset shape: (0, 11)\n"
          ]
        },
        {
          "output_type": "execute_result",
          "data": {
            "text/html": [
              "<div>\n",
              "<style scoped>\n",
              "    .dataframe tbody tr th:only-of-type {\n",
              "        vertical-align: middle;\n",
              "    }\n",
              "\n",
              "    .dataframe tbody tr th {\n",
              "        vertical-align: top;\n",
              "    }\n",
              "\n",
              "    .dataframe thead th {\n",
              "        text-align: right;\n",
              "    }\n",
              "</style>\n",
              "<table border=\"1\" class=\"dataframe\">\n",
              "  <thead>\n",
              "    <tr style=\"text-align: right;\">\n",
              "      <th></th>\n",
              "      <th>gender</th>\n",
              "      <th>age</th>\n",
              "      <th>hypertension</th>\n",
              "      <th>heart_disease</th>\n",
              "      <th>ever_married</th>\n",
              "      <th>work_type</th>\n",
              "      <th>Residence_type</th>\n",
              "      <th>avg_glucose_level</th>\n",
              "      <th>bmi</th>\n",
              "      <th>smoking_status</th>\n",
              "      <th>stroke</th>\n",
              "    </tr>\n",
              "  </thead>\n",
              "  <tbody>\n",
              "  </tbody>\n",
              "</table>\n",
              "</div>"
            ],
            "text/plain": [
              "Empty DataFrame\n",
              "Columns: [gender, age, hypertension, heart_disease, ever_married, work_type, Residence_type, avg_glucose_level, bmi, smoking_status, stroke]\n",
              "Index: []"
            ]
          },
          "metadata": {},
          "execution_count": 23
        }
      ]
    },
    {
      "cell_type": "markdown",
      "metadata": {
        "id": "KYQITudOOIG9"
      },
      "source": [
        "**One-Hot Encoding**\n",
        "\n",
        "\n",
        "Since the non-binary categorical features are hard to extract data from, we use one-hot encoding to simplify this. These features include gender, marriage, work, residency, and smoking history."
      ]
    },
    {
      "cell_type": "code",
      "metadata": {
        "colab": {
          "base_uri": "https://localhost:8080/",
          "height": 261
        },
        "id": "b786Mh_kOh-0",
        "outputId": "f7bb5358-2e88-45c9-a13e-4774ea0299c0"
      },
      "source": [
        "hot_data = data.copy()\n",
        "categorical_columns = [\"gender\", \"ever_married\", \"work_type\", \"Residence_type\", \"smoking_status\"]\n",
        "\n",
        "for c in categorical_columns:\n",
        "    vals = hot_data[c].unique()\n",
        "    for v in vals:\n",
        "        hot_data[f\"{c}_{v}\"] = hot_data[c].apply(lambda c_val: 1 if c_val == v else 0)\n",
        "    hot_data.drop(c, axis=1, inplace=True)\n",
        "print(hot_data.shape)\n",
        "hot_data.head()"
      ],
      "execution_count": 30,
      "outputs": [
        {
          "output_type": "stream",
          "name": "stdout",
          "text": [
            "(5110, 22)\n"
          ]
        },
        {
          "output_type": "execute_result",
          "data": {
            "text/html": [
              "<div>\n",
              "<style scoped>\n",
              "    .dataframe tbody tr th:only-of-type {\n",
              "        vertical-align: middle;\n",
              "    }\n",
              "\n",
              "    .dataframe tbody tr th {\n",
              "        vertical-align: top;\n",
              "    }\n",
              "\n",
              "    .dataframe thead th {\n",
              "        text-align: right;\n",
              "    }\n",
              "</style>\n",
              "<table border=\"1\" class=\"dataframe\">\n",
              "  <thead>\n",
              "    <tr style=\"text-align: right;\">\n",
              "      <th></th>\n",
              "      <th>age</th>\n",
              "      <th>hypertension</th>\n",
              "      <th>heart_disease</th>\n",
              "      <th>avg_glucose_level</th>\n",
              "      <th>bmi</th>\n",
              "      <th>stroke</th>\n",
              "      <th>gender_Male</th>\n",
              "      <th>gender_Female</th>\n",
              "      <th>gender_Other</th>\n",
              "      <th>ever_married_Yes</th>\n",
              "      <th>ever_married_No</th>\n",
              "      <th>work_type_Private</th>\n",
              "      <th>work_type_Self-employed</th>\n",
              "      <th>work_type_Govt_job</th>\n",
              "      <th>work_type_children</th>\n",
              "      <th>work_type_Never_worked</th>\n",
              "      <th>Residence_type_Urban</th>\n",
              "      <th>Residence_type_Rural</th>\n",
              "      <th>smoking_status_formerly smoked</th>\n",
              "      <th>smoking_status_never smoked</th>\n",
              "      <th>smoking_status_smokes</th>\n",
              "      <th>smoking_status_Unknown</th>\n",
              "    </tr>\n",
              "  </thead>\n",
              "  <tbody>\n",
              "    <tr>\n",
              "      <th>0</th>\n",
              "      <td>67.0</td>\n",
              "      <td>0</td>\n",
              "      <td>1</td>\n",
              "      <td>228.69</td>\n",
              "      <td>36.6</td>\n",
              "      <td>1</td>\n",
              "      <td>1</td>\n",
              "      <td>0</td>\n",
              "      <td>0</td>\n",
              "      <td>1</td>\n",
              "      <td>0</td>\n",
              "      <td>1</td>\n",
              "      <td>0</td>\n",
              "      <td>0</td>\n",
              "      <td>0</td>\n",
              "      <td>0</td>\n",
              "      <td>1</td>\n",
              "      <td>0</td>\n",
              "      <td>1</td>\n",
              "      <td>0</td>\n",
              "      <td>0</td>\n",
              "      <td>0</td>\n",
              "    </tr>\n",
              "    <tr>\n",
              "      <th>1</th>\n",
              "      <td>61.0</td>\n",
              "      <td>0</td>\n",
              "      <td>0</td>\n",
              "      <td>202.21</td>\n",
              "      <td>NaN</td>\n",
              "      <td>1</td>\n",
              "      <td>0</td>\n",
              "      <td>1</td>\n",
              "      <td>0</td>\n",
              "      <td>1</td>\n",
              "      <td>0</td>\n",
              "      <td>0</td>\n",
              "      <td>1</td>\n",
              "      <td>0</td>\n",
              "      <td>0</td>\n",
              "      <td>0</td>\n",
              "      <td>0</td>\n",
              "      <td>1</td>\n",
              "      <td>0</td>\n",
              "      <td>1</td>\n",
              "      <td>0</td>\n",
              "      <td>0</td>\n",
              "    </tr>\n",
              "    <tr>\n",
              "      <th>2</th>\n",
              "      <td>80.0</td>\n",
              "      <td>0</td>\n",
              "      <td>1</td>\n",
              "      <td>105.92</td>\n",
              "      <td>32.5</td>\n",
              "      <td>1</td>\n",
              "      <td>1</td>\n",
              "      <td>0</td>\n",
              "      <td>0</td>\n",
              "      <td>1</td>\n",
              "      <td>0</td>\n",
              "      <td>1</td>\n",
              "      <td>0</td>\n",
              "      <td>0</td>\n",
              "      <td>0</td>\n",
              "      <td>0</td>\n",
              "      <td>0</td>\n",
              "      <td>1</td>\n",
              "      <td>0</td>\n",
              "      <td>1</td>\n",
              "      <td>0</td>\n",
              "      <td>0</td>\n",
              "    </tr>\n",
              "    <tr>\n",
              "      <th>3</th>\n",
              "      <td>49.0</td>\n",
              "      <td>0</td>\n",
              "      <td>0</td>\n",
              "      <td>171.23</td>\n",
              "      <td>34.4</td>\n",
              "      <td>1</td>\n",
              "      <td>0</td>\n",
              "      <td>1</td>\n",
              "      <td>0</td>\n",
              "      <td>1</td>\n",
              "      <td>0</td>\n",
              "      <td>1</td>\n",
              "      <td>0</td>\n",
              "      <td>0</td>\n",
              "      <td>0</td>\n",
              "      <td>0</td>\n",
              "      <td>1</td>\n",
              "      <td>0</td>\n",
              "      <td>0</td>\n",
              "      <td>0</td>\n",
              "      <td>1</td>\n",
              "      <td>0</td>\n",
              "    </tr>\n",
              "    <tr>\n",
              "      <th>4</th>\n",
              "      <td>79.0</td>\n",
              "      <td>1</td>\n",
              "      <td>0</td>\n",
              "      <td>174.12</td>\n",
              "      <td>24.0</td>\n",
              "      <td>1</td>\n",
              "      <td>0</td>\n",
              "      <td>1</td>\n",
              "      <td>0</td>\n",
              "      <td>1</td>\n",
              "      <td>0</td>\n",
              "      <td>0</td>\n",
              "      <td>1</td>\n",
              "      <td>0</td>\n",
              "      <td>0</td>\n",
              "      <td>0</td>\n",
              "      <td>0</td>\n",
              "      <td>1</td>\n",
              "      <td>0</td>\n",
              "      <td>1</td>\n",
              "      <td>0</td>\n",
              "      <td>0</td>\n",
              "    </tr>\n",
              "  </tbody>\n",
              "</table>\n",
              "</div>"
            ],
            "text/plain": [
              "    age  hypertension  ...  smoking_status_smokes  smoking_status_Unknown\n",
              "0  67.0             0  ...                      0                       0\n",
              "1  61.0             0  ...                      0                       0\n",
              "2  80.0             0  ...                      0                       0\n",
              "3  49.0             0  ...                      1                       0\n",
              "4  79.0             1  ...                      0                       0\n",
              "\n",
              "[5 rows x 22 columns]"
            ]
          },
          "metadata": {},
          "execution_count": 30
        }
      ]
    },
    {
      "cell_type": "markdown",
      "metadata": {
        "id": "vWxBvjdJ6Gga"
      },
      "source": [
        "## Feature Engineering\n",
        "### (might need to move this to before normalization)"
      ]
    },
    {
      "cell_type": "markdown",
      "metadata": {
        "id": "MUYznMzi7hoC"
      },
      "source": [
        "Now that we have cleaned the data, we perform feature engineering to extract new or improved features from our original data. In the histograms shown below, the orange displays the data that has had a stroke, while the blue shows the data that has not."
      ]
    },
    {
      "cell_type": "code",
      "metadata": {
        "colab": {
          "base_uri": "https://localhost:8080/",
          "height": 265
        },
        "id": "MrZEE4IU6Ggb",
        "outputId": "12ebc5e2-b860-4269-b43a-55798ff037d4"
      },
      "source": [
        "stroke = data[data['stroke'] == 1]\n",
        "no_stroke = data[data['stroke']==0]\n",
        "\n",
        "plt.hist(no_stroke['age'], density=True, alpha=0.8)\n",
        "plt.hist(stroke['age'], density=True, alpha=0.8)\n",
        "\n",
        "plt.show()"
      ],
      "execution_count": 44,
      "outputs": [
        {
          "output_type": "display_data",
          "data": {
            "image/png": "[encoded data removed]",
            "text/plain": [
              "<Figure size 432x288 with 1 Axes>"
            ]
          },
          "metadata": {
            "needs_background": "light"
          }
        }
      ]
    },
    {
      "cell_type": "code",
      "metadata": {
        "colab": {
          "base_uri": "https://localhost:8080/",
          "height": 265
        },
        "id": "D8AKvRBj6Ggc",
        "outputId": "df7c7e2d-e399-4232-ea32-a84649e0a71a"
      },
      "source": [
        "plt.hist(no_stroke['hypertension'], density=True, alpha=0.8)\n",
        "plt.hist(stroke['hypertension'], density=True, alpha=0.8)\n",
        "\n",
        "plt.show()"
      ],
      "execution_count": 45,
      "outputs": [
        {
          "output_type": "display_data",
          "data": {
            "image/png": "[encoded data removed]",
            "text/plain": [
              "<Figure size 432x288 with 1 Axes>"
            ]
          },
          "metadata": {
            "needs_background": "light"
          }
        }
      ]
    },
    {
      "cell_type": "code",
      "metadata": {
        "colab": {
          "base_uri": "https://localhost:8080/",
          "height": 269
        },
        "id": "Vpt6rzDi6Ggd",
        "outputId": "36a2dad0-ea9e-4506-b2bf-a84556364e3f"
      },
      "source": [
        "plt.hist(no_stroke['heart_disease'], density=True, alpha=0.8)\n",
        "plt.hist(stroke['heart_disease'], density=True, alpha=0.8)\n",
        "\n",
        "plt.show()"
      ],
      "execution_count": 46,
      "outputs": [
        {
          "output_type": "display_data",
          "data": {
            "image/png": "[encoded data removed]",
            "text/plain": [
              "<Figure size 432x288 with 1 Axes>"
            ]
          },
          "metadata": {
            "needs_background": "light"
          }
        }
      ]
    },
    {
      "cell_type": "code",
      "metadata": {
        "colab": {
          "base_uri": "https://localhost:8080/",
          "height": 265
        },
        "id": "rosleKuc6Ggf",
        "outputId": "08494ce6-3164-4e04-f983-8fac8b7aff10"
      },
      "source": [
        "plt.hist(no_stroke['avg_glucose_level'], density=True, alpha=0.8)\n",
        "plt.hist(stroke['avg_glucose_level'], density=True, alpha=0.8)\n",
        "\n",
        "plt.show()"
      ],
      "execution_count": 47,
      "outputs": [
        {
          "output_type": "display_data",
          "data": {
            "image/png": "[encoded data removed]",
            "text/plain": [
              "<Figure size 432x288 with 1 Axes>"
            ]
          },
          "metadata": {
            "needs_background": "light"
          }
        }
      ]
    },
    {
      "cell_type": "code",
      "metadata": {
        "colab": {
          "base_uri": "https://localhost:8080/",
          "height": 265
        },
        "id": "xukHb2XB6Ggg",
        "outputId": "7f8bb8d4-6cd3-4156-f01e-59207a7cbcfe"
      },
      "source": [
        "plt.hist(no_stroke['bmi'], density=True, alpha=0.8)\n",
        "plt.hist(stroke['bmi'], density=True, alpha=0.8)\n",
        "\n",
        "plt.show()"
      ],
      "execution_count": 48,
      "outputs": [
        {
          "output_type": "display_data",
          "data": {
            "image/png": "[encoded data removed]",
            "text/plain": [
              "<Figure size 432x288 with 1 Axes>"
            ]
          },
          "metadata": {
            "needs_background": "light"
          }
        }
      ]
    },
    {
      "cell_type": "code",
      "metadata": {
        "colab": {
          "base_uri": "https://localhost:8080/",
          "height": 265
        },
        "id": "AuL0f_rP6Ggh",
        "outputId": "080c5b55-8891-4f8c-c406-350e845e90ff"
      },
      "source": [
        "plt.hist(no_stroke['gender'], density=True, alpha=0.8)\n",
        "plt.hist(stroke['gender'], density=True, alpha=0.8)\n",
        "\n",
        "plt.show()"
      ],
      "execution_count": 49,
      "outputs": [
        {
          "output_type": "display_data",
          "data": {
            "image/png": "[encoded data removed]",
            "text/plain": [
              "<Figure size 432x288 with 1 Axes>"
            ]
          },
          "metadata": {
            "needs_background": "light"
          }
        }
      ]
    },
    {
      "cell_type": "code",
      "metadata": {
        "colab": {
          "base_uri": "https://localhost:8080/",
          "height": 266
        },
        "id": "fTNgXlx96Ggi",
        "outputId": "fcf23cf2-b641-4be6-ebcc-acf2c7b97913"
      },
      "source": [
        "plt.hist(no_stroke['work_type'], density=True, alpha=0.8)\n",
        "plt.hist(stroke['work_type'], density=True, alpha=0.8)\n",
        "\n",
        "plt.show()"
      ],
      "execution_count": 50,
      "outputs": [
        {
          "output_type": "display_data",
          "data": {
            "image/png": "[encoded data removed]",
            "text/plain": [
              "<Figure size 432x288 with 1 Axes>"
            ]
          },
          "metadata": {
            "needs_background": "light"
          }
        }
      ]
    },
    {
      "cell_type": "code",
      "metadata": {
        "colab": {
          "base_uri": "https://localhost:8080/",
          "height": 265
        },
        "id": "5krU2o446Ggj",
        "outputId": "b994111a-1278-4653-de13-773097df2b72"
      },
      "source": [
        "plt.hist(no_stroke['Residence_type'], density=True, alpha=0.8)\n",
        "plt.hist(stroke['Residence_type'], density=True, alpha=0.8)\n",
        "\n",
        "plt.show()"
      ],
      "execution_count": 51,
      "outputs": [
        {
          "output_type": "display_data",
          "data": {
            "image/png": "[encoded data removed]",
            "text/plain": [
              "<Figure size 432x288 with 1 Axes>"
            ]
          },
          "metadata": {
            "needs_background": "light"
          }
        }
      ]
    },
    {
      "cell_type": "code",
      "metadata": {
        "colab": {
          "base_uri": "https://localhost:8080/",
          "height": 265
        },
        "id": "p50Gle7-6Ggk",
        "outputId": "a6533445-5108-4b61-df30-52fc44c7ffc1"
      },
      "source": [
        "plt.hist(no_stroke['smoking_status'], density=True, alpha=0.8)\n",
        "plt.hist(stroke['smoking_status'], density=True, alpha=0.8)\n",
        "\n",
        "plt.show()"
      ],
      "execution_count": 52,
      "outputs": [
        {
          "output_type": "display_data",
          "data": {
            "image/png": "[encoded data removed]",
            "text/plain": [
              "<Figure size 432x288 with 1 Axes>"
            ]
          },
          "metadata": {
            "needs_background": "light"
          }
        }
      ]
    },
    {
      "cell_type": "markdown",
      "metadata": {
        "id": "hTZ35I5Q6Ggl"
      },
      "source": [
        "### TODO: Insert analysis on which features were going to use"
      ]
    },
    {
      "cell_type": "markdown",
      "metadata": {
        "id": "ZeCbWZQNKN8g"
      },
      "source": [
        "## Data Mining (Testing Different Models)"
      ]
    },
    {
      "cell_type": "code",
      "metadata": {
        "colab": {
          "base_uri": "https://localhost:8080/"
        },
        "id": "lz7wGiUMKZAs",
        "outputId": "056287a6-026c-4d10-e1bd-b88819e924b1"
      },
      "source": [
        "# Separating labels from the rest of the data\n",
        "data_Y = data['stroke']\n",
        "data_X = data.drop(['stroke'], axis=1)\n",
        "print(data_X.shape)\n",
        "print(data_Y.shape)\n",
        "\n",
        "hot_data_Y = hot_data['stroke']\n",
        "hot_data_X = hot_data.drop(['stroke'], axis=1)"
      ],
      "execution_count": 53,
      "outputs": [
        {
          "output_type": "stream",
          "name": "stdout",
          "text": [
            "(5110, 10)\n",
            "(5110,)\n"
          ]
        }
      ]
    },
    {
      "cell_type": "markdown",
      "metadata": {
        "id": "cqrBxQsNM__D"
      },
      "source": [
        "**Decision Trees**"
      ]
    },
    {
      "cell_type": "code",
      "metadata": {
        "colab": {
          "base_uri": "https://localhost:8080/"
        },
        "id": "LiMHusykNEf-",
        "outputId": "24925f23-121b-42d4-9f3e-3ccc08b829e6"
      },
      "source": [
        "from sklearn.model_selection import train_test_split\n",
        "from sklearn.tree import DecisionTreeClassifier\n",
        "from sklearn.metrics import accuracy_score \n",
        "from sklearn.model_selection import cross_val_score\n",
        "\n",
        "print(\"\\nUsing criterion: Entropy\")\n",
        "clf = DecisionTreeClassifier(criterion='entropy')\n",
        "scores = cross_val_score(clf, hot_data_X, hot_data_Y, cv=10)\n",
        "print(f\"Accuracy: {scores.mean() * 100}\")\n",
        "\n",
        "print(\"\\nUsing criterion: Gini\")\n",
        "clf = DecisionTreeClassifier(criterion='gini')\n",
        "scores = cross_val_score(clf, hot_data_X, hot_data_Y, cv=10)\n",
        "print(f\"Accuracy: {scores.mean() * 100}\")\n",
        "\n",
        "print(\"\\nUsing criterion: max_depth of 10\")\n",
        "clf = DecisionTreeClassifier(criterion='entropy', max_depth=10)\n",
        "scores = cross_val_score(clf, hot_data_X, hot_data_Y, cv=10)\n",
        "print(f\"Accuracy: {scores.mean() * 100}\")\n",
        "\n",
        "print(\"\\nUsing criterion: max_depth of 1\")\n",
        "clf = DecisionTreeClassifier(criterion='entropy', max_depth=1)\n",
        "scores = cross_val_score(clf, hot_data_X, hot_data_Y, cv=10)\n",
        "print(f\"Accuracy: {scores.mean() * 100}\")\n",
        "\n",
        "print(\"\\nUsing criterion: min_samples_split = 20\")\n",
        "clf = DecisionTreeClassifier(criterion='entropy', min_samples_split=20)\n",
        "scores = cross_val_score(clf, hot_data_X, hot_data_Y, cv=10)\n",
        "print(f\"Accuracy: {scores.mean() * 100}\")\n",
        "\n",
        "print(\"\\nUsing criterion: min_samples_leaf = 10\")\n",
        "clf = DecisionTreeClassifier(criterion='entropy', min_samples_split=10)\n",
        "scores = cross_val_score(clf, hot_data_X, hot_data_Y, cv=10)\n",
        "print(f\"Accuracy: {scores.mean() * 100}\")\n",
        "\n",
        "print(\"\\nUsing criterion: min_impurity_decrease = .9\")\n",
        "clf = DecisionTreeClassifier(criterion='entropy', min_impurity_decrease=.9)\n",
        "scores = cross_val_score(clf, hot_data_X, hot_data_Y, cv=10)\n",
        "print(f\"Accuracy: {scores.mean() * 100}\")"
      ],
      "execution_count": 54,
      "outputs": [
        {
          "output_type": "stream",
          "name": "stdout",
          "text": [
            "\n",
            "Using criterion: Entropy\n",
            "Accuracy: 90.82191780821918\n",
            "\n",
            "Using criterion: Gini\n",
            "Accuracy: 90.54794520547945\n",
            "\n",
            "Using criterion: max_depth of 10\n",
            "Accuracy: 92.91585127201566\n",
            "\n",
            "Using criterion: max_depth of 1\n",
            "Accuracy: 95.12720156555773\n",
            "\n",
            "Using criterion: min_samples_split = 20\n",
            "Accuracy: 92.72015655577299\n",
            "\n",
            "Using criterion: min_samples_leaf = 10\n",
            "Accuracy: 91.97651663405088\n",
            "\n",
            "Using criterion: min_impurity_decrease = .9\n",
            "Accuracy: 95.12720156555773\n"
          ]
        }
      ]
    },
    {
      "cell_type": "markdown",
      "metadata": {
        "id": "AN9Cs59VTXGV"
      },
      "source": [
        "So far, the best accuracy was produced by decreasing the max depth or using a min_impurity_decrease. We can further try more combinations using a GridSearchCV."
      ]
    },
    {
      "cell_type": "code",
      "metadata": {
        "colab": {
          "base_uri": "https://localhost:8080/"
        },
        "id": "1ESEFA2gQmmy",
        "outputId": "3a47fbc8-b155-43c1-cbe6-2f8266b77ae5"
      },
      "source": [
        "from sklearn.model_selection import GridSearchCV\n",
        "from sklearn.metrics import classification_report\n",
        "\n",
        "params = {\n",
        "    \"max_depth\": [1, 3, 5, 10, 20], \n",
        "    \"min_samples_split\": [5, 10, 20], \n",
        "    \"min_samples_leaf\": [1, 3, 5, 10, 20], \n",
        "    \"max_features\": [1, 3, 5, 10, 20],\n",
        "    \"min_impurity_decrease\": [.1, .3, .5, .9]}\n",
        "\n",
        "grid_search = GridSearchCV(clf, params, cv=5, scoring=\"accuracy\")\n",
        "grid_search.fit(hot_data_X, hot_data_Y)\n",
        "print(grid_search.best_params_)\n",
        "print(f\"Accuracy: {grid_search.best_score_*100}\")"
      ],
      "execution_count": 55,
      "outputs": [
        {
          "output_type": "stream",
          "name": "stdout",
          "text": [
            "{'max_depth': 1, 'max_features': 1, 'min_impurity_decrease': 0.1, 'min_samples_leaf': 1, 'min_samples_split': 5}\n",
            "Accuracy: 95.12720156555773\n"
          ]
        }
      ]
    },
    {
      "cell_type": "code",
      "metadata": {
        "colab": {
          "base_uri": "https://localhost:8080/"
        },
        "id": "UVn6fXzTcr6w",
        "outputId": "239c8f4f-5bbe-476b-88d8-b553050bda0c"
      },
      "source": [
        "preds = grid_search.predict(hot_data_X)\n",
        "print(\"\\nClassification Report:\")\n",
        "print(classification_report(hot_data_Y, preds))"
      ],
      "execution_count": 56,
      "outputs": [
        {
          "output_type": "stream",
          "name": "stdout",
          "text": [
            "\n",
            "Classification Report:\n",
            "              precision    recall  f1-score   support\n",
            "\n",
            "         0.0       0.95      1.00      0.98      4861\n",
            "         1.0       0.00      0.00      0.00       249\n",
            "\n",
            "    accuracy                           0.95      5110\n",
            "   macro avg       0.48      0.50      0.49      5110\n",
            "weighted avg       0.90      0.95      0.93      5110\n",
            "\n"
          ]
        },
        {
          "output_type": "stream",
          "name": "stderr",
          "text": [
            "/usr/local/lib/python3.7/dist-packages/sklearn/metrics/_classification.py:1308: UndefinedMetricWarning: Precision and F-score are ill-defined and being set to 0.0 in labels with no predicted samples. Use `zero_division` parameter to control this behavior.\n",
            "  _warn_prf(average, modifier, msg_start, len(result))\n",
            "/usr/local/lib/python3.7/dist-packages/sklearn/metrics/_classification.py:1308: UndefinedMetricWarning: Precision and F-score are ill-defined and being set to 0.0 in labels with no predicted samples. Use `zero_division` parameter to control this behavior.\n",
            "  _warn_prf(average, modifier, msg_start, len(result))\n",
            "/usr/local/lib/python3.7/dist-packages/sklearn/metrics/_classification.py:1308: UndefinedMetricWarning: Precision and F-score are ill-defined and being set to 0.0 in labels with no predicted samples. Use `zero_division` parameter to control this behavior.\n",
            "  _warn_prf(average, modifier, msg_start, len(result))\n"
          ]
        }
      ]
    },
    {
      "cell_type": "markdown",
      "metadata": {
        "id": "teFnv_yNeNUt"
      },
      "source": [
        "The \"best\" decision tree simply chooses the \"no stroke\" label every almost every time, which produces a poor f-score. We can try to fix this by undersampling the majority class."
      ]
    },
    {
      "cell_type": "code",
      "metadata": {
        "colab": {
          "base_uri": "https://localhost:8080/",
          "height": 292
        },
        "id": "Srrqh-Dsgd--",
        "outputId": "051bea9d-39fa-4986-f0c0-88dac6f2e059"
      },
      "source": [
        "num_stroke = int(hot_data[\"stroke\"].sum())\n",
        "print(f\"number of records with stroke: {num_stroke}\")\n",
        "\n",
        "# sample equally\n",
        "balanced_hot_data = hot_data.groupby('stroke').apply(lambda x: x.sample(num_stroke))\n",
        "balanced_hot_data_Y = balanced_hot_data['stroke']\n",
        "balanced_hot_data_X = balanced_hot_data.drop(['stroke'], axis=1)\n",
        "balanced_hot_data.head()"
      ],
      "execution_count": 60,
      "outputs": [
        {
          "output_type": "stream",
          "name": "stdout",
          "text": [
            "number of records with stroke: 249\n"
          ]
        },
        {
          "output_type": "execute_result",
          "data": {
            "text/html": [
              "<div>\n",
              "<style scoped>\n",
              "    .dataframe tbody tr th:only-of-type {\n",
              "        vertical-align: middle;\n",
              "    }\n",
              "\n",
              "    .dataframe tbody tr th {\n",
              "        vertical-align: top;\n",
              "    }\n",
              "\n",
              "    .dataframe thead th {\n",
              "        text-align: right;\n",
              "    }\n",
              "</style>\n",
              "<table border=\"1\" class=\"dataframe\">\n",
              "  <thead>\n",
              "    <tr style=\"text-align: right;\">\n",
              "      <th></th>\n",
              "      <th></th>\n",
              "      <th>age</th>\n",
              "      <th>hypertension</th>\n",
              "      <th>heart_disease</th>\n",
              "      <th>avg_glucose_level</th>\n",
              "      <th>bmi</th>\n",
              "      <th>stroke</th>\n",
              "      <th>gender_Male</th>\n",
              "      <th>gender_Female</th>\n",
              "      <th>gender_Other</th>\n",
              "      <th>ever_married_Yes</th>\n",
              "      <th>ever_married_No</th>\n",
              "      <th>work_type_Private</th>\n",
              "      <th>work_type_Self-employed</th>\n",
              "      <th>work_type_Govt_job</th>\n",
              "      <th>work_type_children</th>\n",
              "      <th>work_type_Never_worked</th>\n",
              "      <th>Residence_type_Urban</th>\n",
              "      <th>Residence_type_Rural</th>\n",
              "      <th>smoking_status_formerly smoked</th>\n",
              "      <th>smoking_status_never smoked</th>\n",
              "      <th>smoking_status_smokes</th>\n",
              "      <th>smoking_status_Unknown</th>\n",
              "    </tr>\n",
              "    <tr>\n",
              "      <th>stroke</th>\n",
              "      <th></th>\n",
              "      <th></th>\n",
              "      <th></th>\n",
              "      <th></th>\n",
              "      <th></th>\n",
              "      <th></th>\n",
              "      <th></th>\n",
              "      <th></th>\n",
              "      <th></th>\n",
              "      <th></th>\n",
              "      <th></th>\n",
              "      <th></th>\n",
              "      <th></th>\n",
              "      <th></th>\n",
              "      <th></th>\n",
              "      <th></th>\n",
              "      <th></th>\n",
              "      <th></th>\n",
              "      <th></th>\n",
              "      <th></th>\n",
              "      <th></th>\n",
              "      <th></th>\n",
              "      <th></th>\n",
              "    </tr>\n",
              "  </thead>\n",
              "  <tbody>\n",
              "    <tr>\n",
              "      <th rowspan=\"5\" valign=\"top\">0.0</th>\n",
              "      <th>1473</th>\n",
              "      <td>49.0</td>\n",
              "      <td>1.0</td>\n",
              "      <td>0.0</td>\n",
              "      <td>139.43</td>\n",
              "      <td>40.2</td>\n",
              "      <td>0.0</td>\n",
              "      <td>1.0</td>\n",
              "      <td>0.0</td>\n",
              "      <td>0.0</td>\n",
              "      <td>1.0</td>\n",
              "      <td>0.0</td>\n",
              "      <td>0.0</td>\n",
              "      <td>0.0</td>\n",
              "      <td>1.0</td>\n",
              "      <td>0.0</td>\n",
              "      <td>0.0</td>\n",
              "      <td>1.0</td>\n",
              "      <td>0.0</td>\n",
              "      <td>1.0</td>\n",
              "      <td>0.0</td>\n",
              "      <td>0.0</td>\n",
              "      <td>0.0</td>\n",
              "    </tr>\n",
              "    <tr>\n",
              "      <th>1656</th>\n",
              "      <td>53.0</td>\n",
              "      <td>0.0</td>\n",
              "      <td>0.0</td>\n",
              "      <td>80.81</td>\n",
              "      <td>39.0</td>\n",
              "      <td>0.0</td>\n",
              "      <td>1.0</td>\n",
              "      <td>0.0</td>\n",
              "      <td>0.0</td>\n",
              "      <td>1.0</td>\n",
              "      <td>0.0</td>\n",
              "      <td>1.0</td>\n",
              "      <td>0.0</td>\n",
              "      <td>0.0</td>\n",
              "      <td>0.0</td>\n",
              "      <td>0.0</td>\n",
              "      <td>1.0</td>\n",
              "      <td>0.0</td>\n",
              "      <td>1.0</td>\n",
              "      <td>0.0</td>\n",
              "      <td>0.0</td>\n",
              "      <td>0.0</td>\n",
              "    </tr>\n",
              "    <tr>\n",
              "      <th>5064</th>\n",
              "      <td>70.0</td>\n",
              "      <td>0.0</td>\n",
              "      <td>0.0</td>\n",
              "      <td>193.88</td>\n",
              "      <td>24.3</td>\n",
              "      <td>0.0</td>\n",
              "      <td>1.0</td>\n",
              "      <td>0.0</td>\n",
              "      <td>0.0</td>\n",
              "      <td>1.0</td>\n",
              "      <td>0.0</td>\n",
              "      <td>0.0</td>\n",
              "      <td>1.0</td>\n",
              "      <td>0.0</td>\n",
              "      <td>0.0</td>\n",
              "      <td>0.0</td>\n",
              "      <td>0.0</td>\n",
              "      <td>1.0</td>\n",
              "      <td>0.0</td>\n",
              "      <td>0.0</td>\n",
              "      <td>0.0</td>\n",
              "      <td>1.0</td>\n",
              "    </tr>\n",
              "    <tr>\n",
              "      <th>3032</th>\n",
              "      <td>52.0</td>\n",
              "      <td>0.0</td>\n",
              "      <td>0.0</td>\n",
              "      <td>87.51</td>\n",
              "      <td>30.5</td>\n",
              "      <td>0.0</td>\n",
              "      <td>1.0</td>\n",
              "      <td>0.0</td>\n",
              "      <td>0.0</td>\n",
              "      <td>1.0</td>\n",
              "      <td>0.0</td>\n",
              "      <td>1.0</td>\n",
              "      <td>0.0</td>\n",
              "      <td>0.0</td>\n",
              "      <td>0.0</td>\n",
              "      <td>0.0</td>\n",
              "      <td>1.0</td>\n",
              "      <td>0.0</td>\n",
              "      <td>1.0</td>\n",
              "      <td>0.0</td>\n",
              "      <td>0.0</td>\n",
              "      <td>0.0</td>\n",
              "    </tr>\n",
              "    <tr>\n",
              "      <th>3179</th>\n",
              "      <td>24.0</td>\n",
              "      <td>0.0</td>\n",
              "      <td>0.0</td>\n",
              "      <td>103.45</td>\n",
              "      <td>25.1</td>\n",
              "      <td>0.0</td>\n",
              "      <td>1.0</td>\n",
              "      <td>0.0</td>\n",
              "      <td>0.0</td>\n",
              "      <td>1.0</td>\n",
              "      <td>0.0</td>\n",
              "      <td>1.0</td>\n",
              "      <td>0.0</td>\n",
              "      <td>0.0</td>\n",
              "      <td>0.0</td>\n",
              "      <td>0.0</td>\n",
              "      <td>1.0</td>\n",
              "      <td>0.0</td>\n",
              "      <td>0.0</td>\n",
              "      <td>0.0</td>\n",
              "      <td>1.0</td>\n",
              "      <td>0.0</td>\n",
              "    </tr>\n",
              "  </tbody>\n",
              "</table>\n",
              "</div>"
            ],
            "text/plain": [
              "              age  hypertension  ...  smoking_status_smokes  smoking_status_Unknown\n",
              "stroke                           ...                                               \n",
              "0.0    1473  49.0           1.0  ...                    0.0                     0.0\n",
              "       1656  53.0           0.0  ...                    0.0                     0.0\n",
              "       5064  70.0           0.0  ...                    0.0                     1.0\n",
              "       3032  52.0           0.0  ...                    0.0                     0.0\n",
              "       3179  24.0           0.0  ...                    1.0                     0.0\n",
              "\n",
              "[5 rows x 22 columns]"
            ]
          },
          "metadata": {},
          "execution_count": 60
        }
      ]
    },
    {
      "cell_type": "code",
      "metadata": {
        "colab": {
          "base_uri": "https://localhost:8080/"
        },
        "id": "8IGDfbZ7i1kG",
        "outputId": "134fe669-de42-47ff-fab5-92e3ef557115"
      },
      "source": [
        "# Generating another Decision Tree using balanced_hot_data\n",
        "params = {\n",
        "    \"max_depth\": [1, 3, 5, 10, 20], \n",
        "    \"min_samples_split\": [5, 10, 20], \n",
        "    \"min_samples_leaf\": [1, 3, 5, 10, 20], \n",
        "    \"max_features\": [1, 3, 5, 10, 20],\n",
        "    \"min_impurity_decrease\": [.1, .3, .5, .9]}\n",
        "\n",
        "grid_search = GridSearchCV(clf, params, cv=5, scoring=\"accuracy\")\n",
        "grid_search.fit(balanced_hot_data_X, balanced_hot_data_Y)\n",
        "print(grid_search.best_params_)\n",
        "print(f\"Accuracy: {grid_search.best_score_*100}\")"
      ],
      "execution_count": 61,
      "outputs": [
        {
          "output_type": "stream",
          "name": "stdout",
          "text": [
            "{'max_depth': 1, 'max_features': 20, 'min_impurity_decrease': 0.1, 'min_samples_leaf': 1, 'min_samples_split': 5}\n",
            "Accuracy: 77.0888888888889\n"
          ]
        }
      ]
    },
    {
      "cell_type": "code",
      "metadata": {
        "colab": {
          "base_uri": "https://localhost:8080/"
        },
        "id": "mFZlnAUSjI2O",
        "outputId": "c9294b3b-c381-4309-c460-cc3860c5e762"
      },
      "source": [
        "preds = grid_search.predict(balanced_hot_data_X)\n",
        "print(\"\\nClassification Report:\")\n",
        "print(classification_report(balanced_hot_data_Y, preds))"
      ],
      "execution_count": 62,
      "outputs": [
        {
          "output_type": "stream",
          "name": "stdout",
          "text": [
            "\n",
            "Classification Report:\n",
            "              precision    recall  f1-score   support\n",
            "\n",
            "         0.0       0.84      0.67      0.74       249\n",
            "         1.0       0.72      0.88      0.79       249\n",
            "\n",
            "    accuracy                           0.77       498\n",
            "   macro avg       0.78      0.77      0.77       498\n",
            "weighted avg       0.78      0.77      0.77       498\n",
            "\n"
          ]
        }
      ]
    },
    {
      "cell_type": "markdown",
      "metadata": {
        "id": "G9joFb8Lj9HE"
      },
      "source": [
        "The average f-score is greatly improved now! However, we only have a 74.25% accuracy."
      ]
    },
    {
      "cell_type": "markdown",
      "metadata": {
        "id": "TCMTHdNIkGEO"
      },
      "source": [
        "**Naive Bayes**"
      ]
    },
    {
      "cell_type": "code",
      "metadata": {
        "colab": {
          "base_uri": "https://localhost:8080/"
        },
        "id": "2DXyRByekVi7",
        "outputId": "f846bcc0-639f-42e5-fe02-177969d1a949"
      },
      "source": [
        "from sklearn.naive_bayes import GaussianNB\n",
        "# from sklearn.metrics import confusion_matrix\n",
        "from sklearn.metrics import classification_report\n",
        "from sklearn.model_selection import cross_val_predict\n",
        "\n",
        "# Use a gaussian Naive Bayes with 10-fold cross validation\n",
        "gnb = GaussianNB()\n",
        "preds = cross_val_predict(gnb, balanced_hot_data_X, balanced_hot_data_Y, cv=10)\n",
        "print(\"\\nClassification Report:\")\n",
        "print(classification_report(balanced_hot_data_Y, preds))"
      ],
      "execution_count": 63,
      "outputs": [
        {
          "output_type": "stream",
          "name": "stdout",
          "text": [
            "\n",
            "Classification Report:\n",
            "              precision    recall  f1-score   support\n",
            "\n",
            "         0.0       0.85      0.36      0.51       249\n",
            "         1.0       0.59      0.94      0.73       249\n",
            "\n",
            "    accuracy                           0.65       498\n",
            "   macro avg       0.72      0.65      0.62       498\n",
            "weighted avg       0.72      0.65      0.62       498\n",
            "\n"
          ]
        }
      ]
    },
    {
      "cell_type": "markdown",
      "metadata": {
        "id": "Yk3eT67GlVrL"
      },
      "source": [
        "Standard gaussian Naive Bayes produces a low accuracy and f-score compared to the decision tree."
      ]
    },
    {
      "cell_type": "markdown",
      "metadata": {
        "id": "CkbD0oahlpqD"
      },
      "source": [
        "**K-Nearest Neighbors**\n",
        "\n",
        "\n",
        "Since KNN suffers from the curse of dimensionality, we will have to perform dimensionality reduction. We use a GridSearchCV to perform hyperparamter tuning."
      ]
    },
    {
      "cell_type": "code",
      "metadata": {
        "colab": {
          "base_uri": "https://localhost:8080/"
        },
        "id": "qxOhLpoynG9m",
        "outputId": "b8fad79e-06fd-48a4-9805-73dd74581558"
      },
      "source": [
        "from sklearn.decomposition import PCA\n",
        "from sklearn.neighbors import KNeighborsClassifier\n",
        "from sklearn.pipeline import Pipeline\n",
        "\n",
        "pca = PCA()\n",
        "knn = KNeighborsClassifier(n_neighbors=7)\n",
        "pline = Pipeline(steps=[(\"pca\", pca), (\"knn\", knn)])\n",
        "\n",
        "param_grid = {\n",
        "    'pca__n_components': list(range(5, 21)),\n",
        "    'knn__n_neighbors': list(range(1, 25))\n",
        "}\n",
        "\n",
        "grid_search = GridSearchCV(pline, param_grid, cv=5, scoring=\"accuracy\")\n",
        "grid_search.fit(hot_data_X, hot_data_Y)\n",
        "print(grid_search.best_params_)\n",
        "print(f\"Accuracy: {grid_search.best_score_*100}\")"
      ],
      "execution_count": 64,
      "outputs": [
        {
          "output_type": "stream",
          "name": "stdout",
          "text": [
            "{'knn__n_neighbors': 24, 'pca__n_components': 5}\n",
            "Accuracy: 95.12720156555773\n"
          ]
        }
      ]
    },
    {
      "cell_type": "code",
      "metadata": {
        "colab": {
          "base_uri": "https://localhost:8080/"
        },
        "id": "1q5mfnvgo3AG",
        "outputId": "0f78a9e0-0197-45c1-c396-e43cb59d1fae"
      },
      "source": [
        "preds = grid_search.predict(hot_data_X)\n",
        "print(\"\\nClassification Report:\")\n",
        "print(classification_report(hot_data_Y, preds))"
      ],
      "execution_count": 65,
      "outputs": [
        {
          "output_type": "stream",
          "name": "stdout",
          "text": [
            "\n",
            "Classification Report:\n",
            "              precision    recall  f1-score   support\n",
            "\n",
            "         0.0       0.95      1.00      0.98      4861\n",
            "         1.0       0.00      0.00      0.00       249\n",
            "\n",
            "    accuracy                           0.95      5110\n",
            "   macro avg       0.48      0.50      0.49      5110\n",
            "weighted avg       0.90      0.95      0.93      5110\n",
            "\n"
          ]
        },
        {
          "output_type": "stream",
          "name": "stderr",
          "text": [
            "/usr/local/lib/python3.7/dist-packages/sklearn/metrics/_classification.py:1308: UndefinedMetricWarning: Precision and F-score are ill-defined and being set to 0.0 in labels with no predicted samples. Use `zero_division` parameter to control this behavior.\n",
            "  _warn_prf(average, modifier, msg_start, len(result))\n",
            "/usr/local/lib/python3.7/dist-packages/sklearn/metrics/_classification.py:1308: UndefinedMetricWarning: Precision and F-score are ill-defined and being set to 0.0 in labels with no predicted samples. Use `zero_division` parameter to control this behavior.\n",
            "  _warn_prf(average, modifier, msg_start, len(result))\n",
            "/usr/local/lib/python3.7/dist-packages/sklearn/metrics/_classification.py:1308: UndefinedMetricWarning: Precision and F-score are ill-defined and being set to 0.0 in labels with no predicted samples. Use `zero_division` parameter to control this behavior.\n",
            "  _warn_prf(average, modifier, msg_start, len(result))\n"
          ]
        }
      ]
    },
    {
      "cell_type": "markdown",
      "metadata": {
        "id": "4COvsis-o-QO"
      },
      "source": [
        "Again, this produces a poor f-score so we will try again on the balanced one-hot-encoded dataset"
      ]
    },
    {
      "cell_type": "code",
      "metadata": {
        "colab": {
          "base_uri": "https://localhost:8080/"
        },
        "id": "PwtMABWkpEMa",
        "outputId": "7881fdec-ef43-42d1-cd50-c72dfdae3608"
      },
      "source": [
        "from sklearn.decomposition import PCA\n",
        "from sklearn.neighbors import KNeighborsClassifier\n",
        "from sklearn.pipeline import Pipeline\n",
        "\n",
        "grid_search.fit(balanced_hot_data_X, balanced_hot_data_Y)\n",
        "print(grid_search.best_params_)\n",
        "print(f\"Accuracy: {grid_search.best_score_*100}\")"
      ],
      "execution_count": 66,
      "outputs": [
        {
          "output_type": "stream",
          "name": "stdout",
          "text": [
            "{'knn__n_neighbors': 21, 'pca__n_components': 6}\n",
            "Accuracy: 76.5030303030303\n"
          ]
        }
      ]
    },
    {
      "cell_type": "code",
      "metadata": {
        "colab": {
          "base_uri": "https://localhost:8080/"
        },
        "id": "YFCYe4wTpFis",
        "outputId": "85dd1672-596c-4e18-b3ef-86f2ac4711d4"
      },
      "source": [
        "preds = grid_search.predict(balanced_hot_data_X)\n",
        "print(\"\\nClassification Report:\")\n",
        "print(classification_report(balanced_hot_data_Y, preds))"
      ],
      "execution_count": 67,
      "outputs": [
        {
          "output_type": "stream",
          "name": "stdout",
          "text": [
            "\n",
            "Classification Report:\n",
            "              precision    recall  f1-score   support\n",
            "\n",
            "         0.0       0.80      0.73      0.76       249\n",
            "         1.0       0.75      0.82      0.78       249\n",
            "\n",
            "    accuracy                           0.77       498\n",
            "   macro avg       0.78      0.77      0.77       498\n",
            "weighted avg       0.78      0.77      0.77       498\n",
            "\n"
          ]
        }
      ]
    },
    {
      "cell_type": "markdown",
      "metadata": {
        "id": "2lUu_uzNpcj8"
      },
      "source": [
        "This model appears to be more successful than the one built using a decision tree."
      ]
    },
    {
      "cell_type": "markdown",
      "metadata": {
        "id": "dUS1oU2sqMkK"
      },
      "source": [
        "**Support Vector Machines**\n",
        "\n",
        "We again use a GridSearchCV to perform hyperparamter tuning. We will also use the balanced one-hot-encoded dataset."
      ]
    },
    {
      "cell_type": "code",
      "metadata": {
        "colab": {
          "base_uri": "https://localhost:8080/"
        },
        "id": "LIxtKf-VqQXa",
        "outputId": "a86ea79a-4531-45f3-d47c-3c310356da1d"
      },
      "source": [
        "from sklearn.svm import SVC\n",
        "\n",
        "pca = PCA()\n",
        "svc = SVC()\n",
        "pline = Pipeline(steps=[(\"pca\", pca), (\"svc\", svc)])\n",
        "\n",
        "param_grid = {\n",
        "    'pca__n_components': list(range(5, 19)),\n",
        "    'svc__kernel': ['linear', 'rbf', 'poly']\n",
        "}\n",
        "\n",
        "grid_search = GridSearchCV(pline, param_grid, cv=5, scoring=\"accuracy\")\n",
        "grid_search.fit(balanced_hot_data_X, balanced_hot_data_Y)\n",
        "print(grid_search.best_params_)\n",
        "print(f\"Accuracy: {grid_search.best_score_*100}\")"
      ],
      "execution_count": 68,
      "outputs": [
        {
          "output_type": "stream",
          "name": "stdout",
          "text": [
            "{'pca__n_components': 11, 'svc__kernel': 'linear'}\n",
            "Accuracy: 78.0969696969697\n"
          ]
        }
      ]
    },
    {
      "cell_type": "code",
      "metadata": {
        "colab": {
          "base_uri": "https://localhost:8080/"
        },
        "id": "GpnQV6oHrALX",
        "outputId": "56cf83a8-78b2-4b2b-e54c-eb77d4f34d3e"
      },
      "source": [
        "preds = grid_search.predict(balanced_hot_data_X)\n",
        "print(\"\\nClassification Report:\")\n",
        "print(classification_report(balanced_hot_data_Y, preds))"
      ],
      "execution_count": 69,
      "outputs": [
        {
          "output_type": "stream",
          "name": "stdout",
          "text": [
            "\n",
            "Classification Report:\n",
            "              precision    recall  f1-score   support\n",
            "\n",
            "         0.0       0.80      0.75      0.77       249\n",
            "         1.0       0.76      0.82      0.79       249\n",
            "\n",
            "    accuracy                           0.78       498\n",
            "   macro avg       0.78      0.78      0.78       498\n",
            "weighted avg       0.78      0.78      0.78       498\n",
            "\n"
          ]
        }
      ]
    },
    {
      "cell_type": "markdown",
      "metadata": {
        "id": "cgyh0ov4sHc-"
      },
      "source": [
        "**Random Forests**"
      ]
    },
    {
      "cell_type": "code",
      "metadata": {
        "colab": {
          "base_uri": "https://localhost:8080/"
        },
        "id": "fQC5ekYxsLQQ",
        "outputId": "32107b2e-dcb3-4b72-e70a-4f0dbc3d9c0b"
      },
      "source": [
        "from sklearn.ensemble import RandomForestClassifier\n",
        "\n",
        "rfc = RandomForestClassifier()\n",
        "param_grid = {\n",
        "    'max_depth': list(range(5, 61, 5)),\n",
        "    'min_samples_leaf': [2, 31, 4],\n",
        "    'max_features': [\"sqrt\", \"log2\"]\n",
        "}\n",
        "\n",
        "grid_search = GridSearchCV(rfc, param_grid, cv=5, scoring=\"accuracy\")\n",
        "grid_search.fit(balanced_hot_data_X, balanced_hot_data_Y)\n",
        "print(grid_search.best_params_)\n",
        "print(f\"Accuracy: {grid_search.best_score_*100}\")"
      ],
      "execution_count": 70,
      "outputs": [
        {
          "output_type": "stream",
          "name": "stdout",
          "text": [
            "{'max_depth': 20, 'max_features': 'log2', 'min_samples_leaf': 2}\n",
            "Accuracy: 78.49898989898992\n"
          ]
        }
      ]
    },
    {
      "cell_type": "code",
      "metadata": {
        "colab": {
          "base_uri": "https://localhost:8080/"
        },
        "id": "1nFqYrPAshG0",
        "outputId": "840195c5-e387-4325-b16a-e55d028cc224"
      },
      "source": [
        "preds = grid_search.predict(balanced_hot_data_X)\n",
        "print(\"\\nClassification Report:\")\n",
        "print(classification_report(balanced_hot_data_Y, preds))"
      ],
      "execution_count": 71,
      "outputs": [
        {
          "output_type": "stream",
          "name": "stdout",
          "text": [
            "\n",
            "Classification Report:\n",
            "              precision    recall  f1-score   support\n",
            "\n",
            "         0.0       0.95      0.92      0.93       249\n",
            "         1.0       0.92      0.96      0.94       249\n",
            "\n",
            "    accuracy                           0.94       498\n",
            "   macro avg       0.94      0.94      0.94       498\n",
            "weighted avg       0.94      0.94      0.94       498\n",
            "\n"
          ]
        }
      ]
    },
    {
      "cell_type": "markdown",
      "metadata": {
        "id": "ZWKc8nGOt8bz"
      },
      "source": [
        "Random Forests produce the best f-score and accuracy by far!"
      ]
    }
  ]
}
