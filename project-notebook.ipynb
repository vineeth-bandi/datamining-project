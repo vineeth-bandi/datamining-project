{
  "nbformat": 4,
  "nbformat_minor": 0,
  "metadata": {
    "colab": {
      "name": "project-notebook.ipynb",
      "provenance": [],
      "collapsed_sections": []
    },
    "kernelspec": {
      "display_name": "Python 3",
      "language": "python",
      "name": "python3"
    },
    "language_info": {
      "codemirror_mode": {
        "name": "ipython",
        "version": 3
      },
      "file_extension": ".py",
      "mimetype": "text/x-python",
      "name": "python",
      "nbconvert_exporter": "python",
      "pygments_lexer": "ipython3",
      "version": "3.8.5"
    }
  },
  "cells": [
    {
      "cell_type": "markdown",
      "metadata": {
        "id": "wfFoTzio5NSv"
      },
      "source": [
        "# Datamining on Stroke Dataset\n"
      ]
    },
    {
      "cell_type": "markdown",
      "metadata": {
        "id": "0ZjCN0Ci6UyK"
      },
      "source": [
        "This dataset contains information about 5110 people and their health in regards to their stroke history. There are 11 features (including the id) in the dataset which we will use to create models to predict whether or not someone is prone to stroke. These features include:\n",
        "\n",
        "\n",
        "*   Gender\n",
        "*   Age\n",
        "*   Hypertension (known as high blood pressure, or a blood pressure above 140/90)\n",
        "*   Heart Disease\n",
        "*   Marital History (if the subject is or was ever married)\n",
        "*   Type of Work (Government, Private, Self-Employed, Never Worked, or Children)\n",
        "*   Residency (Rural or Urban)\n",
        "*   Average Glucose Level\n",
        "*   BMI\n",
        "*   Smoking History (Smokes, Formally Smoked, Never Smoked or Unknown)"
      ]
    },
    {
      "cell_type": "markdown",
      "metadata": {
        "id": "3FzTzlzQ6Wjm"
      },
      "source": [
        "We wanted to be able to accurately predict whether someone is prone to having a stroke in the future based on these features. If we were able to accurately predict signs of a stroke, it could become extremely valuable to the medical field. Modeling this data could help hospitals and doctors detect those prone to stroke and begin treating or warning their patients of possible strokes in the future. However, we must create a model first, and that requires us to preprocess our data. "
      ]
    },
    {
      "cell_type": "code",
      "metadata": {
        "id": "CvAO1keJ4-rp"
      },
      "source": [
        "# Standard imports\n",
        "import warnings\n",
        "import pandas as pd\n",
        "import numpy as np\n",
        "import sklearn as sk\n",
        "import matplotlib.pyplot as plt\n",
        "import time"
      ],
      "execution_count": 556,
      "outputs": []
    },
    {
      "cell_type": "markdown",
      "metadata": {
        "id": "qYWusnxw76JJ"
      },
      "source": [
        "## Data Preprocessing (Exploration and Cleaning)"
      ]
    },
    {
      "cell_type": "code",
      "metadata": {
        "colab": {
          "base_uri": "https://localhost:8080/",
          "height": 206
        },
        "id": "dV3GFepj8IyL",
        "outputId": "c122875d-1bbe-41ab-8638-a127586a6d6a"
      },
      "source": [
        "data = pd.read_csv('healthcare-dataset-stroke-data.csv')\n",
        "data.head()"
      ],
      "execution_count": 557,
      "outputs": [
        {
          "output_type": "execute_result",
          "data": {
            "text/html": [
              "<div>\n",
              "<style scoped>\n",
              "    .dataframe tbody tr th:only-of-type {\n",
              "        vertical-align: middle;\n",
              "    }\n",
              "\n",
              "    .dataframe tbody tr th {\n",
              "        vertical-align: top;\n",
              "    }\n",
              "\n",
              "    .dataframe thead th {\n",
              "        text-align: right;\n",
              "    }\n",
              "</style>\n",
              "<table border=\"1\" class=\"dataframe\">\n",
              "  <thead>\n",
              "    <tr style=\"text-align: right;\">\n",
              "      <th></th>\n",
              "      <th>id</th>\n",
              "      <th>gender</th>\n",
              "      <th>age</th>\n",
              "      <th>hypertension</th>\n",
              "      <th>heart_disease</th>\n",
              "      <th>ever_married</th>\n",
              "      <th>work_type</th>\n",
              "      <th>Residence_type</th>\n",
              "      <th>avg_glucose_level</th>\n",
              "      <th>bmi</th>\n",
              "      <th>smoking_status</th>\n",
              "      <th>stroke</th>\n",
              "    </tr>\n",
              "  </thead>\n",
              "  <tbody>\n",
              "    <tr>\n",
              "      <th>0</th>\n",
              "      <td>9046</td>\n",
              "      <td>Male</td>\n",
              "      <td>67.0</td>\n",
              "      <td>0</td>\n",
              "      <td>1</td>\n",
              "      <td>Yes</td>\n",
              "      <td>Private</td>\n",
              "      <td>Urban</td>\n",
              "      <td>228.69</td>\n",
              "      <td>36.6</td>\n",
              "      <td>formerly smoked</td>\n",
              "      <td>1</td>\n",
              "    </tr>\n",
              "    <tr>\n",
              "      <th>1</th>\n",
              "      <td>51676</td>\n",
              "      <td>Female</td>\n",
              "      <td>61.0</td>\n",
              "      <td>0</td>\n",
              "      <td>0</td>\n",
              "      <td>Yes</td>\n",
              "      <td>Self-employed</td>\n",
              "      <td>Rural</td>\n",
              "      <td>202.21</td>\n",
              "      <td>NaN</td>\n",
              "      <td>never smoked</td>\n",
              "      <td>1</td>\n",
              "    </tr>\n",
              "    <tr>\n",
              "      <th>2</th>\n",
              "      <td>31112</td>\n",
              "      <td>Male</td>\n",
              "      <td>80.0</td>\n",
              "      <td>0</td>\n",
              "      <td>1</td>\n",
              "      <td>Yes</td>\n",
              "      <td>Private</td>\n",
              "      <td>Rural</td>\n",
              "      <td>105.92</td>\n",
              "      <td>32.5</td>\n",
              "      <td>never smoked</td>\n",
              "      <td>1</td>\n",
              "    </tr>\n",
              "    <tr>\n",
              "      <th>3</th>\n",
              "      <td>60182</td>\n",
              "      <td>Female</td>\n",
              "      <td>49.0</td>\n",
              "      <td>0</td>\n",
              "      <td>0</td>\n",
              "      <td>Yes</td>\n",
              "      <td>Private</td>\n",
              "      <td>Urban</td>\n",
              "      <td>171.23</td>\n",
              "      <td>34.4</td>\n",
              "      <td>smokes</td>\n",
              "      <td>1</td>\n",
              "    </tr>\n",
              "    <tr>\n",
              "      <th>4</th>\n",
              "      <td>1665</td>\n",
              "      <td>Female</td>\n",
              "      <td>79.0</td>\n",
              "      <td>1</td>\n",
              "      <td>0</td>\n",
              "      <td>Yes</td>\n",
              "      <td>Self-employed</td>\n",
              "      <td>Rural</td>\n",
              "      <td>174.12</td>\n",
              "      <td>24.0</td>\n",
              "      <td>never smoked</td>\n",
              "      <td>1</td>\n",
              "    </tr>\n",
              "  </tbody>\n",
              "</table>\n",
              "</div>"
            ],
            "text/plain": [
              "      id  gender   age  ...   bmi   smoking_status stroke\n",
              "0   9046    Male  67.0  ...  36.6  formerly smoked      1\n",
              "1  51676  Female  61.0  ...   NaN     never smoked      1\n",
              "2  31112    Male  80.0  ...  32.5     never smoked      1\n",
              "3  60182  Female  49.0  ...  34.4           smokes      1\n",
              "4   1665  Female  79.0  ...  24.0     never smoked      1\n",
              "\n",
              "[5 rows x 12 columns]"
            ]
          },
          "metadata": {},
          "execution_count": 557
        }
      ]
    },
    {
      "cell_type": "markdown",
      "metadata": {
        "id": "5yDfYnJG8_Ls"
      },
      "source": [
        "Here, we want to remove the id column of our data, since it provides us no use to the model we want to create."
      ]
    },
    {
      "cell_type": "code",
      "metadata": {
        "colab": {
          "base_uri": "https://localhost:8080/",
          "height": 206
        },
        "id": "7kSNR_AH8dWI",
        "outputId": "3f632500-a49b-44dc-d995-f0d770d11684"
      },
      "source": [
        "data.drop('id', axis=1, inplace=True)\n",
        "data.head()"
      ],
      "execution_count": 558,
      "outputs": [
        {
          "output_type": "execute_result",
          "data": {
            "text/html": [
              "<div>\n",
              "<style scoped>\n",
              "    .dataframe tbody tr th:only-of-type {\n",
              "        vertical-align: middle;\n",
              "    }\n",
              "\n",
              "    .dataframe tbody tr th {\n",
              "        vertical-align: top;\n",
              "    }\n",
              "\n",
              "    .dataframe thead th {\n",
              "        text-align: right;\n",
              "    }\n",
              "</style>\n",
              "<table border=\"1\" class=\"dataframe\">\n",
              "  <thead>\n",
              "    <tr style=\"text-align: right;\">\n",
              "      <th></th>\n",
              "      <th>gender</th>\n",
              "      <th>age</th>\n",
              "      <th>hypertension</th>\n",
              "      <th>heart_disease</th>\n",
              "      <th>ever_married</th>\n",
              "      <th>work_type</th>\n",
              "      <th>Residence_type</th>\n",
              "      <th>avg_glucose_level</th>\n",
              "      <th>bmi</th>\n",
              "      <th>smoking_status</th>\n",
              "      <th>stroke</th>\n",
              "    </tr>\n",
              "  </thead>\n",
              "  <tbody>\n",
              "    <tr>\n",
              "      <th>0</th>\n",
              "      <td>Male</td>\n",
              "      <td>67.0</td>\n",
              "      <td>0</td>\n",
              "      <td>1</td>\n",
              "      <td>Yes</td>\n",
              "      <td>Private</td>\n",
              "      <td>Urban</td>\n",
              "      <td>228.69</td>\n",
              "      <td>36.6</td>\n",
              "      <td>formerly smoked</td>\n",
              "      <td>1</td>\n",
              "    </tr>\n",
              "    <tr>\n",
              "      <th>1</th>\n",
              "      <td>Female</td>\n",
              "      <td>61.0</td>\n",
              "      <td>0</td>\n",
              "      <td>0</td>\n",
              "      <td>Yes</td>\n",
              "      <td>Self-employed</td>\n",
              "      <td>Rural</td>\n",
              "      <td>202.21</td>\n",
              "      <td>NaN</td>\n",
              "      <td>never smoked</td>\n",
              "      <td>1</td>\n",
              "    </tr>\n",
              "    <tr>\n",
              "      <th>2</th>\n",
              "      <td>Male</td>\n",
              "      <td>80.0</td>\n",
              "      <td>0</td>\n",
              "      <td>1</td>\n",
              "      <td>Yes</td>\n",
              "      <td>Private</td>\n",
              "      <td>Rural</td>\n",
              "      <td>105.92</td>\n",
              "      <td>32.5</td>\n",
              "      <td>never smoked</td>\n",
              "      <td>1</td>\n",
              "    </tr>\n",
              "    <tr>\n",
              "      <th>3</th>\n",
              "      <td>Female</td>\n",
              "      <td>49.0</td>\n",
              "      <td>0</td>\n",
              "      <td>0</td>\n",
              "      <td>Yes</td>\n",
              "      <td>Private</td>\n",
              "      <td>Urban</td>\n",
              "      <td>171.23</td>\n",
              "      <td>34.4</td>\n",
              "      <td>smokes</td>\n",
              "      <td>1</td>\n",
              "    </tr>\n",
              "    <tr>\n",
              "      <th>4</th>\n",
              "      <td>Female</td>\n",
              "      <td>79.0</td>\n",
              "      <td>1</td>\n",
              "      <td>0</td>\n",
              "      <td>Yes</td>\n",
              "      <td>Self-employed</td>\n",
              "      <td>Rural</td>\n",
              "      <td>174.12</td>\n",
              "      <td>24.0</td>\n",
              "      <td>never smoked</td>\n",
              "      <td>1</td>\n",
              "    </tr>\n",
              "  </tbody>\n",
              "</table>\n",
              "</div>"
            ],
            "text/plain": [
              "   gender   age  hypertension  ...   bmi   smoking_status stroke\n",
              "0    Male  67.0             0  ...  36.6  formerly smoked      1\n",
              "1  Female  61.0             0  ...   NaN     never smoked      1\n",
              "2    Male  80.0             0  ...  32.5     never smoked      1\n",
              "3  Female  49.0             0  ...  34.4           smokes      1\n",
              "4  Female  79.0             1  ...  24.0     never smoked      1\n",
              "\n",
              "[5 rows x 11 columns]"
            ]
          },
          "metadata": {},
          "execution_count": 558
        }
      ]
    },
    {
      "cell_type": "markdown",
      "metadata": {
        "id": "f0uH003u9ExY"
      },
      "source": [
        "Now that the id column is removed, we want to one-hot encode the data so it can be used in the models."
      ]
    },
    {
      "cell_type": "markdown",
      "metadata": {
        "id": "KYQITudOOIG9"
      },
      "source": [
        "**One-Hot Encoding**\n",
        "\n",
        "\n",
        "Since the non-binary categorical features are hard to extract data from, we use one-hot encoding to simplify this. These features include gender, marriage, work, residency, and smoking history."
      ]
    },
    {
      "cell_type": "code",
      "metadata": {
        "colab": {
          "base_uri": "https://localhost:8080/",
          "height": 261
        },
        "id": "b786Mh_kOh-0",
        "outputId": "e98c2bf7-7aef-4f73-ee20-b0a064b72797"
      },
      "source": [
        "hot_data = data.copy()\n",
        "categorical_columns = [\"gender\", \"ever_married\", \"work_type\", \"Residence_type\", \"smoking_status\"]\n",
        "\n",
        "for c in categorical_columns:\n",
        "    vals = hot_data[c].unique()\n",
        "    for v in vals:\n",
        "        hot_data[f\"{c}_{v}\"] = hot_data[c].apply(lambda c_val: 1 if c_val == v else 0)\n",
        "    hot_data.drop(c, axis=1, inplace=True)\n",
        "print(hot_data.shape)\n",
        "hot_data.head()"
      ],
      "execution_count": 559,
      "outputs": [
        {
          "output_type": "stream",
          "name": "stdout",
          "text": [
            "(5110, 22)\n"
          ]
        },
        {
          "output_type": "execute_result",
          "data": {
            "text/html": [
              "<div>\n",
              "<style scoped>\n",
              "    .dataframe tbody tr th:only-of-type {\n",
              "        vertical-align: middle;\n",
              "    }\n",
              "\n",
              "    .dataframe tbody tr th {\n",
              "        vertical-align: top;\n",
              "    }\n",
              "\n",
              "    .dataframe thead th {\n",
              "        text-align: right;\n",
              "    }\n",
              "</style>\n",
              "<table border=\"1\" class=\"dataframe\">\n",
              "  <thead>\n",
              "    <tr style=\"text-align: right;\">\n",
              "      <th></th>\n",
              "      <th>age</th>\n",
              "      <th>hypertension</th>\n",
              "      <th>heart_disease</th>\n",
              "      <th>avg_glucose_level</th>\n",
              "      <th>bmi</th>\n",
              "      <th>stroke</th>\n",
              "      <th>gender_Male</th>\n",
              "      <th>gender_Female</th>\n",
              "      <th>gender_Other</th>\n",
              "      <th>ever_married_Yes</th>\n",
              "      <th>ever_married_No</th>\n",
              "      <th>work_type_Private</th>\n",
              "      <th>work_type_Self-employed</th>\n",
              "      <th>work_type_Govt_job</th>\n",
              "      <th>work_type_children</th>\n",
              "      <th>work_type_Never_worked</th>\n",
              "      <th>Residence_type_Urban</th>\n",
              "      <th>Residence_type_Rural</th>\n",
              "      <th>smoking_status_formerly smoked</th>\n",
              "      <th>smoking_status_never smoked</th>\n",
              "      <th>smoking_status_smokes</th>\n",
              "      <th>smoking_status_Unknown</th>\n",
              "    </tr>\n",
              "  </thead>\n",
              "  <tbody>\n",
              "    <tr>\n",
              "      <th>0</th>\n",
              "      <td>67.0</td>\n",
              "      <td>0</td>\n",
              "      <td>1</td>\n",
              "      <td>228.69</td>\n",
              "      <td>36.6</td>\n",
              "      <td>1</td>\n",
              "      <td>1</td>\n",
              "      <td>0</td>\n",
              "      <td>0</td>\n",
              "      <td>1</td>\n",
              "      <td>0</td>\n",
              "      <td>1</td>\n",
              "      <td>0</td>\n",
              "      <td>0</td>\n",
              "      <td>0</td>\n",
              "      <td>0</td>\n",
              "      <td>1</td>\n",
              "      <td>0</td>\n",
              "      <td>1</td>\n",
              "      <td>0</td>\n",
              "      <td>0</td>\n",
              "      <td>0</td>\n",
              "    </tr>\n",
              "    <tr>\n",
              "      <th>1</th>\n",
              "      <td>61.0</td>\n",
              "      <td>0</td>\n",
              "      <td>0</td>\n",
              "      <td>202.21</td>\n",
              "      <td>NaN</td>\n",
              "      <td>1</td>\n",
              "      <td>0</td>\n",
              "      <td>1</td>\n",
              "      <td>0</td>\n",
              "      <td>1</td>\n",
              "      <td>0</td>\n",
              "      <td>0</td>\n",
              "      <td>1</td>\n",
              "      <td>0</td>\n",
              "      <td>0</td>\n",
              "      <td>0</td>\n",
              "      <td>0</td>\n",
              "      <td>1</td>\n",
              "      <td>0</td>\n",
              "      <td>1</td>\n",
              "      <td>0</td>\n",
              "      <td>0</td>\n",
              "    </tr>\n",
              "    <tr>\n",
              "      <th>2</th>\n",
              "      <td>80.0</td>\n",
              "      <td>0</td>\n",
              "      <td>1</td>\n",
              "      <td>105.92</td>\n",
              "      <td>32.5</td>\n",
              "      <td>1</td>\n",
              "      <td>1</td>\n",
              "      <td>0</td>\n",
              "      <td>0</td>\n",
              "      <td>1</td>\n",
              "      <td>0</td>\n",
              "      <td>1</td>\n",
              "      <td>0</td>\n",
              "      <td>0</td>\n",
              "      <td>0</td>\n",
              "      <td>0</td>\n",
              "      <td>0</td>\n",
              "      <td>1</td>\n",
              "      <td>0</td>\n",
              "      <td>1</td>\n",
              "      <td>0</td>\n",
              "      <td>0</td>\n",
              "    </tr>\n",
              "    <tr>\n",
              "      <th>3</th>\n",
              "      <td>49.0</td>\n",
              "      <td>0</td>\n",
              "      <td>0</td>\n",
              "      <td>171.23</td>\n",
              "      <td>34.4</td>\n",
              "      <td>1</td>\n",
              "      <td>0</td>\n",
              "      <td>1</td>\n",
              "      <td>0</td>\n",
              "      <td>1</td>\n",
              "      <td>0</td>\n",
              "      <td>1</td>\n",
              "      <td>0</td>\n",
              "      <td>0</td>\n",
              "      <td>0</td>\n",
              "      <td>0</td>\n",
              "      <td>1</td>\n",
              "      <td>0</td>\n",
              "      <td>0</td>\n",
              "      <td>0</td>\n",
              "      <td>1</td>\n",
              "      <td>0</td>\n",
              "    </tr>\n",
              "    <tr>\n",
              "      <th>4</th>\n",
              "      <td>79.0</td>\n",
              "      <td>1</td>\n",
              "      <td>0</td>\n",
              "      <td>174.12</td>\n",
              "      <td>24.0</td>\n",
              "      <td>1</td>\n",
              "      <td>0</td>\n",
              "      <td>1</td>\n",
              "      <td>0</td>\n",
              "      <td>1</td>\n",
              "      <td>0</td>\n",
              "      <td>0</td>\n",
              "      <td>1</td>\n",
              "      <td>0</td>\n",
              "      <td>0</td>\n",
              "      <td>0</td>\n",
              "      <td>0</td>\n",
              "      <td>1</td>\n",
              "      <td>0</td>\n",
              "      <td>1</td>\n",
              "      <td>0</td>\n",
              "      <td>0</td>\n",
              "    </tr>\n",
              "  </tbody>\n",
              "</table>\n",
              "</div>"
            ],
            "text/plain": [
              "    age  hypertension  ...  smoking_status_smokes  smoking_status_Unknown\n",
              "0  67.0             0  ...                      0                       0\n",
              "1  61.0             0  ...                      0                       0\n",
              "2  80.0             0  ...                      0                       0\n",
              "3  49.0             0  ...                      1                       0\n",
              "4  79.0             1  ...                      0                       0\n",
              "\n",
              "[5 rows x 22 columns]"
            ]
          },
          "metadata": {},
          "execution_count": 559
        }
      ]
    },
    {
      "cell_type": "markdown",
      "metadata": {
        "id": "Ljo_ce-uDDs4"
      },
      "source": [
        "**Data Cleaning (missing value detection)**\n",
        "\n",
        "\n",
        "Now we want to check for any missing values in the data."
      ]
    },
    {
      "cell_type": "code",
      "metadata": {
        "colab": {
          "base_uri": "https://localhost:8080/"
        },
        "id": "ZHcJ6EpT9C1g",
        "outputId": "a9ad79df-f902-4528-91fb-4ed10b8e56ff"
      },
      "source": [
        "# Check for null values in every column\n",
        "missing_gender = data['gender'].isnull().sum()\n",
        "print(\"# of missing gender values: \", missing_gender)\n",
        "\n",
        "missing_age = data['age'].isnull().sum()\n",
        "print(\"# of missing age values: \", missing_age)\n",
        "\n",
        "missing_hypertension = data['hypertension'].isnull().sum()\n",
        "print(\"# of missing hypertension values: \", missing_hypertension)\n",
        "\n",
        "missing_heart_disease = data['heart_disease'].isnull().sum()\n",
        "print(\"# of missing heart_disease values: \", missing_heart_disease)\n",
        "\n",
        "missing_ever_married = data['ever_married'].isnull().sum()\n",
        "print(\"# of missing ever_married values: \", missing_ever_married)\n",
        "\n",
        "missing_work_type = data['work_type'].isnull().sum()\n",
        "print(\"# of missing work_type values: \", missing_work_type)\n",
        "\n",
        "missing_Residence_type = data['Residence_type'].isnull().sum()\n",
        "print(\"# of missing Residence_type values: \", missing_Residence_type)\n",
        "\n",
        "missing_avg_glucose_level = data['avg_glucose_level'].isnull().sum()\n",
        "print(\"# of missing avg_glucose_level values: \", missing_avg_glucose_level)\n",
        "\n",
        "missing_bmi = data['bmi'].isnull().sum()\n",
        "print(\"# of missing bmi values: \", missing_bmi)\n",
        "\n",
        "missing_smoking_status = data['smoking_status'].isnull().sum()\n",
        "print(\"# of missing smoking_status values: \", missing_smoking_status)\n",
        "\n",
        "missing_stroke = data['stroke'].isnull().sum()\n",
        "print(\"# of missing stroke values: \", missing_stroke)"
      ],
      "execution_count": 560,
      "outputs": [
        {
          "output_type": "stream",
          "name": "stdout",
          "text": [
            "# of missing gender values:  0\n",
            "# of missing age values:  0\n",
            "# of missing hypertension values:  0\n",
            "# of missing heart_disease values:  0\n",
            "# of missing ever_married values:  0\n",
            "# of missing work_type values:  0\n",
            "# of missing Residence_type values:  0\n",
            "# of missing avg_glucose_level values:  0\n",
            "# of missing bmi values:  201\n",
            "# of missing smoking_status values:  0\n",
            "# of missing stroke values:  0\n"
          ]
        }
      ]
    },
    {
      "cell_type": "markdown",
      "metadata": {
        "id": "RGZBkMjL6uiE"
      },
      "source": [
        "We see that there are only missing data values for BMI, so we decide to check how large the proportion of missing values to the positive case of strokes compared to the overall distribution."
      ]
    },
    {
      "cell_type": "code",
      "metadata": {
        "colab": {
          "base_uri": "https://localhost:8080/"
        },
        "id": "XJmgOM9p6Gf-",
        "outputId": "4c921ac3-e4f7-47d4-bc54-67b1e91cba4e"
      },
      "source": [
        "stroke_dist = len(hot_data[hot_data['stroke']==1].index)/len(hot_data.index)\n",
        "null_bmi = hot_data[hot_data['bmi'].isnull()]\n",
        "null_stroke_dist = len(null_bmi[null_bmi['stroke']==1].index)/len(null_bmi.index)\n",
        "print('Percent of patients that experienced stroke:', stroke_dist)\n",
        "print('Percent of patients without a measured BMI that experienced stroke:', null_stroke_dist)"
      ],
      "execution_count": 561,
      "outputs": [
        {
          "output_type": "stream",
          "name": "stdout",
          "text": [
            "Percent of patients that experienced stroke: 0.0487279843444227\n",
            "Percent of patients without a measured BMI that experienced stroke: 0.19900497512437812\n"
          ]
        }
      ]
    },
    {
      "cell_type": "markdown",
      "metadata": {
        "id": "RChWSwOH6GgC"
      },
      "source": [
        "We can see that there are NaN values for BMI, here we chose to use imputation to clean the data. We choose to use imputation over a deletion method because we believe this would introduce less bias. We see that the proportion of missing values is greater in the positive case (i.e., had a stroke) compared to the general distribution of data. This would make list wise deletion introduce bias and remove samples at a greater proportion for the positive case. One problem with using univariate imputation is that BMI is highly variable and the distribution of data could still introduce bias. Here we choose to use multivariate imputation to attempt to address this problem."
      ]
    },
    {
      "cell_type": "code",
      "metadata": {
        "colab": {
          "base_uri": "https://localhost:8080/",
          "height": 461
        },
        "id": "UbRfuLS3-lj9",
        "outputId": "b02a29f4-5ea0-454c-c6bb-464cd68d9d71"
      },
      "source": [
        "from sklearn.experimental import enable_iterative_imputer\n",
        "from sklearn.impute import IterativeImputer\n",
        "\n",
        "imp = IterativeImputer(max_iter=10, random_state=0)\n",
        "hot_data = pd.DataFrame(imp.fit_transform(hot_data), columns=list(hot_data.columns))\n",
        "hot_data"
      ],
      "execution_count": 562,
      "outputs": [
        {
          "output_type": "execute_result",
          "data": {
            "text/html": [
              "<div>\n",
              "<style scoped>\n",
              "    .dataframe tbody tr th:only-of-type {\n",
              "        vertical-align: middle;\n",
              "    }\n",
              "\n",
              "    .dataframe tbody tr th {\n",
              "        vertical-align: top;\n",
              "    }\n",
              "\n",
              "    .dataframe thead th {\n",
              "        text-align: right;\n",
              "    }\n",
              "</style>\n",
              "<table border=\"1\" class=\"dataframe\">\n",
              "  <thead>\n",
              "    <tr style=\"text-align: right;\">\n",
              "      <th></th>\n",
              "      <th>age</th>\n",
              "      <th>hypertension</th>\n",
              "      <th>heart_disease</th>\n",
              "      <th>avg_glucose_level</th>\n",
              "      <th>bmi</th>\n",
              "      <th>stroke</th>\n",
              "      <th>gender_Male</th>\n",
              "      <th>gender_Female</th>\n",
              "      <th>gender_Other</th>\n",
              "      <th>ever_married_Yes</th>\n",
              "      <th>ever_married_No</th>\n",
              "      <th>work_type_Private</th>\n",
              "      <th>work_type_Self-employed</th>\n",
              "      <th>work_type_Govt_job</th>\n",
              "      <th>work_type_children</th>\n",
              "      <th>work_type_Never_worked</th>\n",
              "      <th>Residence_type_Urban</th>\n",
              "      <th>Residence_type_Rural</th>\n",
              "      <th>smoking_status_formerly smoked</th>\n",
              "      <th>smoking_status_never smoked</th>\n",
              "      <th>smoking_status_smokes</th>\n",
              "      <th>smoking_status_Unknown</th>\n",
              "    </tr>\n",
              "  </thead>\n",
              "  <tbody>\n",
              "    <tr>\n",
              "      <th>0</th>\n",
              "      <td>67.0</td>\n",
              "      <td>0.0</td>\n",
              "      <td>1.0</td>\n",
              "      <td>228.69</td>\n",
              "      <td>36.600000</td>\n",
              "      <td>1.0</td>\n",
              "      <td>1.0</td>\n",
              "      <td>0.0</td>\n",
              "      <td>0.0</td>\n",
              "      <td>1.0</td>\n",
              "      <td>0.0</td>\n",
              "      <td>1.0</td>\n",
              "      <td>0.0</td>\n",
              "      <td>0.0</td>\n",
              "      <td>0.0</td>\n",
              "      <td>0.0</td>\n",
              "      <td>1.0</td>\n",
              "      <td>0.0</td>\n",
              "      <td>1.0</td>\n",
              "      <td>0.0</td>\n",
              "      <td>0.0</td>\n",
              "      <td>0.0</td>\n",
              "    </tr>\n",
              "    <tr>\n",
              "      <th>1</th>\n",
              "      <td>61.0</td>\n",
              "      <td>0.0</td>\n",
              "      <td>0.0</td>\n",
              "      <td>202.21</td>\n",
              "      <td>31.171222</td>\n",
              "      <td>1.0</td>\n",
              "      <td>0.0</td>\n",
              "      <td>1.0</td>\n",
              "      <td>0.0</td>\n",
              "      <td>1.0</td>\n",
              "      <td>0.0</td>\n",
              "      <td>0.0</td>\n",
              "      <td>1.0</td>\n",
              "      <td>0.0</td>\n",
              "      <td>0.0</td>\n",
              "      <td>0.0</td>\n",
              "      <td>0.0</td>\n",
              "      <td>1.0</td>\n",
              "      <td>0.0</td>\n",
              "      <td>1.0</td>\n",
              "      <td>0.0</td>\n",
              "      <td>0.0</td>\n",
              "    </tr>\n",
              "    <tr>\n",
              "      <th>2</th>\n",
              "      <td>80.0</td>\n",
              "      <td>0.0</td>\n",
              "      <td>1.0</td>\n",
              "      <td>105.92</td>\n",
              "      <td>32.500000</td>\n",
              "      <td>1.0</td>\n",
              "      <td>1.0</td>\n",
              "      <td>0.0</td>\n",
              "      <td>0.0</td>\n",
              "      <td>1.0</td>\n",
              "      <td>0.0</td>\n",
              "      <td>1.0</td>\n",
              "      <td>0.0</td>\n",
              "      <td>0.0</td>\n",
              "      <td>0.0</td>\n",
              "      <td>0.0</td>\n",
              "      <td>0.0</td>\n",
              "      <td>1.0</td>\n",
              "      <td>0.0</td>\n",
              "      <td>1.0</td>\n",
              "      <td>0.0</td>\n",
              "      <td>0.0</td>\n",
              "    </tr>\n",
              "    <tr>\n",
              "      <th>3</th>\n",
              "      <td>49.0</td>\n",
              "      <td>0.0</td>\n",
              "      <td>0.0</td>\n",
              "      <td>171.23</td>\n",
              "      <td>34.400000</td>\n",
              "      <td>1.0</td>\n",
              "      <td>0.0</td>\n",
              "      <td>1.0</td>\n",
              "      <td>0.0</td>\n",
              "      <td>1.0</td>\n",
              "      <td>0.0</td>\n",
              "      <td>1.0</td>\n",
              "      <td>0.0</td>\n",
              "      <td>0.0</td>\n",
              "      <td>0.0</td>\n",
              "      <td>0.0</td>\n",
              "      <td>1.0</td>\n",
              "      <td>0.0</td>\n",
              "      <td>0.0</td>\n",
              "      <td>0.0</td>\n",
              "      <td>1.0</td>\n",
              "      <td>0.0</td>\n",
              "    </tr>\n",
              "    <tr>\n",
              "      <th>4</th>\n",
              "      <td>79.0</td>\n",
              "      <td>1.0</td>\n",
              "      <td>0.0</td>\n",
              "      <td>174.12</td>\n",
              "      <td>24.000000</td>\n",
              "      <td>1.0</td>\n",
              "      <td>0.0</td>\n",
              "      <td>1.0</td>\n",
              "      <td>0.0</td>\n",
              "      <td>1.0</td>\n",
              "      <td>0.0</td>\n",
              "      <td>0.0</td>\n",
              "      <td>1.0</td>\n",
              "      <td>0.0</td>\n",
              "      <td>0.0</td>\n",
              "      <td>0.0</td>\n",
              "      <td>0.0</td>\n",
              "      <td>1.0</td>\n",
              "      <td>0.0</td>\n",
              "      <td>1.0</td>\n",
              "      <td>0.0</td>\n",
              "      <td>0.0</td>\n",
              "    </tr>\n",
              "    <tr>\n",
              "      <th>...</th>\n",
              "      <td>...</td>\n",
              "      <td>...</td>\n",
              "      <td>...</td>\n",
              "      <td>...</td>\n",
              "      <td>...</td>\n",
              "      <td>...</td>\n",
              "      <td>...</td>\n",
              "      <td>...</td>\n",
              "      <td>...</td>\n",
              "      <td>...</td>\n",
              "      <td>...</td>\n",
              "      <td>...</td>\n",
              "      <td>...</td>\n",
              "      <td>...</td>\n",
              "      <td>...</td>\n",
              "      <td>...</td>\n",
              "      <td>...</td>\n",
              "      <td>...</td>\n",
              "      <td>...</td>\n",
              "      <td>...</td>\n",
              "      <td>...</td>\n",
              "      <td>...</td>\n",
              "    </tr>\n",
              "    <tr>\n",
              "      <th>5105</th>\n",
              "      <td>80.0</td>\n",
              "      <td>1.0</td>\n",
              "      <td>0.0</td>\n",
              "      <td>83.75</td>\n",
              "      <td>32.263355</td>\n",
              "      <td>0.0</td>\n",
              "      <td>0.0</td>\n",
              "      <td>1.0</td>\n",
              "      <td>0.0</td>\n",
              "      <td>1.0</td>\n",
              "      <td>0.0</td>\n",
              "      <td>1.0</td>\n",
              "      <td>0.0</td>\n",
              "      <td>0.0</td>\n",
              "      <td>0.0</td>\n",
              "      <td>0.0</td>\n",
              "      <td>1.0</td>\n",
              "      <td>0.0</td>\n",
              "      <td>0.0</td>\n",
              "      <td>1.0</td>\n",
              "      <td>0.0</td>\n",
              "      <td>0.0</td>\n",
              "    </tr>\n",
              "    <tr>\n",
              "      <th>5106</th>\n",
              "      <td>81.0</td>\n",
              "      <td>0.0</td>\n",
              "      <td>0.0</td>\n",
              "      <td>125.20</td>\n",
              "      <td>40.000000</td>\n",
              "      <td>0.0</td>\n",
              "      <td>0.0</td>\n",
              "      <td>1.0</td>\n",
              "      <td>0.0</td>\n",
              "      <td>1.0</td>\n",
              "      <td>0.0</td>\n",
              "      <td>0.0</td>\n",
              "      <td>1.0</td>\n",
              "      <td>0.0</td>\n",
              "      <td>0.0</td>\n",
              "      <td>0.0</td>\n",
              "      <td>1.0</td>\n",
              "      <td>0.0</td>\n",
              "      <td>0.0</td>\n",
              "      <td>1.0</td>\n",
              "      <td>0.0</td>\n",
              "      <td>0.0</td>\n",
              "    </tr>\n",
              "    <tr>\n",
              "      <th>5107</th>\n",
              "      <td>35.0</td>\n",
              "      <td>0.0</td>\n",
              "      <td>0.0</td>\n",
              "      <td>82.99</td>\n",
              "      <td>30.600000</td>\n",
              "      <td>0.0</td>\n",
              "      <td>0.0</td>\n",
              "      <td>1.0</td>\n",
              "      <td>0.0</td>\n",
              "      <td>1.0</td>\n",
              "      <td>0.0</td>\n",
              "      <td>0.0</td>\n",
              "      <td>1.0</td>\n",
              "      <td>0.0</td>\n",
              "      <td>0.0</td>\n",
              "      <td>0.0</td>\n",
              "      <td>0.0</td>\n",
              "      <td>1.0</td>\n",
              "      <td>0.0</td>\n",
              "      <td>1.0</td>\n",
              "      <td>0.0</td>\n",
              "      <td>0.0</td>\n",
              "    </tr>\n",
              "    <tr>\n",
              "      <th>5108</th>\n",
              "      <td>51.0</td>\n",
              "      <td>0.0</td>\n",
              "      <td>0.0</td>\n",
              "      <td>166.29</td>\n",
              "      <td>25.600000</td>\n",
              "      <td>0.0</td>\n",
              "      <td>1.0</td>\n",
              "      <td>0.0</td>\n",
              "      <td>0.0</td>\n",
              "      <td>1.0</td>\n",
              "      <td>0.0</td>\n",
              "      <td>1.0</td>\n",
              "      <td>0.0</td>\n",
              "      <td>0.0</td>\n",
              "      <td>0.0</td>\n",
              "      <td>0.0</td>\n",
              "      <td>0.0</td>\n",
              "      <td>1.0</td>\n",
              "      <td>1.0</td>\n",
              "      <td>0.0</td>\n",
              "      <td>0.0</td>\n",
              "      <td>0.0</td>\n",
              "    </tr>\n",
              "    <tr>\n",
              "      <th>5109</th>\n",
              "      <td>44.0</td>\n",
              "      <td>0.0</td>\n",
              "      <td>0.0</td>\n",
              "      <td>85.28</td>\n",
              "      <td>26.200000</td>\n",
              "      <td>0.0</td>\n",
              "      <td>0.0</td>\n",
              "      <td>1.0</td>\n",
              "      <td>0.0</td>\n",
              "      <td>1.0</td>\n",
              "      <td>0.0</td>\n",
              "      <td>0.0</td>\n",
              "      <td>0.0</td>\n",
              "      <td>1.0</td>\n",
              "      <td>0.0</td>\n",
              "      <td>0.0</td>\n",
              "      <td>1.0</td>\n",
              "      <td>0.0</td>\n",
              "      <td>0.0</td>\n",
              "      <td>0.0</td>\n",
              "      <td>0.0</td>\n",
              "      <td>1.0</td>\n",
              "    </tr>\n",
              "  </tbody>\n",
              "</table>\n",
              "<p>5110 rows × 22 columns</p>\n",
              "</div>"
            ],
            "text/plain": [
              "       age  hypertension  ...  smoking_status_smokes  smoking_status_Unknown\n",
              "0     67.0           0.0  ...                    0.0                     0.0\n",
              "1     61.0           0.0  ...                    0.0                     0.0\n",
              "2     80.0           0.0  ...                    0.0                     0.0\n",
              "3     49.0           0.0  ...                    1.0                     0.0\n",
              "4     79.0           1.0  ...                    0.0                     0.0\n",
              "...    ...           ...  ...                    ...                     ...\n",
              "5105  80.0           1.0  ...                    0.0                     0.0\n",
              "5106  81.0           0.0  ...                    0.0                     0.0\n",
              "5107  35.0           0.0  ...                    0.0                     0.0\n",
              "5108  51.0           0.0  ...                    0.0                     0.0\n",
              "5109  44.0           0.0  ...                    0.0                     1.0\n",
              "\n",
              "[5110 rows x 22 columns]"
            ]
          },
          "metadata": {},
          "execution_count": 562
        }
      ]
    },
    {
      "cell_type": "markdown",
      "metadata": {
        "id": "cyOQ3bNN9E3D"
      },
      "source": [
        "Now that we have filled in our missing values, we will now standardize all of the numerical data."
      ]
    },
    {
      "cell_type": "code",
      "metadata": {
        "colab": {
          "base_uri": "https://localhost:8080/",
          "height": 243
        },
        "id": "k5PCDn8L_4jJ",
        "outputId": "506861db-1883-4c2a-bae7-d53e98c0f1ff"
      },
      "source": [
        "# Standardize the age, avg_glucose_level, and bmi columns\n",
        "numerical_cols = [\"age\", \"avg_glucose_level\", \"bmi\"]\n",
        "for c in numerical_cols:\n",
        "    hot_data[c] = (hot_data[c] - hot_data[c].mean()) / hot_data[c].std()\n",
        "    \n",
        "hot_data.head()"
      ],
      "execution_count": 563,
      "outputs": [
        {
          "output_type": "execute_result",
          "data": {
            "text/html": [
              "<div>\n",
              "<style scoped>\n",
              "    .dataframe tbody tr th:only-of-type {\n",
              "        vertical-align: middle;\n",
              "    }\n",
              "\n",
              "    .dataframe tbody tr th {\n",
              "        vertical-align: top;\n",
              "    }\n",
              "\n",
              "    .dataframe thead th {\n",
              "        text-align: right;\n",
              "    }\n",
              "</style>\n",
              "<table border=\"1\" class=\"dataframe\">\n",
              "  <thead>\n",
              "    <tr style=\"text-align: right;\">\n",
              "      <th></th>\n",
              "      <th>age</th>\n",
              "      <th>hypertension</th>\n",
              "      <th>heart_disease</th>\n",
              "      <th>avg_glucose_level</th>\n",
              "      <th>bmi</th>\n",
              "      <th>stroke</th>\n",
              "      <th>gender_Male</th>\n",
              "      <th>gender_Female</th>\n",
              "      <th>gender_Other</th>\n",
              "      <th>ever_married_Yes</th>\n",
              "      <th>ever_married_No</th>\n",
              "      <th>work_type_Private</th>\n",
              "      <th>work_type_Self-employed</th>\n",
              "      <th>work_type_Govt_job</th>\n",
              "      <th>work_type_children</th>\n",
              "      <th>work_type_Never_worked</th>\n",
              "      <th>Residence_type_Urban</th>\n",
              "      <th>Residence_type_Rural</th>\n",
              "      <th>smoking_status_formerly smoked</th>\n",
              "      <th>smoking_status_never smoked</th>\n",
              "      <th>smoking_status_smokes</th>\n",
              "      <th>smoking_status_Unknown</th>\n",
              "    </tr>\n",
              "  </thead>\n",
              "  <tbody>\n",
              "    <tr>\n",
              "      <th>0</th>\n",
              "      <td>1.051331</td>\n",
              "      <td>0.0</td>\n",
              "      <td>1.0</td>\n",
              "      <td>2.706111</td>\n",
              "      <td>0.990957</td>\n",
              "      <td>1.0</td>\n",
              "      <td>1.0</td>\n",
              "      <td>0.0</td>\n",
              "      <td>0.0</td>\n",
              "      <td>1.0</td>\n",
              "      <td>0.0</td>\n",
              "      <td>1.0</td>\n",
              "      <td>0.0</td>\n",
              "      <td>0.0</td>\n",
              "      <td>0.0</td>\n",
              "      <td>0.0</td>\n",
              "      <td>1.0</td>\n",
              "      <td>0.0</td>\n",
              "      <td>1.0</td>\n",
              "      <td>0.0</td>\n",
              "      <td>0.0</td>\n",
              "      <td>0.0</td>\n",
              "    </tr>\n",
              "    <tr>\n",
              "      <th>1</th>\n",
              "      <td>0.785993</td>\n",
              "      <td>0.0</td>\n",
              "      <td>0.0</td>\n",
              "      <td>2.121351</td>\n",
              "      <td>0.288746</td>\n",
              "      <td>1.0</td>\n",
              "      <td>0.0</td>\n",
              "      <td>1.0</td>\n",
              "      <td>0.0</td>\n",
              "      <td>1.0</td>\n",
              "      <td>0.0</td>\n",
              "      <td>0.0</td>\n",
              "      <td>1.0</td>\n",
              "      <td>0.0</td>\n",
              "      <td>0.0</td>\n",
              "      <td>0.0</td>\n",
              "      <td>0.0</td>\n",
              "      <td>1.0</td>\n",
              "      <td>0.0</td>\n",
              "      <td>1.0</td>\n",
              "      <td>0.0</td>\n",
              "      <td>0.0</td>\n",
              "    </tr>\n",
              "    <tr>\n",
              "      <th>2</th>\n",
              "      <td>1.626231</td>\n",
              "      <td>0.0</td>\n",
              "      <td>1.0</td>\n",
              "      <td>-0.005028</td>\n",
              "      <td>0.460623</td>\n",
              "      <td>1.0</td>\n",
              "      <td>1.0</td>\n",
              "      <td>0.0</td>\n",
              "      <td>0.0</td>\n",
              "      <td>1.0</td>\n",
              "      <td>0.0</td>\n",
              "      <td>1.0</td>\n",
              "      <td>0.0</td>\n",
              "      <td>0.0</td>\n",
              "      <td>0.0</td>\n",
              "      <td>0.0</td>\n",
              "      <td>0.0</td>\n",
              "      <td>1.0</td>\n",
              "      <td>0.0</td>\n",
              "      <td>1.0</td>\n",
              "      <td>0.0</td>\n",
              "      <td>0.0</td>\n",
              "    </tr>\n",
              "    <tr>\n",
              "      <th>3</th>\n",
              "      <td>0.255317</td>\n",
              "      <td>0.0</td>\n",
              "      <td>0.0</td>\n",
              "      <td>1.437217</td>\n",
              "      <td>0.706388</td>\n",
              "      <td>1.0</td>\n",
              "      <td>0.0</td>\n",
              "      <td>1.0</td>\n",
              "      <td>0.0</td>\n",
              "      <td>1.0</td>\n",
              "      <td>0.0</td>\n",
              "      <td>1.0</td>\n",
              "      <td>0.0</td>\n",
              "      <td>0.0</td>\n",
              "      <td>0.0</td>\n",
              "      <td>0.0</td>\n",
              "      <td>1.0</td>\n",
              "      <td>0.0</td>\n",
              "      <td>0.0</td>\n",
              "      <td>0.0</td>\n",
              "      <td>1.0</td>\n",
              "      <td>0.0</td>\n",
              "    </tr>\n",
              "    <tr>\n",
              "      <th>4</th>\n",
              "      <td>1.582008</td>\n",
              "      <td>1.0</td>\n",
              "      <td>0.0</td>\n",
              "      <td>1.501038</td>\n",
              "      <td>-0.638849</td>\n",
              "      <td>1.0</td>\n",
              "      <td>0.0</td>\n",
              "      <td>1.0</td>\n",
              "      <td>0.0</td>\n",
              "      <td>1.0</td>\n",
              "      <td>0.0</td>\n",
              "      <td>0.0</td>\n",
              "      <td>1.0</td>\n",
              "      <td>0.0</td>\n",
              "      <td>0.0</td>\n",
              "      <td>0.0</td>\n",
              "      <td>0.0</td>\n",
              "      <td>1.0</td>\n",
              "      <td>0.0</td>\n",
              "      <td>1.0</td>\n",
              "      <td>0.0</td>\n",
              "      <td>0.0</td>\n",
              "    </tr>\n",
              "  </tbody>\n",
              "</table>\n",
              "</div>"
            ],
            "text/plain": [
              "        age  hypertension  ...  smoking_status_smokes  smoking_status_Unknown\n",
              "0  1.051331           0.0  ...                    0.0                     0.0\n",
              "1  0.785993           0.0  ...                    0.0                     0.0\n",
              "2  1.626231           0.0  ...                    0.0                     0.0\n",
              "3  0.255317           0.0  ...                    1.0                     0.0\n",
              "4  1.582008           1.0  ...                    0.0                     0.0\n",
              "\n",
              "[5 rows x 22 columns]"
            ]
          },
          "metadata": {},
          "execution_count": 563
        }
      ]
    },
    {
      "cell_type": "markdown",
      "metadata": {
        "id": "D-FvKrz1BVNS"
      },
      "source": [
        "For all of our numerical data, we created boxplots to see the mean and quartile ranges for each feature. We also looked for any outliers to remove."
      ]
    },
    {
      "cell_type": "code",
      "metadata": {
        "colab": {
          "base_uri": "https://localhost:8080/",
          "height": 282
        },
        "id": "ilxy1b1zAnaU",
        "outputId": "8baa7642-745a-41b9-bee8-dfc57542d0cc"
      },
      "source": [
        "# Boxplot for age\n",
        "hot_data.boxplot(column=['age'])"
      ],
      "execution_count": 564,
      "outputs": [
        {
          "output_type": "execute_result",
          "data": {
            "text/plain": [
              "<matplotlib.axes._subplots.AxesSubplot at 0x7f6952abfe10>"
            ]
          },
          "metadata": {},
          "execution_count": 564
        },
        {
          "output_type": "display_data",
          "data": {
            "image/png": "[encoded data removed]",
            "text/plain": [
              "<Figure size 432x288 with 1 Axes>"
            ]
          },
          "metadata": {
            "needs_background": "light"
          }
        }
      ]
    },
    {
      "cell_type": "code",
      "metadata": {
        "colab": {
          "base_uri": "https://localhost:8080/",
          "height": 283
        },
        "id": "0AOfJ_lDBvfi",
        "outputId": "bfe0525b-c9ae-4270-939c-533632493306"
      },
      "source": [
        "# Boxplot for glucode level\n",
        "hot_data.boxplot(column=['avg_glucose_level'])"
      ],
      "execution_count": 565,
      "outputs": [
        {
          "output_type": "execute_result",
          "data": {
            "text/plain": [
              "<matplotlib.axes._subplots.AxesSubplot at 0x7f6952025a50>"
            ]
          },
          "metadata": {},
          "execution_count": 565
        },
        {
          "output_type": "display_data",
          "data": {
            "image/png": "[encoded data removed]",
            "text/plain": [
              "<Figure size 432x288 with 1 Axes>"
            ]
          },
          "metadata": {
            "needs_background": "light"
          }
        }
      ]
    },
    {
      "cell_type": "code",
      "metadata": {
        "colab": {
          "base_uri": "https://localhost:8080/",
          "height": 282
        },
        "id": "8o07dtAfBvo6",
        "outputId": "d06a7c2b-5e48-42cb-ad61-f072f1a50101"
      },
      "source": [
        "# Boxplot for BMI\n",
        "hot_data.boxplot(column=['bmi'])"
      ],
      "execution_count": 566,
      "outputs": [
        {
          "output_type": "execute_result",
          "data": {
            "text/plain": [
              "<matplotlib.axes._subplots.AxesSubplot at 0x7f695353ce90>"
            ]
          },
          "metadata": {},
          "execution_count": 566
        },
        {
          "output_type": "display_data",
          "data": {
            "image/png": "[encoded data removed]",
            "text/plain": [
              "<Figure size 432x288 with 1 Axes>"
            ]
          },
          "metadata": {
            "needs_background": "light"
          }
        }
      ]
    },
    {
      "cell_type": "markdown",
      "metadata": {
        "id": "QWQ1qh63BZic"
      },
      "source": [
        "Create bar charts for all categorical data"
      ]
    },
    {
      "cell_type": "code",
      "metadata": {
        "colab": {
          "base_uri": "https://localhost:8080/",
          "height": 308
        },
        "id": "Hz-DQxgXDI0E",
        "outputId": "e40f46c8-de94-46e3-f324-51f8aa81e0f2"
      },
      "source": [
        "# Bar chart for gender counts\n",
        "data[\"gender\"].value_counts().plot(kind='bar')"
      ],
      "execution_count": 567,
      "outputs": [
        {
          "output_type": "execute_result",
          "data": {
            "text/plain": [
              "<matplotlib.axes._subplots.AxesSubplot at 0x7f695366b510>"
            ]
          },
          "metadata": {},
          "execution_count": 567
        },
        {
          "output_type": "display_data",
          "data": {
            "image/png": "[encoded data removed]",
            "text/plain": [
              "<Figure size 432x288 with 1 Axes>"
            ]
          },
          "metadata": {
            "needs_background": "light"
          }
        }
      ]
    },
    {
      "cell_type": "code",
      "metadata": {
        "colab": {
          "base_uri": "https://localhost:8080/",
          "height": 279
        },
        "id": "-X8HPziZD4Gc",
        "outputId": "4d4977ad-bee1-4fca-d01c-4661f0ddd4e5"
      },
      "source": [
        "# Bar chart for hypertension counts\n",
        "data[\"hypertension\"].value_counts().plot(kind='bar')"
      ],
      "execution_count": 568,
      "outputs": [
        {
          "output_type": "execute_result",
          "data": {
            "text/plain": [
              "<matplotlib.axes._subplots.AxesSubplot at 0x7f6952090350>"
            ]
          },
          "metadata": {},
          "execution_count": 568
        },
        {
          "output_type": "display_data",
          "data": {
            "image/png": "[encoded data removed]",
            "text/plain": [
              "<Figure size 432x288 with 1 Axes>"
            ]
          },
          "metadata": {
            "needs_background": "light"
          }
        }
      ]
    },
    {
      "cell_type": "code",
      "metadata": {
        "colab": {
          "base_uri": "https://localhost:8080/",
          "height": 279
        },
        "id": "pHhFUsUAEAAg",
        "outputId": "a402a9c7-582d-4465-8714-4d241b8d774e"
      },
      "source": [
        "# Bar chart for heart_disease counts\n",
        "data[\"heart_disease\"].value_counts().plot(kind='bar')"
      ],
      "execution_count": 569,
      "outputs": [
        {
          "output_type": "execute_result",
          "data": {
            "text/plain": [
              "<matplotlib.axes._subplots.AxesSubplot at 0x7f69522834d0>"
            ]
          },
          "metadata": {},
          "execution_count": 569
        },
        {
          "output_type": "display_data",
          "data": {
            "image/png": "[encoded data removed]",
            "text/plain": [
              "<Figure size 432x288 with 1 Axes>"
            ]
          },
          "metadata": {
            "needs_background": "light"
          }
        }
      ]
    },
    {
      "cell_type": "code",
      "metadata": {
        "colab": {
          "base_uri": "https://localhost:8080/",
          "height": 291
        },
        "id": "-8AF4qSIEGCt",
        "outputId": "6e218e12-b102-4ed3-8f26-10f9a94d371a"
      },
      "source": [
        "# Bar chart for ever_married counts\n",
        "data[\"ever_married\"].value_counts().plot(kind='bar')"
      ],
      "execution_count": 570,
      "outputs": [
        {
          "output_type": "execute_result",
          "data": {
            "text/plain": [
              "<matplotlib.axes._subplots.AxesSubplot at 0x7f69527a7b50>"
            ]
          },
          "metadata": {},
          "execution_count": 570
        },
        {
          "output_type": "display_data",
          "data": {
            "image/png": "[encoded data removed]",
            "text/plain": [
              "<Figure size 432x288 with 1 Axes>"
            ]
          },
          "metadata": {
            "needs_background": "light"
          }
        }
      ]
    },
    {
      "cell_type": "code",
      "metadata": {
        "colab": {
          "base_uri": "https://localhost:8080/",
          "height": 344
        },
        "id": "SKKadf_0EK2U",
        "outputId": "73f5fbce-5e04-4a17-ff04-5d71404b4944"
      },
      "source": [
        "# Bar chart for work_type counts\n",
        "data[\"work_type\"].value_counts().plot(kind='bar')"
      ],
      "execution_count": 571,
      "outputs": [
        {
          "output_type": "execute_result",
          "data": {
            "text/plain": [
              "<matplotlib.axes._subplots.AxesSubplot at 0x7f6951d11cd0>"
            ]
          },
          "metadata": {},
          "execution_count": 571
        },
        {
          "output_type": "display_data",
          "data": {
            "image/png": "[encoded data removed]",
            "text/plain": [
              "<Figure size 432x288 with 1 Axes>"
            ]
          },
          "metadata": {
            "needs_background": "light"
          }
        }
      ]
    },
    {
      "cell_type": "code",
      "metadata": {
        "colab": {
          "base_uri": "https://localhost:8080/",
          "height": 303
        },
        "id": "4iumIQiGESeM",
        "outputId": "39007d8a-84ca-4644-de35-7fd1a3141160"
      },
      "source": [
        "# Bar chart for Residence_type counts\n",
        "data[\"Residence_type\"].value_counts().plot(kind='bar')"
      ],
      "execution_count": 572,
      "outputs": [
        {
          "output_type": "execute_result",
          "data": {
            "text/plain": [
              "<matplotlib.axes._subplots.AxesSubplot at 0x7f6951fc94d0>"
            ]
          },
          "metadata": {},
          "execution_count": 572
        },
        {
          "output_type": "display_data",
          "data": {
            "image/png": "[encoded data removed]",
            "text/plain": [
              "<Figure size 432x288 with 1 Axes>"
            ]
          },
          "metadata": {
            "needs_background": "light"
          }
        }
      ]
    },
    {
      "cell_type": "code",
      "metadata": {
        "colab": {
          "base_uri": "https://localhost:8080/",
          "height": 356
        },
        "id": "VC5Hnhy7EVTn",
        "outputId": "9b231c74-c3d5-4ea2-8219-c58a59f9eedb"
      },
      "source": [
        "# Bar chart for smoking_status counts\n",
        "data[\"smoking_status\"].value_counts().plot(kind='bar')"
      ],
      "execution_count": 573,
      "outputs": [
        {
          "output_type": "execute_result",
          "data": {
            "text/plain": [
              "<matplotlib.axes._subplots.AxesSubplot at 0x7f6951ec0110>"
            ]
          },
          "metadata": {},
          "execution_count": 573
        },
        {
          "output_type": "display_data",
          "data": {
            "image/png": "[encoded data removed]",
            "text/plain": [
              "<Figure size 432x288 with 1 Axes>"
            ]
          },
          "metadata": {
            "needs_background": "light"
          }
        }
      ]
    },
    {
      "cell_type": "code",
      "metadata": {
        "colab": {
          "base_uri": "https://localhost:8080/",
          "height": 279
        },
        "id": "5b8FRsO0GOtQ",
        "outputId": "a8492334-62cc-46f2-8c75-94c28679162a"
      },
      "source": [
        "# Bar chart for stroke counts\n",
        "data[\"stroke\"].value_counts().plot(kind='bar')"
      ],
      "execution_count": 574,
      "outputs": [
        {
          "output_type": "execute_result",
          "data": {
            "text/plain": [
              "<matplotlib.axes._subplots.AxesSubplot at 0x7f6952767f10>"
            ]
          },
          "metadata": {},
          "execution_count": 574
        },
        {
          "output_type": "display_data",
          "data": {
            "image/png": "[encoded data removed]",
            "text/plain": [
              "<Figure size 432x288 with 1 Axes>"
            ]
          },
          "metadata": {
            "needs_background": "light"
          }
        }
      ]
    },
    {
      "cell_type": "markdown",
      "metadata": {
        "id": "kQem21jQ7Ns2"
      },
      "source": [
        "Since we only detected outliers in the Average Glucose Levels and BMI, we promptly remove those data points from our data."
      ]
    },
    {
      "cell_type": "code",
      "metadata": {
        "colab": {
          "base_uri": "https://localhost:8080/",
          "height": 261
        },
        "id": "Ns-j7EkfEa9A",
        "outputId": "49d159e6-c47b-49d4-fc32-646a79a0f2b4"
      },
      "source": [
        "# Remove some outliers\n",
        "\n",
        "# From average glucose level\n",
        "hot_data = hot_data[(np.abs(stats.zscore(hot_data[\"avg_glucose_level\"])) < 3)]\n",
        "\n",
        "# From BMI\n",
        "hot_data = hot_data[(np.abs(stats.zscore(hot_data[\"bmi\"])) < 3)]\n",
        "\n",
        "print(f\"New hot_dataset shape: {hot_data.shape}\")\n",
        "hot_data.head()"
      ],
      "execution_count": 575,
      "outputs": [
        {
          "output_type": "stream",
          "name": "stdout",
          "text": [
            "New hot_dataset shape: (5002, 22)\n"
          ]
        },
        {
          "output_type": "execute_result",
          "data": {
            "text/html": [
              "<div>\n",
              "<style scoped>\n",
              "    .dataframe tbody tr th:only-of-type {\n",
              "        vertical-align: middle;\n",
              "    }\n",
              "\n",
              "    .dataframe tbody tr th {\n",
              "        vertical-align: top;\n",
              "    }\n",
              "\n",
              "    .dataframe thead th {\n",
              "        text-align: right;\n",
              "    }\n",
              "</style>\n",
              "<table border=\"1\" class=\"dataframe\">\n",
              "  <thead>\n",
              "    <tr style=\"text-align: right;\">\n",
              "      <th></th>\n",
              "      <th>age</th>\n",
              "      <th>hypertension</th>\n",
              "      <th>heart_disease</th>\n",
              "      <th>avg_glucose_level</th>\n",
              "      <th>bmi</th>\n",
              "      <th>stroke</th>\n",
              "      <th>gender_Male</th>\n",
              "      <th>gender_Female</th>\n",
              "      <th>gender_Other</th>\n",
              "      <th>ever_married_Yes</th>\n",
              "      <th>ever_married_No</th>\n",
              "      <th>work_type_Private</th>\n",
              "      <th>work_type_Self-employed</th>\n",
              "      <th>work_type_Govt_job</th>\n",
              "      <th>work_type_children</th>\n",
              "      <th>work_type_Never_worked</th>\n",
              "      <th>Residence_type_Urban</th>\n",
              "      <th>Residence_type_Rural</th>\n",
              "      <th>smoking_status_formerly smoked</th>\n",
              "      <th>smoking_status_never smoked</th>\n",
              "      <th>smoking_status_smokes</th>\n",
              "      <th>smoking_status_Unknown</th>\n",
              "    </tr>\n",
              "  </thead>\n",
              "  <tbody>\n",
              "    <tr>\n",
              "      <th>0</th>\n",
              "      <td>1.051331</td>\n",
              "      <td>0.0</td>\n",
              "      <td>1.0</td>\n",
              "      <td>2.706111</td>\n",
              "      <td>0.990957</td>\n",
              "      <td>1.0</td>\n",
              "      <td>1.0</td>\n",
              "      <td>0.0</td>\n",
              "      <td>0.0</td>\n",
              "      <td>1.0</td>\n",
              "      <td>0.0</td>\n",
              "      <td>1.0</td>\n",
              "      <td>0.0</td>\n",
              "      <td>0.0</td>\n",
              "      <td>0.0</td>\n",
              "      <td>0.0</td>\n",
              "      <td>1.0</td>\n",
              "      <td>0.0</td>\n",
              "      <td>1.0</td>\n",
              "      <td>0.0</td>\n",
              "      <td>0.0</td>\n",
              "      <td>0.0</td>\n",
              "    </tr>\n",
              "    <tr>\n",
              "      <th>1</th>\n",
              "      <td>0.785993</td>\n",
              "      <td>0.0</td>\n",
              "      <td>0.0</td>\n",
              "      <td>2.121351</td>\n",
              "      <td>0.288746</td>\n",
              "      <td>1.0</td>\n",
              "      <td>0.0</td>\n",
              "      <td>1.0</td>\n",
              "      <td>0.0</td>\n",
              "      <td>1.0</td>\n",
              "      <td>0.0</td>\n",
              "      <td>0.0</td>\n",
              "      <td>1.0</td>\n",
              "      <td>0.0</td>\n",
              "      <td>0.0</td>\n",
              "      <td>0.0</td>\n",
              "      <td>0.0</td>\n",
              "      <td>1.0</td>\n",
              "      <td>0.0</td>\n",
              "      <td>1.0</td>\n",
              "      <td>0.0</td>\n",
              "      <td>0.0</td>\n",
              "    </tr>\n",
              "    <tr>\n",
              "      <th>2</th>\n",
              "      <td>1.626231</td>\n",
              "      <td>0.0</td>\n",
              "      <td>1.0</td>\n",
              "      <td>-0.005028</td>\n",
              "      <td>0.460623</td>\n",
              "      <td>1.0</td>\n",
              "      <td>1.0</td>\n",
              "      <td>0.0</td>\n",
              "      <td>0.0</td>\n",
              "      <td>1.0</td>\n",
              "      <td>0.0</td>\n",
              "      <td>1.0</td>\n",
              "      <td>0.0</td>\n",
              "      <td>0.0</td>\n",
              "      <td>0.0</td>\n",
              "      <td>0.0</td>\n",
              "      <td>0.0</td>\n",
              "      <td>1.0</td>\n",
              "      <td>0.0</td>\n",
              "      <td>1.0</td>\n",
              "      <td>0.0</td>\n",
              "      <td>0.0</td>\n",
              "    </tr>\n",
              "    <tr>\n",
              "      <th>3</th>\n",
              "      <td>0.255317</td>\n",
              "      <td>0.0</td>\n",
              "      <td>0.0</td>\n",
              "      <td>1.437217</td>\n",
              "      <td>0.706388</td>\n",
              "      <td>1.0</td>\n",
              "      <td>0.0</td>\n",
              "      <td>1.0</td>\n",
              "      <td>0.0</td>\n",
              "      <td>1.0</td>\n",
              "      <td>0.0</td>\n",
              "      <td>1.0</td>\n",
              "      <td>0.0</td>\n",
              "      <td>0.0</td>\n",
              "      <td>0.0</td>\n",
              "      <td>0.0</td>\n",
              "      <td>1.0</td>\n",
              "      <td>0.0</td>\n",
              "      <td>0.0</td>\n",
              "      <td>0.0</td>\n",
              "      <td>1.0</td>\n",
              "      <td>0.0</td>\n",
              "    </tr>\n",
              "    <tr>\n",
              "      <th>4</th>\n",
              "      <td>1.582008</td>\n",
              "      <td>1.0</td>\n",
              "      <td>0.0</td>\n",
              "      <td>1.501038</td>\n",
              "      <td>-0.638849</td>\n",
              "      <td>1.0</td>\n",
              "      <td>0.0</td>\n",
              "      <td>1.0</td>\n",
              "      <td>0.0</td>\n",
              "      <td>1.0</td>\n",
              "      <td>0.0</td>\n",
              "      <td>0.0</td>\n",
              "      <td>1.0</td>\n",
              "      <td>0.0</td>\n",
              "      <td>0.0</td>\n",
              "      <td>0.0</td>\n",
              "      <td>0.0</td>\n",
              "      <td>1.0</td>\n",
              "      <td>0.0</td>\n",
              "      <td>1.0</td>\n",
              "      <td>0.0</td>\n",
              "      <td>0.0</td>\n",
              "    </tr>\n",
              "  </tbody>\n",
              "</table>\n",
              "</div>"
            ],
            "text/plain": [
              "        age  hypertension  ...  smoking_status_smokes  smoking_status_Unknown\n",
              "0  1.051331           0.0  ...                    0.0                     0.0\n",
              "1  0.785993           0.0  ...                    0.0                     0.0\n",
              "2  1.626231           0.0  ...                    0.0                     0.0\n",
              "3  0.255317           0.0  ...                    1.0                     0.0\n",
              "4  1.582008           1.0  ...                    0.0                     0.0\n",
              "\n",
              "[5 rows x 22 columns]"
            ]
          },
          "metadata": {},
          "execution_count": 575
        }
      ]
    },
    {
      "cell_type": "markdown",
      "metadata": {
        "id": "vWxBvjdJ6Gga"
      },
      "source": [
        "## Feature Engineering"
      ]
    },
    {
      "cell_type": "markdown",
      "metadata": {
        "id": "MUYznMzi7hoC"
      },
      "source": [
        "Now that we have cleaned the data, we perform feature engineering to select useful features to use to build our models. In the histograms shown below, the orange displays the data that has had a stroke, while the blue shows the data that has not."
      ]
    },
    {
      "cell_type": "code",
      "metadata": {
        "colab": {
          "base_uri": "https://localhost:8080/",
          "height": 265
        },
        "id": "MrZEE4IU6Ggb",
        "outputId": "15365443-1f8e-4361-dee2-43c56219ff9f"
      },
      "source": [
        "stroke = data[data['stroke'] == 1]\n",
        "no_stroke = data[data['stroke']==0]\n",
        "\n",
        "plt.hist(no_stroke['age'], density=True, alpha=0.8)\n",
        "plt.hist(stroke['age'], density=True, alpha=0.8)\n",
        "\n",
        "plt.show()"
      ],
      "execution_count": 576,
      "outputs": [
        {
          "output_type": "display_data",
          "data": {
            "image/png": "[encoded data removed]",
            "text/plain": [
              "<Figure size 432x288 with 1 Axes>"
            ]
          },
          "metadata": {
            "needs_background": "light"
          }
        }
      ]
    },
    {
      "cell_type": "code",
      "metadata": {
        "colab": {
          "base_uri": "https://localhost:8080/",
          "height": 265
        },
        "id": "D8AKvRBj6Ggc",
        "outputId": "272759e8-0f4e-4c72-ec71-d464ecc578e6"
      },
      "source": [
        "plt.hist(no_stroke['hypertension'], density=True, alpha=0.8)\n",
        "plt.hist(stroke['hypertension'], density=True, alpha=0.8)\n",
        "\n",
        "plt.show()"
      ],
      "execution_count": 577,
      "outputs": [
        {
          "output_type": "display_data",
          "data": {
            "image/png": "[encoded data removed]",
            "text/plain": [
              "<Figure size 432x288 with 1 Axes>"
            ]
          },
          "metadata": {
            "needs_background": "light"
          }
        }
      ]
    },
    {
      "cell_type": "code",
      "metadata": {
        "colab": {
          "base_uri": "https://localhost:8080/",
          "height": 269
        },
        "id": "Vpt6rzDi6Ggd",
        "outputId": "a5cd8399-0155-4ffd-ba19-b28a661e6128"
      },
      "source": [
        "plt.hist(no_stroke['heart_disease'], density=True, alpha=0.8)\n",
        "plt.hist(stroke['heart_disease'], density=True, alpha=0.8)\n",
        "\n",
        "plt.show()"
      ],
      "execution_count": 578,
      "outputs": [
        {
          "output_type": "display_data",
          "data": {
            "image/png": "[encoded data removed]",
            "text/plain": [
              "<Figure size 432x288 with 1 Axes>"
            ]
          },
          "metadata": {
            "needs_background": "light"
          }
        }
      ]
    },
    {
      "cell_type": "code",
      "metadata": {
        "colab": {
          "base_uri": "https://localhost:8080/",
          "height": 265
        },
        "id": "rosleKuc6Ggf",
        "outputId": "5e000670-1367-4334-bc2a-2608e8005e52"
      },
      "source": [
        "plt.hist(no_stroke['avg_glucose_level'], density=True, alpha=0.8)\n",
        "plt.hist(stroke['avg_glucose_level'], density=True, alpha=0.8)\n",
        "\n",
        "plt.show()"
      ],
      "execution_count": 579,
      "outputs": [
        {
          "output_type": "display_data",
          "data": {
            "image/png": "[encoded data removed]",
            "text/plain": [
              "<Figure size 432x288 with 1 Axes>"
            ]
          },
          "metadata": {
            "needs_background": "light"
          }
        }
      ]
    },
    {
      "cell_type": "code",
      "metadata": {
        "colab": {
          "base_uri": "https://localhost:8080/",
          "height": 265
        },
        "id": "xukHb2XB6Ggg",
        "outputId": "4aa31f51-4504-401b-94e1-6d10112fd5a7"
      },
      "source": [
        "plt.hist(no_stroke['bmi'], density=True, alpha=0.8)\n",
        "plt.hist(stroke['bmi'], density=True, alpha=0.8)\n",
        "\n",
        "plt.show()"
      ],
      "execution_count": 580,
      "outputs": [
        {
          "output_type": "display_data",
          "data": {
            "image/png": "[encoded data removed]",
            "text/plain": [
              "<Figure size 432x288 with 1 Axes>"
            ]
          },
          "metadata": {
            "needs_background": "light"
          }
        }
      ]
    },
    {
      "cell_type": "code",
      "metadata": {
        "colab": {
          "base_uri": "https://localhost:8080/",
          "height": 265
        },
        "id": "AuL0f_rP6Ggh",
        "outputId": "b6e5fb7d-2abf-4527-8717-0854fbb8c3ed"
      },
      "source": [
        "plt.hist(no_stroke['gender'], density=True, alpha=0.8)\n",
        "plt.hist(stroke['gender'], density=True, alpha=0.8)\n",
        "\n",
        "plt.show()"
      ],
      "execution_count": 581,
      "outputs": [
        {
          "output_type": "display_data",
          "data": {
            "image/png": "[encoded data removed]",
            "text/plain": [
              "<Figure size 432x288 with 1 Axes>"
            ]
          },
          "metadata": {
            "needs_background": "light"
          }
        }
      ]
    },
    {
      "cell_type": "code",
      "metadata": {
        "colab": {
          "base_uri": "https://localhost:8080/",
          "height": 266
        },
        "id": "fTNgXlx96Ggi",
        "outputId": "678f3999-1775-411e-a170-7c5552e98100"
      },
      "source": [
        "plt.hist(no_stroke['work_type'], density=True, alpha=0.8)\n",
        "plt.hist(stroke['work_type'], density=True, alpha=0.8)\n",
        "\n",
        "plt.show()"
      ],
      "execution_count": 582,
      "outputs": [
        {
          "output_type": "display_data",
          "data": {
            "image/png": "[encoded data removed]",
            "text/plain": [
              "<Figure size 432x288 with 1 Axes>"
            ]
          },
          "metadata": {
            "needs_background": "light"
          }
        }
      ]
    },
    {
      "cell_type": "code",
      "metadata": {
        "colab": {
          "base_uri": "https://localhost:8080/",
          "height": 265
        },
        "id": "5krU2o446Ggj",
        "outputId": "0248accf-b7fb-4edd-e477-64d998448b65"
      },
      "source": [
        "plt.hist(no_stroke['Residence_type'], density=True, alpha=0.8)\n",
        "plt.hist(stroke['Residence_type'], density=True, alpha=0.8)\n",
        "\n",
        "plt.show()"
      ],
      "execution_count": 583,
      "outputs": [
        {
          "output_type": "display_data",
          "data": {
            "image/png": "[encoded data removed]",
            "text/plain": [
              "<Figure size 432x288 with 1 Axes>"
            ]
          },
          "metadata": {
            "needs_background": "light"
          }
        }
      ]
    },
    {
      "cell_type": "code",
      "metadata": {
        "colab": {
          "base_uri": "https://localhost:8080/",
          "height": 265
        },
        "id": "p50Gle7-6Ggk",
        "outputId": "ed7a1b6c-0be0-408b-831a-37d929268c68"
      },
      "source": [
        "plt.hist(no_stroke['smoking_status'], density=True, alpha=0.8)\n",
        "plt.hist(stroke['smoking_status'], density=True, alpha=0.8)\n",
        "\n",
        "plt.show()"
      ],
      "execution_count": 584,
      "outputs": [
        {
          "output_type": "display_data",
          "data": {
            "image/png": "[encoded data removed]",
            "text/plain": [
              "<Figure size 432x288 with 1 Axes>"
            ]
          },
          "metadata": {
            "needs_background": "light"
          }
        }
      ]
    },
    {
      "cell_type": "markdown",
      "metadata": {
        "id": "hTZ35I5Q6Ggl"
      },
      "source": [
        "We can also visualize the correlations between features and the stroke class using a correlation matrix. We want to ensure that features are not highly correlated with each other because this means that they are redundant."
      ]
    },
    {
      "cell_type": "code",
      "metadata": {
        "colab": {
          "base_uri": "https://localhost:8080/",
          "height": 970
        },
        "id": "z3LAGmQRIREf",
        "outputId": "bbb725ba-4cf1-4d1c-d076-8f3ef4660a02"
      },
      "source": [
        "#Using Pearson Correlation\n",
        "import seaborn as sns\n",
        "\n",
        "plt.figure(figsize=(16, 14))\n",
        "cor = hot_data.corr()\n",
        "cor = abs(cor)\n",
        "sns.heatmap(cor, annot=True, cmap=plt.cm.Blues)\n",
        "plt.show()"
      ],
      "execution_count": 585,
      "outputs": [
        {
          "output_type": "display_data",
          "data": {
            "image/png": "[encoded data removed]",
            "text/plain": [
              "<Figure size 1152x1008 with 2 Axes>"
            ]
          },
          "metadata": {
            "needs_background": "light"
          }
        }
      ]
    },
    {
      "cell_type": "markdown",
      "metadata": {
        "id": "o0E-uwm2O4CK"
      },
      "source": [
        "This tells us that among these features, age is highly correlated with ever_married_No and with ever_married_Yes. work_type_children is similarly correlated. In addition, ever_married_No and ever_married_Yes are highly correlated. Therefore, we can remove all of ever_married_No, ever_married_Yes, and work_type_children because they are redundant when we have age. Lastly, Residence_type_Urban and Residence_type_Rural are highly correlated, as well as gender_Male and gender_Female so we will only keep one of each. This results in the following correlation matrix for the features to select."
      ]
    },
    {
      "cell_type": "code",
      "metadata": {
        "colab": {
          "base_uri": "https://localhost:8080/",
          "height": 970
        },
        "id": "lZkjWfp2Palr",
        "outputId": "5d6534be-9486-4a85-a1ab-651049bdb6cd"
      },
      "source": [
        "# remove features\n",
        "relevant_features = cor[\"stroke\"].copy()\n",
        "del relevant_features[\"ever_married_No\"]\n",
        "del relevant_features[\"ever_married_Yes\"]\n",
        "del relevant_features[\"work_type_children\"]\n",
        "del relevant_features[\"Residence_type_Rural\"]\n",
        "del relevant_features[\"gender_Female\"]\n",
        "\n",
        "# build corr matrix\n",
        "plt.figure(figsize=(16, 14))\n",
        "relevant_cor = hot_data[relevant_features.index].corr()\n",
        "relevant_cor = abs(relevant_cor)\n",
        "sns.heatmap(relevant_cor, annot=True, cmap=plt.cm.Blues)\n",
        "plt.show()"
      ],
      "execution_count": 586,
      "outputs": [
        {
          "output_type": "display_data",
          "data": {
            "image/png": "[encoded data removed]",
            "text/plain": [
              "<Figure size 1152x1008 with 2 Axes>"
            ]
          },
          "metadata": {
            "needs_background": "light"
          }
        }
      ]
    },
    {
      "cell_type": "markdown",
      "metadata": {
        "id": "bbdBK1MBPtuK"
      },
      "source": [
        "Now we update our hot_data to only use these selected features."
      ]
    },
    {
      "cell_type": "code",
      "metadata": {
        "colab": {
          "base_uri": "https://localhost:8080/",
          "height": 461
        },
        "id": "8hUS-EqZPs0R",
        "outputId": "b3f7a614-4796-4245-978a-d4377faa9e4a"
      },
      "source": [
        "# update hot_data\n",
        "original_hot_data = hot_data.copy()\n",
        "hot_data = hot_data[relevant_features.index]\n",
        "hot_data"
      ],
      "execution_count": 587,
      "outputs": [
        {
          "output_type": "execute_result",
          "data": {
            "text/html": [
              "<div>\n",
              "<style scoped>\n",
              "    .dataframe tbody tr th:only-of-type {\n",
              "        vertical-align: middle;\n",
              "    }\n",
              "\n",
              "    .dataframe tbody tr th {\n",
              "        vertical-align: top;\n",
              "    }\n",
              "\n",
              "    .dataframe thead th {\n",
              "        text-align: right;\n",
              "    }\n",
              "</style>\n",
              "<table border=\"1\" class=\"dataframe\">\n",
              "  <thead>\n",
              "    <tr style=\"text-align: right;\">\n",
              "      <th></th>\n",
              "      <th>age</th>\n",
              "      <th>hypertension</th>\n",
              "      <th>heart_disease</th>\n",
              "      <th>avg_glucose_level</th>\n",
              "      <th>bmi</th>\n",
              "      <th>stroke</th>\n",
              "      <th>gender_Male</th>\n",
              "      <th>gender_Other</th>\n",
              "      <th>work_type_Private</th>\n",
              "      <th>work_type_Self-employed</th>\n",
              "      <th>work_type_Govt_job</th>\n",
              "      <th>work_type_Never_worked</th>\n",
              "      <th>Residence_type_Urban</th>\n",
              "      <th>smoking_status_formerly smoked</th>\n",
              "      <th>smoking_status_never smoked</th>\n",
              "      <th>smoking_status_smokes</th>\n",
              "      <th>smoking_status_Unknown</th>\n",
              "    </tr>\n",
              "  </thead>\n",
              "  <tbody>\n",
              "    <tr>\n",
              "      <th>0</th>\n",
              "      <td>1.051331</td>\n",
              "      <td>0.0</td>\n",
              "      <td>1.0</td>\n",
              "      <td>2.706111</td>\n",
              "      <td>0.990957</td>\n",
              "      <td>1.0</td>\n",
              "      <td>1.0</td>\n",
              "      <td>0.0</td>\n",
              "      <td>1.0</td>\n",
              "      <td>0.0</td>\n",
              "      <td>0.0</td>\n",
              "      <td>0.0</td>\n",
              "      <td>1.0</td>\n",
              "      <td>1.0</td>\n",
              "      <td>0.0</td>\n",
              "      <td>0.0</td>\n",
              "      <td>0.0</td>\n",
              "    </tr>\n",
              "    <tr>\n",
              "      <th>1</th>\n",
              "      <td>0.785993</td>\n",
              "      <td>0.0</td>\n",
              "      <td>0.0</td>\n",
              "      <td>2.121351</td>\n",
              "      <td>0.288746</td>\n",
              "      <td>1.0</td>\n",
              "      <td>0.0</td>\n",
              "      <td>0.0</td>\n",
              "      <td>0.0</td>\n",
              "      <td>1.0</td>\n",
              "      <td>0.0</td>\n",
              "      <td>0.0</td>\n",
              "      <td>0.0</td>\n",
              "      <td>0.0</td>\n",
              "      <td>1.0</td>\n",
              "      <td>0.0</td>\n",
              "      <td>0.0</td>\n",
              "    </tr>\n",
              "    <tr>\n",
              "      <th>2</th>\n",
              "      <td>1.626231</td>\n",
              "      <td>0.0</td>\n",
              "      <td>1.0</td>\n",
              "      <td>-0.005028</td>\n",
              "      <td>0.460623</td>\n",
              "      <td>1.0</td>\n",
              "      <td>1.0</td>\n",
              "      <td>0.0</td>\n",
              "      <td>1.0</td>\n",
              "      <td>0.0</td>\n",
              "      <td>0.0</td>\n",
              "      <td>0.0</td>\n",
              "      <td>0.0</td>\n",
              "      <td>0.0</td>\n",
              "      <td>1.0</td>\n",
              "      <td>0.0</td>\n",
              "      <td>0.0</td>\n",
              "    </tr>\n",
              "    <tr>\n",
              "      <th>3</th>\n",
              "      <td>0.255317</td>\n",
              "      <td>0.0</td>\n",
              "      <td>0.0</td>\n",
              "      <td>1.437217</td>\n",
              "      <td>0.706388</td>\n",
              "      <td>1.0</td>\n",
              "      <td>0.0</td>\n",
              "      <td>0.0</td>\n",
              "      <td>1.0</td>\n",
              "      <td>0.0</td>\n",
              "      <td>0.0</td>\n",
              "      <td>0.0</td>\n",
              "      <td>1.0</td>\n",
              "      <td>0.0</td>\n",
              "      <td>0.0</td>\n",
              "      <td>1.0</td>\n",
              "      <td>0.0</td>\n",
              "    </tr>\n",
              "    <tr>\n",
              "      <th>4</th>\n",
              "      <td>1.582008</td>\n",
              "      <td>1.0</td>\n",
              "      <td>0.0</td>\n",
              "      <td>1.501038</td>\n",
              "      <td>-0.638849</td>\n",
              "      <td>1.0</td>\n",
              "      <td>0.0</td>\n",
              "      <td>0.0</td>\n",
              "      <td>0.0</td>\n",
              "      <td>1.0</td>\n",
              "      <td>0.0</td>\n",
              "      <td>0.0</td>\n",
              "      <td>0.0</td>\n",
              "      <td>0.0</td>\n",
              "      <td>1.0</td>\n",
              "      <td>0.0</td>\n",
              "      <td>0.0</td>\n",
              "    </tr>\n",
              "    <tr>\n",
              "      <th>...</th>\n",
              "      <td>...</td>\n",
              "      <td>...</td>\n",
              "      <td>...</td>\n",
              "      <td>...</td>\n",
              "      <td>...</td>\n",
              "      <td>...</td>\n",
              "      <td>...</td>\n",
              "      <td>...</td>\n",
              "      <td>...</td>\n",
              "      <td>...</td>\n",
              "      <td>...</td>\n",
              "      <td>...</td>\n",
              "      <td>...</td>\n",
              "      <td>...</td>\n",
              "      <td>...</td>\n",
              "      <td>...</td>\n",
              "      <td>...</td>\n",
              "    </tr>\n",
              "    <tr>\n",
              "      <th>5105</th>\n",
              "      <td>1.626231</td>\n",
              "      <td>1.0</td>\n",
              "      <td>0.0</td>\n",
              "      <td>-0.494609</td>\n",
              "      <td>0.430013</td>\n",
              "      <td>0.0</td>\n",
              "      <td>0.0</td>\n",
              "      <td>0.0</td>\n",
              "      <td>1.0</td>\n",
              "      <td>0.0</td>\n",
              "      <td>0.0</td>\n",
              "      <td>0.0</td>\n",
              "      <td>1.0</td>\n",
              "      <td>0.0</td>\n",
              "      <td>1.0</td>\n",
              "      <td>0.0</td>\n",
              "      <td>0.0</td>\n",
              "    </tr>\n",
              "    <tr>\n",
              "      <th>5106</th>\n",
              "      <td>1.670454</td>\n",
              "      <td>0.0</td>\n",
              "      <td>0.0</td>\n",
              "      <td>0.420734</td>\n",
              "      <td>1.430746</td>\n",
              "      <td>0.0</td>\n",
              "      <td>0.0</td>\n",
              "      <td>0.0</td>\n",
              "      <td>0.0</td>\n",
              "      <td>1.0</td>\n",
              "      <td>0.0</td>\n",
              "      <td>0.0</td>\n",
              "      <td>1.0</td>\n",
              "      <td>0.0</td>\n",
              "      <td>1.0</td>\n",
              "      <td>0.0</td>\n",
              "      <td>0.0</td>\n",
              "    </tr>\n",
              "    <tr>\n",
              "      <th>5107</th>\n",
              "      <td>-0.363806</td>\n",
              "      <td>0.0</td>\n",
              "      <td>0.0</td>\n",
              "      <td>-0.511393</td>\n",
              "      <td>0.214859</td>\n",
              "      <td>0.0</td>\n",
              "      <td>0.0</td>\n",
              "      <td>0.0</td>\n",
              "      <td>0.0</td>\n",
              "      <td>1.0</td>\n",
              "      <td>0.0</td>\n",
              "      <td>0.0</td>\n",
              "      <td>0.0</td>\n",
              "      <td>0.0</td>\n",
              "      <td>1.0</td>\n",
              "      <td>0.0</td>\n",
              "      <td>0.0</td>\n",
              "    </tr>\n",
              "    <tr>\n",
              "      <th>5108</th>\n",
              "      <td>0.343763</td>\n",
              "      <td>0.0</td>\n",
              "      <td>0.0</td>\n",
              "      <td>1.328127</td>\n",
              "      <td>-0.431890</td>\n",
              "      <td>0.0</td>\n",
              "      <td>1.0</td>\n",
              "      <td>0.0</td>\n",
              "      <td>1.0</td>\n",
              "      <td>0.0</td>\n",
              "      <td>0.0</td>\n",
              "      <td>0.0</td>\n",
              "      <td>0.0</td>\n",
              "      <td>1.0</td>\n",
              "      <td>0.0</td>\n",
              "      <td>0.0</td>\n",
              "      <td>0.0</td>\n",
              "    </tr>\n",
              "    <tr>\n",
              "      <th>5109</th>\n",
              "      <td>0.034201</td>\n",
              "      <td>0.0</td>\n",
              "      <td>0.0</td>\n",
              "      <td>-0.460822</td>\n",
              "      <td>-0.354280</td>\n",
              "      <td>0.0</td>\n",
              "      <td>0.0</td>\n",
              "      <td>0.0</td>\n",
              "      <td>0.0</td>\n",
              "      <td>0.0</td>\n",
              "      <td>1.0</td>\n",
              "      <td>0.0</td>\n",
              "      <td>1.0</td>\n",
              "      <td>0.0</td>\n",
              "      <td>0.0</td>\n",
              "      <td>0.0</td>\n",
              "      <td>1.0</td>\n",
              "    </tr>\n",
              "  </tbody>\n",
              "</table>\n",
              "<p>5002 rows × 17 columns</p>\n",
              "</div>"
            ],
            "text/plain": [
              "           age  hypertension  ...  smoking_status_smokes  smoking_status_Unknown\n",
              "0     1.051331           0.0  ...                    0.0                     0.0\n",
              "1     0.785993           0.0  ...                    0.0                     0.0\n",
              "2     1.626231           0.0  ...                    0.0                     0.0\n",
              "3     0.255317           0.0  ...                    1.0                     0.0\n",
              "4     1.582008           1.0  ...                    0.0                     0.0\n",
              "...        ...           ...  ...                    ...                     ...\n",
              "5105  1.626231           1.0  ...                    0.0                     0.0\n",
              "5106  1.670454           0.0  ...                    0.0                     0.0\n",
              "5107 -0.363806           0.0  ...                    0.0                     0.0\n",
              "5108  0.343763           0.0  ...                    0.0                     0.0\n",
              "5109  0.034201           0.0  ...                    0.0                     1.0\n",
              "\n",
              "[5002 rows x 17 columns]"
            ]
          },
          "metadata": {},
          "execution_count": 587
        }
      ]
    },
    {
      "cell_type": "markdown",
      "metadata": {
        "id": "ZeCbWZQNKN8g"
      },
      "source": [
        "## Data Mining (Testing Different Models)"
      ]
    },
    {
      "cell_type": "code",
      "metadata": {
        "colab": {
          "base_uri": "https://localhost:8080/"
        },
        "id": "lz7wGiUMKZAs",
        "outputId": "17224bc2-8c7c-451a-e8ad-52b376f33217"
      },
      "source": [
        "# Separating labels from the rest of the data\n",
        "data_Y = data['stroke']\n",
        "data_X = data.drop(['stroke'], axis=1)\n",
        "\n",
        "hot_data_Y = hot_data['stroke']\n",
        "hot_data_X = hot_data.drop(['stroke'], axis=1)\n",
        "print(hot_data_X.shape)\n",
        "print(hot_data_Y.shape)"
      ],
      "execution_count": 588,
      "outputs": [
        {
          "output_type": "stream",
          "name": "stdout",
          "text": [
            "(5002, 16)\n",
            "(5002,)\n"
          ]
        }
      ]
    },
    {
      "cell_type": "markdown",
      "metadata": {
        "id": "cqrBxQsNM__D"
      },
      "source": [
        "**Decision Trees**"
      ]
    },
    {
      "cell_type": "code",
      "metadata": {
        "colab": {
          "base_uri": "https://localhost:8080/"
        },
        "id": "LiMHusykNEf-",
        "outputId": "52a818f1-5f7c-46ba-fd21-9b17a873d39c"
      },
      "source": [
        "from sklearn.model_selection import train_test_split\n",
        "from sklearn.tree import DecisionTreeClassifier\n",
        "from sklearn.metrics import accuracy_score \n",
        "from sklearn.model_selection import cross_val_score\n",
        "\n",
        "print(\"\\nUsing criterion: Entropy\")\n",
        "clf = DecisionTreeClassifier(criterion='entropy')\n",
        "scores = cross_val_score(clf, hot_data_X, hot_data_Y, cv=10)\n",
        "print(f\"Accuracy: {scores.mean() * 100}\")\n",
        "\n",
        "print(\"\\nUsing criterion: Gini\")\n",
        "clf = DecisionTreeClassifier(criterion='gini')\n",
        "scores = cross_val_score(clf, hot_data_X, hot_data_Y, cv=10)\n",
        "print(f\"Accuracy: {scores.mean() * 100}\")\n",
        "\n",
        "print(\"\\nUsing criterion: max_depth of 10\")\n",
        "clf = DecisionTreeClassifier(criterion='entropy', max_depth=10)\n",
        "scores = cross_val_score(clf, hot_data_X, hot_data_Y, cv=10)\n",
        "print(f\"Accuracy: {scores.mean() * 100}\")\n",
        "\n",
        "print(\"\\nUsing criterion: max_depth of 1\")\n",
        "clf = DecisionTreeClassifier(criterion='entropy', max_depth=1)\n",
        "scores = cross_val_score(clf, hot_data_X, hot_data_Y, cv=10)\n",
        "print(f\"Accuracy: {scores.mean() * 100}\")\n",
        "\n",
        "print(\"\\nUsing criterion: min_samples_split = 20\")\n",
        "clf = DecisionTreeClassifier(criterion='entropy', min_samples_split=20)\n",
        "scores = cross_val_score(clf, hot_data_X, hot_data_Y, cv=10)\n",
        "print(f\"Accuracy: {scores.mean() * 100}\")\n",
        "\n",
        "print(\"\\nUsing criterion: min_samples_leaf = 10\")\n",
        "clf = DecisionTreeClassifier(criterion='entropy', min_samples_split=10)\n",
        "scores = cross_val_score(clf, hot_data_X, hot_data_Y, cv=10)\n",
        "print(f\"Accuracy: {scores.mean() * 100}\")\n",
        "\n",
        "print(\"\\nUsing criterion: min_impurity_decrease = .9\")\n",
        "clf = DecisionTreeClassifier(criterion='entropy', min_impurity_decrease=.9)\n",
        "scores = cross_val_score(clf, hot_data_X, hot_data_Y, cv=10)\n",
        "print(f\"Accuracy: {scores.mean() * 100}\")"
      ],
      "execution_count": 589,
      "outputs": [
        {
          "output_type": "stream",
          "name": "stdout",
          "text": [
            "\n",
            "Using criterion: Entropy\n",
            "Accuracy: 91.22343313373253\n",
            "\n",
            "Using criterion: Gini\n",
            "Accuracy: 91.10387225548904\n",
            "\n",
            "Using criterion: max_depth of 10\n",
            "Accuracy: 93.36259481037924\n",
            "\n",
            "Using criterion: max_depth of 1\n",
            "Accuracy: 95.22191616766466\n",
            "\n",
            "Using criterion: min_samples_split = 20\n",
            "Accuracy: 92.98283433133733\n",
            "\n",
            "Using criterion: min_samples_leaf = 10\n",
            "Accuracy: 92.22323353293413\n",
            "\n",
            "Using criterion: min_impurity_decrease = .9\n",
            "Accuracy: 95.22191616766466\n"
          ]
        }
      ]
    },
    {
      "cell_type": "markdown",
      "metadata": {
        "id": "AN9Cs59VTXGV"
      },
      "source": [
        "So far, the best accuracy was produced by decreasing the max depth or using a min_impurity_decrease. We can further try more combinations using a GridSearchCV."
      ]
    },
    {
      "cell_type": "code",
      "metadata": {
        "colab": {
          "base_uri": "https://localhost:8080/"
        },
        "id": "1ESEFA2gQmmy",
        "outputId": "d78db3e4-7610-46b1-b260-d2bef1951c1c"
      },
      "source": [
        "from sklearn.model_selection import GridSearchCV\n",
        "from sklearn.metrics import classification_report\n",
        "\n",
        "params = {\n",
        "    \"max_depth\": [1, 3, 5, 10, 20], \n",
        "    \"min_samples_split\": [5, 10, 20], \n",
        "    \"min_samples_leaf\": [1, 3, 5, 10, 20], \n",
        "    \"max_features\": [1, 3, 5, 10, 15],\n",
        "    \"min_impurity_decrease\": [.1, .3, .5, .9]}\n",
        "\n",
        "grid_search = GridSearchCV(clf, params, cv=5, scoring=\"accuracy\")\n",
        "grid_search.fit(hot_data_X, hot_data_Y)\n",
        "print(grid_search.best_params_)\n",
        "print(f\"Accuracy: {grid_search.best_score_*100}\")"
      ],
      "execution_count": 590,
      "outputs": [
        {
          "output_type": "stream",
          "name": "stdout",
          "text": [
            "{'max_depth': 1, 'max_features': 1, 'min_impurity_decrease': 0.1, 'min_samples_leaf': 1, 'min_samples_split': 5}\n",
            "Accuracy: 95.22191808191808\n"
          ]
        }
      ]
    },
    {
      "cell_type": "code",
      "metadata": {
        "colab": {
          "base_uri": "https://localhost:8080/"
        },
        "id": "UVn6fXzTcr6w",
        "outputId": "8070c71c-a97d-4e54-8773-73fc82f4899e"
      },
      "source": [
        "preds = grid_search.predict(hot_data_X)\n",
        "print(\"\\nClassification Report:\")\n",
        "print(classification_report(hot_data_Y, preds))"
      ],
      "execution_count": 591,
      "outputs": [
        {
          "output_type": "stream",
          "name": "stdout",
          "text": [
            "\n",
            "Classification Report:\n",
            "              precision    recall  f1-score   support\n",
            "\n",
            "         0.0       0.95      1.00      0.98      4763\n",
            "         1.0       0.00      0.00      0.00       239\n",
            "\n",
            "    accuracy                           0.95      5002\n",
            "   macro avg       0.48      0.50      0.49      5002\n",
            "weighted avg       0.91      0.95      0.93      5002\n",
            "\n"
          ]
        },
        {
          "output_type": "stream",
          "name": "stderr",
          "text": [
            "/usr/local/lib/python3.7/dist-packages/sklearn/metrics/_classification.py:1308: UndefinedMetricWarning: Precision and F-score are ill-defined and being set to 0.0 in labels with no predicted samples. Use `zero_division` parameter to control this behavior.\n",
            "  _warn_prf(average, modifier, msg_start, len(result))\n",
            "/usr/local/lib/python3.7/dist-packages/sklearn/metrics/_classification.py:1308: UndefinedMetricWarning: Precision and F-score are ill-defined and being set to 0.0 in labels with no predicted samples. Use `zero_division` parameter to control this behavior.\n",
            "  _warn_prf(average, modifier, msg_start, len(result))\n",
            "/usr/local/lib/python3.7/dist-packages/sklearn/metrics/_classification.py:1308: UndefinedMetricWarning: Precision and F-score are ill-defined and being set to 0.0 in labels with no predicted samples. Use `zero_division` parameter to control this behavior.\n",
            "  _warn_prf(average, modifier, msg_start, len(result))\n"
          ]
        }
      ]
    },
    {
      "cell_type": "markdown",
      "metadata": {
        "id": "teFnv_yNeNUt"
      },
      "source": [
        "The \"best\" decision tree simply chooses the \"no stroke\" label every almost every time, which produces a poor f-score. We can try to fix this by undersampling the majority class."
      ]
    },
    {
      "cell_type": "code",
      "metadata": {
        "colab": {
          "base_uri": "https://localhost:8080/",
          "height": 310
        },
        "id": "Srrqh-Dsgd--",
        "outputId": "e33441a9-3a71-49ca-a7c9-cdab499a4bb3"
      },
      "source": [
        "num_stroke = int(hot_data[\"stroke\"].sum())\n",
        "print(f\"number of records with stroke: {num_stroke}\")\n",
        "\n",
        "# sample equally\n",
        "balanced_hot_data = hot_data.groupby('stroke').apply(lambda x: x.sample(num_stroke))\n",
        "balanced_hot_data_Y = balanced_hot_data['stroke']\n",
        "balanced_hot_data_X = balanced_hot_data.drop(['stroke'], axis=1)\n",
        "print(balanced_hot_data.shape)\n",
        "balanced_hot_data.head()"
      ],
      "execution_count": 592,
      "outputs": [
        {
          "output_type": "stream",
          "name": "stdout",
          "text": [
            "number of records with stroke: 239\n",
            "(478, 17)\n"
          ]
        },
        {
          "output_type": "execute_result",
          "data": {
            "text/html": [
              "<div>\n",
              "<style scoped>\n",
              "    .dataframe tbody tr th:only-of-type {\n",
              "        vertical-align: middle;\n",
              "    }\n",
              "\n",
              "    .dataframe tbody tr th {\n",
              "        vertical-align: top;\n",
              "    }\n",
              "\n",
              "    .dataframe thead th {\n",
              "        text-align: right;\n",
              "    }\n",
              "</style>\n",
              "<table border=\"1\" class=\"dataframe\">\n",
              "  <thead>\n",
              "    <tr style=\"text-align: right;\">\n",
              "      <th></th>\n",
              "      <th></th>\n",
              "      <th>age</th>\n",
              "      <th>hypertension</th>\n",
              "      <th>heart_disease</th>\n",
              "      <th>avg_glucose_level</th>\n",
              "      <th>bmi</th>\n",
              "      <th>stroke</th>\n",
              "      <th>gender_Male</th>\n",
              "      <th>gender_Other</th>\n",
              "      <th>work_type_Private</th>\n",
              "      <th>work_type_Self-employed</th>\n",
              "      <th>work_type_Govt_job</th>\n",
              "      <th>work_type_Never_worked</th>\n",
              "      <th>Residence_type_Urban</th>\n",
              "      <th>smoking_status_formerly smoked</th>\n",
              "      <th>smoking_status_never smoked</th>\n",
              "      <th>smoking_status_smokes</th>\n",
              "      <th>smoking_status_Unknown</th>\n",
              "    </tr>\n",
              "    <tr>\n",
              "      <th>stroke</th>\n",
              "      <th></th>\n",
              "      <th></th>\n",
              "      <th></th>\n",
              "      <th></th>\n",
              "      <th></th>\n",
              "      <th></th>\n",
              "      <th></th>\n",
              "      <th></th>\n",
              "      <th></th>\n",
              "      <th></th>\n",
              "      <th></th>\n",
              "      <th></th>\n",
              "      <th></th>\n",
              "      <th></th>\n",
              "      <th></th>\n",
              "      <th></th>\n",
              "      <th></th>\n",
              "      <th></th>\n",
              "    </tr>\n",
              "  </thead>\n",
              "  <tbody>\n",
              "    <tr>\n",
              "      <th rowspan=\"5\" valign=\"top\">0.0</th>\n",
              "      <th>3694</th>\n",
              "      <td>-0.673367</td>\n",
              "      <td>0.0</td>\n",
              "      <td>0.0</td>\n",
              "      <td>-0.726040</td>\n",
              "      <td>-0.457760</td>\n",
              "      <td>0.0</td>\n",
              "      <td>1.0</td>\n",
              "      <td>0.0</td>\n",
              "      <td>1.0</td>\n",
              "      <td>0.0</td>\n",
              "      <td>0.0</td>\n",
              "      <td>0.0</td>\n",
              "      <td>1.0</td>\n",
              "      <td>0.0</td>\n",
              "      <td>0.0</td>\n",
              "      <td>1.0</td>\n",
              "      <td>0.0</td>\n",
              "    </tr>\n",
              "    <tr>\n",
              "      <th>1981</th>\n",
              "      <td>-0.054245</td>\n",
              "      <td>0.0</td>\n",
              "      <td>0.0</td>\n",
              "      <td>2.250537</td>\n",
              "      <td>0.532333</td>\n",
              "      <td>0.0</td>\n",
              "      <td>0.0</td>\n",
              "      <td>0.0</td>\n",
              "      <td>1.0</td>\n",
              "      <td>0.0</td>\n",
              "      <td>0.0</td>\n",
              "      <td>0.0</td>\n",
              "      <td>1.0</td>\n",
              "      <td>0.0</td>\n",
              "      <td>0.0</td>\n",
              "      <td>1.0</td>\n",
              "      <td>0.0</td>\n",
              "    </tr>\n",
              "    <tr>\n",
              "      <th>1868</th>\n",
              "      <td>0.255317</td>\n",
              "      <td>0.0</td>\n",
              "      <td>0.0</td>\n",
              "      <td>-0.343782</td>\n",
              "      <td>-0.742329</td>\n",
              "      <td>0.0</td>\n",
              "      <td>0.0</td>\n",
              "      <td>0.0</td>\n",
              "      <td>0.0</td>\n",
              "      <td>0.0</td>\n",
              "      <td>1.0</td>\n",
              "      <td>0.0</td>\n",
              "      <td>1.0</td>\n",
              "      <td>0.0</td>\n",
              "      <td>0.0</td>\n",
              "      <td>0.0</td>\n",
              "      <td>1.0</td>\n",
              "    </tr>\n",
              "    <tr>\n",
              "      <th>4033</th>\n",
              "      <td>0.830216</td>\n",
              "      <td>1.0</td>\n",
              "      <td>0.0</td>\n",
              "      <td>-0.235354</td>\n",
              "      <td>1.456616</td>\n",
              "      <td>0.0</td>\n",
              "      <td>1.0</td>\n",
              "      <td>0.0</td>\n",
              "      <td>0.0</td>\n",
              "      <td>1.0</td>\n",
              "      <td>0.0</td>\n",
              "      <td>0.0</td>\n",
              "      <td>0.0</td>\n",
              "      <td>0.0</td>\n",
              "      <td>0.0</td>\n",
              "      <td>1.0</td>\n",
              "      <td>0.0</td>\n",
              "    </tr>\n",
              "    <tr>\n",
              "      <th>350</th>\n",
              "      <td>1.582008</td>\n",
              "      <td>1.0</td>\n",
              "      <td>1.0</td>\n",
              "      <td>2.078731</td>\n",
              "      <td>0.137249</td>\n",
              "      <td>0.0</td>\n",
              "      <td>0.0</td>\n",
              "      <td>0.0</td>\n",
              "      <td>0.0</td>\n",
              "      <td>1.0</td>\n",
              "      <td>0.0</td>\n",
              "      <td>0.0</td>\n",
              "      <td>1.0</td>\n",
              "      <td>1.0</td>\n",
              "      <td>0.0</td>\n",
              "      <td>0.0</td>\n",
              "      <td>0.0</td>\n",
              "    </tr>\n",
              "  </tbody>\n",
              "</table>\n",
              "</div>"
            ],
            "text/plain": [
              "                  age  ...  smoking_status_Unknown\n",
              "stroke                 ...                        \n",
              "0.0    3694 -0.673367  ...                     0.0\n",
              "       1981 -0.054245  ...                     0.0\n",
              "       1868  0.255317  ...                     1.0\n",
              "       4033  0.830216  ...                     0.0\n",
              "       350   1.582008  ...                     0.0\n",
              "\n",
              "[5 rows x 17 columns]"
            ]
          },
          "metadata": {},
          "execution_count": 592
        }
      ]
    },
    {
      "cell_type": "code",
      "metadata": {
        "colab": {
          "base_uri": "https://localhost:8080/"
        },
        "id": "8IGDfbZ7i1kG",
        "outputId": "955384ff-2d77-4a33-a9c3-4be8ad5d8ed9"
      },
      "source": [
        "# Generating another Decision Tree using balanced_hot_data\n",
        "params = {\n",
        "    \"max_depth\": [1, 3, 5, 10, 20], \n",
        "    \"min_samples_split\": [5, 10, 20], \n",
        "    \"min_samples_leaf\": [1, 3, 5, 10, 20], \n",
        "    \"max_features\": [1, 3, 5, 10, 15],\n",
        "    \"min_impurity_decrease\": [.1, .3, .5, .9]}\n",
        "\n",
        "grid_search = GridSearchCV(clf, params, cv=5, scoring=\"accuracy\")\n",
        "grid_search.fit(balanced_hot_data_X, balanced_hot_data_Y)\n",
        "print(grid_search.best_params_)\n",
        "print(f\"Accuracy: {grid_search.best_score_*100}\")"
      ],
      "execution_count": 593,
      "outputs": [
        {
          "output_type": "stream",
          "name": "stdout",
          "text": [
            "{'max_depth': 1, 'max_features': 10, 'min_impurity_decrease': 0.1, 'min_samples_leaf': 5, 'min_samples_split': 5}\n",
            "Accuracy: 75.31578947368422\n"
          ]
        }
      ]
    },
    {
      "cell_type": "code",
      "metadata": {
        "colab": {
          "base_uri": "https://localhost:8080/"
        },
        "id": "mFZlnAUSjI2O",
        "outputId": "100608a6-4101-48af-9328-2370aa45c5de"
      },
      "source": [
        "preds = grid_search.predict(balanced_hot_data_X)\n",
        "print(\"\\nClassification Report:\")\n",
        "print(classification_report(balanced_hot_data_Y, preds))"
      ],
      "execution_count": 594,
      "outputs": [
        {
          "output_type": "stream",
          "name": "stdout",
          "text": [
            "\n",
            "Classification Report:\n",
            "              precision    recall  f1-score   support\n",
            "\n",
            "         0.0       0.91      0.58      0.71       239\n",
            "         1.0       0.69      0.94      0.80       239\n",
            "\n",
            "    accuracy                           0.76       478\n",
            "   macro avg       0.80      0.76      0.75       478\n",
            "weighted avg       0.80      0.76      0.75       478\n",
            "\n"
          ]
        }
      ]
    },
    {
      "cell_type": "markdown",
      "metadata": {
        "id": "G9joFb8Lj9HE"
      },
      "source": [
        "The average f-score is greatly improved now! However, we only have a 75% accuracy."
      ]
    },
    {
      "cell_type": "markdown",
      "metadata": {
        "id": "TCMTHdNIkGEO"
      },
      "source": [
        "**Naive Bayes**"
      ]
    },
    {
      "cell_type": "code",
      "metadata": {
        "colab": {
          "base_uri": "https://localhost:8080/"
        },
        "id": "2DXyRByekVi7",
        "outputId": "2fc84131-5244-49f6-946a-eb6a068c3874"
      },
      "source": [
        "from sklearn.naive_bayes import GaussianNB\n",
        "# from sklearn.metrics import confusion_matrix\n",
        "from sklearn.metrics import classification_report\n",
        "from sklearn.model_selection import cross_val_predict\n",
        "\n",
        "# Use a gaussian Naive Bayes with 10-fold cross validation\n",
        "gnb = GaussianNB()\n",
        "preds = cross_val_predict(gnb, balanced_hot_data_X, balanced_hot_data_Y, cv=10)\n",
        "print(\"\\nClassification Report:\")\n",
        "print(classification_report(balanced_hot_data_Y, preds))"
      ],
      "execution_count": 595,
      "outputs": [
        {
          "output_type": "stream",
          "name": "stdout",
          "text": [
            "\n",
            "Classification Report:\n",
            "              precision    recall  f1-score   support\n",
            "\n",
            "         0.0       0.90      0.26      0.40       239\n",
            "         1.0       0.57      0.97      0.71       239\n",
            "\n",
            "    accuracy                           0.61       478\n",
            "   macro avg       0.73      0.61      0.56       478\n",
            "weighted avg       0.73      0.61      0.56       478\n",
            "\n"
          ]
        }
      ]
    },
    {
      "cell_type": "markdown",
      "metadata": {
        "id": "Yk3eT67GlVrL"
      },
      "source": [
        "Standard gaussian Naive Bayes produces a lower accuracy and f-score compared to the decision tree."
      ]
    },
    {
      "cell_type": "markdown",
      "metadata": {
        "id": "CkbD0oahlpqD"
      },
      "source": [
        "**K-Nearest Neighbors**\n",
        "\n",
        "\n",
        "Since KNN suffers from the curse of dimensionality, we will have to perform dimensionality reduction. We use a GridSearchCV to perform hyperparamter tuning."
      ]
    },
    {
      "cell_type": "code",
      "metadata": {
        "colab": {
          "base_uri": "https://localhost:8080/"
        },
        "id": "qxOhLpoynG9m",
        "outputId": "b4c83445-4649-44de-8f26-b995de99a421"
      },
      "source": [
        "from sklearn.decomposition import PCA\n",
        "from sklearn.neighbors import KNeighborsClassifier\n",
        "from sklearn.pipeline import Pipeline\n",
        "\n",
        "pca = PCA()\n",
        "knn = KNeighborsClassifier(n_neighbors=7)\n",
        "pline = Pipeline(steps=[(\"pca\", pca), (\"knn\", knn)])\n",
        "\n",
        "param_grid = {\n",
        "    'pca__n_components': list(range(3, 15, 3)),\n",
        "    'knn__n_neighbors': list(range(1, 25))\n",
        "}\n",
        "\n",
        "grid_search = GridSearchCV(pline, param_grid, cv=5, scoring=\"accuracy\")\n",
        "grid_search.fit(hot_data_X, hot_data_Y)\n",
        "print(grid_search.best_params_)\n",
        "print(f\"Accuracy: {grid_search.best_score_*100}\")"
      ],
      "execution_count": 596,
      "outputs": [
        {
          "output_type": "stream",
          "name": "stdout",
          "text": [
            "{'knn__n_neighbors': 10, 'pca__n_components': 6}\n",
            "Accuracy: 95.22191808191808\n"
          ]
        }
      ]
    },
    {
      "cell_type": "code",
      "metadata": {
        "colab": {
          "base_uri": "https://localhost:8080/"
        },
        "id": "1q5mfnvgo3AG",
        "outputId": "db4e4941-3966-4f27-eafb-1ae333b10634"
      },
      "source": [
        "preds = grid_search.predict(hot_data_X)\n",
        "print(\"\\nClassification Report:\")\n",
        "print(classification_report(hot_data_Y, preds))"
      ],
      "execution_count": 597,
      "outputs": [
        {
          "output_type": "stream",
          "name": "stdout",
          "text": [
            "\n",
            "Classification Report:\n",
            "              precision    recall  f1-score   support\n",
            "\n",
            "         0.0       0.95      1.00      0.98      4763\n",
            "         1.0       0.00      0.00      0.00       239\n",
            "\n",
            "    accuracy                           0.95      5002\n",
            "   macro avg       0.48      0.50      0.49      5002\n",
            "weighted avg       0.91      0.95      0.93      5002\n",
            "\n"
          ]
        }
      ]
    },
    {
      "cell_type": "markdown",
      "metadata": {
        "id": "4COvsis-o-QO"
      },
      "source": [
        "Again, this produces a poor f-score so we will try again on the balanced one-hot-encoded dataset"
      ]
    },
    {
      "cell_type": "code",
      "metadata": {
        "colab": {
          "base_uri": "https://localhost:8080/"
        },
        "id": "PwtMABWkpEMa",
        "outputId": "f999f71d-6cc3-451d-b2cf-5ac3266f30b5"
      },
      "source": [
        "from sklearn.decomposition import PCA\n",
        "from sklearn.neighbors import KNeighborsClassifier\n",
        "from sklearn.pipeline import Pipeline\n",
        "\n",
        "grid_search.fit(balanced_hot_data_X, balanced_hot_data_Y)\n",
        "print(grid_search.best_params_)\n",
        "print(f\"Accuracy: {grid_search.best_score_*100}\")"
      ],
      "execution_count": 598,
      "outputs": [
        {
          "output_type": "stream",
          "name": "stdout",
          "text": [
            "{'knn__n_neighbors': 10, 'pca__n_components': 3}\n",
            "Accuracy: 75.29166666666667\n"
          ]
        }
      ]
    },
    {
      "cell_type": "code",
      "metadata": {
        "colab": {
          "base_uri": "https://localhost:8080/"
        },
        "id": "YFCYe4wTpFis",
        "outputId": "e6b27676-80b8-455b-f06f-f4dd99955635"
      },
      "source": [
        "preds = grid_search.predict(balanced_hot_data_X)\n",
        "print(\"\\nClassification Report:\")\n",
        "print(classification_report(balanced_hot_data_Y, preds))"
      ],
      "execution_count": 599,
      "outputs": [
        {
          "output_type": "stream",
          "name": "stdout",
          "text": [
            "\n",
            "Classification Report:\n",
            "              precision    recall  f1-score   support\n",
            "\n",
            "         0.0       0.78      0.74      0.76       239\n",
            "         1.0       0.76      0.79      0.78       239\n",
            "\n",
            "    accuracy                           0.77       478\n",
            "   macro avg       0.77      0.77      0.77       478\n",
            "weighted avg       0.77      0.77      0.77       478\n",
            "\n"
          ]
        }
      ]
    },
    {
      "cell_type": "markdown",
      "metadata": {
        "id": "2lUu_uzNpcj8"
      },
      "source": [
        "This model appears to be more successful than the one built using a decision tree."
      ]
    },
    {
      "cell_type": "markdown",
      "metadata": {
        "id": "dUS1oU2sqMkK"
      },
      "source": [
        "**Support Vector Machines**\n",
        "\n",
        "We again use a GridSearchCV to perform hyperparamter tuning. We will also use the balanced one-hot-encoded dataset."
      ]
    },
    {
      "cell_type": "code",
      "metadata": {
        "colab": {
          "base_uri": "https://localhost:8080/"
        },
        "id": "LIxtKf-VqQXa",
        "outputId": "81c902cc-a3b4-4f5c-ad08-8f49773ff05d"
      },
      "source": [
        "from sklearn.svm import SVC\n",
        "\n",
        "pca = PCA()\n",
        "svc = SVC()\n",
        "pline = Pipeline(steps=[(\"pca\", pca), (\"svc\", svc)])\n",
        "\n",
        "param_grid = {\n",
        "    'pca__n_components': list(range(3, 15, 3)),\n",
        "    'svc__kernel': ['linear', 'rbf', 'poly']\n",
        "}\n",
        "\n",
        "grid_search = GridSearchCV(pline, param_grid, cv=5, scoring=\"accuracy\")\n",
        "grid_search.fit(balanced_hot_data_X, balanced_hot_data_Y)\n",
        "print(grid_search.best_params_)\n",
        "print(f\"Accuracy: {grid_search.best_score_*100}\")"
      ],
      "execution_count": 600,
      "outputs": [
        {
          "output_type": "stream",
          "name": "stdout",
          "text": [
            "{'pca__n_components': 9, 'svc__kernel': 'linear'}\n",
            "Accuracy: 76.76315789473685\n"
          ]
        }
      ]
    },
    {
      "cell_type": "code",
      "metadata": {
        "colab": {
          "base_uri": "https://localhost:8080/"
        },
        "id": "GpnQV6oHrALX",
        "outputId": "a8eb2c33-e967-444f-8f8a-70ef8534cb1a"
      },
      "source": [
        "preds = grid_search.predict(balanced_hot_data_X)\n",
        "print(\"\\nClassification Report:\")\n",
        "print(classification_report(balanced_hot_data_Y, preds))"
      ],
      "execution_count": 601,
      "outputs": [
        {
          "output_type": "stream",
          "name": "stdout",
          "text": [
            "\n",
            "Classification Report:\n",
            "              precision    recall  f1-score   support\n",
            "\n",
            "         0.0       0.82      0.70      0.76       239\n",
            "         1.0       0.74      0.85      0.79       239\n",
            "\n",
            "    accuracy                           0.78       478\n",
            "   macro avg       0.78      0.78      0.77       478\n",
            "weighted avg       0.78      0.78      0.77       478\n",
            "\n"
          ]
        }
      ]
    },
    {
      "cell_type": "markdown",
      "metadata": {
        "id": "i80fUhAhVt8h"
      },
      "source": [
        "This SVM model appears to perform even better than KNN, running faster and producing a higher f-score."
      ]
    },
    {
      "cell_type": "markdown",
      "metadata": {
        "id": "cgyh0ov4sHc-"
      },
      "source": [
        "**Random Forests**"
      ]
    },
    {
      "cell_type": "code",
      "metadata": {
        "colab": {
          "base_uri": "https://localhost:8080/"
        },
        "id": "fQC5ekYxsLQQ",
        "outputId": "998acc85-cd44-452c-adb6-c6ef89f1a5ab"
      },
      "source": [
        "from sklearn.ensemble import RandomForestClassifier\n",
        "\n",
        "rfc = RandomForestClassifier()\n",
        "param_grid = {\n",
        "    'max_depth': list(range(5, 61, 5)),\n",
        "    'min_samples_leaf': [2, 31, 4],\n",
        "    'max_features': [\"sqrt\", \"log2\"]\n",
        "}\n",
        "\n",
        "grid_search = GridSearchCV(rfc, param_grid, cv=5, scoring=\"accuracy\")\n",
        "grid_search.fit(balanced_hot_data_X, balanced_hot_data_Y)\n",
        "print(grid_search.best_params_)\n",
        "print(f\"Accuracy: {grid_search.best_score_*100}\")"
      ],
      "execution_count": 602,
      "outputs": [
        {
          "output_type": "stream",
          "name": "stdout",
          "text": [
            "{'max_depth': 10, 'max_features': 'log2', 'min_samples_leaf': 31}\n",
            "Accuracy: 76.35526315789474\n"
          ]
        }
      ]
    },
    {
      "cell_type": "code",
      "metadata": {
        "colab": {
          "base_uri": "https://localhost:8080/"
        },
        "id": "1nFqYrPAshG0",
        "outputId": "da7e013c-77bf-4fcd-9959-d1853fdae8e5"
      },
      "source": [
        "preds = grid_search.predict(balanced_hot_data_X)\n",
        "print(\"\\nClassification Report:\")\n",
        "print(classification_report(balanced_hot_data_Y, preds))"
      ],
      "execution_count": 603,
      "outputs": [
        {
          "output_type": "stream",
          "name": "stdout",
          "text": [
            "\n",
            "Classification Report:\n",
            "              precision    recall  f1-score   support\n",
            "\n",
            "         0.0       0.86      0.65      0.74       239\n",
            "         1.0       0.72      0.90      0.80       239\n",
            "\n",
            "    accuracy                           0.77       478\n",
            "   macro avg       0.79      0.77      0.77       478\n",
            "weighted avg       0.79      0.77      0.77       478\n",
            "\n"
          ]
        }
      ]
    },
    {
      "cell_type": "markdown",
      "metadata": {
        "id": "MLfyXjxik9Li"
      },
      "source": [
        "Since Random Forests don't suffer from the curse of dimensionality, let's try it with all features. Again, first we undersample the majority class."
      ]
    },
    {
      "cell_type": "code",
      "metadata": {
        "colab": {
          "base_uri": "https://localhost:8080/",
          "height": 310
        },
        "id": "F3PTIMUflK2c",
        "outputId": "64cbabce-20f8-4a27-bc70-73bc16c15fb8"
      },
      "source": [
        "num_stroke = int(original_hot_data[\"stroke\"].sum())\n",
        "print(f\"number of records with stroke: {num_stroke}\")\n",
        "\n",
        "# sample equally\n",
        "balanced_original_hot_data = original_hot_data.groupby('stroke').apply(lambda x: x.sample(num_stroke))\n",
        "balanced_original_hot_data_Y = balanced_original_hot_data['stroke']\n",
        "balanced_original_hot_data_X = balanced_original_hot_data.drop(['stroke'], axis=1)\n",
        "print(balanced_original_hot_data.shape)\n",
        "balanced_original_hot_data.head()"
      ],
      "execution_count": 604,
      "outputs": [
        {
          "output_type": "stream",
          "name": "stdout",
          "text": [
            "number of records with stroke: 239\n",
            "(478, 22)\n"
          ]
        },
        {
          "output_type": "execute_result",
          "data": {
            "text/html": [
              "<div>\n",
              "<style scoped>\n",
              "    .dataframe tbody tr th:only-of-type {\n",
              "        vertical-align: middle;\n",
              "    }\n",
              "\n",
              "    .dataframe tbody tr th {\n",
              "        vertical-align: top;\n",
              "    }\n",
              "\n",
              "    .dataframe thead th {\n",
              "        text-align: right;\n",
              "    }\n",
              "</style>\n",
              "<table border=\"1\" class=\"dataframe\">\n",
              "  <thead>\n",
              "    <tr style=\"text-align: right;\">\n",
              "      <th></th>\n",
              "      <th></th>\n",
              "      <th>age</th>\n",
              "      <th>hypertension</th>\n",
              "      <th>heart_disease</th>\n",
              "      <th>avg_glucose_level</th>\n",
              "      <th>bmi</th>\n",
              "      <th>stroke</th>\n",
              "      <th>gender_Male</th>\n",
              "      <th>gender_Female</th>\n",
              "      <th>gender_Other</th>\n",
              "      <th>ever_married_Yes</th>\n",
              "      <th>ever_married_No</th>\n",
              "      <th>work_type_Private</th>\n",
              "      <th>work_type_Self-employed</th>\n",
              "      <th>work_type_Govt_job</th>\n",
              "      <th>work_type_children</th>\n",
              "      <th>work_type_Never_worked</th>\n",
              "      <th>Residence_type_Urban</th>\n",
              "      <th>Residence_type_Rural</th>\n",
              "      <th>smoking_status_formerly smoked</th>\n",
              "      <th>smoking_status_never smoked</th>\n",
              "      <th>smoking_status_smokes</th>\n",
              "      <th>smoking_status_Unknown</th>\n",
              "    </tr>\n",
              "    <tr>\n",
              "      <th>stroke</th>\n",
              "      <th></th>\n",
              "      <th></th>\n",
              "      <th></th>\n",
              "      <th></th>\n",
              "      <th></th>\n",
              "      <th></th>\n",
              "      <th></th>\n",
              "      <th></th>\n",
              "      <th></th>\n",
              "      <th></th>\n",
              "      <th></th>\n",
              "      <th></th>\n",
              "      <th></th>\n",
              "      <th></th>\n",
              "      <th></th>\n",
              "      <th></th>\n",
              "      <th></th>\n",
              "      <th></th>\n",
              "      <th></th>\n",
              "      <th></th>\n",
              "      <th></th>\n",
              "      <th></th>\n",
              "      <th></th>\n",
              "    </tr>\n",
              "  </thead>\n",
              "  <tbody>\n",
              "    <tr>\n",
              "      <th rowspan=\"5\" valign=\"top\">0.0</th>\n",
              "      <th>2912</th>\n",
              "      <td>-0.761813</td>\n",
              "      <td>0.0</td>\n",
              "      <td>0.0</td>\n",
              "      <td>-0.618054</td>\n",
              "      <td>-1.143313</td>\n",
              "      <td>0.0</td>\n",
              "      <td>0.0</td>\n",
              "      <td>1.0</td>\n",
              "      <td>0.0</td>\n",
              "      <td>0.0</td>\n",
              "      <td>1.0</td>\n",
              "      <td>1.0</td>\n",
              "      <td>0.0</td>\n",
              "      <td>0.0</td>\n",
              "      <td>0.0</td>\n",
              "      <td>0.0</td>\n",
              "      <td>0.0</td>\n",
              "      <td>1.0</td>\n",
              "      <td>0.0</td>\n",
              "      <td>1.0</td>\n",
              "      <td>0.0</td>\n",
              "      <td>0.0</td>\n",
              "    </tr>\n",
              "    <tr>\n",
              "      <th>3459</th>\n",
              "      <td>0.697547</td>\n",
              "      <td>0.0</td>\n",
              "      <td>0.0</td>\n",
              "      <td>-0.108377</td>\n",
              "      <td>-0.315475</td>\n",
              "      <td>0.0</td>\n",
              "      <td>1.0</td>\n",
              "      <td>0.0</td>\n",
              "      <td>0.0</td>\n",
              "      <td>1.0</td>\n",
              "      <td>0.0</td>\n",
              "      <td>0.0</td>\n",
              "      <td>0.0</td>\n",
              "      <td>1.0</td>\n",
              "      <td>0.0</td>\n",
              "      <td>0.0</td>\n",
              "      <td>1.0</td>\n",
              "      <td>0.0</td>\n",
              "      <td>0.0</td>\n",
              "      <td>1.0</td>\n",
              "      <td>0.0</td>\n",
              "      <td>0.0</td>\n",
              "    </tr>\n",
              "    <tr>\n",
              "      <th>355</th>\n",
              "      <td>1.007108</td>\n",
              "      <td>1.0</td>\n",
              "      <td>0.0</td>\n",
              "      <td>2.188042</td>\n",
              "      <td>1.366071</td>\n",
              "      <td>0.0</td>\n",
              "      <td>0.0</td>\n",
              "      <td>1.0</td>\n",
              "      <td>0.0</td>\n",
              "      <td>1.0</td>\n",
              "      <td>0.0</td>\n",
              "      <td>1.0</td>\n",
              "      <td>0.0</td>\n",
              "      <td>0.0</td>\n",
              "      <td>0.0</td>\n",
              "      <td>0.0</td>\n",
              "      <td>0.0</td>\n",
              "      <td>1.0</td>\n",
              "      <td>0.0</td>\n",
              "      <td>1.0</td>\n",
              "      <td>0.0</td>\n",
              "      <td>0.0</td>\n",
              "    </tr>\n",
              "    <tr>\n",
              "      <th>1953</th>\n",
              "      <td>1.272447</td>\n",
              "      <td>0.0</td>\n",
              "      <td>1.0</td>\n",
              "      <td>-0.701969</td>\n",
              "      <td>-0.211995</td>\n",
              "      <td>0.0</td>\n",
              "      <td>1.0</td>\n",
              "      <td>0.0</td>\n",
              "      <td>0.0</td>\n",
              "      <td>1.0</td>\n",
              "      <td>0.0</td>\n",
              "      <td>0.0</td>\n",
              "      <td>1.0</td>\n",
              "      <td>0.0</td>\n",
              "      <td>0.0</td>\n",
              "      <td>0.0</td>\n",
              "      <td>0.0</td>\n",
              "      <td>1.0</td>\n",
              "      <td>0.0</td>\n",
              "      <td>1.0</td>\n",
              "      <td>0.0</td>\n",
              "      <td>0.0</td>\n",
              "    </tr>\n",
              "    <tr>\n",
              "      <th>1744</th>\n",
              "      <td>-1.204044</td>\n",
              "      <td>0.0</td>\n",
              "      <td>0.0</td>\n",
              "      <td>0.360226</td>\n",
              "      <td>-1.324403</td>\n",
              "      <td>0.0</td>\n",
              "      <td>1.0</td>\n",
              "      <td>0.0</td>\n",
              "      <td>0.0</td>\n",
              "      <td>0.0</td>\n",
              "      <td>1.0</td>\n",
              "      <td>1.0</td>\n",
              "      <td>0.0</td>\n",
              "      <td>0.0</td>\n",
              "      <td>0.0</td>\n",
              "      <td>0.0</td>\n",
              "      <td>0.0</td>\n",
              "      <td>1.0</td>\n",
              "      <td>0.0</td>\n",
              "      <td>1.0</td>\n",
              "      <td>0.0</td>\n",
              "      <td>0.0</td>\n",
              "    </tr>\n",
              "  </tbody>\n",
              "</table>\n",
              "</div>"
            ],
            "text/plain": [
              "                  age  ...  smoking_status_Unknown\n",
              "stroke                 ...                        \n",
              "0.0    2912 -0.761813  ...                     0.0\n",
              "       3459  0.697547  ...                     0.0\n",
              "       355   1.007108  ...                     0.0\n",
              "       1953  1.272447  ...                     0.0\n",
              "       1744 -1.204044  ...                     0.0\n",
              "\n",
              "[5 rows x 22 columns]"
            ]
          },
          "metadata": {},
          "execution_count": 604
        }
      ]
    },
    {
      "cell_type": "code",
      "metadata": {
        "colab": {
          "base_uri": "https://localhost:8080/"
        },
        "id": "hAsW47NRlVh2",
        "outputId": "6863474c-f539-4b17-ce31-d4648eb80404"
      },
      "source": [
        "rfc = RandomForestClassifier()\n",
        "param_grid = {\n",
        "    'max_depth': list(range(5, 61, 5)),\n",
        "    'min_samples_leaf': [2, 31, 4],\n",
        "    'max_features': [\"sqrt\", \"log2\"]\n",
        "}\n",
        "\n",
        "grid_search = GridSearchCV(rfc, param_grid, cv=5, scoring=\"accuracy\")\n",
        "grid_search.fit(balanced_original_hot_data_X, balanced_original_hot_data_Y)\n",
        "print(grid_search.best_params_)\n",
        "print(f\"Accuracy: {grid_search.best_score_*100}\")"
      ],
      "execution_count": 605,
      "outputs": [
        {
          "output_type": "stream",
          "name": "stdout",
          "text": [
            "{'max_depth': 30, 'max_features': 'sqrt', 'min_samples_leaf': 4}\n",
            "Accuracy: 80.32894736842104\n"
          ]
        }
      ]
    },
    {
      "cell_type": "code",
      "metadata": {
        "colab": {
          "base_uri": "https://localhost:8080/"
        },
        "id": "35X5kMgTlcFm",
        "outputId": "ba967a3e-226d-4a8e-c741-cd16a4fa608a"
      },
      "source": [
        "preds = grid_search.predict(balanced_original_hot_data_X)\n",
        "print(\"\\nClassification Report:\")\n",
        "print(classification_report(balanced_original_hot_data_Y, preds))"
      ],
      "execution_count": 606,
      "outputs": [
        {
          "output_type": "stream",
          "name": "stdout",
          "text": [
            "\n",
            "Classification Report:\n",
            "              precision    recall  f1-score   support\n",
            "\n",
            "         0.0       0.90      0.82      0.86       239\n",
            "         1.0       0.83      0.91      0.87       239\n",
            "\n",
            "    accuracy                           0.86       478\n",
            "   macro avg       0.87      0.86      0.86       478\n",
            "weighted avg       0.87      0.86      0.86       478\n",
            "\n"
          ]
        }
      ]
    },
    {
      "cell_type": "markdown",
      "metadata": {
        "id": "ZWKc8nGOt8bz"
      },
      "source": [
        "Random Forests produce the best f-score and accuracy by far, with an f-score of 0.86!"
      ]
    }
  ]
}
