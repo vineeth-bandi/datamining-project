{
  "nbformat": 4,
  "nbformat_minor": 0,
  "metadata": {
    "colab": {
      "name": "Untitled1.ipynb",
      "provenance": [],
      "collapsed_sections": []
    },
    "kernelspec": {
      "name": "python3",
      "display_name": "Python 3"
    },
    "language_info": {
      "name": "python"
    }
  },
  "cells": [
    {
      "cell_type": "markdown",
      "metadata": {
        "id": "wfFoTzio5NSv"
      },
      "source": [
        "# Datamining on Stroke Dataset\n"
      ]
    },
    {
      "cell_type": "code",
      "metadata": {
        "id": "CvAO1keJ4-rp"
      },
      "source": [
        "# Standard imports\n",
        "import warnings\n",
        "import pandas as pd\n",
        "import numpy as np\n",
        "import sklearn as sk\n",
        "import matplotlib.pyplot as plt\n",
        "import time"
      ],
      "execution_count": 92,
      "outputs": []
    },
    {
      "cell_type": "markdown",
      "metadata": {
        "id": "qYWusnxw76JJ"
      },
      "source": [
        "## Data Preprocessing (Exploration and Cleaning)"
      ]
    },
    {
      "cell_type": "code",
      "metadata": {
        "colab": {
          "base_uri": "https://localhost:8080/",
          "height": 206
        },
        "id": "dV3GFepj8IyL",
        "outputId": "5b9e8d07-2038-47dd-b7c3-8f5ae408db91"
      },
      "source": [
        "data = pd.read_csv('healthcare-dataset-stroke-data.csv')\n",
        "data.head()"
      ],
      "execution_count": 93,
      "outputs": [
        {
          "output_type": "execute_result",
          "data": {
            "text/html": [
              "<div>\n",
              "<style scoped>\n",
              "    .dataframe tbody tr th:only-of-type {\n",
              "        vertical-align: middle;\n",
              "    }\n",
              "\n",
              "    .dataframe tbody tr th {\n",
              "        vertical-align: top;\n",
              "    }\n",
              "\n",
              "    .dataframe thead th {\n",
              "        text-align: right;\n",
              "    }\n",
              "</style>\n",
              "<table border=\"1\" class=\"dataframe\">\n",
              "  <thead>\n",
              "    <tr style=\"text-align: right;\">\n",
              "      <th></th>\n",
              "      <th>id</th>\n",
              "      <th>gender</th>\n",
              "      <th>age</th>\n",
              "      <th>hypertension</th>\n",
              "      <th>heart_disease</th>\n",
              "      <th>ever_married</th>\n",
              "      <th>work_type</th>\n",
              "      <th>Residence_type</th>\n",
              "      <th>avg_glucose_level</th>\n",
              "      <th>bmi</th>\n",
              "      <th>smoking_status</th>\n",
              "      <th>stroke</th>\n",
              "    </tr>\n",
              "  </thead>\n",
              "  <tbody>\n",
              "    <tr>\n",
              "      <th>0</th>\n",
              "      <td>9046</td>\n",
              "      <td>Male</td>\n",
              "      <td>67.0</td>\n",
              "      <td>0</td>\n",
              "      <td>1</td>\n",
              "      <td>Yes</td>\n",
              "      <td>Private</td>\n",
              "      <td>Urban</td>\n",
              "      <td>228.69</td>\n",
              "      <td>36.6</td>\n",
              "      <td>formerly smoked</td>\n",
              "      <td>1</td>\n",
              "    </tr>\n",
              "    <tr>\n",
              "      <th>1</th>\n",
              "      <td>51676</td>\n",
              "      <td>Female</td>\n",
              "      <td>61.0</td>\n",
              "      <td>0</td>\n",
              "      <td>0</td>\n",
              "      <td>Yes</td>\n",
              "      <td>Self-employed</td>\n",
              "      <td>Rural</td>\n",
              "      <td>202.21</td>\n",
              "      <td>NaN</td>\n",
              "      <td>never smoked</td>\n",
              "      <td>1</td>\n",
              "    </tr>\n",
              "    <tr>\n",
              "      <th>2</th>\n",
              "      <td>31112</td>\n",
              "      <td>Male</td>\n",
              "      <td>80.0</td>\n",
              "      <td>0</td>\n",
              "      <td>1</td>\n",
              "      <td>Yes</td>\n",
              "      <td>Private</td>\n",
              "      <td>Rural</td>\n",
              "      <td>105.92</td>\n",
              "      <td>32.5</td>\n",
              "      <td>never smoked</td>\n",
              "      <td>1</td>\n",
              "    </tr>\n",
              "    <tr>\n",
              "      <th>3</th>\n",
              "      <td>60182</td>\n",
              "      <td>Female</td>\n",
              "      <td>49.0</td>\n",
              "      <td>0</td>\n",
              "      <td>0</td>\n",
              "      <td>Yes</td>\n",
              "      <td>Private</td>\n",
              "      <td>Urban</td>\n",
              "      <td>171.23</td>\n",
              "      <td>34.4</td>\n",
              "      <td>smokes</td>\n",
              "      <td>1</td>\n",
              "    </tr>\n",
              "    <tr>\n",
              "      <th>4</th>\n",
              "      <td>1665</td>\n",
              "      <td>Female</td>\n",
              "      <td>79.0</td>\n",
              "      <td>1</td>\n",
              "      <td>0</td>\n",
              "      <td>Yes</td>\n",
              "      <td>Self-employed</td>\n",
              "      <td>Rural</td>\n",
              "      <td>174.12</td>\n",
              "      <td>24.0</td>\n",
              "      <td>never smoked</td>\n",
              "      <td>1</td>\n",
              "    </tr>\n",
              "  </tbody>\n",
              "</table>\n",
              "</div>"
            ],
            "text/plain": [
              "      id  gender   age  ...   bmi   smoking_status stroke\n",
              "0   9046    Male  67.0  ...  36.6  formerly smoked      1\n",
              "1  51676  Female  61.0  ...   NaN     never smoked      1\n",
              "2  31112    Male  80.0  ...  32.5     never smoked      1\n",
              "3  60182  Female  49.0  ...  34.4           smokes      1\n",
              "4   1665  Female  79.0  ...  24.0     never smoked      1\n",
              "\n",
              "[5 rows x 12 columns]"
            ]
          },
          "metadata": {},
          "execution_count": 93
        }
      ]
    },
    {
      "cell_type": "markdown",
      "metadata": {
        "id": "5yDfYnJG8_Ls"
      },
      "source": [
        "Drop unnecessary columns"
      ]
    },
    {
      "cell_type": "code",
      "metadata": {
        "colab": {
          "base_uri": "https://localhost:8080/",
          "height": 206
        },
        "id": "7kSNR_AH8dWI",
        "outputId": "551d5af6-0e69-45aa-ccd6-eeb1eba3790c"
      },
      "source": [
        "data.drop('id', axis=1, inplace=True)\n",
        "data.head()"
      ],
      "execution_count": 94,
      "outputs": [
        {
          "output_type": "execute_result",
          "data": {
            "text/html": [
              "<div>\n",
              "<style scoped>\n",
              "    .dataframe tbody tr th:only-of-type {\n",
              "        vertical-align: middle;\n",
              "    }\n",
              "\n",
              "    .dataframe tbody tr th {\n",
              "        vertical-align: top;\n",
              "    }\n",
              "\n",
              "    .dataframe thead th {\n",
              "        text-align: right;\n",
              "    }\n",
              "</style>\n",
              "<table border=\"1\" class=\"dataframe\">\n",
              "  <thead>\n",
              "    <tr style=\"text-align: right;\">\n",
              "      <th></th>\n",
              "      <th>gender</th>\n",
              "      <th>age</th>\n",
              "      <th>hypertension</th>\n",
              "      <th>heart_disease</th>\n",
              "      <th>ever_married</th>\n",
              "      <th>work_type</th>\n",
              "      <th>Residence_type</th>\n",
              "      <th>avg_glucose_level</th>\n",
              "      <th>bmi</th>\n",
              "      <th>smoking_status</th>\n",
              "      <th>stroke</th>\n",
              "    </tr>\n",
              "  </thead>\n",
              "  <tbody>\n",
              "    <tr>\n",
              "      <th>0</th>\n",
              "      <td>Male</td>\n",
              "      <td>67.0</td>\n",
              "      <td>0</td>\n",
              "      <td>1</td>\n",
              "      <td>Yes</td>\n",
              "      <td>Private</td>\n",
              "      <td>Urban</td>\n",
              "      <td>228.69</td>\n",
              "      <td>36.6</td>\n",
              "      <td>formerly smoked</td>\n",
              "      <td>1</td>\n",
              "    </tr>\n",
              "    <tr>\n",
              "      <th>1</th>\n",
              "      <td>Female</td>\n",
              "      <td>61.0</td>\n",
              "      <td>0</td>\n",
              "      <td>0</td>\n",
              "      <td>Yes</td>\n",
              "      <td>Self-employed</td>\n",
              "      <td>Rural</td>\n",
              "      <td>202.21</td>\n",
              "      <td>NaN</td>\n",
              "      <td>never smoked</td>\n",
              "      <td>1</td>\n",
              "    </tr>\n",
              "    <tr>\n",
              "      <th>2</th>\n",
              "      <td>Male</td>\n",
              "      <td>80.0</td>\n",
              "      <td>0</td>\n",
              "      <td>1</td>\n",
              "      <td>Yes</td>\n",
              "      <td>Private</td>\n",
              "      <td>Rural</td>\n",
              "      <td>105.92</td>\n",
              "      <td>32.5</td>\n",
              "      <td>never smoked</td>\n",
              "      <td>1</td>\n",
              "    </tr>\n",
              "    <tr>\n",
              "      <th>3</th>\n",
              "      <td>Female</td>\n",
              "      <td>49.0</td>\n",
              "      <td>0</td>\n",
              "      <td>0</td>\n",
              "      <td>Yes</td>\n",
              "      <td>Private</td>\n",
              "      <td>Urban</td>\n",
              "      <td>171.23</td>\n",
              "      <td>34.4</td>\n",
              "      <td>smokes</td>\n",
              "      <td>1</td>\n",
              "    </tr>\n",
              "    <tr>\n",
              "      <th>4</th>\n",
              "      <td>Female</td>\n",
              "      <td>79.0</td>\n",
              "      <td>1</td>\n",
              "      <td>0</td>\n",
              "      <td>Yes</td>\n",
              "      <td>Self-employed</td>\n",
              "      <td>Rural</td>\n",
              "      <td>174.12</td>\n",
              "      <td>24.0</td>\n",
              "      <td>never smoked</td>\n",
              "      <td>1</td>\n",
              "    </tr>\n",
              "  </tbody>\n",
              "</table>\n",
              "</div>"
            ],
            "text/plain": [
              "   gender   age  hypertension  ...   bmi   smoking_status stroke\n",
              "0    Male  67.0             0  ...  36.6  formerly smoked      1\n",
              "1  Female  61.0             0  ...   NaN     never smoked      1\n",
              "2    Male  80.0             0  ...  32.5     never smoked      1\n",
              "3  Female  49.0             0  ...  34.4           smokes      1\n",
              "4  Female  79.0             1  ...  24.0     never smoked      1\n",
              "\n",
              "[5 rows x 11 columns]"
            ]
          },
          "metadata": {},
          "execution_count": 94
        }
      ]
    },
    {
      "cell_type": "markdown",
      "metadata": {
        "id": "f0uH003u9ExY"
      },
      "source": [
        "Check for missing values"
      ]
    },
    {
      "cell_type": "code",
      "metadata": {
        "colab": {
          "base_uri": "https://localhost:8080/"
        },
        "id": "ZHcJ6EpT9C1g",
        "outputId": "0b67c0e8-a5be-4953-c360-43599338084f"
      },
      "source": [
        "# Check for null values in every column\n",
        "missing_gender = data['gender'].isnull().sum()\n",
        "print(\"# of missing gender values: \", missing_gender)\n",
        "\n",
        "missing_age = data['age'].isnull().sum()\n",
        "print(\"# of missing age values: \", missing_age)\n",
        "\n",
        "missing_hypertension = data['hypertension'].isnull().sum()\n",
        "print(\"# of missing hypertension values: \", missing_hypertension)\n",
        "\n",
        "missing_heart_disease = data['heart_disease'].isnull().sum()\n",
        "print(\"# of missing heart_disease values: \", missing_heart_disease)\n",
        "\n",
        "missing_ever_married = data['ever_married'].isnull().sum()\n",
        "print(\"# of missing ever_married values: \", missing_ever_married)\n",
        "\n",
        "missing_work_type = data['work_type'].isnull().sum()\n",
        "print(\"# of missing work_type values: \", missing_work_type)\n",
        "\n",
        "missing_Residence_type = data['Residence_type'].isnull().sum()\n",
        "print(\"# of missing Residence_type values: \", missing_Residence_type)\n",
        "\n",
        "missing_avg_glucose_level = data['avg_glucose_level'].isnull().sum()\n",
        "print(\"# of missing avg_glucose_level values: \", missing_avg_glucose_level)\n",
        "\n",
        "missing_bmi = data['bmi'].isnull().sum()\n",
        "print(\"# of missing bmi values: \", missing_bmi)\n",
        "\n",
        "missing_smoking_status = data['smoking_status'].isnull().sum()\n",
        "print(\"# of missing smoking_status values: \", missing_smoking_status)\n",
        "\n",
        "missing_stroke = data['stroke'].isnull().sum()\n",
        "print(\"# of missing stroke values: \", missing_stroke)"
      ],
      "execution_count": 95,
      "outputs": [
        {
          "output_type": "stream",
          "name": "stdout",
          "text": [
            "# of missing gender values:  0\n",
            "# of missing age values:  0\n",
            "# of missing hypertension values:  0\n",
            "# of missing heart_disease values:  0\n",
            "# of missing ever_married values:  0\n",
            "# of missing work_type values:  0\n",
            "# of missing Residence_type values:  0\n",
            "# of missing avg_glucose_level values:  0\n",
            "# of missing bmi values:  201\n",
            "# of missing smoking_status values:  0\n",
            "# of missing stroke values:  0\n"
          ]
        }
      ]
    },
    {
      "cell_type": "code",
      "metadata": {
        "colab": {
          "base_uri": "https://localhost:8080/",
          "height": 224
        },
        "id": "UbRfuLS3-lj9",
        "outputId": "846cf558-a093-4ff2-ddee-ed66b6bbfde2"
      },
      "source": [
        "# Replace null values in BMI column with average BMI\n",
        "\n",
        "# Find the bmi mean\n",
        "bmi_mean = data['bmi'].mean()\n",
        "print(f\"bmi mean: {bmi_mean}\")\n",
        "\n",
        "data['bmi'].fillna(bmi_mean, inplace=True)\n",
        "data.head()"
      ],
      "execution_count": 96,
      "outputs": [
        {
          "output_type": "stream",
          "name": "stdout",
          "text": [
            "bmi mean: 28.893236911794673\n"
          ]
        },
        {
          "output_type": "execute_result",
          "data": {
            "text/html": [
              "<div>\n",
              "<style scoped>\n",
              "    .dataframe tbody tr th:only-of-type {\n",
              "        vertical-align: middle;\n",
              "    }\n",
              "\n",
              "    .dataframe tbody tr th {\n",
              "        vertical-align: top;\n",
              "    }\n",
              "\n",
              "    .dataframe thead th {\n",
              "        text-align: right;\n",
              "    }\n",
              "</style>\n",
              "<table border=\"1\" class=\"dataframe\">\n",
              "  <thead>\n",
              "    <tr style=\"text-align: right;\">\n",
              "      <th></th>\n",
              "      <th>gender</th>\n",
              "      <th>age</th>\n",
              "      <th>hypertension</th>\n",
              "      <th>heart_disease</th>\n",
              "      <th>ever_married</th>\n",
              "      <th>work_type</th>\n",
              "      <th>Residence_type</th>\n",
              "      <th>avg_glucose_level</th>\n",
              "      <th>bmi</th>\n",
              "      <th>smoking_status</th>\n",
              "      <th>stroke</th>\n",
              "    </tr>\n",
              "  </thead>\n",
              "  <tbody>\n",
              "    <tr>\n",
              "      <th>0</th>\n",
              "      <td>Male</td>\n",
              "      <td>67.0</td>\n",
              "      <td>0</td>\n",
              "      <td>1</td>\n",
              "      <td>Yes</td>\n",
              "      <td>Private</td>\n",
              "      <td>Urban</td>\n",
              "      <td>228.69</td>\n",
              "      <td>36.600000</td>\n",
              "      <td>formerly smoked</td>\n",
              "      <td>1</td>\n",
              "    </tr>\n",
              "    <tr>\n",
              "      <th>1</th>\n",
              "      <td>Female</td>\n",
              "      <td>61.0</td>\n",
              "      <td>0</td>\n",
              "      <td>0</td>\n",
              "      <td>Yes</td>\n",
              "      <td>Self-employed</td>\n",
              "      <td>Rural</td>\n",
              "      <td>202.21</td>\n",
              "      <td>28.893237</td>\n",
              "      <td>never smoked</td>\n",
              "      <td>1</td>\n",
              "    </tr>\n",
              "    <tr>\n",
              "      <th>2</th>\n",
              "      <td>Male</td>\n",
              "      <td>80.0</td>\n",
              "      <td>0</td>\n",
              "      <td>1</td>\n",
              "      <td>Yes</td>\n",
              "      <td>Private</td>\n",
              "      <td>Rural</td>\n",
              "      <td>105.92</td>\n",
              "      <td>32.500000</td>\n",
              "      <td>never smoked</td>\n",
              "      <td>1</td>\n",
              "    </tr>\n",
              "    <tr>\n",
              "      <th>3</th>\n",
              "      <td>Female</td>\n",
              "      <td>49.0</td>\n",
              "      <td>0</td>\n",
              "      <td>0</td>\n",
              "      <td>Yes</td>\n",
              "      <td>Private</td>\n",
              "      <td>Urban</td>\n",
              "      <td>171.23</td>\n",
              "      <td>34.400000</td>\n",
              "      <td>smokes</td>\n",
              "      <td>1</td>\n",
              "    </tr>\n",
              "    <tr>\n",
              "      <th>4</th>\n",
              "      <td>Female</td>\n",
              "      <td>79.0</td>\n",
              "      <td>1</td>\n",
              "      <td>0</td>\n",
              "      <td>Yes</td>\n",
              "      <td>Self-employed</td>\n",
              "      <td>Rural</td>\n",
              "      <td>174.12</td>\n",
              "      <td>24.000000</td>\n",
              "      <td>never smoked</td>\n",
              "      <td>1</td>\n",
              "    </tr>\n",
              "  </tbody>\n",
              "</table>\n",
              "</div>"
            ],
            "text/plain": [
              "   gender   age  hypertension  ...        bmi   smoking_status stroke\n",
              "0    Male  67.0             0  ...  36.600000  formerly smoked      1\n",
              "1  Female  61.0             0  ...  28.893237     never smoked      1\n",
              "2    Male  80.0             0  ...  32.500000     never smoked      1\n",
              "3  Female  49.0             0  ...  34.400000           smokes      1\n",
              "4  Female  79.0             1  ...  24.000000     never smoked      1\n",
              "\n",
              "[5 rows x 11 columns]"
            ]
          },
          "metadata": {},
          "execution_count": 96
        }
      ]
    },
    {
      "cell_type": "markdown",
      "metadata": {
        "id": "cyOQ3bNN9E3D"
      },
      "source": [
        "Standardize all numerical data"
      ]
    },
    {
      "cell_type": "code",
      "metadata": {
        "colab": {
          "base_uri": "https://localhost:8080/",
          "height": 206
        },
        "id": "k5PCDn8L_4jJ",
        "outputId": "b0c6df22-efd6-48e4-eb48-62401f93332f"
      },
      "source": [
        "# Standardize the age, avg_glucose_level, and bmi columns\n",
        "numerical_cols = [\"age\", \"avg_glucose_level\", \"bmi\"]\n",
        "for c in numerical_cols:\n",
        "    data[c] = (data[c] - data[c].mean()) / data[c].std()\n",
        "    \n",
        "data.head()"
      ],
      "execution_count": 97,
      "outputs": [
        {
          "output_type": "execute_result",
          "data": {
            "text/html": [
              "<div>\n",
              "<style scoped>\n",
              "    .dataframe tbody tr th:only-of-type {\n",
              "        vertical-align: middle;\n",
              "    }\n",
              "\n",
              "    .dataframe tbody tr th {\n",
              "        vertical-align: top;\n",
              "    }\n",
              "\n",
              "    .dataframe thead th {\n",
              "        text-align: right;\n",
              "    }\n",
              "</style>\n",
              "<table border=\"1\" class=\"dataframe\">\n",
              "  <thead>\n",
              "    <tr style=\"text-align: right;\">\n",
              "      <th></th>\n",
              "      <th>gender</th>\n",
              "      <th>age</th>\n",
              "      <th>hypertension</th>\n",
              "      <th>heart_disease</th>\n",
              "      <th>ever_married</th>\n",
              "      <th>work_type</th>\n",
              "      <th>Residence_type</th>\n",
              "      <th>avg_glucose_level</th>\n",
              "      <th>bmi</th>\n",
              "      <th>smoking_status</th>\n",
              "      <th>stroke</th>\n",
              "    </tr>\n",
              "  </thead>\n",
              "  <tbody>\n",
              "    <tr>\n",
              "      <th>0</th>\n",
              "      <td>Male</td>\n",
              "      <td>1.051331</td>\n",
              "      <td>0</td>\n",
              "      <td>1</td>\n",
              "      <td>Yes</td>\n",
              "      <td>Private</td>\n",
              "      <td>Urban</td>\n",
              "      <td>2.706111</td>\n",
              "      <td>1.001136e+00</td>\n",
              "      <td>formerly smoked</td>\n",
              "      <td>1</td>\n",
              "    </tr>\n",
              "    <tr>\n",
              "      <th>1</th>\n",
              "      <td>Female</td>\n",
              "      <td>0.785993</td>\n",
              "      <td>0</td>\n",
              "      <td>0</td>\n",
              "      <td>Yes</td>\n",
              "      <td>Self-employed</td>\n",
              "      <td>Rural</td>\n",
              "      <td>2.121351</td>\n",
              "      <td>-5.999632e-15</td>\n",
              "      <td>never smoked</td>\n",
              "      <td>1</td>\n",
              "    </tr>\n",
              "    <tr>\n",
              "      <th>2</th>\n",
              "      <td>Male</td>\n",
              "      <td>1.626231</td>\n",
              "      <td>0</td>\n",
              "      <td>1</td>\n",
              "      <td>Yes</td>\n",
              "      <td>Private</td>\n",
              "      <td>Rural</td>\n",
              "      <td>-0.005028</td>\n",
              "      <td>4.685314e-01</td>\n",
              "      <td>never smoked</td>\n",
              "      <td>1</td>\n",
              "    </tr>\n",
              "    <tr>\n",
              "      <th>3</th>\n",
              "      <td>Female</td>\n",
              "      <td>0.255317</td>\n",
              "      <td>0</td>\n",
              "      <td>0</td>\n",
              "      <td>Yes</td>\n",
              "      <td>Private</td>\n",
              "      <td>Urban</td>\n",
              "      <td>1.437217</td>\n",
              "      <td>7.153482e-01</td>\n",
              "      <td>smokes</td>\n",
              "      <td>1</td>\n",
              "    </tr>\n",
              "    <tr>\n",
              "      <th>4</th>\n",
              "      <td>Female</td>\n",
              "      <td>1.582008</td>\n",
              "      <td>1</td>\n",
              "      <td>0</td>\n",
              "      <td>Yes</td>\n",
              "      <td>Self-employed</td>\n",
              "      <td>Rural</td>\n",
              "      <td>1.501038</td>\n",
              "      <td>-6.356489e-01</td>\n",
              "      <td>never smoked</td>\n",
              "      <td>1</td>\n",
              "    </tr>\n",
              "  </tbody>\n",
              "</table>\n",
              "</div>"
            ],
            "text/plain": [
              "   gender       age  hypertension  ...           bmi   smoking_status stroke\n",
              "0    Male  1.051331             0  ...  1.001136e+00  formerly smoked      1\n",
              "1  Female  0.785993             0  ... -5.999632e-15     never smoked      1\n",
              "2    Male  1.626231             0  ...  4.685314e-01     never smoked      1\n",
              "3  Female  0.255317             0  ...  7.153482e-01           smokes      1\n",
              "4  Female  1.582008             1  ... -6.356489e-01     never smoked      1\n",
              "\n",
              "[5 rows x 11 columns]"
            ]
          },
          "metadata": {},
          "execution_count": 97
        }
      ]
    },
    {
      "cell_type": "markdown",
      "metadata": {
        "id": "D-FvKrz1BVNS"
      },
      "source": [
        "Create box plots for all numerical data"
      ]
    },
    {
      "cell_type": "code",
      "metadata": {
        "colab": {
          "base_uri": "https://localhost:8080/",
          "height": 282
        },
        "id": "ilxy1b1zAnaU",
        "outputId": "3352bd84-463e-47dc-ebe5-c14ed69f8dc3"
      },
      "source": [
        "# Boxplot for age\n",
        "data.boxplot(column=['age'])"
      ],
      "execution_count": 98,
      "outputs": [
        {
          "output_type": "execute_result",
          "data": {
            "text/plain": [
              "<matplotlib.axes._subplots.AxesSubplot at 0x7f0a5561eb10>"
            ]
          },
          "metadata": {},
          "execution_count": 98
        },
        {
          "output_type": "display_data",
          "data": {
            "image/png": "[encoded data removed]",
            "text/plain": [
              "<Figure size 432x288 with 1 Axes>"
            ]
          },
          "metadata": {
            "needs_background": "light"
          }
        }
      ]
    },
    {
      "cell_type": "code",
      "metadata": {
        "colab": {
          "base_uri": "https://localhost:8080/",
          "height": 283
        },
        "id": "0AOfJ_lDBvfi",
        "outputId": "807df35e-0a11-440c-de08-7242c3c1f43b"
      },
      "source": [
        "# Boxplot for glucode level\n",
        "data.boxplot(column=['avg_glucose_level'])"
      ],
      "execution_count": 99,
      "outputs": [
        {
          "output_type": "execute_result",
          "data": {
            "text/plain": [
              "<matplotlib.axes._subplots.AxesSubplot at 0x7f0a55558590>"
            ]
          },
          "metadata": {},
          "execution_count": 99
        },
        {
          "output_type": "display_data",
          "data": {
            "image/png": "[encoded data removed]",
            "text/plain": [
              "<Figure size 432x288 with 1 Axes>"
            ]
          },
          "metadata": {
            "needs_background": "light"
          }
        }
      ]
    },
    {
      "cell_type": "code",
      "metadata": {
        "colab": {
          "base_uri": "https://localhost:8080/",
          "height": 282
        },
        "id": "8o07dtAfBvo6",
        "outputId": "657158fd-ccbb-4daf-b7f0-769801c35304"
      },
      "source": [
        "# Boxplot for BMI\n",
        "data.boxplot(column=['bmi'])"
      ],
      "execution_count": 100,
      "outputs": [
        {
          "output_type": "execute_result",
          "data": {
            "text/plain": [
              "<matplotlib.axes._subplots.AxesSubplot at 0x7f0a554c8c50>"
            ]
          },
          "metadata": {},
          "execution_count": 100
        },
        {
          "output_type": "display_data",
          "data": {
            "image/png": "[encoded data removed]",
            "text/plain": [
              "<Figure size 432x288 with 1 Axes>"
            ]
          },
          "metadata": {
            "needs_background": "light"
          }
        }
      ]
    },
    {
      "cell_type": "markdown",
      "metadata": {
        "id": "QWQ1qh63BZic"
      },
      "source": [
        "Create bar charts for all categorical data"
      ]
    },
    {
      "cell_type": "code",
      "metadata": {
        "colab": {
          "base_uri": "https://localhost:8080/",
          "height": 308
        },
        "id": "Hz-DQxgXDI0E",
        "outputId": "89b6fe95-8c3a-472d-b374-09c32c55ea97"
      },
      "source": [
        "# Bar chart for gender counts\n",
        "data[\"gender\"].value_counts().plot(kind='bar')"
      ],
      "execution_count": 101,
      "outputs": [
        {
          "output_type": "execute_result",
          "data": {
            "text/plain": [
              "<matplotlib.axes._subplots.AxesSubplot at 0x7f0a55431950>"
            ]
          },
          "metadata": {},
          "execution_count": 101
        },
        {
          "output_type": "display_data",
          "data": {
            "image/png": "[encoded data removed]",
            "text/plain": [
              "<Figure size 432x288 with 1 Axes>"
            ]
          },
          "metadata": {
            "needs_background": "light"
          }
        }
      ]
    },
    {
      "cell_type": "code",
      "metadata": {
        "colab": {
          "base_uri": "https://localhost:8080/",
          "height": 279
        },
        "id": "-X8HPziZD4Gc",
        "outputId": "c9da24d1-24bb-4522-c8a5-8ad364100df0"
      },
      "source": [
        "# Bar chart for hypertension counts\n",
        "data[\"hypertension\"].value_counts().plot(kind='bar')"
      ],
      "execution_count": 102,
      "outputs": [
        {
          "output_type": "execute_result",
          "data": {
            "text/plain": [
              "<matplotlib.axes._subplots.AxesSubplot at 0x7f0a553a7810>"
            ]
          },
          "metadata": {},
          "execution_count": 102
        },
        {
          "output_type": "display_data",
          "data": {
            "image/png": "[encoded data removed]",
            "text/plain": [
              "<Figure size 432x288 with 1 Axes>"
            ]
          },
          "metadata": {
            "needs_background": "light"
          }
        }
      ]
    },
    {
      "cell_type": "code",
      "metadata": {
        "colab": {
          "base_uri": "https://localhost:8080/",
          "height": 279
        },
        "id": "pHhFUsUAEAAg",
        "outputId": "f8029ae2-21d9-4f86-d3a3-8af2420246b2"
      },
      "source": [
        "# Bar chart for heart_disease counts\n",
        "data[\"heart_disease\"].value_counts().plot(kind='bar')\n"
      ],
      "execution_count": 103,
      "outputs": [
        {
          "output_type": "execute_result",
          "data": {
            "text/plain": [
              "<matplotlib.axes._subplots.AxesSubplot at 0x7f0a55387a50>"
            ]
          },
          "metadata": {},
          "execution_count": 103
        },
        {
          "output_type": "display_data",
          "data": {
            "image/png": "[encoded data removed]",
            "text/plain": [
              "<Figure size 432x288 with 1 Axes>"
            ]
          },
          "metadata": {
            "needs_background": "light"
          }
        }
      ]
    },
    {
      "cell_type": "code",
      "metadata": {
        "colab": {
          "base_uri": "https://localhost:8080/",
          "height": 291
        },
        "id": "-8AF4qSIEGCt",
        "outputId": "39a320b1-5ca2-4cb7-cb3b-85dcae8f8d03"
      },
      "source": [
        "# Bar chart for ever_married counts\n",
        "data[\"ever_married\"].value_counts().plot(kind='bar')"
      ],
      "execution_count": 104,
      "outputs": [
        {
          "output_type": "execute_result",
          "data": {
            "text/plain": [
              "<matplotlib.axes._subplots.AxesSubplot at 0x7f0a552ee910>"
            ]
          },
          "metadata": {},
          "execution_count": 104
        },
        {
          "output_type": "display_data",
          "data": {
            "image/png": "[encoded data removed]",
            "text/plain": [
              "<Figure size 432x288 with 1 Axes>"
            ]
          },
          "metadata": {
            "needs_background": "light"
          }
        }
      ]
    },
    {
      "cell_type": "code",
      "metadata": {
        "colab": {
          "base_uri": "https://localhost:8080/",
          "height": 344
        },
        "id": "SKKadf_0EK2U",
        "outputId": "e5802454-11fd-4315-9fce-d5521427512e"
      },
      "source": [
        "# Bar chart for work_type counts\n",
        "data[\"work_type\"].value_counts().plot(kind='bar')"
      ],
      "execution_count": 105,
      "outputs": [
        {
          "output_type": "execute_result",
          "data": {
            "text/plain": [
              "<matplotlib.axes._subplots.AxesSubplot at 0x7f0a55268410>"
            ]
          },
          "metadata": {},
          "execution_count": 105
        },
        {
          "output_type": "display_data",
          "data": {
            "image/png": "[encoded data removed]",
            "text/plain": [
              "<Figure size 432x288 with 1 Axes>"
            ]
          },
          "metadata": {
            "needs_background": "light"
          }
        }
      ]
    },
    {
      "cell_type": "code",
      "metadata": {
        "colab": {
          "base_uri": "https://localhost:8080/",
          "height": 303
        },
        "id": "4iumIQiGESeM",
        "outputId": "c5beaa95-5b36-4283-c23b-3569970d498a"
      },
      "source": [
        "# Bar chart for Residence_type counts\n",
        "data[\"Residence_type\"].value_counts().plot(kind='bar')"
      ],
      "execution_count": 106,
      "outputs": [
        {
          "output_type": "execute_result",
          "data": {
            "text/plain": [
              "<matplotlib.axes._subplots.AxesSubplot at 0x7f0a55238090>"
            ]
          },
          "metadata": {},
          "execution_count": 106
        },
        {
          "output_type": "display_data",
          "data": {
            "image/png": "[encoded data removed]",
            "text/plain": [
              "<Figure size 432x288 with 1 Axes>"
            ]
          },
          "metadata": {
            "needs_background": "light"
          }
        }
      ]
    },
    {
      "cell_type": "code",
      "metadata": {
        "colab": {
          "base_uri": "https://localhost:8080/",
          "height": 356
        },
        "id": "VC5Hnhy7EVTn",
        "outputId": "ef3b3072-a62c-4281-f422-21783288efbf"
      },
      "source": [
        "# Bar chart for smoking_status counts\n",
        "data[\"smoking_status\"].value_counts().plot(kind='bar')"
      ],
      "execution_count": 107,
      "outputs": [
        {
          "output_type": "execute_result",
          "data": {
            "text/plain": [
              "<matplotlib.axes._subplots.AxesSubplot at 0x7f0a551a2090>"
            ]
          },
          "metadata": {},
          "execution_count": 107
        },
        {
          "output_type": "display_data",
          "data": {
            "image/png": "[encoded data removed]",
            "text/plain": [
              "<Figure size 432x288 with 1 Axes>"
            ]
          },
          "metadata": {
            "needs_background": "light"
          }
        }
      ]
    },
    {
      "cell_type": "code",
      "metadata": {
        "colab": {
          "base_uri": "https://localhost:8080/",
          "height": 279
        },
        "id": "5b8FRsO0GOtQ",
        "outputId": "e1266d55-fc9f-4c54-8e9b-4ae7b06af775"
      },
      "source": [
        "# Bar chart for stroke counts\n",
        "data[\"stroke\"].value_counts().plot(kind='bar')"
      ],
      "execution_count": 108,
      "outputs": [
        {
          "output_type": "execute_result",
          "data": {
            "text/plain": [
              "<matplotlib.axes._subplots.AxesSubplot at 0x7f0a5513b3d0>"
            ]
          },
          "metadata": {},
          "execution_count": 108
        },
        {
          "output_type": "display_data",
          "data": {
            "image/png": "[encoded data removed]",
            "text/plain": [
              "<Figure size 432x288 with 1 Axes>"
            ]
          },
          "metadata": {
            "needs_background": "light"
          }
        }
      ]
    },
    {
      "cell_type": "code",
      "metadata": {
        "colab": {
          "base_uri": "https://localhost:8080/",
          "height": 224
        },
        "id": "Ns-j7EkfEa9A",
        "outputId": "ee5a63ba-359c-4e3f-e44b-40593037e3d5"
      },
      "source": [
        "# Remove some outliers\n",
        "\n",
        "# From average glucose level\n",
        "data = data[(np.abs(stats.zscore(data[\"avg_glucose_level\"])) < 3)]\n",
        "\n",
        "# From BMI\n",
        "data = data[(np.abs(stats.zscore(data[\"bmi\"])) < 3)]\n",
        "\n",
        "print(f\"New dataset shape: {data.shape}\")\n",
        "data.head()"
      ],
      "execution_count": 109,
      "outputs": [
        {
          "output_type": "stream",
          "name": "stdout",
          "text": [
            "New dataset shape: (5002, 11)\n"
          ]
        },
        {
          "output_type": "execute_result",
          "data": {
            "text/html": [
              "<div>\n",
              "<style scoped>\n",
              "    .dataframe tbody tr th:only-of-type {\n",
              "        vertical-align: middle;\n",
              "    }\n",
              "\n",
              "    .dataframe tbody tr th {\n",
              "        vertical-align: top;\n",
              "    }\n",
              "\n",
              "    .dataframe thead th {\n",
              "        text-align: right;\n",
              "    }\n",
              "</style>\n",
              "<table border=\"1\" class=\"dataframe\">\n",
              "  <thead>\n",
              "    <tr style=\"text-align: right;\">\n",
              "      <th></th>\n",
              "      <th>gender</th>\n",
              "      <th>age</th>\n",
              "      <th>hypertension</th>\n",
              "      <th>heart_disease</th>\n",
              "      <th>ever_married</th>\n",
              "      <th>work_type</th>\n",
              "      <th>Residence_type</th>\n",
              "      <th>avg_glucose_level</th>\n",
              "      <th>bmi</th>\n",
              "      <th>smoking_status</th>\n",
              "      <th>stroke</th>\n",
              "    </tr>\n",
              "  </thead>\n",
              "  <tbody>\n",
              "    <tr>\n",
              "      <th>0</th>\n",
              "      <td>Male</td>\n",
              "      <td>1.051331</td>\n",
              "      <td>0</td>\n",
              "      <td>1</td>\n",
              "      <td>Yes</td>\n",
              "      <td>Private</td>\n",
              "      <td>Urban</td>\n",
              "      <td>2.706111</td>\n",
              "      <td>1.001136e+00</td>\n",
              "      <td>formerly smoked</td>\n",
              "      <td>1</td>\n",
              "    </tr>\n",
              "    <tr>\n",
              "      <th>1</th>\n",
              "      <td>Female</td>\n",
              "      <td>0.785993</td>\n",
              "      <td>0</td>\n",
              "      <td>0</td>\n",
              "      <td>Yes</td>\n",
              "      <td>Self-employed</td>\n",
              "      <td>Rural</td>\n",
              "      <td>2.121351</td>\n",
              "      <td>-5.999632e-15</td>\n",
              "      <td>never smoked</td>\n",
              "      <td>1</td>\n",
              "    </tr>\n",
              "    <tr>\n",
              "      <th>2</th>\n",
              "      <td>Male</td>\n",
              "      <td>1.626231</td>\n",
              "      <td>0</td>\n",
              "      <td>1</td>\n",
              "      <td>Yes</td>\n",
              "      <td>Private</td>\n",
              "      <td>Rural</td>\n",
              "      <td>-0.005028</td>\n",
              "      <td>4.685314e-01</td>\n",
              "      <td>never smoked</td>\n",
              "      <td>1</td>\n",
              "    </tr>\n",
              "    <tr>\n",
              "      <th>3</th>\n",
              "      <td>Female</td>\n",
              "      <td>0.255317</td>\n",
              "      <td>0</td>\n",
              "      <td>0</td>\n",
              "      <td>Yes</td>\n",
              "      <td>Private</td>\n",
              "      <td>Urban</td>\n",
              "      <td>1.437217</td>\n",
              "      <td>7.153482e-01</td>\n",
              "      <td>smokes</td>\n",
              "      <td>1</td>\n",
              "    </tr>\n",
              "    <tr>\n",
              "      <th>4</th>\n",
              "      <td>Female</td>\n",
              "      <td>1.582008</td>\n",
              "      <td>1</td>\n",
              "      <td>0</td>\n",
              "      <td>Yes</td>\n",
              "      <td>Self-employed</td>\n",
              "      <td>Rural</td>\n",
              "      <td>1.501038</td>\n",
              "      <td>-6.356489e-01</td>\n",
              "      <td>never smoked</td>\n",
              "      <td>1</td>\n",
              "    </tr>\n",
              "  </tbody>\n",
              "</table>\n",
              "</div>"
            ],
            "text/plain": [
              "   gender       age  hypertension  ...           bmi   smoking_status stroke\n",
              "0    Male  1.051331             0  ...  1.001136e+00  formerly smoked      1\n",
              "1  Female  0.785993             0  ... -5.999632e-15     never smoked      1\n",
              "2    Male  1.626231             0  ...  4.685314e-01     never smoked      1\n",
              "3  Female  0.255317             0  ...  7.153482e-01           smokes      1\n",
              "4  Female  1.582008             1  ... -6.356489e-01     never smoked      1\n",
              "\n",
              "[5 rows x 11 columns]"
            ]
          },
          "metadata": {},
          "execution_count": 109
        }
      ]
    },
    {
      "cell_type": "markdown",
      "metadata": {
        "id": "KYQITudOOIG9"
      },
      "source": [
        "**One-Hot Encoding**\n",
        "\n",
        "\n",
        "Create a version of the dataset that is one-hot encoded"
      ]
    },
    {
      "cell_type": "code",
      "metadata": {
        "colab": {
          "base_uri": "https://localhost:8080/",
          "height": 296
        },
        "id": "b786Mh_kOh-0",
        "outputId": "0276fd98-a4c3-4453-9e7f-204c2087b339"
      },
      "source": [
        "hot_data = data.copy()\n",
        "categorical_columns = [\"gender\", \"ever_married\", \"work_type\", \"Residence_type\", \"smoking_status\"]\n",
        "\n",
        "for c in categorical_columns:\n",
        "    vals = hot_data[c].unique()\n",
        "    for v in vals:\n",
        "        hot_data[f\"{c}_{v}\"] = hot_data[c].apply(lambda c_val: 1 if c_val == v else 0)\n",
        "    hot_data.drop(c, axis=1, inplace=True)\n",
        "print(hot_data.shape)\n",
        "hot_data.head()"
      ],
      "execution_count": 110,
      "outputs": [
        {
          "output_type": "stream",
          "name": "stdout",
          "text": [
            "(5002, 22)\n"
          ]
        },
        {
          "output_type": "execute_result",
          "data": {
            "text/html": [
              "<div>\n",
              "<style scoped>\n",
              "    .dataframe tbody tr th:only-of-type {\n",
              "        vertical-align: middle;\n",
              "    }\n",
              "\n",
              "    .dataframe tbody tr th {\n",
              "        vertical-align: top;\n",
              "    }\n",
              "\n",
              "    .dataframe thead th {\n",
              "        text-align: right;\n",
              "    }\n",
              "</style>\n",
              "<table border=\"1\" class=\"dataframe\">\n",
              "  <thead>\n",
              "    <tr style=\"text-align: right;\">\n",
              "      <th></th>\n",
              "      <th>age</th>\n",
              "      <th>hypertension</th>\n",
              "      <th>heart_disease</th>\n",
              "      <th>avg_glucose_level</th>\n",
              "      <th>bmi</th>\n",
              "      <th>stroke</th>\n",
              "      <th>gender_Male</th>\n",
              "      <th>gender_Female</th>\n",
              "      <th>gender_Other</th>\n",
              "      <th>ever_married_Yes</th>\n",
              "      <th>ever_married_No</th>\n",
              "      <th>work_type_Private</th>\n",
              "      <th>work_type_Self-employed</th>\n",
              "      <th>work_type_Govt_job</th>\n",
              "      <th>work_type_children</th>\n",
              "      <th>work_type_Never_worked</th>\n",
              "      <th>Residence_type_Urban</th>\n",
              "      <th>Residence_type_Rural</th>\n",
              "      <th>smoking_status_formerly smoked</th>\n",
              "      <th>smoking_status_never smoked</th>\n",
              "      <th>smoking_status_smokes</th>\n",
              "      <th>smoking_status_Unknown</th>\n",
              "    </tr>\n",
              "  </thead>\n",
              "  <tbody>\n",
              "    <tr>\n",
              "      <th>0</th>\n",
              "      <td>1.051331</td>\n",
              "      <td>0</td>\n",
              "      <td>1</td>\n",
              "      <td>2.706111</td>\n",
              "      <td>1.001136e+00</td>\n",
              "      <td>1</td>\n",
              "      <td>1</td>\n",
              "      <td>0</td>\n",
              "      <td>0</td>\n",
              "      <td>1</td>\n",
              "      <td>0</td>\n",
              "      <td>1</td>\n",
              "      <td>0</td>\n",
              "      <td>0</td>\n",
              "      <td>0</td>\n",
              "      <td>0</td>\n",
              "      <td>1</td>\n",
              "      <td>0</td>\n",
              "      <td>1</td>\n",
              "      <td>0</td>\n",
              "      <td>0</td>\n",
              "      <td>0</td>\n",
              "    </tr>\n",
              "    <tr>\n",
              "      <th>1</th>\n",
              "      <td>0.785993</td>\n",
              "      <td>0</td>\n",
              "      <td>0</td>\n",
              "      <td>2.121351</td>\n",
              "      <td>-5.999632e-15</td>\n",
              "      <td>1</td>\n",
              "      <td>0</td>\n",
              "      <td>1</td>\n",
              "      <td>0</td>\n",
              "      <td>1</td>\n",
              "      <td>0</td>\n",
              "      <td>0</td>\n",
              "      <td>1</td>\n",
              "      <td>0</td>\n",
              "      <td>0</td>\n",
              "      <td>0</td>\n",
              "      <td>0</td>\n",
              "      <td>1</td>\n",
              "      <td>0</td>\n",
              "      <td>1</td>\n",
              "      <td>0</td>\n",
              "      <td>0</td>\n",
              "    </tr>\n",
              "    <tr>\n",
              "      <th>2</th>\n",
              "      <td>1.626231</td>\n",
              "      <td>0</td>\n",
              "      <td>1</td>\n",
              "      <td>-0.005028</td>\n",
              "      <td>4.685314e-01</td>\n",
              "      <td>1</td>\n",
              "      <td>1</td>\n",
              "      <td>0</td>\n",
              "      <td>0</td>\n",
              "      <td>1</td>\n",
              "      <td>0</td>\n",
              "      <td>1</td>\n",
              "      <td>0</td>\n",
              "      <td>0</td>\n",
              "      <td>0</td>\n",
              "      <td>0</td>\n",
              "      <td>0</td>\n",
              "      <td>1</td>\n",
              "      <td>0</td>\n",
              "      <td>1</td>\n",
              "      <td>0</td>\n",
              "      <td>0</td>\n",
              "    </tr>\n",
              "    <tr>\n",
              "      <th>3</th>\n",
              "      <td>0.255317</td>\n",
              "      <td>0</td>\n",
              "      <td>0</td>\n",
              "      <td>1.437217</td>\n",
              "      <td>7.153482e-01</td>\n",
              "      <td>1</td>\n",
              "      <td>0</td>\n",
              "      <td>1</td>\n",
              "      <td>0</td>\n",
              "      <td>1</td>\n",
              "      <td>0</td>\n",
              "      <td>1</td>\n",
              "      <td>0</td>\n",
              "      <td>0</td>\n",
              "      <td>0</td>\n",
              "      <td>0</td>\n",
              "      <td>1</td>\n",
              "      <td>0</td>\n",
              "      <td>0</td>\n",
              "      <td>0</td>\n",
              "      <td>1</td>\n",
              "      <td>0</td>\n",
              "    </tr>\n",
              "    <tr>\n",
              "      <th>4</th>\n",
              "      <td>1.582008</td>\n",
              "      <td>1</td>\n",
              "      <td>0</td>\n",
              "      <td>1.501038</td>\n",
              "      <td>-6.356489e-01</td>\n",
              "      <td>1</td>\n",
              "      <td>0</td>\n",
              "      <td>1</td>\n",
              "      <td>0</td>\n",
              "      <td>1</td>\n",
              "      <td>0</td>\n",
              "      <td>0</td>\n",
              "      <td>1</td>\n",
              "      <td>0</td>\n",
              "      <td>0</td>\n",
              "      <td>0</td>\n",
              "      <td>0</td>\n",
              "      <td>1</td>\n",
              "      <td>0</td>\n",
              "      <td>1</td>\n",
              "      <td>0</td>\n",
              "      <td>0</td>\n",
              "    </tr>\n",
              "  </tbody>\n",
              "</table>\n",
              "</div>"
            ],
            "text/plain": [
              "        age  hypertension  ...  smoking_status_smokes  smoking_status_Unknown\n",
              "0  1.051331             0  ...                      0                       0\n",
              "1  0.785993             0  ...                      0                       0\n",
              "2  1.626231             0  ...                      0                       0\n",
              "3  0.255317             0  ...                      1                       0\n",
              "4  1.582008             1  ...                      0                       0\n",
              "\n",
              "[5 rows x 22 columns]"
            ]
          },
          "metadata": {},
          "execution_count": 110
        }
      ]
    },
    {
      "cell_type": "markdown",
      "metadata": {
        "id": "ZeCbWZQNKN8g"
      },
      "source": [
        "## Data Mining (Testing Different Models)"
      ]
    },
    {
      "cell_type": "code",
      "metadata": {
        "colab": {
          "base_uri": "https://localhost:8080/"
        },
        "id": "lz7wGiUMKZAs",
        "outputId": "4dc92005-54a3-45fa-bba9-b03ae217091f"
      },
      "source": [
        "# Separating labels from the rest of the data\n",
        "data_Y = data['stroke']\n",
        "data_X = data.drop(['stroke'], axis=1)\n",
        "print(data_X.shape)\n",
        "print(data_Y.shape)\n",
        "\n",
        "hot_data_Y = hot_data['stroke']\n",
        "hot_data_X = hot_data.drop(['stroke'], axis=1)"
      ],
      "execution_count": 113,
      "outputs": [
        {
          "output_type": "stream",
          "name": "stdout",
          "text": [
            "(5002, 10)\n",
            "(5002,)\n"
          ]
        }
      ]
    },
    {
      "cell_type": "markdown",
      "metadata": {
        "id": "cqrBxQsNM__D"
      },
      "source": [
        "**Decision Trees**"
      ]
    },
    {
      "cell_type": "code",
      "metadata": {
        "colab": {
          "base_uri": "https://localhost:8080/"
        },
        "id": "LiMHusykNEf-",
        "outputId": "300bccef-41ed-4897-e464-6405a8d63dd4"
      },
      "source": [
        "from sklearn.model_selection import train_test_split\n",
        "from sklearn.tree import DecisionTreeClassifier\n",
        "from sklearn.metrics import accuracy_score \n",
        "from sklearn.model_selection import cross_val_score\n",
        "\n",
        "print(\"\\nUsing criterion: Entropy\")\n",
        "clf = DecisionTreeClassifier(criterion='entropy')\n",
        "scores = cross_val_score(clf, hot_data_X, hot_data_Y, cv=10)\n",
        "print(f\"Accuracy: {scores.mean() * 100}\")\n",
        "\n",
        "print(\"\\nUsing criterion: Gini\")\n",
        "clf = DecisionTreeClassifier(criterion='gini')\n",
        "scores = cross_val_score(clf, hot_data_X, hot_data_Y, cv=10)\n",
        "print(f\"Accuracy: {scores.mean() * 100}\")\n",
        "\n",
        "print(\"\\nUsing criterion: max_depth of 10\")\n",
        "clf = DecisionTreeClassifier(criterion='entropy', max_depth=10)\n",
        "scores = cross_val_score(clf, hot_data_X, hot_data_Y, cv=10)\n",
        "print(f\"Accuracy: {scores.mean() * 100}\")\n",
        "\n",
        "print(\"\\nUsing criterion: max_depth of 1\")\n",
        "clf = DecisionTreeClassifier(criterion='entropy', max_depth=1)\n",
        "scores = cross_val_score(clf, hot_data_X, hot_data_Y, cv=10)\n",
        "print(f\"Accuracy: {scores.mean() * 100}\")\n",
        "\n",
        "print(\"\\nUsing criterion: min_samples_split = 20\")\n",
        "clf = DecisionTreeClassifier(criterion='entropy', min_samples_split=20)\n",
        "scores = cross_val_score(clf, hot_data_X, hot_data_Y, cv=10)\n",
        "print(f\"Accuracy: {scores.mean() * 100}\")\n",
        "\n",
        "print(\"\\nUsing criterion: min_samples_leaf = 10\")\n",
        "clf = DecisionTreeClassifier(criterion='entropy', min_samples_split=10)\n",
        "scores = cross_val_score(clf, hot_data_X, hot_data_Y, cv=10)\n",
        "print(f\"Accuracy: {scores.mean() * 100}\")\n",
        "\n",
        "print(\"\\nUsing criterion: min_impurity_decrease = .9\")\n",
        "clf = DecisionTreeClassifier(criterion='entropy', min_impurity_decrease=.9)\n",
        "scores = cross_val_score(clf, hot_data_X, hot_data_Y, cv=10)\n",
        "print(f\"Accuracy: {scores.mean() * 100}\")"
      ],
      "execution_count": 120,
      "outputs": [
        {
          "output_type": "stream",
          "name": "stdout",
          "text": [
            "\n",
            "Using criterion: Entropy\n",
            "Accuracy: 91.60331337325348\n",
            "\n",
            "Using criterion: Gini\n",
            "Accuracy: 91.16383233532935\n",
            "\n",
            "Using criterion: max_depth of 10\n",
            "Accuracy: 93.46271457085828\n",
            "\n",
            "Using criterion: max_depth of 1\n",
            "Accuracy: 95.22191616766466\n",
            "\n",
            "Using criterion: min_samples_split = 20\n",
            "Accuracy: 93.02299401197604\n",
            "\n",
            "Using criterion: min_samples_leaf = 10\n",
            "Accuracy: 92.12319361277446\n",
            "\n",
            "Using criterion: min_impurity_decrease = .9\n",
            "Accuracy: 95.22191616766466\n"
          ]
        }
      ]
    },
    {
      "cell_type": "markdown",
      "metadata": {
        "id": "AN9Cs59VTXGV"
      },
      "source": [
        "So far, the best accuracy was produced by decreasing the max depth or using a min_impurity_decrease. We can further try more combinations using a GridSearchCV."
      ]
    },
    {
      "cell_type": "code",
      "metadata": {
        "colab": {
          "base_uri": "https://localhost:8080/"
        },
        "id": "1ESEFA2gQmmy",
        "outputId": "a08c4072-d5fe-4e23-f4aa-d0410f33be00"
      },
      "source": [
        "from sklearn.model_selection import GridSearchCV\n",
        "from sklearn.metrics import classification_report\n",
        "\n",
        "params = {\n",
        "    \"max_depth\": [1, 3, 5, 10, 20], \n",
        "    \"min_samples_split\": [5, 10, 20], \n",
        "    \"min_samples_leaf\": [1, 3, 5, 10, 20], \n",
        "    \"max_features\": [1, 3, 5, 10, 20],\n",
        "    \"min_impurity_decrease\": [.1, .3, .5, .9]}\n",
        "\n",
        "grid_search = GridSearchCV(clf, params, cv=5, scoring=\"accuracy\")\n",
        "grid_search.fit(hot_data_X, hot_data_Y)\n",
        "print(grid_search.best_params_)\n",
        "print(f\"Accuracy: {grid_search.best_score_*100}\")"
      ],
      "execution_count": 129,
      "outputs": [
        {
          "output_type": "stream",
          "name": "stdout",
          "text": [
            "{'max_depth': 1, 'max_features': 1, 'min_impurity_decrease': 0.1, 'min_samples_leaf': 1, 'min_samples_split': 5}\n",
            "Accuracy: 95.22191808191808\n"
          ]
        }
      ]
    },
    {
      "cell_type": "code",
      "metadata": {
        "colab": {
          "base_uri": "https://localhost:8080/"
        },
        "id": "UVn6fXzTcr6w",
        "outputId": "abe32a5d-f3db-48bf-e2c9-d4a859dcb1fd"
      },
      "source": [
        "preds = grid_search.predict(hot_data_X)\n",
        "print(\"\\nClassification Report:\")\n",
        "print(classification_report(hot_data_Y, preds))"
      ],
      "execution_count": 132,
      "outputs": [
        {
          "output_type": "stream",
          "name": "stdout",
          "text": [
            "\n",
            "Classification Report:\n",
            "              precision    recall  f1-score   support\n",
            "\n",
            "           0       0.95      1.00      0.98      4763\n",
            "           1       0.00      0.00      0.00       239\n",
            "\n",
            "    accuracy                           0.95      5002\n",
            "   macro avg       0.48      0.50      0.49      5002\n",
            "weighted avg       0.91      0.95      0.93      5002\n",
            "\n"
          ]
        },
        {
          "output_type": "stream",
          "name": "stderr",
          "text": [
            "/usr/local/lib/python3.7/dist-packages/sklearn/metrics/_classification.py:1308: UndefinedMetricWarning: Precision and F-score are ill-defined and being set to 0.0 in labels with no predicted samples. Use `zero_division` parameter to control this behavior.\n",
            "  _warn_prf(average, modifier, msg_start, len(result))\n",
            "/usr/local/lib/python3.7/dist-packages/sklearn/metrics/_classification.py:1308: UndefinedMetricWarning: Precision and F-score are ill-defined and being set to 0.0 in labels with no predicted samples. Use `zero_division` parameter to control this behavior.\n",
            "  _warn_prf(average, modifier, msg_start, len(result))\n",
            "/usr/local/lib/python3.7/dist-packages/sklearn/metrics/_classification.py:1308: UndefinedMetricWarning: Precision and F-score are ill-defined and being set to 0.0 in labels with no predicted samples. Use `zero_division` parameter to control this behavior.\n",
            "  _warn_prf(average, modifier, msg_start, len(result))\n"
          ]
        }
      ]
    },
    {
      "cell_type": "markdown",
      "metadata": {
        "id": "teFnv_yNeNUt"
      },
      "source": [
        "The \"best\" decision tree simply chooses the \"no stroke\" label every almost every time, which produces a poor f-score. We can try to fix this by undersampling the majority class."
      ]
    },
    {
      "cell_type": "code",
      "metadata": {
        "colab": {
          "base_uri": "https://localhost:8080/",
          "height": 292
        },
        "id": "Srrqh-Dsgd--",
        "outputId": "00fd1921-b8fa-40db-f576-d761aa28e3eb"
      },
      "source": [
        "num_stroke = hot_data[\"stroke\"].sum()\n",
        "print(f\"number of records with stroke: {num_stroke}\")\n",
        "\n",
        "# sample equally\n",
        "balanced_hot_data = hot_data.groupby('stroke').apply(lambda x: x.sample(num_stroke))\n",
        "balanced_hot_data_Y = balanced_hot_data['stroke']\n",
        "balanced_hot_data_X = balanced_hot_data.drop(['stroke'], axis=1)\n",
        "balanced_hot_data.head()"
      ],
      "execution_count": 159,
      "outputs": [
        {
          "output_type": "stream",
          "name": "stdout",
          "text": [
            "number of records with stroke: 239\n"
          ]
        },
        {
          "output_type": "execute_result",
          "data": {
            "text/html": [
              "<div>\n",
              "<style scoped>\n",
              "    .dataframe tbody tr th:only-of-type {\n",
              "        vertical-align: middle;\n",
              "    }\n",
              "\n",
              "    .dataframe tbody tr th {\n",
              "        vertical-align: top;\n",
              "    }\n",
              "\n",
              "    .dataframe thead th {\n",
              "        text-align: right;\n",
              "    }\n",
              "</style>\n",
              "<table border=\"1\" class=\"dataframe\">\n",
              "  <thead>\n",
              "    <tr style=\"text-align: right;\">\n",
              "      <th></th>\n",
              "      <th></th>\n",
              "      <th>age</th>\n",
              "      <th>hypertension</th>\n",
              "      <th>heart_disease</th>\n",
              "      <th>avg_glucose_level</th>\n",
              "      <th>bmi</th>\n",
              "      <th>stroke</th>\n",
              "      <th>gender_Male</th>\n",
              "      <th>gender_Female</th>\n",
              "      <th>gender_Other</th>\n",
              "      <th>ever_married_Yes</th>\n",
              "      <th>ever_married_No</th>\n",
              "      <th>work_type_Private</th>\n",
              "      <th>work_type_Self-employed</th>\n",
              "      <th>work_type_Govt_job</th>\n",
              "      <th>work_type_children</th>\n",
              "      <th>work_type_Never_worked</th>\n",
              "      <th>Residence_type_Urban</th>\n",
              "      <th>Residence_type_Rural</th>\n",
              "      <th>smoking_status_formerly smoked</th>\n",
              "      <th>smoking_status_never smoked</th>\n",
              "      <th>smoking_status_smokes</th>\n",
              "      <th>smoking_status_Unknown</th>\n",
              "    </tr>\n",
              "    <tr>\n",
              "      <th>stroke</th>\n",
              "      <th></th>\n",
              "      <th></th>\n",
              "      <th></th>\n",
              "      <th></th>\n",
              "      <th></th>\n",
              "      <th></th>\n",
              "      <th></th>\n",
              "      <th></th>\n",
              "      <th></th>\n",
              "      <th></th>\n",
              "      <th></th>\n",
              "      <th></th>\n",
              "      <th></th>\n",
              "      <th></th>\n",
              "      <th></th>\n",
              "      <th></th>\n",
              "      <th></th>\n",
              "      <th></th>\n",
              "      <th></th>\n",
              "      <th></th>\n",
              "      <th></th>\n",
              "      <th></th>\n",
              "      <th></th>\n",
              "    </tr>\n",
              "  </thead>\n",
              "  <tbody>\n",
              "    <tr>\n",
              "      <th rowspan=\"5\" valign=\"top\">0</th>\n",
              "      <th>4814</th>\n",
              "      <td>-1.159821</td>\n",
              "      <td>0</td>\n",
              "      <td>0</td>\n",
              "      <td>-0.633512</td>\n",
              "      <td>-0.635649</td>\n",
              "      <td>0</td>\n",
              "      <td>0</td>\n",
              "      <td>1</td>\n",
              "      <td>0</td>\n",
              "      <td>0</td>\n",
              "      <td>1</td>\n",
              "      <td>1</td>\n",
              "      <td>0</td>\n",
              "      <td>0</td>\n",
              "      <td>0</td>\n",
              "      <td>0</td>\n",
              "      <td>0</td>\n",
              "      <td>1</td>\n",
              "      <td>0</td>\n",
              "      <td>0</td>\n",
              "      <td>0</td>\n",
              "      <td>1</td>\n",
              "    </tr>\n",
              "    <tr>\n",
              "      <th>2284</th>\n",
              "      <td>0.387986</td>\n",
              "      <td>1</td>\n",
              "      <td>0</td>\n",
              "      <td>1.904054</td>\n",
              "      <td>2.637921</td>\n",
              "      <td>0</td>\n",
              "      <td>1</td>\n",
              "      <td>0</td>\n",
              "      <td>0</td>\n",
              "      <td>1</td>\n",
              "      <td>0</td>\n",
              "      <td>0</td>\n",
              "      <td>1</td>\n",
              "      <td>0</td>\n",
              "      <td>0</td>\n",
              "      <td>0</td>\n",
              "      <td>0</td>\n",
              "      <td>1</td>\n",
              "      <td>0</td>\n",
              "      <td>1</td>\n",
              "      <td>0</td>\n",
              "      <td>0</td>\n",
              "    </tr>\n",
              "    <tr>\n",
              "      <th>863</th>\n",
              "      <td>-0.098468</td>\n",
              "      <td>0</td>\n",
              "      <td>0</td>\n",
              "      <td>0.122833</td>\n",
              "      <td>1.299914</td>\n",
              "      <td>0</td>\n",
              "      <td>1</td>\n",
              "      <td>0</td>\n",
              "      <td>0</td>\n",
              "      <td>1</td>\n",
              "      <td>0</td>\n",
              "      <td>1</td>\n",
              "      <td>0</td>\n",
              "      <td>0</td>\n",
              "      <td>0</td>\n",
              "      <td>0</td>\n",
              "      <td>1</td>\n",
              "      <td>0</td>\n",
              "      <td>1</td>\n",
              "      <td>0</td>\n",
              "      <td>0</td>\n",
              "      <td>0</td>\n",
              "    </tr>\n",
              "    <tr>\n",
              "      <th>2459</th>\n",
              "      <td>1.582008</td>\n",
              "      <td>0</td>\n",
              "      <td>0</td>\n",
              "      <td>2.434710</td>\n",
              "      <td>0.182744</td>\n",
              "      <td>0</td>\n",
              "      <td>1</td>\n",
              "      <td>0</td>\n",
              "      <td>0</td>\n",
              "      <td>1</td>\n",
              "      <td>0</td>\n",
              "      <td>1</td>\n",
              "      <td>0</td>\n",
              "      <td>0</td>\n",
              "      <td>0</td>\n",
              "      <td>0</td>\n",
              "      <td>1</td>\n",
              "      <td>0</td>\n",
              "      <td>0</td>\n",
              "      <td>1</td>\n",
              "      <td>0</td>\n",
              "      <td>0</td>\n",
              "    </tr>\n",
              "    <tr>\n",
              "      <th>1489</th>\n",
              "      <td>-0.584921</td>\n",
              "      <td>0</td>\n",
              "      <td>0</td>\n",
              "      <td>0.396001</td>\n",
              "      <td>1.585702</td>\n",
              "      <td>0</td>\n",
              "      <td>0</td>\n",
              "      <td>1</td>\n",
              "      <td>0</td>\n",
              "      <td>1</td>\n",
              "      <td>0</td>\n",
              "      <td>1</td>\n",
              "      <td>0</td>\n",
              "      <td>0</td>\n",
              "      <td>0</td>\n",
              "      <td>0</td>\n",
              "      <td>0</td>\n",
              "      <td>1</td>\n",
              "      <td>0</td>\n",
              "      <td>0</td>\n",
              "      <td>0</td>\n",
              "      <td>1</td>\n",
              "    </tr>\n",
              "  </tbody>\n",
              "</table>\n",
              "</div>"
            ],
            "text/plain": [
              "                  age  ...  smoking_status_Unknown\n",
              "stroke                 ...                        \n",
              "0      4814 -1.159821  ...                       1\n",
              "       2284  0.387986  ...                       0\n",
              "       863  -0.098468  ...                       0\n",
              "       2459  1.582008  ...                       0\n",
              "       1489 -0.584921  ...                       1\n",
              "\n",
              "[5 rows x 22 columns]"
            ]
          },
          "metadata": {},
          "execution_count": 159
        }
      ]
    },
    {
      "cell_type": "code",
      "metadata": {
        "colab": {
          "base_uri": "https://localhost:8080/"
        },
        "id": "8IGDfbZ7i1kG",
        "outputId": "2595b9af-f6f9-485b-ede8-412b7601d707"
      },
      "source": [
        "# Generating another Decision Tree using balanced_hot_data\n",
        "params = {\n",
        "    \"max_depth\": [1, 3, 5, 10, 20], \n",
        "    \"min_samples_split\": [5, 10, 20], \n",
        "    \"min_samples_leaf\": [1, 3, 5, 10, 20], \n",
        "    \"max_features\": [1, 3, 5, 10, 20],\n",
        "    \"min_impurity_decrease\": [.1, .3, .5, .9]}\n",
        "\n",
        "grid_search = GridSearchCV(clf, params, cv=5, scoring=\"accuracy\")\n",
        "grid_search.fit(balanced_hot_data_X, balanced_hot_data_Y)\n",
        "print(grid_search.best_params_)\n",
        "print(f\"Accuracy: {grid_search.best_score_*100}\")"
      ],
      "execution_count": 160,
      "outputs": [
        {
          "output_type": "stream",
          "name": "stdout",
          "text": [
            "{'max_depth': 1, 'max_features': 20, 'min_impurity_decrease': 0.1, 'min_samples_leaf': 1, 'min_samples_split': 5}\n",
            "Accuracy: 74.25657894736842\n"
          ]
        }
      ]
    },
    {
      "cell_type": "code",
      "metadata": {
        "colab": {
          "base_uri": "https://localhost:8080/"
        },
        "id": "mFZlnAUSjI2O",
        "outputId": "266a2a6f-a8da-4977-ecaf-7ccabae6b5fc"
      },
      "source": [
        "preds = grid_search.predict(balanced_hot_data_X)\n",
        "print(\"\\nClassification Report:\")\n",
        "print(classification_report(balanced_hot_data_Y, preds))"
      ],
      "execution_count": 161,
      "outputs": [
        {
          "output_type": "stream",
          "name": "stdout",
          "text": [
            "\n",
            "Classification Report:\n",
            "              precision    recall  f1-score   support\n",
            "\n",
            "           0       0.91      0.59      0.71       239\n",
            "           1       0.69      0.94      0.80       239\n",
            "\n",
            "    accuracy                           0.76       478\n",
            "   macro avg       0.80      0.76      0.76       478\n",
            "weighted avg       0.80      0.76      0.76       478\n",
            "\n"
          ]
        }
      ]
    },
    {
      "cell_type": "markdown",
      "metadata": {
        "id": "G9joFb8Lj9HE"
      },
      "source": [
        "The average f-score is greatly improved now! However, we only have a 74.25% accuracy."
      ]
    },
    {
      "cell_type": "markdown",
      "metadata": {
        "id": "TCMTHdNIkGEO"
      },
      "source": [
        "**Naive Bayes**"
      ]
    },
    {
      "cell_type": "code",
      "metadata": {
        "colab": {
          "base_uri": "https://localhost:8080/"
        },
        "id": "2DXyRByekVi7",
        "outputId": "51d54f8d-adaa-44ca-88af-8d5e38375e5f"
      },
      "source": [
        "from sklearn.naive_bayes import GaussianNB\n",
        "# from sklearn.metrics import confusion_matrix\n",
        "from sklearn.metrics import classification_report\n",
        "from sklearn.model_selection import cross_val_predict\n",
        "\n",
        "# Use a gaussian Naive Bayes with 10-fold cross validation\n",
        "gnb = GaussianNB()\n",
        "preds = cross_val_predict(gnb, balanced_hot_data_X, balanced_hot_data_Y, cv=10)\n",
        "print(\"\\nClassification Report:\")\n",
        "print(classification_report(balanced_hot_data_Y, preds))"
      ],
      "execution_count": 173,
      "outputs": [
        {
          "output_type": "stream",
          "name": "stdout",
          "text": [
            "\n",
            "Classification Report:\n",
            "              precision    recall  f1-score   support\n",
            "\n",
            "           0       0.95      0.31      0.47       239\n",
            "           1       0.59      0.98      0.74       239\n",
            "\n",
            "    accuracy                           0.65       478\n",
            "   macro avg       0.77      0.65      0.60       478\n",
            "weighted avg       0.77      0.65      0.60       478\n",
            "\n"
          ]
        }
      ]
    },
    {
      "cell_type": "markdown",
      "metadata": {
        "id": "Yk3eT67GlVrL"
      },
      "source": [
        "Standard gaussian Naive Bayes produces a low accuracy and f-score compared to the decision tree."
      ]
    },
    {
      "cell_type": "markdown",
      "metadata": {
        "id": "CkbD0oahlpqD"
      },
      "source": [
        "**K-Nearest Neighbors**\n",
        "\n",
        "\n",
        "Since KNN suffers from the curse of dimensionality, we will have to perform dimensionality reduction. We use a GridSearchCV to perform hyperparamter tuning."
      ]
    },
    {
      "cell_type": "code",
      "metadata": {
        "colab": {
          "base_uri": "https://localhost:8080/"
        },
        "id": "qxOhLpoynG9m",
        "outputId": "da17f5a8-6a6b-48d0-af68-dc1f2f066fce"
      },
      "source": [
        "from sklearn.decomposition import PCA\n",
        "from sklearn.neighbors import KNeighborsClassifier\n",
        "from sklearn.pipeline import Pipeline\n",
        "\n",
        "pca = PCA()\n",
        "knn = KNeighborsClassifier(n_neighbors=7)\n",
        "pline = Pipeline(steps=[(\"pca\", pca), (\"knn\", knn)])\n",
        "\n",
        "param_grid = {\n",
        "    'pca__n_components': list(range(5, 21)),\n",
        "    'knn__n_neighbors': list(range(1, 25))\n",
        "}\n",
        "\n",
        "grid_search = GridSearchCV(pline, param_grid, cv=5, scoring=\"accuracy\")\n",
        "grid_search.fit(hot_data_X, hot_data_Y)\n",
        "print(grid_search.best_params_)\n",
        "print(f\"Accuracy: {grid_search.best_score_*100}\")"
      ],
      "execution_count": 168,
      "outputs": [
        {
          "output_type": "stream",
          "name": "stdout",
          "text": [
            "{'knn__n_neighbors': 8, 'pca__n_components': 6}\n",
            "Accuracy: 95.22191808191808\n"
          ]
        }
      ]
    },
    {
      "cell_type": "code",
      "metadata": {
        "colab": {
          "base_uri": "https://localhost:8080/"
        },
        "id": "1q5mfnvgo3AG",
        "outputId": "8fca7c05-05ee-497b-e414-1814f9f23ce9"
      },
      "source": [
        "preds = grid_search.predict(hot_data_X)\n",
        "print(\"\\nClassification Report:\")\n",
        "print(classification_report(hot_data_Y, preds))"
      ],
      "execution_count": 170,
      "outputs": [
        {
          "output_type": "stream",
          "name": "stdout",
          "text": [
            "\n",
            "Classification Report:\n",
            "              precision    recall  f1-score   support\n",
            "\n",
            "           0       0.95      1.00      0.98      4763\n",
            "           1       1.00      0.00      0.01       239\n",
            "\n",
            "    accuracy                           0.95      5002\n",
            "   macro avg       0.98      0.50      0.49      5002\n",
            "weighted avg       0.95      0.95      0.93      5002\n",
            "\n"
          ]
        }
      ]
    },
    {
      "cell_type": "markdown",
      "metadata": {
        "id": "4COvsis-o-QO"
      },
      "source": [
        "Again, this produces a poor f-score so we will try again on the balanced one-hot-encoded dataset"
      ]
    },
    {
      "cell_type": "code",
      "metadata": {
        "colab": {
          "base_uri": "https://localhost:8080/"
        },
        "id": "PwtMABWkpEMa",
        "outputId": "3ca1985c-7b02-47c2-f600-3a6ac913627b"
      },
      "source": [
        "from sklearn.decomposition import PCA\n",
        "from sklearn.neighbors import KNeighborsClassifier\n",
        "from sklearn.pipeline import Pipeline\n",
        "\n",
        "grid_search.fit(balanced_hot_data_X, balanced_hot_data_Y)\n",
        "print(grid_search.best_params_)\n",
        "print(f\"Accuracy: {grid_search.best_score_*100}\")"
      ],
      "execution_count": 171,
      "outputs": [
        {
          "output_type": "stream",
          "name": "stdout",
          "text": [
            "{'knn__n_neighbors': 13, 'pca__n_components': 5}\n",
            "Accuracy: 75.92763157894737\n"
          ]
        }
      ]
    },
    {
      "cell_type": "code",
      "metadata": {
        "colab": {
          "base_uri": "https://localhost:8080/"
        },
        "id": "YFCYe4wTpFis",
        "outputId": "a46b0309-338c-4070-f84c-3e923d42447c"
      },
      "source": [
        "preds = grid_search.predict(balanced_hot_data_X)\n",
        "print(\"\\nClassification Report:\")\n",
        "print(classification_report(balanced_hot_data_Y, preds))"
      ],
      "execution_count": 172,
      "outputs": [
        {
          "output_type": "stream",
          "name": "stdout",
          "text": [
            "\n",
            "Classification Report:\n",
            "              precision    recall  f1-score   support\n",
            "\n",
            "           0       0.85      0.69      0.76       239\n",
            "           1       0.74      0.88      0.80       239\n",
            "\n",
            "    accuracy                           0.78       478\n",
            "   macro avg       0.79      0.78      0.78       478\n",
            "weighted avg       0.79      0.78      0.78       478\n",
            "\n"
          ]
        }
      ]
    },
    {
      "cell_type": "markdown",
      "metadata": {
        "id": "2lUu_uzNpcj8"
      },
      "source": [
        "This model appears to be more successful than the one built using a decision tree."
      ]
    },
    {
      "cell_type": "markdown",
      "metadata": {
        "id": "dUS1oU2sqMkK"
      },
      "source": [
        "**Support Vector Machines**\n",
        "\n",
        "We again use a GridSearchCV to perform hyperparamter tuning. We will also use the balanced one-hot-encoded dataset."
      ]
    },
    {
      "cell_type": "code",
      "metadata": {
        "colab": {
          "base_uri": "https://localhost:8080/"
        },
        "id": "LIxtKf-VqQXa",
        "outputId": "686d5e90-db59-4efc-8e7c-22cd5ac602d4"
      },
      "source": [
        "from sklearn.svm import SVC\n",
        "\n",
        "pca = PCA()\n",
        "svc = SVC()\n",
        "pline = Pipeline(steps=[(\"pca\", pca), (\"svc\", svc)])\n",
        "\n",
        "param_grid = {\n",
        "    'pca__n_components': list(range(5, 19)),\n",
        "    'svc__kernel': ['linear', 'rbf', 'poly']\n",
        "}\n",
        "\n",
        "grid_search = GridSearchCV(pline, param_grid, cv=5, scoring=\"accuracy\")\n",
        "grid_search.fit(balanced_hot_data_X, balanced_hot_data_Y)\n",
        "print(grid_search.best_params_)\n",
        "print(f\"Accuracy: {grid_search.best_score_*100}\")"
      ],
      "execution_count": 176,
      "outputs": [
        {
          "output_type": "stream",
          "name": "stdout",
          "text": [
            "{'pca__n_components': 6, 'svc__kernel': 'rbf'}\n",
            "Accuracy: 76.14912280701753\n"
          ]
        }
      ]
    },
    {
      "cell_type": "code",
      "metadata": {
        "colab": {
          "base_uri": "https://localhost:8080/"
        },
        "id": "GpnQV6oHrALX",
        "outputId": "a7bab481-2b4a-46a6-ab4c-95198d1e9ebc"
      },
      "source": [
        "preds = grid_search.predict(balanced_hot_data_X)\n",
        "print(\"\\nClassification Report:\")\n",
        "print(classification_report(balanced_hot_data_Y, preds))"
      ],
      "execution_count": 177,
      "outputs": [
        {
          "output_type": "stream",
          "name": "stdout",
          "text": [
            "\n",
            "Classification Report:\n",
            "              precision    recall  f1-score   support\n",
            "\n",
            "           0       0.82      0.69      0.75       239\n",
            "           1       0.73      0.85      0.79       239\n",
            "\n",
            "    accuracy                           0.77       478\n",
            "   macro avg       0.78      0.77      0.77       478\n",
            "weighted avg       0.78      0.77      0.77       478\n",
            "\n"
          ]
        }
      ]
    },
    {
      "cell_type": "markdown",
      "metadata": {
        "id": "cgyh0ov4sHc-"
      },
      "source": [
        "**Random Forests**"
      ]
    },
    {
      "cell_type": "code",
      "metadata": {
        "colab": {
          "base_uri": "https://localhost:8080/"
        },
        "id": "fQC5ekYxsLQQ",
        "outputId": "557a5927-b232-47b5-ddbe-d5cb16ee75d2"
      },
      "source": [
        "from sklearn.ensemble import RandomForestClassifier\n",
        "\n",
        "rfc = RandomForestClassifier()\n",
        "param_grid = {\n",
        "    'max_depth': list(range(5, 61, 5)),\n",
        "    'min_samples_leaf': [2, 31, 4],\n",
        "    'max_features': [\"sqrt\", \"log2\"]\n",
        "}\n",
        "\n",
        "grid_search = GridSearchCV(rfc, param_grid, cv=5, scoring=\"accuracy\")\n",
        "grid_search.fit(balanced_hot_data_X, balanced_hot_data_Y)\n",
        "print(grid_search.best_params_)\n",
        "print(f\"Accuracy: {grid_search.best_score_*100}\")"
      ],
      "execution_count": 178,
      "outputs": [
        {
          "output_type": "stream",
          "name": "stdout",
          "text": [
            "{'max_depth': 15, 'max_features': 'sqrt', 'min_samples_leaf': 2}\n",
            "Accuracy: 76.77631578947368\n"
          ]
        }
      ]
    },
    {
      "cell_type": "code",
      "metadata": {
        "colab": {
          "base_uri": "https://localhost:8080/"
        },
        "id": "1nFqYrPAshG0",
        "outputId": "2d66c7c6-b009-4def-979e-a4f55df202ad"
      },
      "source": [
        "preds = grid_search.predict(balanced_hot_data_X)\n",
        "print(\"\\nClassification Report:\")\n",
        "print(classification_report(balanced_hot_data_Y, preds))"
      ],
      "execution_count": 179,
      "outputs": [
        {
          "output_type": "stream",
          "name": "stdout",
          "text": [
            "\n",
            "Classification Report:\n",
            "              precision    recall  f1-score   support\n",
            "\n",
            "           0       0.95      0.94      0.95       239\n",
            "           1       0.94      0.95      0.95       239\n",
            "\n",
            "    accuracy                           0.95       478\n",
            "   macro avg       0.95      0.95      0.95       478\n",
            "weighted avg       0.95      0.95      0.95       478\n",
            "\n"
          ]
        }
      ]
    },
    {
      "cell_type": "markdown",
      "metadata": {
        "id": "ZWKc8nGOt8bz"
      },
      "source": [
        "Random Forests produce the best f-score and accuracy by far!"
      ]
    }
  ]
}
